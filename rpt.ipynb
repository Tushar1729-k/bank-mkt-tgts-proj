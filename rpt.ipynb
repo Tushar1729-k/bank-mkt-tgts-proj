{
 "cells": [
  {
   "cell_type": "markdown",
   "source": "# Banking Marketing Targets\n\nhttps://www.kaggle.com/datasets/prakharrathi25/banking-dataset-marketing-targets\n\nTushar (tk22994)\n\nNandu (nrv379)\n\nMehdi (ma57795)\n\nSean (sha567)",
   "metadata": {
    "id": "JMU8ml64I_ub",
    "cell_id": "ecb5ab6e-0d11-4cb8-9104-5fe56f293a06",
    "deepnote_cell_type": "markdown",
    "deepnote_cell_height": 288.359375
   }
  },
  {
   "cell_type": "markdown",
   "source": "## Introduction\n\nGiven direct marketing campaign data from a Portuguese banking institution, can we predict if a client will subscribe to a term deposit?\n\nA term deposit is a fixed-term investment that includes the deposit of money into an account at a financial institution. These investments usually carry short-term maturities ranging from just a month, to a couple years. A client's money is invested for a certain rate of interest over the whole term.\n\nTerm deposits also happen to be a significant source of income for banks. One way that banks will advertise term deposits is through telephonic marketing, which is considered to be one of the more viable marketing methods. However, telephonic marketing campaigns generate large costs through the hiring of call centers. Therefore, it is financially prudent for banks to figure out which customers are the most likely to convert first, and then proceed with targeting them with telephonic marketing after.",
   "metadata": {
    "id": "ZLHch2nrI_uc",
    "cell_id": "00001-df6d0838-3ab7-490d-8af4-56004c1c1c26",
    "deepnote_cell_type": "markdown",
    "deepnote_cell_height": 405.1875
   }
  },
  {
   "cell_type": "markdown",
   "source": "## Feature Descriptions\n\n### General Client Data\n\n* age - numeric\n\n* job - categorical\n\n* marital - marital status; categorical\n\n* education - categorical\n\n* default - binary categorical\n\n* balance - average yearly balance; numeric\n\n* housing - has housing loan; binary categorical\n\n* loan - has personal loan; binary categorical\n\n### Data related to last contact of the current campaign\n\n* contact - contact communication type; categorical\n\n* day - last contact day of the month; numerical\n\n* month - last contact month of the year; categorical\n\n* duration - last contact duration, in seconds; numeric\n\n* campaign - number of contacts performed during this campaign and for this client; numeric\n\n* pdays - number of days that passed by after the client was last contacted from a previous campaign (-1 means client was not previously contacted); numeric\n\n* previous - number of contacts performed before this campaign and for this client; numeric\n\n* poutcome - outcome of the previous marketing campaign; categorical\n\n### Label\n\n* y - has the client subscribed a term deposit?; binary categorical",
   "metadata": {
    "id": "WhPlfHNKpi0u",
    "cell_id": "00002-b43a69d2-745c-4337-a0aa-1d2df9befda7",
    "deepnote_cell_type": "markdown",
    "deepnote_cell_height": 828.34375
   }
  },
  {
   "cell_type": "markdown",
   "source": "Ideas:\n\nClass imbalance (SMOTE)\n\nCategorical: one-hot encoding or make numerical (ordinal)?\n\nLook at numerical features",
   "metadata": {
    "id": "qxCEhDAJeGOY",
    "cell_id": "00003-e1b9c386-3b92-4c66-8eb2-c16090351e0b",
    "deepnote_cell_type": "markdown",
    "deepnote_cell_height": 161.5625
   }
  },
  {
   "cell_type": "markdown",
   "source": "## Data Science\n\nFrom here, proceed with the data science. Perform data cleaning, data exploration, feature engineering, etc. Use the markdown cells to describe and clarify each part of the process, so that a reader can easily follow along with what you've done.",
   "metadata": {
    "id": "4hh4mW_TI_ue",
    "cell_id": "00004-501596cb-9b11-49e3-99b1-0e9b21108648",
    "deepnote_cell_type": "markdown",
    "deepnote_cell_height": 175.578125
   }
  },
  {
   "cell_type": "code",
   "metadata": {
    "colab": {
     "base_uri": "https://localhost:8080/",
     "height": 35
    },
    "id": "1GB7djoSI_uf",
    "outputId": "b5f81f86-4d73-4009-f131-187a835f5dab",
    "cell_id": "00005-728eb86d-b893-4ae1-8af3-650cccaaaffb",
    "deepnote_to_be_reexecuted": false,
    "source_hash": "8c6363bf",
    "execution_start": 1650250036216,
    "execution_millis": 2047,
    "deepnote_cell_type": "code",
    "deepnote_cell_height": 298.140625,
    "deepnote_output_heights": [
     21.1875
    ]
   },
   "source": "# import libraries/ standard headers\nimport numpy as np\nimport pandas as pd\nimport matplotlib.pyplot as plt\nimport math\n\n# enable inline mode for matplotlib so that Jupyter displays graphs\n%matplotlib inline\n\n# pandas version we're using\npd.__version__ ",
   "execution_count": 2,
   "outputs": [
    {
     "output_type": "execute_result",
     "execution_count": 2,
     "data": {
      "text/plain": "'1.2.5'"
     },
     "metadata": {}
    }
   ]
  },
  {
   "cell_type": "markdown",
   "source": "### Data Cleaning\n\nPerform data cleaning. Data cleaning is the process of trying to detect and correct data quality issues\n\nData quality issues\n\n* missing values\n* errors/inconsistent values\n* duplicate values\n* noise and outliers",
   "metadata": {
    "id": "gGz35G6uI_ug",
    "cell_id": "00006-bb96ac18-c78b-4773-baa6-db74d5e4194d",
    "deepnote_cell_type": "markdown",
    "deepnote_cell_height": 285.75
   }
  },
  {
   "cell_type": "code",
   "metadata": {
    "colab": {
     "base_uri": "https://localhost:8080/",
     "height": 648
    },
    "id": "HMQDU3AoI_ug",
    "outputId": "382984d9-2c2f-41f3-d20f-f59d65033965",
    "cell_id": "00007-b9afb6a0-1f80-4d0f-bea1-322f004eed63",
    "deepnote_to_be_reexecuted": false,
    "source_hash": "83bb9cd3",
    "execution_start": 1650252826005,
    "execution_millis": 143,
    "deepnote_cell_type": "code",
    "deepnote_cell_height": 986.6875
   },
   "source": "# read in the dataset\ntrain_df = pd.read_csv(\"dataset/train.csv\", sep=\";\")\ntest_df = pd.read_csv(\"dataset/test.csv\", sep=\";\")\n\ntrain_df.info()\ntrain_df.head()",
   "execution_count": 34,
   "outputs": [
    {
     "name": "stdout",
     "text": "<class 'pandas.core.frame.DataFrame'>\nRangeIndex: 45211 entries, 0 to 45210\nData columns (total 17 columns):\n #   Column     Non-Null Count  Dtype \n---  ------     --------------  ----- \n 0   age        45211 non-null  int64 \n 1   job        45211 non-null  object\n 2   marital    45211 non-null  object\n 3   education  45211 non-null  object\n 4   default    45211 non-null  object\n 5   balance    45211 non-null  int64 \n 6   housing    45211 non-null  object\n 7   loan       45211 non-null  object\n 8   contact    45211 non-null  object\n 9   day        45211 non-null  int64 \n 10  month      45211 non-null  object\n 11  duration   45211 non-null  int64 \n 12  campaign   45211 non-null  int64 \n 13  pdays      45211 non-null  int64 \n 14  previous   45211 non-null  int64 \n 15  poutcome   45211 non-null  object\n 16  y          45211 non-null  object\ndtypes: int64(7), object(10)\nmemory usage: 5.9+ MB\n",
     "output_type": "stream"
    },
    {
     "output_type": "execute_result",
     "execution_count": 34,
     "data": {
      "application/vnd.deepnote.dataframe.v3+json": {
       "column_count": 17,
       "row_count": 5,
       "columns": [
        {
         "name": "age",
         "dtype": "int64",
         "stats": {
          "unique_count": 4,
          "nan_count": 0,
          "min": "33",
          "max": "58",
          "histogram": [
           {
            "bin_start": 33,
            "bin_end": 35.5,
            "count": 2
           },
           {
            "bin_start": 35.5,
            "bin_end": 38,
            "count": 0
           },
           {
            "bin_start": 38,
            "bin_end": 40.5,
            "count": 0
           },
           {
            "bin_start": 40.5,
            "bin_end": 43,
            "count": 0
           },
           {
            "bin_start": 43,
            "bin_end": 45.5,
            "count": 1
           },
           {
            "bin_start": 45.5,
            "bin_end": 48,
            "count": 1
           },
           {
            "bin_start": 48,
            "bin_end": 50.5,
            "count": 0
           },
           {
            "bin_start": 50.5,
            "bin_end": 53,
            "count": 0
           },
           {
            "bin_start": 53,
            "bin_end": 55.5,
            "count": 0
           },
           {
            "bin_start": 55.5,
            "bin_end": 58,
            "count": 1
           }
          ]
         }
        },
        {
         "name": "job",
         "dtype": "object",
         "stats": {
          "unique_count": 5,
          "nan_count": 0,
          "categories": [
           {
            "name": "management",
            "count": 1
           },
           {
            "name": "technician",
            "count": 1
           },
           {
            "name": "3 others",
            "count": 3
           }
          ]
         }
        },
        {
         "name": "marital",
         "dtype": "object",
         "stats": {
          "unique_count": 2,
          "nan_count": 0,
          "categories": [
           {
            "name": "married",
            "count": 3
           },
           {
            "name": "single",
            "count": 2
           }
          ]
         }
        },
        {
         "name": "education",
         "dtype": "object",
         "stats": {
          "unique_count": 3,
          "nan_count": 0,
          "categories": [
           {
            "name": "secondary",
            "count": 2
           },
           {
            "name": "unknown",
            "count": 2
           },
           {
            "name": "tertiary",
            "count": 1
           }
          ]
         }
        },
        {
         "name": "default",
         "dtype": "object",
         "stats": {
          "unique_count": 1,
          "nan_count": 0,
          "categories": [
           {
            "name": "no",
            "count": 5
           }
          ]
         }
        },
        {
         "name": "balance",
         "dtype": "int64",
         "stats": {
          "unique_count": 5,
          "nan_count": 0,
          "min": "1",
          "max": "2143",
          "histogram": [
           {
            "bin_start": 1,
            "bin_end": 215.2,
            "count": 3
           },
           {
            "bin_start": 215.2,
            "bin_end": 429.4,
            "count": 0
           },
           {
            "bin_start": 429.4,
            "bin_end": 643.5999999999999,
            "count": 0
           },
           {
            "bin_start": 643.5999999999999,
            "bin_end": 857.8,
            "count": 0
           },
           {
            "bin_start": 857.8,
            "bin_end": 1072,
            "count": 0
           },
           {
            "bin_start": 1072,
            "bin_end": 1286.1999999999998,
            "count": 0
           },
           {
            "bin_start": 1286.1999999999998,
            "bin_end": 1500.3999999999999,
            "count": 0
           },
           {
            "bin_start": 1500.3999999999999,
            "bin_end": 1714.6,
            "count": 1
           },
           {
            "bin_start": 1714.6,
            "bin_end": 1928.8,
            "count": 0
           },
           {
            "bin_start": 1928.8,
            "bin_end": 2143,
            "count": 1
           }
          ]
         }
        },
        {
         "name": "housing",
         "dtype": "object",
         "stats": {
          "unique_count": 2,
          "nan_count": 0,
          "categories": [
           {
            "name": "yes",
            "count": 4
           },
           {
            "name": "no",
            "count": 1
           }
          ]
         }
        },
        {
         "name": "loan",
         "dtype": "object",
         "stats": {
          "unique_count": 2,
          "nan_count": 0,
          "categories": [
           {
            "name": "no",
            "count": 4
           },
           {
            "name": "yes",
            "count": 1
           }
          ]
         }
        },
        {
         "name": "contact",
         "dtype": "object",
         "stats": {
          "unique_count": 1,
          "nan_count": 0,
          "categories": [
           {
            "name": "unknown",
            "count": 5
           }
          ]
         }
        },
        {
         "name": "day",
         "dtype": "int64",
         "stats": {
          "unique_count": 1,
          "nan_count": 0,
          "min": "5",
          "max": "5",
          "histogram": [
           {
            "bin_start": 4.5,
            "bin_end": 4.6,
            "count": 0
           },
           {
            "bin_start": 4.6,
            "bin_end": 4.7,
            "count": 0
           },
           {
            "bin_start": 4.7,
            "bin_end": 4.8,
            "count": 0
           },
           {
            "bin_start": 4.8,
            "bin_end": 4.9,
            "count": 0
           },
           {
            "bin_start": 4.9,
            "bin_end": 5,
            "count": 0
           },
           {
            "bin_start": 5,
            "bin_end": 5.1,
            "count": 5
           },
           {
            "bin_start": 5.1,
            "bin_end": 5.2,
            "count": 0
           },
           {
            "bin_start": 5.2,
            "bin_end": 5.3,
            "count": 0
           },
           {
            "bin_start": 5.3,
            "bin_end": 5.4,
            "count": 0
           },
           {
            "bin_start": 5.4,
            "bin_end": 5.5,
            "count": 0
           }
          ]
         }
        },
        {
         "name": "month",
         "dtype": "object",
         "stats": {
          "unique_count": 1,
          "nan_count": 0,
          "categories": [
           {
            "name": "may",
            "count": 5
           }
          ]
         }
        },
        {
         "name": "duration",
         "dtype": "int64",
         "stats": {
          "unique_count": 5,
          "nan_count": 0,
          "min": "76",
          "max": "261",
          "histogram": [
           {
            "bin_start": 76,
            "bin_end": 94.5,
            "count": 2
           },
           {
            "bin_start": 94.5,
            "bin_end": 113,
            "count": 0
           },
           {
            "bin_start": 113,
            "bin_end": 131.5,
            "count": 0
           },
           {
            "bin_start": 131.5,
            "bin_end": 150,
            "count": 0
           },
           {
            "bin_start": 150,
            "bin_end": 168.5,
            "count": 1
           },
           {
            "bin_start": 168.5,
            "bin_end": 187,
            "count": 0
           },
           {
            "bin_start": 187,
            "bin_end": 205.5,
            "count": 1
           },
           {
            "bin_start": 205.5,
            "bin_end": 224,
            "count": 0
           },
           {
            "bin_start": 224,
            "bin_end": 242.5,
            "count": 0
           },
           {
            "bin_start": 242.5,
            "bin_end": 261,
            "count": 1
           }
          ]
         }
        },
        {
         "name": "campaign",
         "dtype": "int64",
         "stats": {
          "unique_count": 1,
          "nan_count": 0,
          "min": "1",
          "max": "1",
          "histogram": [
           {
            "bin_start": 0.5,
            "bin_end": 0.6,
            "count": 0
           },
           {
            "bin_start": 0.6,
            "bin_end": 0.7,
            "count": 0
           },
           {
            "bin_start": 0.7,
            "bin_end": 0.8,
            "count": 0
           },
           {
            "bin_start": 0.8,
            "bin_end": 0.9,
            "count": 0
           },
           {
            "bin_start": 0.9,
            "bin_end": 1,
            "count": 0
           },
           {
            "bin_start": 1,
            "bin_end": 1.1,
            "count": 5
           },
           {
            "bin_start": 1.1,
            "bin_end": 1.2000000000000002,
            "count": 0
           },
           {
            "bin_start": 1.2000000000000002,
            "bin_end": 1.3,
            "count": 0
           },
           {
            "bin_start": 1.3,
            "bin_end": 1.4,
            "count": 0
           },
           {
            "bin_start": 1.4,
            "bin_end": 1.5,
            "count": 0
           }
          ]
         }
        },
        {
         "name": "pdays",
         "dtype": "int64",
         "stats": {
          "unique_count": 1,
          "nan_count": 0,
          "min": "-1",
          "max": "-1",
          "histogram": [
           {
            "bin_start": -1.5,
            "bin_end": -1.4,
            "count": 0
           },
           {
            "bin_start": -1.4,
            "bin_end": -1.3,
            "count": 0
           },
           {
            "bin_start": -1.3,
            "bin_end": -1.2,
            "count": 0
           },
           {
            "bin_start": -1.2,
            "bin_end": -1.1,
            "count": 0
           },
           {
            "bin_start": -1.1,
            "bin_end": -1,
            "count": 0
           },
           {
            "bin_start": -1,
            "bin_end": -0.8999999999999999,
            "count": 5
           },
           {
            "bin_start": -0.8999999999999999,
            "bin_end": -0.7999999999999999,
            "count": 0
           },
           {
            "bin_start": -0.7999999999999999,
            "bin_end": -0.7,
            "count": 0
           },
           {
            "bin_start": -0.7,
            "bin_end": -0.6,
            "count": 0
           },
           {
            "bin_start": -0.6,
            "bin_end": -0.5,
            "count": 0
           }
          ]
         }
        },
        {
         "name": "previous",
         "dtype": "int64",
         "stats": {
          "unique_count": 1,
          "nan_count": 0,
          "min": "0",
          "max": "0",
          "histogram": [
           {
            "bin_start": -0.5,
            "bin_end": -0.4,
            "count": 0
           },
           {
            "bin_start": -0.4,
            "bin_end": -0.3,
            "count": 0
           },
           {
            "bin_start": -0.3,
            "bin_end": -0.19999999999999996,
            "count": 0
           },
           {
            "bin_start": -0.19999999999999996,
            "bin_end": -0.09999999999999998,
            "count": 0
           },
           {
            "bin_start": -0.09999999999999998,
            "bin_end": 0,
            "count": 0
           },
           {
            "bin_start": 0,
            "bin_end": 0.10000000000000009,
            "count": 5
           },
           {
            "bin_start": 0.10000000000000009,
            "bin_end": 0.20000000000000007,
            "count": 0
           },
           {
            "bin_start": 0.20000000000000007,
            "bin_end": 0.30000000000000004,
            "count": 0
           },
           {
            "bin_start": 0.30000000000000004,
            "bin_end": 0.4,
            "count": 0
           },
           {
            "bin_start": 0.4,
            "bin_end": 0.5,
            "count": 0
           }
          ]
         }
        },
        {
         "name": "poutcome",
         "dtype": "object",
         "stats": {
          "unique_count": 1,
          "nan_count": 0,
          "categories": [
           {
            "name": "unknown",
            "count": 5
           }
          ]
         }
        },
        {
         "name": "y",
         "dtype": "object",
         "stats": {
          "unique_count": 1,
          "nan_count": 0,
          "categories": [
           {
            "name": "no",
            "count": 5
           }
          ]
         }
        },
        {
         "name": "_deepnote_index_column",
         "dtype": "int64"
        }
       ],
       "rows": [
        {
         "age": 58,
         "job": "management",
         "marital": "married",
         "education": "tertiary",
         "default": "no",
         "balance": 2143,
         "housing": "yes",
         "loan": "no",
         "contact": "unknown",
         "day": 5,
         "month": "may",
         "duration": 261,
         "campaign": 1,
         "pdays": -1,
         "previous": 0,
         "poutcome": "unknown",
         "y": "no",
         "_deepnote_index_column": 0
        },
        {
         "age": 44,
         "job": "technician",
         "marital": "single",
         "education": "secondary",
         "default": "no",
         "balance": 29,
         "housing": "yes",
         "loan": "no",
         "contact": "unknown",
         "day": 5,
         "month": "may",
         "duration": 151,
         "campaign": 1,
         "pdays": -1,
         "previous": 0,
         "poutcome": "unknown",
         "y": "no",
         "_deepnote_index_column": 1
        },
        {
         "age": 33,
         "job": "entrepreneur",
         "marital": "married",
         "education": "secondary",
         "default": "no",
         "balance": 2,
         "housing": "yes",
         "loan": "yes",
         "contact": "unknown",
         "day": 5,
         "month": "may",
         "duration": 76,
         "campaign": 1,
         "pdays": -1,
         "previous": 0,
         "poutcome": "unknown",
         "y": "no",
         "_deepnote_index_column": 2
        },
        {
         "age": 47,
         "job": "blue-collar",
         "marital": "married",
         "education": "unknown",
         "default": "no",
         "balance": 1506,
         "housing": "yes",
         "loan": "no",
         "contact": "unknown",
         "day": 5,
         "month": "may",
         "duration": 92,
         "campaign": 1,
         "pdays": -1,
         "previous": 0,
         "poutcome": "unknown",
         "y": "no",
         "_deepnote_index_column": 3
        },
        {
         "age": 33,
         "job": "unknown",
         "marital": "single",
         "education": "unknown",
         "default": "no",
         "balance": 1,
         "housing": "no",
         "loan": "no",
         "contact": "unknown",
         "day": 5,
         "month": "may",
         "duration": 198,
         "campaign": 1,
         "pdays": -1,
         "previous": 0,
         "poutcome": "unknown",
         "y": "no",
         "_deepnote_index_column": 4
        }
       ]
      },
      "text/plain": "   age           job  marital  education default  balance housing loan  \\\n0   58    management  married   tertiary      no     2143     yes   no   \n1   44    technician   single  secondary      no       29     yes   no   \n2   33  entrepreneur  married  secondary      no        2     yes  yes   \n3   47   blue-collar  married    unknown      no     1506     yes   no   \n4   33       unknown   single    unknown      no        1      no   no   \n\n   contact  day month  duration  campaign  pdays  previous poutcome   y  \n0  unknown    5   may       261         1     -1         0  unknown  no  \n1  unknown    5   may       151         1     -1         0  unknown  no  \n2  unknown    5   may        76         1     -1         0  unknown  no  \n3  unknown    5   may        92         1     -1         0  unknown  no  \n4  unknown    5   may       198         1     -1         0  unknown  no  ",
      "text/html": "<div>\n<style scoped>\n    .dataframe tbody tr th:only-of-type {\n        vertical-align: middle;\n    }\n\n    .dataframe tbody tr th {\n        vertical-align: top;\n    }\n\n    .dataframe thead th {\n        text-align: right;\n    }\n</style>\n<table border=\"1\" class=\"dataframe\">\n  <thead>\n    <tr style=\"text-align: right;\">\n      <th></th>\n      <th>age</th>\n      <th>job</th>\n      <th>marital</th>\n      <th>education</th>\n      <th>default</th>\n      <th>balance</th>\n      <th>housing</th>\n      <th>loan</th>\n      <th>contact</th>\n      <th>day</th>\n      <th>month</th>\n      <th>duration</th>\n      <th>campaign</th>\n      <th>pdays</th>\n      <th>previous</th>\n      <th>poutcome</th>\n      <th>y</th>\n    </tr>\n  </thead>\n  <tbody>\n    <tr>\n      <th>0</th>\n      <td>58</td>\n      <td>management</td>\n      <td>married</td>\n      <td>tertiary</td>\n      <td>no</td>\n      <td>2143</td>\n      <td>yes</td>\n      <td>no</td>\n      <td>unknown</td>\n      <td>5</td>\n      <td>may</td>\n      <td>261</td>\n      <td>1</td>\n      <td>-1</td>\n      <td>0</td>\n      <td>unknown</td>\n      <td>no</td>\n    </tr>\n    <tr>\n      <th>1</th>\n      <td>44</td>\n      <td>technician</td>\n      <td>single</td>\n      <td>secondary</td>\n      <td>no</td>\n      <td>29</td>\n      <td>yes</td>\n      <td>no</td>\n      <td>unknown</td>\n      <td>5</td>\n      <td>may</td>\n      <td>151</td>\n      <td>1</td>\n      <td>-1</td>\n      <td>0</td>\n      <td>unknown</td>\n      <td>no</td>\n    </tr>\n    <tr>\n      <th>2</th>\n      <td>33</td>\n      <td>entrepreneur</td>\n      <td>married</td>\n      <td>secondary</td>\n      <td>no</td>\n      <td>2</td>\n      <td>yes</td>\n      <td>yes</td>\n      <td>unknown</td>\n      <td>5</td>\n      <td>may</td>\n      <td>76</td>\n      <td>1</td>\n      <td>-1</td>\n      <td>0</td>\n      <td>unknown</td>\n      <td>no</td>\n    </tr>\n    <tr>\n      <th>3</th>\n      <td>47</td>\n      <td>blue-collar</td>\n      <td>married</td>\n      <td>unknown</td>\n      <td>no</td>\n      <td>1506</td>\n      <td>yes</td>\n      <td>no</td>\n      <td>unknown</td>\n      <td>5</td>\n      <td>may</td>\n      <td>92</td>\n      <td>1</td>\n      <td>-1</td>\n      <td>0</td>\n      <td>unknown</td>\n      <td>no</td>\n    </tr>\n    <tr>\n      <th>4</th>\n      <td>33</td>\n      <td>unknown</td>\n      <td>single</td>\n      <td>unknown</td>\n      <td>no</td>\n      <td>1</td>\n      <td>no</td>\n      <td>no</td>\n      <td>unknown</td>\n      <td>5</td>\n      <td>may</td>\n      <td>198</td>\n      <td>1</td>\n      <td>-1</td>\n      <td>0</td>\n      <td>unknown</td>\n      <td>no</td>\n    </tr>\n  </tbody>\n</table>\n</div>"
     },
     "metadata": {}
    }
   ]
  },
  {
   "cell_type": "markdown",
   "source": "While printing the .info() shows that we do not have any NULL values, further exploration shows that certain categorical columns have an \"unknown\" category.\n\nPresented below is the category frequencies for all the categorical features. This brings to light some interesting insights:\n\n1. Were the categories inputted correctly (consistency)?\n\n2. How prevalent is the \"unknown\" category throughout the dataset?\n\n3. How might we want to engineer our categorical features (one-hot encoding, numericization)?\n\nLooking below, we can see that 0.6% of jobs were unknown, 4.1% of educations were unknown, 28.8% of contact methods were unknown, and 81.7% of poutcomes were unknown.",
   "metadata": {
    "id": "HMObiPgWI_ui",
    "cell_id": "00008-1c5efe48-e278-47af-90df-18d0f7a9abdb",
    "deepnote_cell_type": "markdown",
    "deepnote_cell_height": 346.78125
   }
  },
  {
   "cell_type": "code",
   "metadata": {
    "colab": {
     "base_uri": "https://localhost:8080/"
    },
    "id": "iy4NoRykeGOY",
    "outputId": "2045b6a4-aea6-4279-a188-a075f1e65469",
    "cell_id": "00009-ff6f2220-076f-452e-90a7-927458f1e7de",
    "deepnote_to_be_reexecuted": false,
    "source_hash": "690f2b12",
    "execution_start": 1650250811275,
    "execution_millis": 56,
    "deepnote_cell_type": "code",
    "deepnote_cell_height": 754.9375
   },
   "source": "categorical_features = [\"job\", \"marital\", \"education\", \"default\", \"housing\", \"loan\", 'contact',\"poutcome\"]\nfor col in categorical_features:\n    print(train_df[col].value_counts(normalize=True).mul(100).round(1).astype(str) + '%')\n    print()",
   "execution_count": 16,
   "outputs": [
    {
     "name": "stdout",
     "text": "blue-collar      21.5%\nmanagement       20.9%\ntechnician       16.8%\nadmin.           11.4%\nservices          9.2%\nretired           5.0%\nself-employed     3.5%\nentrepreneur      3.3%\nunemployed        2.9%\nhousemaid         2.7%\nstudent           2.1%\nunknown           0.6%\nName: job, dtype: object\n\nmarried     60.2%\nsingle      28.3%\ndivorced    11.5%\nName: marital, dtype: object\n\nsecondary    51.3%\ntertiary     29.4%\nprimary      15.2%\nunknown       4.1%\nName: education, dtype: object\n\nno     98.2%\nyes     1.8%\nName: default, dtype: object\n\nyes    55.6%\nno     44.4%\nName: housing, dtype: object\n\nno     84.0%\nyes    16.0%\nName: loan, dtype: object\n\ncellular     64.8%\nunknown      28.8%\ntelephone     6.4%\nName: contact, dtype: object\n\nunknown    81.7%\nfailure    10.8%\nother       4.1%\nsuccess     3.3%\nName: poutcome, dtype: object\n\n",
     "output_type": "stream"
    }
   ]
  },
  {
   "cell_type": "markdown",
   "source": "Since we only have a few unknown jobs, and only a few more unknown educations, and one's education is arguably correlated with one's job, we are going to determine unknown educations through jobs and unknown jobs through educations. To achieve this, we will calculate the education distribution of each job.",
   "metadata": {
    "cell_id": "3e9742ceda304afe87ae369a0bf4fdbe",
    "tags": [],
    "deepnote_cell_type": "markdown",
    "deepnote_cell_height": 141.984375
   }
  },
  {
   "cell_type": "code",
   "source": "# education distribution per job\nfor job in train_df[\"job\"].unique():\n    education_counts = train_df[train_df[\"job\"] == job][\"education\"].value_counts().sort_index()\n    print(job)\n    print(education_counts)\n    print()",
   "metadata": {
    "cell_id": "53a54140464e40cfaef60915d6567e10",
    "tags": [],
    "deepnote_to_be_reexecuted": false,
    "source_hash": "ab408aa7",
    "execution_start": 1650250819498,
    "execution_millis": 113,
    "deepnote_cell_type": "code",
    "deepnote_cell_height": 790.953125
   },
   "outputs": [
    {
     "name": "stdout",
     "text": "management\nprimary       294\nsecondary    1121\ntertiary     7801\nunknown       242\nName: education, dtype: int64\n\ntechnician\nprimary       158\nsecondary    5229\ntertiary     1968\nunknown       242\nName: education, dtype: int64\n\nentrepreneur\nprimary      183\nsecondary    542\ntertiary     686\nunknown       76\nName: education, dtype: int64\n\nblue-collar\nprimary      3758\nsecondary    5371\ntertiary      149\nunknown       454\nName: education, dtype: int64\n\nunknown\nprimary       51\nsecondary     71\ntertiary      39\nunknown      127\nName: education, dtype: int64\n\nretired\nprimary      795\nsecondary    984\ntertiary     366\nunknown      119\nName: education, dtype: int64\n\nadmin.\nprimary       209\nsecondary    4219\ntertiary      572\nunknown       171\nName: education, dtype: int64\n\nservices\nprimary       345\nsecondary    3457\ntertiary      202\nunknown       150\nName: education, dtype: int64\n\nself-employed\nprimary      130\nsecondary    577\ntertiary     833\nunknown       39\nName: education, dtype: int64\n\nunemployed\nprimary      257\nsecondary    728\ntertiary     289\nunknown       29\nName: education, dtype: int64\n\nhousemaid\nprimary      627\nsecondary    395\ntertiary     173\nunknown       45\nName: education, dtype: int64\n\nstudent\nprimary       44\nsecondary    508\ntertiary     223\nunknown      163\nName: education, dtype: int64\n\n",
     "output_type": "stream"
    }
   ],
   "execution_count": 17
  },
  {
   "cell_type": "code",
   "source": "fig, axs = plt.subplots(4,3, figsize=(10,10))\nij = 0\ni = 0\nj = 0\nfor job in train_df[\"job\"].unique():\n    education_counts = train_df[train_df[\"job\"] == job][\"education\"].value_counts().sort_index()\n    patches, texts = axs[i,j].pie(education_counts)\n    axs[i,j].set_title(job)\n    plt.legend(patches, ['primary','secondary','tertiary','unknown'], loc=\"best\")\n    ij += 1\n    i = ij % 4\n    j = ij % 3",
   "metadata": {
    "cell_id": "35dc056d6fed4e238085469d79dd7001",
    "tags": [],
    "deepnote_to_be_reexecuted": false,
    "source_hash": "7ad4f844",
    "execution_start": 1650250835971,
    "execution_millis": 1812,
    "deepnote_cell_type": "code",
    "deepnote_cell_height": 870.9375,
    "deepnote_output_heights": [
     575.984375
    ]
   },
   "outputs": [
    {
     "data": {
      "text/plain": "<Figure size 720x720 with 12 Axes>",
      "image/png": "[encoded data removed]"
     },
     "metadata": {
      "image/png": {
       "width": 526,
       "height": 574
      }
     },
     "output_type": "display_data"
    }
   ],
   "execution_count": 18
  },
  {
   "cell_type": "code",
   "source": "education_percentages = dict()\nfor job in train_df[\"job\"].unique():\n    education_counts = train_df[train_df[\"job\"] == job][\"education\"].value_counts()\n    total = education_counts[\"tertiary\"] + education_counts[\"secondary\"] + education_counts[\"primary\"]\n    education_percentages[job] = {}\n    tertiary_percentage = education_counts[\"tertiary\"] / total\n    secondary_percentage = education_counts[\"secondary\"] / total\n    primary_percentage = education_counts[\"primary\"] / total\n    total_unknown = education_counts[\"unknown\"]\n    education_percentages[job][\"tertiary\"] = math.ceil(tertiary_percentage * total_unknown)\n    education_percentages[job][\"secondary\"] = math.ceil(secondary_percentage * total_unknown)\n    education_percentages[job][\"primary\"] = math.ceil(primary_percentage * total_unknown)\nfor index, row in train_df.iterrows():\n    if row[\"education\"] == \"unknown\":\n        if education_percentages[row[\"job\"]][\"tertiary\"] != 0:\n            train_df.loc[index, [\"education\"]] = \"tertiary\"\n            education_percentages[row[\"job\"]][\"tertiary\"] -= 1\n        elif education_percentages[row[\"job\"]][\"secondary\"] != 0:\n            train_df.loc[index, [\"education\"]] = \"secondary\"\n            education_percentages[row[\"job\"]][\"secondary\"] -=1\n        else:\n            train_df.loc[index, [\"education\"]] = \"primary\"\n    else:\n        continue\n",
   "metadata": {
    "cell_id": "e5367068e9764f4aa5ab7e60fcb83c3a",
    "tags": [],
    "deepnote_to_be_reexecuted": false,
    "source_hash": "ce2de330",
    "execution_start": 1650250841037,
    "execution_millis": 8086,
    "deepnote_cell_type": "code",
    "deepnote_cell_height": 512.96875
   },
   "outputs": [],
   "execution_count": 19
  },
  {
   "cell_type": "code",
   "source": "for education in train_df[\"education\"].unique():\n    job_counts = train_df[train_df[\"education\"] == education][\"job\"].value_counts()\n    print(education)\n    print(job_counts)\n    print()\n\ntrain_df.loc[(train.job == \"unknown\") & (train.education == \"tertiary\"), \"job\"] == \"management\"\ntrain_df.loc[(train.job == \"unknown\") & (train.education == \"secondary\"), \"job\"] == \"blue-collar\"\ntrain_df.loc[(train.job == \"unknown\") & (train.education == \"primary\"), \"job\"] == \"blue-collar\"",
   "metadata": {
    "cell_id": "560aef8830bf41c587b7e4e643eace1a",
    "tags": [],
    "deepnote_to_be_reexecuted": false,
    "source_hash": "a0fe93a9",
    "execution_start": 1650251094811,
    "execution_millis": 527,
    "deepnote_cell_type": "code",
    "deepnote_cell_height": 844.9375
   },
   "outputs": [
    {
     "name": "stdout",
     "text": "tertiary\nmanagement       8006\ntechnician       2033\nself-employed     855\nentrepreneur      723\nadmin.            592\nretired           387\nunemployed        296\nstudent           270\nservices          210\nhousemaid         180\nblue-collar       157\nunknown            70\nName: job, dtype: int64\n\nsecondary\nblue-collar      5634\ntechnician       5402\nadmin.           4364\nservices         3587\nmanagement       1151\nretired          1039\nunemployed        745\nstudent           615\nself-employed     592\nentrepreneur      572\nhousemaid         410\nunknown           128\nName: job, dtype: int64\n\nprimary\nblue-collar      3941\nretired           838\nhousemaid         650\nservices          357\nmanagement        301\nunemployed        262\nadmin.            215\nentrepreneur      192\ntechnician        162\nself-employed     132\nunknown            90\nstudent            53\nName: job, dtype: int64\n\n",
     "output_type": "stream"
    }
   ],
   "execution_count": 23
  },
  {
   "cell_type": "markdown",
   "source": "Looking at the pdays column, we notice that the majority of rows actually have -1 for pdays. This means that a minority of rows have an actual ordinal numerical value for pdays. Therefore, when we get to features",
   "metadata": {
    "cell_id": "ef71f36b036d4775823dace104d3614a",
    "tags": [],
    "owner_user_id": "788872ac-c70f-426b-9507-9e351744f417",
    "deepnote_cell_type": "markdown",
    "deepnote_cell_height": 97.1875
   }
  },
  {
   "cell_type": "code",
   "source": "# train_df[train_df['pdays'] == -1]['pdays'].value_counts()",
   "metadata": {
    "cell_id": "27936a6d54dd4f7eb30501862ab7fa7c",
    "tags": [],
    "deepnote_to_be_reexecuted": false,
    "source_hash": "218969d0",
    "execution_start": 1650252551259,
    "execution_millis": 1,
    "deepnote_cell_type": "code",
    "deepnote_cell_height": 80.96875,
    "deepnote_output_heights": [
     40.390625,
     249.984375
    ]
   },
   "outputs": [],
   "execution_count": 33
  },
  {
   "cell_type": "markdown",
   "source": "What about our label?\n\n**Write about how we will use SMOTE because of class imbalances (Slides #6)**",
   "metadata": {
    "id": "a2Lw_kaPlNyz",
    "cell_id": "00010-f01b9b93-6537-47ef-b4a2-bfc536939885",
    "deepnote_cell_type": "markdown",
    "deepnote_cell_height": 88.765625
   }
  },
  {
   "cell_type": "code",
   "metadata": {
    "colab": {
     "base_uri": "https://localhost:8080/"
    },
    "id": "iZFShk3Fftyj",
    "outputId": "4a9e7a1f-42dd-41b2-999d-83a15baefd9c",
    "cell_id": "00011-effc5517-4ee1-4585-a040-8d7cd8881c54",
    "deepnote_to_be_reexecuted": true,
    "source_hash": "8e9c93be",
    "execution_start": 1650248527624,
    "execution_millis": 2,
    "deepnote_cell_type": "code",
    "deepnote_cell_height": 156.5625,
    "deepnote_output_heights": [
     59.59375
    ]
   },
   "source": "train_df['y'].value_counts(normalize=True).mul(100).round(1).astype(str) + '%'",
   "outputs": [
    {
     "output_type": "execute_result",
     "execution_count": 60,
     "data": {
      "text/plain": "no     88.3%\nyes    11.7%\nName: y, dtype: object"
     },
     "metadata": {}
    }
   ],
   "execution_count": null
  },
  {
   "cell_type": "code",
   "source": "contact_mode = train_df[\"contact\"].mode()\ntrain_df[\"contact\"].replace([\"unknown\"], contact_mode,inplace = True)\ntrain_df",
   "metadata": {
    "cell_id": "a8e81df29fa346ab943d3ebaf9932412",
    "tags": [],
    "deepnote_to_be_reexecuted": false,
    "source_hash": "ace54cf3",
    "execution_start": 1650249314066,
    "execution_millis": 46,
    "deepnote_cell_type": "code",
    "deepnote_cell_height": 635.90625
   },
   "outputs": [
    {
     "output_type": "execute_result",
     "execution_count": 8,
     "data": {
      "application/vnd.deepnote.dataframe.v3+json": {
       "column_count": 17,
       "row_count": 45211,
       "columns": [
        {
         "name": "age",
         "dtype": "int64",
         "stats": {
          "unique_count": 77,
          "nan_count": 0,
          "min": "18",
          "max": "95",
          "histogram": [
           {
            "bin_start": 18,
            "bin_end": 25.7,
            "count": 1336
           },
           {
            "bin_start": 25.7,
            "bin_end": 33.4,
            "count": 11747
           },
           {
            "bin_start": 33.4,
            "bin_end": 41.1,
            "count": 12925
           },
           {
            "bin_start": 41.1,
            "bin_end": 48.8,
            "count": 8015
           },
           {
            "bin_start": 48.8,
            "bin_end": 56.5,
            "count": 7066
           },
           {
            "bin_start": 56.5,
            "bin_end": 64.2,
            "count": 3312
           },
           {
            "bin_start": 64.2,
            "bin_end": 71.9,
            "count": 377
           },
           {
            "bin_start": 71.9,
            "bin_end": 79.6,
            "count": 303
           },
           {
            "bin_start": 79.6,
            "bin_end": 87.3,
            "count": 116
           },
           {
            "bin_start": 87.3,
            "bin_end": 95,
            "count": 14
           }
          ]
         }
        },
        {
         "name": "job",
         "dtype": "object",
         "stats": {
          "unique_count": 12,
          "nan_count": 0,
          "categories": [
           {
            "name": "blue-collar",
            "count": 9732
           },
           {
            "name": "management",
            "count": 9458
           },
           {
            "name": "10 others",
            "count": 26021
           }
          ]
         }
        },
        {
         "name": "marital",
         "dtype": "object"
        },
        {
         "name": "education",
         "dtype": "object"
        },
        {
         "name": "default",
         "dtype": "object"
        },
        {
         "name": "balance",
         "dtype": "int64"
        },
        {
         "name": "housing",
         "dtype": "object"
        },
        {
         "name": "loan",
         "dtype": "object"
        },
        {
         "name": "contact",
         "dtype": "object"
        },
        {
         "name": "day",
         "dtype": "int64"
        },
        {
         "name": "month",
         "dtype": "object"
        },
        {
         "name": "duration",
         "dtype": "int64"
        },
        {
         "name": "campaign",
         "dtype": "int64"
        },
        {
         "name": "pdays",
         "dtype": "int64"
        },
        {
         "name": "previous",
         "dtype": "int64"
        },
        {
         "name": "poutcome",
         "dtype": "object"
        },
        {
         "name": "y",
         "dtype": "object"
        },
        {
         "name": "_deepnote_index_column",
         "dtype": "int64"
        }
       ],
       "rows": [
        {
         "age": 58,
         "job": "management",
         "marital": "married",
         "education": "tertiary",
         "default": "no",
         "balance": 2143,
         "housing": "yes",
         "loan": "no",
         "contact": "cellular",
         "day": 5,
         "month": "may",
         "duration": 261,
         "campaign": 1,
         "pdays": -1,
         "previous": 0,
         "poutcome": "unknown",
         "y": "no",
         "_deepnote_index_column": 0
        },
        {
         "age": 44,
         "job": "technician",
         "marital": "single",
         "education": "secondary",
         "default": "no",
         "balance": 29,
         "housing": "yes",
         "loan": "no",
         "contact": "cellular",
         "day": 5,
         "month": "may",
         "duration": 151,
         "campaign": 1,
         "pdays": -1,
         "previous": 0,
         "poutcome": "unknown",
         "y": "no",
         "_deepnote_index_column": 1
        },
        {
         "age": 33,
         "job": "entrepreneur",
         "marital": "married",
         "education": "secondary",
         "default": "no",
         "balance": 2,
         "housing": "yes",
         "loan": "yes",
         "contact": "cellular",
         "day": 5,
         "month": "may",
         "duration": 76,
         "campaign": 1,
         "pdays": -1,
         "previous": 0,
         "poutcome": "unknown",
         "y": "no",
         "_deepnote_index_column": 2
        },
        {
         "age": 47,
         "job": "blue-collar",
         "marital": "married",
         "education": "unknown",
         "default": "no",
         "balance": 1506,
         "housing": "yes",
         "loan": "no",
         "contact": "cellular",
         "day": 5,
         "month": "may",
         "duration": 92,
         "campaign": 1,
         "pdays": -1,
         "previous": 0,
         "poutcome": "unknown",
         "y": "no",
         "_deepnote_index_column": 3
        },
        {
         "age": 33,
         "job": "unknown",
         "marital": "single",
         "education": "unknown",
         "default": "no",
         "balance": 1,
         "housing": "no",
         "loan": "no",
         "contact": "cellular",
         "day": 5,
         "month": "may",
         "duration": 198,
         "campaign": 1,
         "pdays": -1,
         "previous": 0,
         "poutcome": "unknown",
         "y": "no",
         "_deepnote_index_column": 4
        },
        {
         "age": 35,
         "job": "management",
         "marital": "married",
         "education": "tertiary",
         "default": "no",
         "balance": 231,
         "housing": "yes",
         "loan": "no",
         "contact": "cellular",
         "day": 5,
         "month": "may",
         "duration": 139,
         "campaign": 1,
         "pdays": -1,
         "previous": 0,
         "poutcome": "unknown",
         "y": "no",
         "_deepnote_index_column": 5
        },
        {
         "age": 28,
         "job": "management",
         "marital": "single",
         "education": "tertiary",
         "default": "no",
         "balance": 447,
         "housing": "yes",
         "loan": "yes",
         "contact": "cellular",
         "day": 5,
         "month": "may",
         "duration": 217,
         "campaign": 1,
         "pdays": -1,
         "previous": 0,
         "poutcome": "unknown",
         "y": "no",
         "_deepnote_index_column": 6
        },
        {
         "age": 42,
         "job": "entrepreneur",
         "marital": "divorced",
         "education": "tertiary",
         "default": "yes",
         "balance": 2,
         "housing": "yes",
         "loan": "no",
         "contact": "cellular",
         "day": 5,
         "month": "may",
         "duration": 380,
         "campaign": 1,
         "pdays": -1,
         "previous": 0,
         "poutcome": "unknown",
         "y": "no",
         "_deepnote_index_column": 7
        },
        {
         "age": 58,
         "job": "retired",
         "marital": "married",
         "education": "primary",
         "default": "no",
         "balance": 121,
         "housing": "yes",
         "loan": "no",
         "contact": "cellular",
         "day": 5,
         "month": "may",
         "duration": 50,
         "campaign": 1,
         "pdays": -1,
         "previous": 0,
         "poutcome": "unknown",
         "y": "no",
         "_deepnote_index_column": 8
        },
        {
         "age": 43,
         "job": "technician",
         "marital": "single",
         "education": "secondary",
         "default": "no",
         "balance": 593,
         "housing": "yes",
         "loan": "no",
         "contact": "cellular",
         "day": 5,
         "month": "may",
         "duration": 55,
         "campaign": 1,
         "pdays": -1,
         "previous": 0,
         "poutcome": "unknown",
         "y": "no",
         "_deepnote_index_column": 9
        }
       ]
      },
      "text/plain": "       age           job   marital  education default  balance housing loan  \\\n0       58    management   married   tertiary      no     2143     yes   no   \n1       44    technician    single  secondary      no       29     yes   no   \n2       33  entrepreneur   married  secondary      no        2     yes  yes   \n3       47   blue-collar   married    unknown      no     1506     yes   no   \n4       33       unknown    single    unknown      no        1      no   no   \n...    ...           ...       ...        ...     ...      ...     ...  ...   \n45206   51    technician   married   tertiary      no      825      no   no   \n45207   71       retired  divorced    primary      no     1729      no   no   \n45208   72       retired   married  secondary      no     5715      no   no   \n45209   57   blue-collar   married  secondary      no      668      no   no   \n45210   37  entrepreneur   married  secondary      no     2971      no   no   \n\n         contact  day month  duration  campaign  pdays  previous poutcome    y  \n0       cellular    5   may       261         1     -1         0  unknown   no  \n1       cellular    5   may       151         1     -1         0  unknown   no  \n2       cellular    5   may        76         1     -1         0  unknown   no  \n3       cellular    5   may        92         1     -1         0  unknown   no  \n4       cellular    5   may       198         1     -1         0  unknown   no  \n...          ...  ...   ...       ...       ...    ...       ...      ...  ...  \n45206   cellular   17   nov       977         3     -1         0  unknown  yes  \n45207   cellular   17   nov       456         2     -1         0  unknown  yes  \n45208   cellular   17   nov      1127         5    184         3  success  yes  \n45209  telephone   17   nov       508         4     -1         0  unknown   no  \n45210   cellular   17   nov       361         2    188        11    other   no  \n\n[45211 rows x 17 columns]",
      "text/html": "<div>\n<style scoped>\n    .dataframe tbody tr th:only-of-type {\n        vertical-align: middle;\n    }\n\n    .dataframe tbody tr th {\n        vertical-align: top;\n    }\n\n    .dataframe thead th {\n        text-align: right;\n    }\n</style>\n<table border=\"1\" class=\"dataframe\">\n  <thead>\n    <tr style=\"text-align: right;\">\n      <th></th>\n      <th>age</th>\n      <th>job</th>\n      <th>marital</th>\n      <th>education</th>\n      <th>default</th>\n      <th>balance</th>\n      <th>housing</th>\n      <th>loan</th>\n      <th>contact</th>\n      <th>day</th>\n      <th>month</th>\n      <th>duration</th>\n      <th>campaign</th>\n      <th>pdays</th>\n      <th>previous</th>\n      <th>poutcome</th>\n      <th>y</th>\n    </tr>\n  </thead>\n  <tbody>\n    <tr>\n      <th>0</th>\n      <td>58</td>\n      <td>management</td>\n      <td>married</td>\n      <td>tertiary</td>\n      <td>no</td>\n      <td>2143</td>\n      <td>yes</td>\n      <td>no</td>\n      <td>cellular</td>\n      <td>5</td>\n      <td>may</td>\n      <td>261</td>\n      <td>1</td>\n      <td>-1</td>\n      <td>0</td>\n      <td>unknown</td>\n      <td>no</td>\n    </tr>\n    <tr>\n      <th>1</th>\n      <td>44</td>\n      <td>technician</td>\n      <td>single</td>\n      <td>secondary</td>\n      <td>no</td>\n      <td>29</td>\n      <td>yes</td>\n      <td>no</td>\n      <td>cellular</td>\n      <td>5</td>\n      <td>may</td>\n      <td>151</td>\n      <td>1</td>\n      <td>-1</td>\n      <td>0</td>\n      <td>unknown</td>\n      <td>no</td>\n    </tr>\n    <tr>\n      <th>2</th>\n      <td>33</td>\n      <td>entrepreneur</td>\n      <td>married</td>\n      <td>secondary</td>\n      <td>no</td>\n      <td>2</td>\n      <td>yes</td>\n      <td>yes</td>\n      <td>cellular</td>\n      <td>5</td>\n      <td>may</td>\n      <td>76</td>\n      <td>1</td>\n      <td>-1</td>\n      <td>0</td>\n      <td>unknown</td>\n      <td>no</td>\n    </tr>\n    <tr>\n      <th>3</th>\n      <td>47</td>\n      <td>blue-collar</td>\n      <td>married</td>\n      <td>unknown</td>\n      <td>no</td>\n      <td>1506</td>\n      <td>yes</td>\n      <td>no</td>\n      <td>cellular</td>\n      <td>5</td>\n      <td>may</td>\n      <td>92</td>\n      <td>1</td>\n      <td>-1</td>\n      <td>0</td>\n      <td>unknown</td>\n      <td>no</td>\n    </tr>\n    <tr>\n      <th>4</th>\n      <td>33</td>\n      <td>unknown</td>\n      <td>single</td>\n      <td>unknown</td>\n      <td>no</td>\n      <td>1</td>\n      <td>no</td>\n      <td>no</td>\n      <td>cellular</td>\n      <td>5</td>\n      <td>may</td>\n      <td>198</td>\n      <td>1</td>\n      <td>-1</td>\n      <td>0</td>\n      <td>unknown</td>\n      <td>no</td>\n    </tr>\n    <tr>\n      <th>...</th>\n      <td>...</td>\n      <td>...</td>\n      <td>...</td>\n      <td>...</td>\n      <td>...</td>\n      <td>...</td>\n      <td>...</td>\n      <td>...</td>\n      <td>...</td>\n      <td>...</td>\n      <td>...</td>\n      <td>...</td>\n      <td>...</td>\n      <td>...</td>\n      <td>...</td>\n      <td>...</td>\n      <td>...</td>\n    </tr>\n    <tr>\n      <th>45206</th>\n      <td>51</td>\n      <td>technician</td>\n      <td>married</td>\n      <td>tertiary</td>\n      <td>no</td>\n      <td>825</td>\n      <td>no</td>\n      <td>no</td>\n      <td>cellular</td>\n      <td>17</td>\n      <td>nov</td>\n      <td>977</td>\n      <td>3</td>\n      <td>-1</td>\n      <td>0</td>\n      <td>unknown</td>\n      <td>yes</td>\n    </tr>\n    <tr>\n      <th>45207</th>\n      <td>71</td>\n      <td>retired</td>\n      <td>divorced</td>\n      <td>primary</td>\n      <td>no</td>\n      <td>1729</td>\n      <td>no</td>\n      <td>no</td>\n      <td>cellular</td>\n      <td>17</td>\n      <td>nov</td>\n      <td>456</td>\n      <td>2</td>\n      <td>-1</td>\n      <td>0</td>\n      <td>unknown</td>\n      <td>yes</td>\n    </tr>\n    <tr>\n      <th>45208</th>\n      <td>72</td>\n      <td>retired</td>\n      <td>married</td>\n      <td>secondary</td>\n      <td>no</td>\n      <td>5715</td>\n      <td>no</td>\n      <td>no</td>\n      <td>cellular</td>\n      <td>17</td>\n      <td>nov</td>\n      <td>1127</td>\n      <td>5</td>\n      <td>184</td>\n      <td>3</td>\n      <td>success</td>\n      <td>yes</td>\n    </tr>\n    <tr>\n      <th>45209</th>\n      <td>57</td>\n      <td>blue-collar</td>\n      <td>married</td>\n      <td>secondary</td>\n      <td>no</td>\n      <td>668</td>\n      <td>no</td>\n      <td>no</td>\n      <td>telephone</td>\n      <td>17</td>\n      <td>nov</td>\n      <td>508</td>\n      <td>4</td>\n      <td>-1</td>\n      <td>0</td>\n      <td>unknown</td>\n      <td>no</td>\n    </tr>\n    <tr>\n      <th>45210</th>\n      <td>37</td>\n      <td>entrepreneur</td>\n      <td>married</td>\n      <td>secondary</td>\n      <td>no</td>\n      <td>2971</td>\n      <td>no</td>\n      <td>no</td>\n      <td>cellular</td>\n      <td>17</td>\n      <td>nov</td>\n      <td>361</td>\n      <td>2</td>\n      <td>188</td>\n      <td>11</td>\n      <td>other</td>\n      <td>no</td>\n    </tr>\n  </tbody>\n</table>\n<p>45211 rows × 17 columns</p>\n</div>"
     },
     "metadata": {}
    }
   ],
   "execution_count": null
  },
  {
   "cell_type": "code",
   "source": "# maybe we should just drop this column???\ntrain_df[\"poutcome\"].replace([\"unknown\"], \"other\",inplace = True)\ntrain_df",
   "metadata": {
    "cell_id": "856e56099f95433b97a30798b294afec",
    "tags": [],
    "deepnote_to_be_reexecuted": false,
    "source_hash": "ff4f",
    "execution_start": 1650249315614,
    "execution_millis": 95,
    "deepnote_cell_type": "code",
    "deepnote_cell_height": 635.90625
   },
   "outputs": [
    {
     "output_type": "execute_result",
     "execution_count": 9,
     "data": {
      "application/vnd.deepnote.dataframe.v3+json": {
       "column_count": 17,
       "row_count": 45211,
       "columns": [
        {
         "name": "age",
         "dtype": "int64",
         "stats": {
          "unique_count": 77,
          "nan_count": 0,
          "min": "18",
          "max": "95",
          "histogram": [
           {
            "bin_start": 18,
            "bin_end": 25.7,
            "count": 1336
           },
           {
            "bin_start": 25.7,
            "bin_end": 33.4,
            "count": 11747
           },
           {
            "bin_start": 33.4,
            "bin_end": 41.1,
            "count": 12925
           },
           {
            "bin_start": 41.1,
            "bin_end": 48.8,
            "count": 8015
           },
           {
            "bin_start": 48.8,
            "bin_end": 56.5,
            "count": 7066
           },
           {
            "bin_start": 56.5,
            "bin_end": 64.2,
            "count": 3312
           },
           {
            "bin_start": 64.2,
            "bin_end": 71.9,
            "count": 377
           },
           {
            "bin_start": 71.9,
            "bin_end": 79.6,
            "count": 303
           },
           {
            "bin_start": 79.6,
            "bin_end": 87.3,
            "count": 116
           },
           {
            "bin_start": 87.3,
            "bin_end": 95,
            "count": 14
           }
          ]
         }
        },
        {
         "name": "job",
         "dtype": "object",
         "stats": {
          "unique_count": 12,
          "nan_count": 0,
          "categories": [
           {
            "name": "blue-collar",
            "count": 9732
           },
           {
            "name": "management",
            "count": 9458
           },
           {
            "name": "10 others",
            "count": 26021
           }
          ]
         }
        },
        {
         "name": "marital",
         "dtype": "object"
        },
        {
         "name": "education",
         "dtype": "object"
        },
        {
         "name": "default",
         "dtype": "object"
        },
        {
         "name": "balance",
         "dtype": "int64"
        },
        {
         "name": "housing",
         "dtype": "object"
        },
        {
         "name": "loan",
         "dtype": "object"
        },
        {
         "name": "contact",
         "dtype": "object"
        },
        {
         "name": "day",
         "dtype": "int64"
        },
        {
         "name": "month",
         "dtype": "object"
        },
        {
         "name": "duration",
         "dtype": "int64"
        },
        {
         "name": "campaign",
         "dtype": "int64"
        },
        {
         "name": "pdays",
         "dtype": "int64"
        },
        {
         "name": "previous",
         "dtype": "int64"
        },
        {
         "name": "poutcome",
         "dtype": "object"
        },
        {
         "name": "y",
         "dtype": "object"
        },
        {
         "name": "_deepnote_index_column",
         "dtype": "int64"
        }
       ],
       "rows": [
        {
         "age": 58,
         "job": "management",
         "marital": "married",
         "education": "tertiary",
         "default": "no",
         "balance": 2143,
         "housing": "yes",
         "loan": "no",
         "contact": "cellular",
         "day": 5,
         "month": "may",
         "duration": 261,
         "campaign": 1,
         "pdays": -1,
         "previous": 0,
         "poutcome": "other",
         "y": "no",
         "_deepnote_index_column": 0
        },
        {
         "age": 44,
         "job": "technician",
         "marital": "single",
         "education": "secondary",
         "default": "no",
         "balance": 29,
         "housing": "yes",
         "loan": "no",
         "contact": "cellular",
         "day": 5,
         "month": "may",
         "duration": 151,
         "campaign": 1,
         "pdays": -1,
         "previous": 0,
         "poutcome": "other",
         "y": "no",
         "_deepnote_index_column": 1
        },
        {
         "age": 33,
         "job": "entrepreneur",
         "marital": "married",
         "education": "secondary",
         "default": "no",
         "balance": 2,
         "housing": "yes",
         "loan": "yes",
         "contact": "cellular",
         "day": 5,
         "month": "may",
         "duration": 76,
         "campaign": 1,
         "pdays": -1,
         "previous": 0,
         "poutcome": "other",
         "y": "no",
         "_deepnote_index_column": 2
        },
        {
         "age": 47,
         "job": "blue-collar",
         "marital": "married",
         "education": "unknown",
         "default": "no",
         "balance": 1506,
         "housing": "yes",
         "loan": "no",
         "contact": "cellular",
         "day": 5,
         "month": "may",
         "duration": 92,
         "campaign": 1,
         "pdays": -1,
         "previous": 0,
         "poutcome": "other",
         "y": "no",
         "_deepnote_index_column": 3
        },
        {
         "age": 33,
         "job": "unknown",
         "marital": "single",
         "education": "unknown",
         "default": "no",
         "balance": 1,
         "housing": "no",
         "loan": "no",
         "contact": "cellular",
         "day": 5,
         "month": "may",
         "duration": 198,
         "campaign": 1,
         "pdays": -1,
         "previous": 0,
         "poutcome": "other",
         "y": "no",
         "_deepnote_index_column": 4
        },
        {
         "age": 35,
         "job": "management",
         "marital": "married",
         "education": "tertiary",
         "default": "no",
         "balance": 231,
         "housing": "yes",
         "loan": "no",
         "contact": "cellular",
         "day": 5,
         "month": "may",
         "duration": 139,
         "campaign": 1,
         "pdays": -1,
         "previous": 0,
         "poutcome": "other",
         "y": "no",
         "_deepnote_index_column": 5
        },
        {
         "age": 28,
         "job": "management",
         "marital": "single",
         "education": "tertiary",
         "default": "no",
         "balance": 447,
         "housing": "yes",
         "loan": "yes",
         "contact": "cellular",
         "day": 5,
         "month": "may",
         "duration": 217,
         "campaign": 1,
         "pdays": -1,
         "previous": 0,
         "poutcome": "other",
         "y": "no",
         "_deepnote_index_column": 6
        },
        {
         "age": 42,
         "job": "entrepreneur",
         "marital": "divorced",
         "education": "tertiary",
         "default": "yes",
         "balance": 2,
         "housing": "yes",
         "loan": "no",
         "contact": "cellular",
         "day": 5,
         "month": "may",
         "duration": 380,
         "campaign": 1,
         "pdays": -1,
         "previous": 0,
         "poutcome": "other",
         "y": "no",
         "_deepnote_index_column": 7
        },
        {
         "age": 58,
         "job": "retired",
         "marital": "married",
         "education": "primary",
         "default": "no",
         "balance": 121,
         "housing": "yes",
         "loan": "no",
         "contact": "cellular",
         "day": 5,
         "month": "may",
         "duration": 50,
         "campaign": 1,
         "pdays": -1,
         "previous": 0,
         "poutcome": "other",
         "y": "no",
         "_deepnote_index_column": 8
        },
        {
         "age": 43,
         "job": "technician",
         "marital": "single",
         "education": "secondary",
         "default": "no",
         "balance": 593,
         "housing": "yes",
         "loan": "no",
         "contact": "cellular",
         "day": 5,
         "month": "may",
         "duration": 55,
         "campaign": 1,
         "pdays": -1,
         "previous": 0,
         "poutcome": "other",
         "y": "no",
         "_deepnote_index_column": 9
        }
       ]
      },
      "text/plain": "       age           job   marital  education default  balance housing loan  \\\n0       58    management   married   tertiary      no     2143     yes   no   \n1       44    technician    single  secondary      no       29     yes   no   \n2       33  entrepreneur   married  secondary      no        2     yes  yes   \n3       47   blue-collar   married    unknown      no     1506     yes   no   \n4       33       unknown    single    unknown      no        1      no   no   \n...    ...           ...       ...        ...     ...      ...     ...  ...   \n45206   51    technician   married   tertiary      no      825      no   no   \n45207   71       retired  divorced    primary      no     1729      no   no   \n45208   72       retired   married  secondary      no     5715      no   no   \n45209   57   blue-collar   married  secondary      no      668      no   no   \n45210   37  entrepreneur   married  secondary      no     2971      no   no   \n\n         contact  day month  duration  campaign  pdays  previous poutcome    y  \n0       cellular    5   may       261         1     -1         0    other   no  \n1       cellular    5   may       151         1     -1         0    other   no  \n2       cellular    5   may        76         1     -1         0    other   no  \n3       cellular    5   may        92         1     -1         0    other   no  \n4       cellular    5   may       198         1     -1         0    other   no  \n...          ...  ...   ...       ...       ...    ...       ...      ...  ...  \n45206   cellular   17   nov       977         3     -1         0    other  yes  \n45207   cellular   17   nov       456         2     -1         0    other  yes  \n45208   cellular   17   nov      1127         5    184         3  success  yes  \n45209  telephone   17   nov       508         4     -1         0    other   no  \n45210   cellular   17   nov       361         2    188        11    other   no  \n\n[45211 rows x 17 columns]",
      "text/html": "<div>\n<style scoped>\n    .dataframe tbody tr th:only-of-type {\n        vertical-align: middle;\n    }\n\n    .dataframe tbody tr th {\n        vertical-align: top;\n    }\n\n    .dataframe thead th {\n        text-align: right;\n    }\n</style>\n<table border=\"1\" class=\"dataframe\">\n  <thead>\n    <tr style=\"text-align: right;\">\n      <th></th>\n      <th>age</th>\n      <th>job</th>\n      <th>marital</th>\n      <th>education</th>\n      <th>default</th>\n      <th>balance</th>\n      <th>housing</th>\n      <th>loan</th>\n      <th>contact</th>\n      <th>day</th>\n      <th>month</th>\n      <th>duration</th>\n      <th>campaign</th>\n      <th>pdays</th>\n      <th>previous</th>\n      <th>poutcome</th>\n      <th>y</th>\n    </tr>\n  </thead>\n  <tbody>\n    <tr>\n      <th>0</th>\n      <td>58</td>\n      <td>management</td>\n      <td>married</td>\n      <td>tertiary</td>\n      <td>no</td>\n      <td>2143</td>\n      <td>yes</td>\n      <td>no</td>\n      <td>cellular</td>\n      <td>5</td>\n      <td>may</td>\n      <td>261</td>\n      <td>1</td>\n      <td>-1</td>\n      <td>0</td>\n      <td>other</td>\n      <td>no</td>\n    </tr>\n    <tr>\n      <th>1</th>\n      <td>44</td>\n      <td>technician</td>\n      <td>single</td>\n      <td>secondary</td>\n      <td>no</td>\n      <td>29</td>\n      <td>yes</td>\n      <td>no</td>\n      <td>cellular</td>\n      <td>5</td>\n      <td>may</td>\n      <td>151</td>\n      <td>1</td>\n      <td>-1</td>\n      <td>0</td>\n      <td>other</td>\n      <td>no</td>\n    </tr>\n    <tr>\n      <th>2</th>\n      <td>33</td>\n      <td>entrepreneur</td>\n      <td>married</td>\n      <td>secondary</td>\n      <td>no</td>\n      <td>2</td>\n      <td>yes</td>\n      <td>yes</td>\n      <td>cellular</td>\n      <td>5</td>\n      <td>may</td>\n      <td>76</td>\n      <td>1</td>\n      <td>-1</td>\n      <td>0</td>\n      <td>other</td>\n      <td>no</td>\n    </tr>\n    <tr>\n      <th>3</th>\n      <td>47</td>\n      <td>blue-collar</td>\n      <td>married</td>\n      <td>unknown</td>\n      <td>no</td>\n      <td>1506</td>\n      <td>yes</td>\n      <td>no</td>\n      <td>cellular</td>\n      <td>5</td>\n      <td>may</td>\n      <td>92</td>\n      <td>1</td>\n      <td>-1</td>\n      <td>0</td>\n      <td>other</td>\n      <td>no</td>\n    </tr>\n    <tr>\n      <th>4</th>\n      <td>33</td>\n      <td>unknown</td>\n      <td>single</td>\n      <td>unknown</td>\n      <td>no</td>\n      <td>1</td>\n      <td>no</td>\n      <td>no</td>\n      <td>cellular</td>\n      <td>5</td>\n      <td>may</td>\n      <td>198</td>\n      <td>1</td>\n      <td>-1</td>\n      <td>0</td>\n      <td>other</td>\n      <td>no</td>\n    </tr>\n    <tr>\n      <th>...</th>\n      <td>...</td>\n      <td>...</td>\n      <td>...</td>\n      <td>...</td>\n      <td>...</td>\n      <td>...</td>\n      <td>...</td>\n      <td>...</td>\n      <td>...</td>\n      <td>...</td>\n      <td>...</td>\n      <td>...</td>\n      <td>...</td>\n      <td>...</td>\n      <td>...</td>\n      <td>...</td>\n      <td>...</td>\n    </tr>\n    <tr>\n      <th>45206</th>\n      <td>51</td>\n      <td>technician</td>\n      <td>married</td>\n      <td>tertiary</td>\n      <td>no</td>\n      <td>825</td>\n      <td>no</td>\n      <td>no</td>\n      <td>cellular</td>\n      <td>17</td>\n      <td>nov</td>\n      <td>977</td>\n      <td>3</td>\n      <td>-1</td>\n      <td>0</td>\n      <td>other</td>\n      <td>yes</td>\n    </tr>\n    <tr>\n      <th>45207</th>\n      <td>71</td>\n      <td>retired</td>\n      <td>divorced</td>\n      <td>primary</td>\n      <td>no</td>\n      <td>1729</td>\n      <td>no</td>\n      <td>no</td>\n      <td>cellular</td>\n      <td>17</td>\n      <td>nov</td>\n      <td>456</td>\n      <td>2</td>\n      <td>-1</td>\n      <td>0</td>\n      <td>other</td>\n      <td>yes</td>\n    </tr>\n    <tr>\n      <th>45208</th>\n      <td>72</td>\n      <td>retired</td>\n      <td>married</td>\n      <td>secondary</td>\n      <td>no</td>\n      <td>5715</td>\n      <td>no</td>\n      <td>no</td>\n      <td>cellular</td>\n      <td>17</td>\n      <td>nov</td>\n      <td>1127</td>\n      <td>5</td>\n      <td>184</td>\n      <td>3</td>\n      <td>success</td>\n      <td>yes</td>\n    </tr>\n    <tr>\n      <th>45209</th>\n      <td>57</td>\n      <td>blue-collar</td>\n      <td>married</td>\n      <td>secondary</td>\n      <td>no</td>\n      <td>668</td>\n      <td>no</td>\n      <td>no</td>\n      <td>telephone</td>\n      <td>17</td>\n      <td>nov</td>\n      <td>508</td>\n      <td>4</td>\n      <td>-1</td>\n      <td>0</td>\n      <td>other</td>\n      <td>no</td>\n    </tr>\n    <tr>\n      <th>45210</th>\n      <td>37</td>\n      <td>entrepreneur</td>\n      <td>married</td>\n      <td>secondary</td>\n      <td>no</td>\n      <td>2971</td>\n      <td>no</td>\n      <td>no</td>\n      <td>cellular</td>\n      <td>17</td>\n      <td>nov</td>\n      <td>361</td>\n      <td>2</td>\n      <td>188</td>\n      <td>11</td>\n      <td>other</td>\n      <td>no</td>\n    </tr>\n  </tbody>\n</table>\n<p>45211 rows × 17 columns</p>\n</div>"
     },
     "metadata": {}
    }
   ],
   "execution_count": null
  },
  {
   "cell_type": "markdown",
   "source": "replace pdays -1 with max (of pdays)",
   "metadata": {
    "cell_id": "8cf52a32bcf44222a9a3bf63b645c068",
    "tags": [],
    "deepnote_to_be_reexecuted": false,
    "source_hash": "9b170853",
    "execution_start": 1650252084809,
    "execution_millis": 380,
    "deepnote_cell_type": "markdown",
    "deepnote_cell_height": 52.375
   },
   "outputs": [],
   "execution_count": 27
  },
  {
   "cell_type": "code",
   "source": "# max_pdays = train_df['pdays'].max()\n# train_df['pdays'].replace([-1], max_pdays, inplace = True)\n# train_df",
   "metadata": {
    "cell_id": "41439c6689b946afbbf8ee14d288f6c6",
    "tags": [],
    "deepnote_to_be_reexecuted": false,
    "source_hash": "17fdffea",
    "execution_start": 1650252546432,
    "execution_millis": 1,
    "deepnote_cell_type": "code",
    "deepnote_cell_height": 116.96875
   },
   "outputs": [],
   "execution_count": 32
  },
  {
   "cell_type": "markdown",
   "source": "### Exploratory Data Analysis (EDA)\n\n#### Noise vs Outliers\n\n* outliers - anomalous objects with characteristics that are different from, or unusual with respect to, the rest of the data\n* noise - random errors in the data",
   "metadata": {
    "id": "MGa4GppVI_uj",
    "cell_id": "00012-7c0cbf7e-49f5-4a44-972a-d1e7c6f675f4",
    "deepnote_cell_type": "markdown",
    "deepnote_cell_height": 198.140625
   }
  },
  {
   "cell_type": "code",
   "metadata": {
    "id": "1-T8JG4II_uj",
    "outputId": "7cc87c7c-e886-4ea0-98d7-51df970be658",
    "cell_id": "00013-2846b0f9-ff4b-4f18-aa5f-658720576280",
    "deepnote_to_be_reexecuted": true,
    "source_hash": "51273368",
    "execution_start": 1650248340878,
    "execution_millis": 432,
    "deepnote_cell_type": "code",
    "deepnote_cell_height": 431.125,
    "deepnote_output_heights": [
     21.1875,
     263.984375
    ]
   },
   "source": "# create a scatterplot between age and job\ntrain_df.plot.scatter('education', 'age')",
   "outputs": [
    {
     "output_type": "execute_result",
     "execution_count": 53,
     "data": {
      "text/plain": "<AxesSubplot:xlabel='education', ylabel='age'>"
     },
     "metadata": {}
    },
    {
     "data": {
      "text/plain": "<Figure size 432x288 with 1 Axes>",
      "image/png": "[encoded data removed]"
     },
     "metadata": {
      "needs_background": "light",
      "image/png": {
       "width": 387,
       "height": 262
      }
     },
     "output_type": "display_data"
    }
   ],
   "execution_count": null
  },
  {
   "cell_type": "code",
   "metadata": {
    "id": "VUpdHVjbI_uk",
    "outputId": "e916233d-a4bf-4fc8-f9be-fe4f2bf228eb",
    "cell_id": "00014-efe0003e-28d9-4b93-b8fc-f58c8234b4fc",
    "deepnote_to_be_reexecuted": true,
    "source_hash": "a7220e3c",
    "execution_start": 1650248335935,
    "execution_millis": 1425,
    "deepnote_cell_type": "code",
    "deepnote_cell_height": 487.125,
    "deepnote_output_heights": [
     21.1875,
     319.984375
    ]
   },
   "source": "colors = {'no': 'red', 'yes': 'green'}\ntrain_df.plot.scatter('job', 'age', c=train_df['y'].map(colors), rot=60)",
   "outputs": [
    {
     "output_type": "execute_result",
     "execution_count": 51,
     "data": {
      "text/plain": "<AxesSubplot:xlabel='job', ylabel='age'>"
     },
     "metadata": {}
    },
    {
     "data": {
      "text/plain": "<Figure size 432x288 with 1 Axes>",
      "image/png": "[encoded data removed]"
     },
     "metadata": {
      "needs_background": "light",
      "image/png": {
       "width": 382,
       "height": 318
      }
     },
     "output_type": "display_data"
    }
   ],
   "execution_count": null
  },
  {
   "cell_type": "markdown",
   "source": "retired folks seem more likely to invest in low risk securities!",
   "metadata": {
    "id": "m-7EuxeNI_uk",
    "cell_id": "00015-2a1ae5aa-0fd1-4fb2-9e06-5b85221dad04",
    "deepnote_cell_type": "markdown",
    "deepnote_cell_height": 52.375
   }
  },
  {
   "cell_type": "markdown",
   "source": "### Feature Engineering",
   "metadata": {
    "id": "IYthIDgZI_ul",
    "cell_id": "00016-e260ded3-a042-4dea-a446-5fd396fa3685",
    "deepnote_cell_type": "markdown",
    "deepnote_cell_height": 61.96875
   }
  },
  {
   "cell_type": "markdown",
   "source": "#### feature engineer day of week column",
   "metadata": {
    "cell_id": "180052165298493cb3bc28aa2c2b3bea",
    "tags": [],
    "deepnote_cell_type": "markdown",
    "deepnote_cell_height": 53.96875
   }
  },
  {
   "cell_type": "code",
   "metadata": {
    "colab": {
     "base_uri": "https://localhost:8080/"
    },
    "id": "QCYqCYGfCjB8",
    "outputId": "5d149ae0-e910-434a-f74b-bc0fd34d0c1d",
    "cell_id": "00017-a2907c39-d650-4445-a7cd-9a65c3a73e23",
    "deepnote_to_be_reexecuted": false,
    "source_hash": "a588cdc5",
    "execution_start": 1650249325528,
    "execution_millis": 5162,
    "deepnote_table_state": {
     "pageSize": 10,
     "pageIndex": 0,
     "filters": [],
     "sortBy": []
    },
    "deepnote_table_loading": false,
    "deepnote_table_invalid": false,
    "deepnote_cell_type": "code",
    "deepnote_cell_height": 1223.53125
   },
   "source": "temp = pd.Timestamp('2022-04-17')\nprint(temp.dayofweek, temp.day_name())\nprint(\"Can you see this\")\n# create year column\ncurYear = 2008\njanStretch = False\nyearList = []\nfor ind in train_df.index:\n    if train_df['month'][ind] == 'jan' and not janStretch:\n        janStretch = True\n        curYear += 1  \n    elif train_df['month'][ind] != 'jan':\n        janStretch = False\n    yearList.append(curYear) \ntrain_df['year'] = yearList\n\n# create day of week column\n# create a list then add to dataframe train_df\ntemp = pd.Timestamp('2022-4-5')\nmonthToNum = {'jan':1,'feb':2,'mar':3,'apr':4,'may':5,'jun':6,\n                'jul':7,'aug':8,'sep':9,'oct':10,'nov':11,'dec':12}\n\ndayOfWkList = []\nfor ind in train_df.index:\n    year = train_df['year'][ind]\n    month = train_df['month'][ind]\n    day = train_df['day'][ind]\n    timestampStr = str(year) + '-' + str(month) + '-' + str(day)\n    dayOfWk = pd.Timestamp(timestampStr)\n    dayOfWkList.append(dayOfWk.day_of_week)\ntrain_df['dayOfWk'] = dayOfWkList\ntrain_df",
   "outputs": [
    {
     "name": "stdout",
     "text": "6 Sunday\nCan you see this\n",
     "output_type": "stream"
    },
    {
     "output_type": "execute_result",
     "execution_count": 10,
     "data": {
      "application/vnd.deepnote.dataframe.v3+json": {
       "column_count": 19,
       "row_count": 45211,
       "columns": [
        {
         "name": "age",
         "dtype": "int64",
         "stats": {
          "unique_count": 77,
          "nan_count": 0,
          "min": "18",
          "max": "95",
          "histogram": [
           {
            "bin_start": 18,
            "bin_end": 25.7,
            "count": 1336
           },
           {
            "bin_start": 25.7,
            "bin_end": 33.4,
            "count": 11747
           },
           {
            "bin_start": 33.4,
            "bin_end": 41.1,
            "count": 12925
           },
           {
            "bin_start": 41.1,
            "bin_end": 48.8,
            "count": 8015
           },
           {
            "bin_start": 48.8,
            "bin_end": 56.5,
            "count": 7066
           },
           {
            "bin_start": 56.5,
            "bin_end": 64.2,
            "count": 3312
           },
           {
            "bin_start": 64.2,
            "bin_end": 71.9,
            "count": 377
           },
           {
            "bin_start": 71.9,
            "bin_end": 79.6,
            "count": 303
           },
           {
            "bin_start": 79.6,
            "bin_end": 87.3,
            "count": 116
           },
           {
            "bin_start": 87.3,
            "bin_end": 95,
            "count": 14
           }
          ]
         }
        },
        {
         "name": "job",
         "dtype": "object",
         "stats": {
          "unique_count": 12,
          "nan_count": 0,
          "categories": [
           {
            "name": "blue-collar",
            "count": 9732
           },
           {
            "name": "management",
            "count": 9458
           },
           {
            "name": "10 others",
            "count": 26021
           }
          ]
         }
        },
        {
         "name": "marital",
         "dtype": "object"
        },
        {
         "name": "education",
         "dtype": "object"
        },
        {
         "name": "default",
         "dtype": "object"
        },
        {
         "name": "balance",
         "dtype": "int64"
        },
        {
         "name": "housing",
         "dtype": "object"
        },
        {
         "name": "loan",
         "dtype": "object"
        },
        {
         "name": "contact",
         "dtype": "object"
        },
        {
         "name": "day",
         "dtype": "int64"
        },
        {
         "name": "month",
         "dtype": "object"
        },
        {
         "name": "duration",
         "dtype": "int64"
        },
        {
         "name": "campaign",
         "dtype": "int64"
        },
        {
         "name": "pdays",
         "dtype": "int64"
        },
        {
         "name": "previous",
         "dtype": "int64"
        },
        {
         "name": "poutcome",
         "dtype": "object"
        },
        {
         "name": "y",
         "dtype": "object"
        },
        {
         "name": "year",
         "dtype": "int64"
        },
        {
         "name": "dayOfWk",
         "dtype": "int64"
        },
        {
         "name": "_deepnote_index_column",
         "dtype": "int64"
        }
       ],
       "rows": [
        {
         "age": 58,
         "job": "management",
         "marital": "married",
         "education": "tertiary",
         "default": "no",
         "balance": 2143,
         "housing": "yes",
         "loan": "no",
         "contact": "cellular",
         "day": 5,
         "month": "may",
         "duration": 261,
         "campaign": 1,
         "pdays": -1,
         "previous": 0,
         "poutcome": "other",
         "y": "no",
         "year": 2008,
         "dayOfWk": 0,
         "_deepnote_index_column": 0
        },
        {
         "age": 44,
         "job": "technician",
         "marital": "single",
         "education": "secondary",
         "default": "no",
         "balance": 29,
         "housing": "yes",
         "loan": "no",
         "contact": "cellular",
         "day": 5,
         "month": "may",
         "duration": 151,
         "campaign": 1,
         "pdays": -1,
         "previous": 0,
         "poutcome": "other",
         "y": "no",
         "year": 2008,
         "dayOfWk": 0,
         "_deepnote_index_column": 1
        },
        {
         "age": 33,
         "job": "entrepreneur",
         "marital": "married",
         "education": "secondary",
         "default": "no",
         "balance": 2,
         "housing": "yes",
         "loan": "yes",
         "contact": "cellular",
         "day": 5,
         "month": "may",
         "duration": 76,
         "campaign": 1,
         "pdays": -1,
         "previous": 0,
         "poutcome": "other",
         "y": "no",
         "year": 2008,
         "dayOfWk": 0,
         "_deepnote_index_column": 2
        },
        {
         "age": 47,
         "job": "blue-collar",
         "marital": "married",
         "education": "unknown",
         "default": "no",
         "balance": 1506,
         "housing": "yes",
         "loan": "no",
         "contact": "cellular",
         "day": 5,
         "month": "may",
         "duration": 92,
         "campaign": 1,
         "pdays": -1,
         "previous": 0,
         "poutcome": "other",
         "y": "no",
         "year": 2008,
         "dayOfWk": 0,
         "_deepnote_index_column": 3
        },
        {
         "age": 33,
         "job": "unknown",
         "marital": "single",
         "education": "unknown",
         "default": "no",
         "balance": 1,
         "housing": "no",
         "loan": "no",
         "contact": "cellular",
         "day": 5,
         "month": "may",
         "duration": 198,
         "campaign": 1,
         "pdays": -1,
         "previous": 0,
         "poutcome": "other",
         "y": "no",
         "year": 2008,
         "dayOfWk": 0,
         "_deepnote_index_column": 4
        },
        {
         "age": 35,
         "job": "management",
         "marital": "married",
         "education": "tertiary",
         "default": "no",
         "balance": 231,
         "housing": "yes",
         "loan": "no",
         "contact": "cellular",
         "day": 5,
         "month": "may",
         "duration": 139,
         "campaign": 1,
         "pdays": -1,
         "previous": 0,
         "poutcome": "other",
         "y": "no",
         "year": 2008,
         "dayOfWk": 0,
         "_deepnote_index_column": 5
        },
        {
         "age": 28,
         "job": "management",
         "marital": "single",
         "education": "tertiary",
         "default": "no",
         "balance": 447,
         "housing": "yes",
         "loan": "yes",
         "contact": "cellular",
         "day": 5,
         "month": "may",
         "duration": 217,
         "campaign": 1,
         "pdays": -1,
         "previous": 0,
         "poutcome": "other",
         "y": "no",
         "year": 2008,
         "dayOfWk": 0,
         "_deepnote_index_column": 6
        },
        {
         "age": 42,
         "job": "entrepreneur",
         "marital": "divorced",
         "education": "tertiary",
         "default": "yes",
         "balance": 2,
         "housing": "yes",
         "loan": "no",
         "contact": "cellular",
         "day": 5,
         "month": "may",
         "duration": 380,
         "campaign": 1,
         "pdays": -1,
         "previous": 0,
         "poutcome": "other",
         "y": "no",
         "year": 2008,
         "dayOfWk": 0,
         "_deepnote_index_column": 7
        },
        {
         "age": 58,
         "job": "retired",
         "marital": "married",
         "education": "primary",
         "default": "no",
         "balance": 121,
         "housing": "yes",
         "loan": "no",
         "contact": "cellular",
         "day": 5,
         "month": "may",
         "duration": 50,
         "campaign": 1,
         "pdays": -1,
         "previous": 0,
         "poutcome": "other",
         "y": "no",
         "year": 2008,
         "dayOfWk": 0,
         "_deepnote_index_column": 8
        },
        {
         "age": 43,
         "job": "technician",
         "marital": "single",
         "education": "secondary",
         "default": "no",
         "balance": 593,
         "housing": "yes",
         "loan": "no",
         "contact": "cellular",
         "day": 5,
         "month": "may",
         "duration": 55,
         "campaign": 1,
         "pdays": -1,
         "previous": 0,
         "poutcome": "other",
         "y": "no",
         "year": 2008,
         "dayOfWk": 0,
         "_deepnote_index_column": 9
        }
       ]
      },
      "text/plain": "       age           job   marital  education default  balance housing loan  \\\n0       58    management   married   tertiary      no     2143     yes   no   \n1       44    technician    single  secondary      no       29     yes   no   \n2       33  entrepreneur   married  secondary      no        2     yes  yes   \n3       47   blue-collar   married    unknown      no     1506     yes   no   \n4       33       unknown    single    unknown      no        1      no   no   \n...    ...           ...       ...        ...     ...      ...     ...  ...   \n45206   51    technician   married   tertiary      no      825      no   no   \n45207   71       retired  divorced    primary      no     1729      no   no   \n45208   72       retired   married  secondary      no     5715      no   no   \n45209   57   blue-collar   married  secondary      no      668      no   no   \n45210   37  entrepreneur   married  secondary      no     2971      no   no   \n\n         contact  day month  duration  campaign  pdays  previous poutcome  \\\n0       cellular    5   may       261         1     -1         0    other   \n1       cellular    5   may       151         1     -1         0    other   \n2       cellular    5   may        76         1     -1         0    other   \n3       cellular    5   may        92         1     -1         0    other   \n4       cellular    5   may       198         1     -1         0    other   \n...          ...  ...   ...       ...       ...    ...       ...      ...   \n45206   cellular   17   nov       977         3     -1         0    other   \n45207   cellular   17   nov       456         2     -1         0    other   \n45208   cellular   17   nov      1127         5    184         3  success   \n45209  telephone   17   nov       508         4     -1         0    other   \n45210   cellular   17   nov       361         2    188        11    other   \n\n         y  year  dayOfWk  \n0       no  2008        0  \n1       no  2008        0  \n2       no  2008        0  \n3       no  2008        0  \n4       no  2008        0  \n...    ...   ...      ...  \n45206  yes  2010        2  \n45207  yes  2010        2  \n45208  yes  2010        2  \n45209   no  2010        2  \n45210   no  2010        2  \n\n[45211 rows x 19 columns]",
      "text/html": "<div>\n<style scoped>\n    .dataframe tbody tr th:only-of-type {\n        vertical-align: middle;\n    }\n\n    .dataframe tbody tr th {\n        vertical-align: top;\n    }\n\n    .dataframe thead th {\n        text-align: right;\n    }\n</style>\n<table border=\"1\" class=\"dataframe\">\n  <thead>\n    <tr style=\"text-align: right;\">\n      <th></th>\n      <th>age</th>\n      <th>job</th>\n      <th>marital</th>\n      <th>education</th>\n      <th>default</th>\n      <th>balance</th>\n      <th>housing</th>\n      <th>loan</th>\n      <th>contact</th>\n      <th>day</th>\n      <th>month</th>\n      <th>duration</th>\n      <th>campaign</th>\n      <th>pdays</th>\n      <th>previous</th>\n      <th>poutcome</th>\n      <th>y</th>\n      <th>year</th>\n      <th>dayOfWk</th>\n    </tr>\n  </thead>\n  <tbody>\n    <tr>\n      <th>0</th>\n      <td>58</td>\n      <td>management</td>\n      <td>married</td>\n      <td>tertiary</td>\n      <td>no</td>\n      <td>2143</td>\n      <td>yes</td>\n      <td>no</td>\n      <td>cellular</td>\n      <td>5</td>\n      <td>may</td>\n      <td>261</td>\n      <td>1</td>\n      <td>-1</td>\n      <td>0</td>\n      <td>other</td>\n      <td>no</td>\n      <td>2008</td>\n      <td>0</td>\n    </tr>\n    <tr>\n      <th>1</th>\n      <td>44</td>\n      <td>technician</td>\n      <td>single</td>\n      <td>secondary</td>\n      <td>no</td>\n      <td>29</td>\n      <td>yes</td>\n      <td>no</td>\n      <td>cellular</td>\n      <td>5</td>\n      <td>may</td>\n      <td>151</td>\n      <td>1</td>\n      <td>-1</td>\n      <td>0</td>\n      <td>other</td>\n      <td>no</td>\n      <td>2008</td>\n      <td>0</td>\n    </tr>\n    <tr>\n      <th>2</th>\n      <td>33</td>\n      <td>entrepreneur</td>\n      <td>married</td>\n      <td>secondary</td>\n      <td>no</td>\n      <td>2</td>\n      <td>yes</td>\n      <td>yes</td>\n      <td>cellular</td>\n      <td>5</td>\n      <td>may</td>\n      <td>76</td>\n      <td>1</td>\n      <td>-1</td>\n      <td>0</td>\n      <td>other</td>\n      <td>no</td>\n      <td>2008</td>\n      <td>0</td>\n    </tr>\n    <tr>\n      <th>3</th>\n      <td>47</td>\n      <td>blue-collar</td>\n      <td>married</td>\n      <td>unknown</td>\n      <td>no</td>\n      <td>1506</td>\n      <td>yes</td>\n      <td>no</td>\n      <td>cellular</td>\n      <td>5</td>\n      <td>may</td>\n      <td>92</td>\n      <td>1</td>\n      <td>-1</td>\n      <td>0</td>\n      <td>other</td>\n      <td>no</td>\n      <td>2008</td>\n      <td>0</td>\n    </tr>\n    <tr>\n      <th>4</th>\n      <td>33</td>\n      <td>unknown</td>\n      <td>single</td>\n      <td>unknown</td>\n      <td>no</td>\n      <td>1</td>\n      <td>no</td>\n      <td>no</td>\n      <td>cellular</td>\n      <td>5</td>\n      <td>may</td>\n      <td>198</td>\n      <td>1</td>\n      <td>-1</td>\n      <td>0</td>\n      <td>other</td>\n      <td>no</td>\n      <td>2008</td>\n      <td>0</td>\n    </tr>\n    <tr>\n      <th>...</th>\n      <td>...</td>\n      <td>...</td>\n      <td>...</td>\n      <td>...</td>\n      <td>...</td>\n      <td>...</td>\n      <td>...</td>\n      <td>...</td>\n      <td>...</td>\n      <td>...</td>\n      <td>...</td>\n      <td>...</td>\n      <td>...</td>\n      <td>...</td>\n      <td>...</td>\n      <td>...</td>\n      <td>...</td>\n      <td>...</td>\n      <td>...</td>\n    </tr>\n    <tr>\n      <th>45206</th>\n      <td>51</td>\n      <td>technician</td>\n      <td>married</td>\n      <td>tertiary</td>\n      <td>no</td>\n      <td>825</td>\n      <td>no</td>\n      <td>no</td>\n      <td>cellular</td>\n      <td>17</td>\n      <td>nov</td>\n      <td>977</td>\n      <td>3</td>\n      <td>-1</td>\n      <td>0</td>\n      <td>other</td>\n      <td>yes</td>\n      <td>2010</td>\n      <td>2</td>\n    </tr>\n    <tr>\n      <th>45207</th>\n      <td>71</td>\n      <td>retired</td>\n      <td>divorced</td>\n      <td>primary</td>\n      <td>no</td>\n      <td>1729</td>\n      <td>no</td>\n      <td>no</td>\n      <td>cellular</td>\n      <td>17</td>\n      <td>nov</td>\n      <td>456</td>\n      <td>2</td>\n      <td>-1</td>\n      <td>0</td>\n      <td>other</td>\n      <td>yes</td>\n      <td>2010</td>\n      <td>2</td>\n    </tr>\n    <tr>\n      <th>45208</th>\n      <td>72</td>\n      <td>retired</td>\n      <td>married</td>\n      <td>secondary</td>\n      <td>no</td>\n      <td>5715</td>\n      <td>no</td>\n      <td>no</td>\n      <td>cellular</td>\n      <td>17</td>\n      <td>nov</td>\n      <td>1127</td>\n      <td>5</td>\n      <td>184</td>\n      <td>3</td>\n      <td>success</td>\n      <td>yes</td>\n      <td>2010</td>\n      <td>2</td>\n    </tr>\n    <tr>\n      <th>45209</th>\n      <td>57</td>\n      <td>blue-collar</td>\n      <td>married</td>\n      <td>secondary</td>\n      <td>no</td>\n      <td>668</td>\n      <td>no</td>\n      <td>no</td>\n      <td>telephone</td>\n      <td>17</td>\n      <td>nov</td>\n      <td>508</td>\n      <td>4</td>\n      <td>-1</td>\n      <td>0</td>\n      <td>other</td>\n      <td>no</td>\n      <td>2010</td>\n      <td>2</td>\n    </tr>\n    <tr>\n      <th>45210</th>\n      <td>37</td>\n      <td>entrepreneur</td>\n      <td>married</td>\n      <td>secondary</td>\n      <td>no</td>\n      <td>2971</td>\n      <td>no</td>\n      <td>no</td>\n      <td>cellular</td>\n      <td>17</td>\n      <td>nov</td>\n      <td>361</td>\n      <td>2</td>\n      <td>188</td>\n      <td>11</td>\n      <td>other</td>\n      <td>no</td>\n      <td>2010</td>\n      <td>2</td>\n    </tr>\n  </tbody>\n</table>\n<p>45211 rows × 19 columns</p>\n</div>"
     },
     "metadata": {}
    }
   ],
   "execution_count": null
  },
  {
   "cell_type": "code",
   "source": "# one-hot encoding: turn nominal categorical data to numerical data \n# while not mathematically imply any ordinal relationship between the classes\n\n",
   "metadata": {
    "cell_id": "b4e7afcb4f35410690cc99ab83f83773",
    "tags": [],
    "deepnote_to_be_reexecuted": false,
    "source_hash": "f356224c",
    "execution_start": 1650252528686,
    "execution_millis": 0,
    "owner_user_id": "0a30836e-5466-463f-b0aa-db40003a278c",
    "deepnote_cell_type": "code",
    "deepnote_cell_height": 134.96875
   },
   "outputs": [],
   "execution_count": 31
  },
  {
   "cell_type": "markdown",
   "source": "#### feature engineer previously contacted and not column",
   "metadata": {
    "cell_id": "52f02f8430fd4a0c92da01cde5837f37",
    "tags": [],
    "deepnote_cell_type": "markdown",
    "deepnote_cell_height": 53.96875
   }
  },
  {
   "cell_type": "code",
   "source": "new_pdays = np.where(train_df['pdays'] == -1, 0, 1)\ntrain_df['pdays_cat'] = new_pdays\ntrain_df",
   "metadata": {
    "cell_id": "8790264d20b34808ad4ec7a8193d3bb1",
    "tags": [],
    "deepnote_to_be_reexecuted": false,
    "source_hash": "983b2375",
    "execution_start": 1650253372311,
    "execution_millis": 121,
    "deepnote_table_state": {
     "pageSize": 10,
     "pageIndex": 2999,
     "filters": [],
     "sortBy": []
    },
    "deepnote_table_loading": false,
    "deepnote_cell_type": "code",
    "deepnote_cell_height": 635.90625
   },
   "outputs": [
    {
     "output_type": "execute_result",
     "execution_count": 38,
     "data": {
      "application/vnd.deepnote.dataframe.v3+json": {
       "column_count": 18,
       "row_count": 45211,
       "columns": [
        {
         "name": "age",
         "dtype": "int64",
         "stats": {
          "unique_count": 77,
          "nan_count": 0,
          "min": "18",
          "max": "95",
          "histogram": [
           {
            "bin_start": 18,
            "bin_end": 25.7,
            "count": 1336
           },
           {
            "bin_start": 25.7,
            "bin_end": 33.4,
            "count": 11747
           },
           {
            "bin_start": 33.4,
            "bin_end": 41.1,
            "count": 12925
           },
           {
            "bin_start": 41.1,
            "bin_end": 48.8,
            "count": 8015
           },
           {
            "bin_start": 48.8,
            "bin_end": 56.5,
            "count": 7066
           },
           {
            "bin_start": 56.5,
            "bin_end": 64.2,
            "count": 3312
           },
           {
            "bin_start": 64.2,
            "bin_end": 71.9,
            "count": 377
           },
           {
            "bin_start": 71.9,
            "bin_end": 79.6,
            "count": 303
           },
           {
            "bin_start": 79.6,
            "bin_end": 87.3,
            "count": 116
           },
           {
            "bin_start": 87.3,
            "bin_end": 95,
            "count": 14
           }
          ]
         }
        },
        {
         "name": "job",
         "dtype": "object",
         "stats": {
          "unique_count": 12,
          "nan_count": 0,
          "categories": [
           {
            "name": "blue-collar",
            "count": 9732
           },
           {
            "name": "management",
            "count": 9458
           },
           {
            "name": "10 others",
            "count": 26021
           }
          ]
         }
        },
        {
         "name": "marital",
         "dtype": "object"
        },
        {
         "name": "education",
         "dtype": "object"
        },
        {
         "name": "default",
         "dtype": "object"
        },
        {
         "name": "balance",
         "dtype": "int64"
        },
        {
         "name": "housing",
         "dtype": "object"
        },
        {
         "name": "loan",
         "dtype": "object"
        },
        {
         "name": "contact",
         "dtype": "object"
        },
        {
         "name": "day",
         "dtype": "int64"
        },
        {
         "name": "month",
         "dtype": "object"
        },
        {
         "name": "duration",
         "dtype": "int64"
        },
        {
         "name": "campaign",
         "dtype": "int64"
        },
        {
         "name": "pdays",
         "dtype": "int64"
        },
        {
         "name": "previous",
         "dtype": "int64"
        },
        {
         "name": "poutcome",
         "dtype": "object"
        },
        {
         "name": "y",
         "dtype": "object"
        },
        {
         "name": "pdays_cat",
         "dtype": "int64"
        },
        {
         "name": "_deepnote_index_column",
         "dtype": "int64"
        }
       ],
       "rows": [
        {
         "age": 46,
         "job": "entrepreneur",
         "marital": "married",
         "education": "tertiary",
         "default": "no",
         "balance": 954,
         "housing": "yes",
         "loan": "yes",
         "contact": "cellular",
         "day": 4,
         "month": "feb",
         "duration": 532,
         "campaign": 2,
         "pdays": -1,
         "previous": 0,
         "poutcome": "unknown",
         "y": "no",
         "pdays_cat": 0,
         "_deepnote_index_column": 29990
        },
        {
         "age": 28,
         "job": "services",
         "marital": "divorced",
         "education": "secondary",
         "default": "no",
         "balance": 9,
         "housing": "yes",
         "loan": "no",
         "contact": "cellular",
         "day": 4,
         "month": "feb",
         "duration": 306,
         "campaign": 1,
         "pdays": -1,
         "previous": 0,
         "poutcome": "unknown",
         "y": "no",
         "pdays_cat": 0,
         "_deepnote_index_column": 29991
        },
        {
         "age": 30,
         "job": "technician",
         "marital": "single",
         "education": "secondary",
         "default": "no",
         "balance": 865,
         "housing": "no",
         "loan": "no",
         "contact": "cellular",
         "day": 4,
         "month": "feb",
         "duration": 114,
         "campaign": 1,
         "pdays": -1,
         "previous": 0,
         "poutcome": "unknown",
         "y": "no",
         "pdays_cat": 0,
         "_deepnote_index_column": 29992
        },
        {
         "age": 33,
         "job": "entrepreneur",
         "marital": "single",
         "education": "tertiary",
         "default": "no",
         "balance": 138,
         "housing": "no",
         "loan": "no",
         "contact": "cellular",
         "day": 4,
         "month": "feb",
         "duration": 141,
         "campaign": 2,
         "pdays": -1,
         "previous": 0,
         "poutcome": "unknown",
         "y": "no",
         "pdays_cat": 0,
         "_deepnote_index_column": 29993
        },
        {
         "age": 28,
         "job": "services",
         "marital": "single",
         "education": "secondary",
         "default": "no",
         "balance": 458,
         "housing": "no",
         "loan": "no",
         "contact": "cellular",
         "day": 4,
         "month": "feb",
         "duration": 112,
         "campaign": 4,
         "pdays": 201,
         "previous": 3,
         "poutcome": "failure",
         "y": "no",
         "pdays_cat": 1,
         "_deepnote_index_column": 29994
        },
        {
         "age": 27,
         "job": "admin.",
         "marital": "single",
         "education": "secondary",
         "default": "no",
         "balance": 298,
         "housing": "no",
         "loan": "no",
         "contact": "cellular",
         "day": 4,
         "month": "feb",
         "duration": 207,
         "campaign": 3,
         "pdays": -1,
         "previous": 0,
         "poutcome": "unknown",
         "y": "no",
         "pdays_cat": 0,
         "_deepnote_index_column": 29995
        },
        {
         "age": 39,
         "job": "services",
         "marital": "divorced",
         "education": "secondary",
         "default": "no",
         "balance": 229,
         "housing": "yes",
         "loan": "no",
         "contact": "cellular",
         "day": 4,
         "month": "feb",
         "duration": 238,
         "campaign": 1,
         "pdays": -1,
         "previous": 0,
         "poutcome": "unknown",
         "y": "no",
         "pdays_cat": 0,
         "_deepnote_index_column": 29996
        },
        {
         "age": 48,
         "job": "management",
         "marital": "single",
         "education": "secondary",
         "default": "no",
         "balance": 7,
         "housing": "no",
         "loan": "no",
         "contact": "cellular",
         "day": 4,
         "month": "feb",
         "duration": 191,
         "campaign": 1,
         "pdays": -1,
         "previous": 0,
         "poutcome": "unknown",
         "y": "no",
         "pdays_cat": 0,
         "_deepnote_index_column": 29997
        },
        {
         "age": 40,
         "job": "admin.",
         "marital": "married",
         "education": "secondary",
         "default": "no",
         "balance": 1142,
         "housing": "yes",
         "loan": "no",
         "contact": "cellular",
         "day": 4,
         "month": "feb",
         "duration": 126,
         "campaign": 1,
         "pdays": -1,
         "previous": 0,
         "poutcome": "unknown",
         "y": "no",
         "pdays_cat": 0,
         "_deepnote_index_column": 29998
        },
        {
         "age": 40,
         "job": "unemployed",
         "marital": "divorced",
         "education": "secondary",
         "default": "no",
         "balance": 6322,
         "housing": "no",
         "loan": "no",
         "contact": "cellular",
         "day": 4,
         "month": "feb",
         "duration": 459,
         "campaign": 1,
         "pdays": 272,
         "previous": 1,
         "poutcome": "failure",
         "y": "no",
         "pdays_cat": 1,
         "_deepnote_index_column": 29999
        }
       ]
      },
      "text/plain": "       age           job   marital  education default  balance housing loan  \\\n0       58    management   married   tertiary      no     2143     yes   no   \n1       44    technician    single  secondary      no       29     yes   no   \n2       33  entrepreneur   married  secondary      no        2     yes  yes   \n3       47   blue-collar   married    unknown      no     1506     yes   no   \n4       33       unknown    single    unknown      no        1      no   no   \n...    ...           ...       ...        ...     ...      ...     ...  ...   \n45206   51    technician   married   tertiary      no      825      no   no   \n45207   71       retired  divorced    primary      no     1729      no   no   \n45208   72       retired   married  secondary      no     5715      no   no   \n45209   57   blue-collar   married  secondary      no      668      no   no   \n45210   37  entrepreneur   married  secondary      no     2971      no   no   \n\n         contact  day month  duration  campaign  pdays  previous poutcome  \\\n0        unknown    5   may       261         1     -1         0  unknown   \n1        unknown    5   may       151         1     -1         0  unknown   \n2        unknown    5   may        76         1     -1         0  unknown   \n3        unknown    5   may        92         1     -1         0  unknown   \n4        unknown    5   may       198         1     -1         0  unknown   \n...          ...  ...   ...       ...       ...    ...       ...      ...   \n45206   cellular   17   nov       977         3     -1         0  unknown   \n45207   cellular   17   nov       456         2     -1         0  unknown   \n45208   cellular   17   nov      1127         5    184         3  success   \n45209  telephone   17   nov       508         4     -1         0  unknown   \n45210   cellular   17   nov       361         2    188        11    other   \n\n         y  pdays_cat  \n0       no          0  \n1       no          0  \n2       no          0  \n3       no          0  \n4       no          0  \n...    ...        ...  \n45206  yes          0  \n45207  yes          0  \n45208  yes          1  \n45209   no          0  \n45210   no          1  \n\n[45211 rows x 18 columns]",
      "text/html": "<div>\n<style scoped>\n    .dataframe tbody tr th:only-of-type {\n        vertical-align: middle;\n    }\n\n    .dataframe tbody tr th {\n        vertical-align: top;\n    }\n\n    .dataframe thead th {\n        text-align: right;\n    }\n</style>\n<table border=\"1\" class=\"dataframe\">\n  <thead>\n    <tr style=\"text-align: right;\">\n      <th></th>\n      <th>age</th>\n      <th>job</th>\n      <th>marital</th>\n      <th>education</th>\n      <th>default</th>\n      <th>balance</th>\n      <th>housing</th>\n      <th>loan</th>\n      <th>contact</th>\n      <th>day</th>\n      <th>month</th>\n      <th>duration</th>\n      <th>campaign</th>\n      <th>pdays</th>\n      <th>previous</th>\n      <th>poutcome</th>\n      <th>y</th>\n      <th>pdays_cat</th>\n    </tr>\n  </thead>\n  <tbody>\n    <tr>\n      <th>0</th>\n      <td>58</td>\n      <td>management</td>\n      <td>married</td>\n      <td>tertiary</td>\n      <td>no</td>\n      <td>2143</td>\n      <td>yes</td>\n      <td>no</td>\n      <td>unknown</td>\n      <td>5</td>\n      <td>may</td>\n      <td>261</td>\n      <td>1</td>\n      <td>-1</td>\n      <td>0</td>\n      <td>unknown</td>\n      <td>no</td>\n      <td>0</td>\n    </tr>\n    <tr>\n      <th>1</th>\n      <td>44</td>\n      <td>technician</td>\n      <td>single</td>\n      <td>secondary</td>\n      <td>no</td>\n      <td>29</td>\n      <td>yes</td>\n      <td>no</td>\n      <td>unknown</td>\n      <td>5</td>\n      <td>may</td>\n      <td>151</td>\n      <td>1</td>\n      <td>-1</td>\n      <td>0</td>\n      <td>unknown</td>\n      <td>no</td>\n      <td>0</td>\n    </tr>\n    <tr>\n      <th>2</th>\n      <td>33</td>\n      <td>entrepreneur</td>\n      <td>married</td>\n      <td>secondary</td>\n      <td>no</td>\n      <td>2</td>\n      <td>yes</td>\n      <td>yes</td>\n      <td>unknown</td>\n      <td>5</td>\n      <td>may</td>\n      <td>76</td>\n      <td>1</td>\n      <td>-1</td>\n      <td>0</td>\n      <td>unknown</td>\n      <td>no</td>\n      <td>0</td>\n    </tr>\n    <tr>\n      <th>3</th>\n      <td>47</td>\n      <td>blue-collar</td>\n      <td>married</td>\n      <td>unknown</td>\n      <td>no</td>\n      <td>1506</td>\n      <td>yes</td>\n      <td>no</td>\n      <td>unknown</td>\n      <td>5</td>\n      <td>may</td>\n      <td>92</td>\n      <td>1</td>\n      <td>-1</td>\n      <td>0</td>\n      <td>unknown</td>\n      <td>no</td>\n      <td>0</td>\n    </tr>\n    <tr>\n      <th>4</th>\n      <td>33</td>\n      <td>unknown</td>\n      <td>single</td>\n      <td>unknown</td>\n      <td>no</td>\n      <td>1</td>\n      <td>no</td>\n      <td>no</td>\n      <td>unknown</td>\n      <td>5</td>\n      <td>may</td>\n      <td>198</td>\n      <td>1</td>\n      <td>-1</td>\n      <td>0</td>\n      <td>unknown</td>\n      <td>no</td>\n      <td>0</td>\n    </tr>\n    <tr>\n      <th>...</th>\n      <td>...</td>\n      <td>...</td>\n      <td>...</td>\n      <td>...</td>\n      <td>...</td>\n      <td>...</td>\n      <td>...</td>\n      <td>...</td>\n      <td>...</td>\n      <td>...</td>\n      <td>...</td>\n      <td>...</td>\n      <td>...</td>\n      <td>...</td>\n      <td>...</td>\n      <td>...</td>\n      <td>...</td>\n      <td>...</td>\n    </tr>\n    <tr>\n      <th>45206</th>\n      <td>51</td>\n      <td>technician</td>\n      <td>married</td>\n      <td>tertiary</td>\n      <td>no</td>\n      <td>825</td>\n      <td>no</td>\n      <td>no</td>\n      <td>cellular</td>\n      <td>17</td>\n      <td>nov</td>\n      <td>977</td>\n      <td>3</td>\n      <td>-1</td>\n      <td>0</td>\n      <td>unknown</td>\n      <td>yes</td>\n      <td>0</td>\n    </tr>\n    <tr>\n      <th>45207</th>\n      <td>71</td>\n      <td>retired</td>\n      <td>divorced</td>\n      <td>primary</td>\n      <td>no</td>\n      <td>1729</td>\n      <td>no</td>\n      <td>no</td>\n      <td>cellular</td>\n      <td>17</td>\n      <td>nov</td>\n      <td>456</td>\n      <td>2</td>\n      <td>-1</td>\n      <td>0</td>\n      <td>unknown</td>\n      <td>yes</td>\n      <td>0</td>\n    </tr>\n    <tr>\n      <th>45208</th>\n      <td>72</td>\n      <td>retired</td>\n      <td>married</td>\n      <td>secondary</td>\n      <td>no</td>\n      <td>5715</td>\n      <td>no</td>\n      <td>no</td>\n      <td>cellular</td>\n      <td>17</td>\n      <td>nov</td>\n      <td>1127</td>\n      <td>5</td>\n      <td>184</td>\n      <td>3</td>\n      <td>success</td>\n      <td>yes</td>\n      <td>1</td>\n    </tr>\n    <tr>\n      <th>45209</th>\n      <td>57</td>\n      <td>blue-collar</td>\n      <td>married</td>\n      <td>secondary</td>\n      <td>no</td>\n      <td>668</td>\n      <td>no</td>\n      <td>no</td>\n      <td>telephone</td>\n      <td>17</td>\n      <td>nov</td>\n      <td>508</td>\n      <td>4</td>\n      <td>-1</td>\n      <td>0</td>\n      <td>unknown</td>\n      <td>no</td>\n      <td>0</td>\n    </tr>\n    <tr>\n      <th>45210</th>\n      <td>37</td>\n      <td>entrepreneur</td>\n      <td>married</td>\n      <td>secondary</td>\n      <td>no</td>\n      <td>2971</td>\n      <td>no</td>\n      <td>no</td>\n      <td>cellular</td>\n      <td>17</td>\n      <td>nov</td>\n      <td>361</td>\n      <td>2</td>\n      <td>188</td>\n      <td>11</td>\n      <td>other</td>\n      <td>no</td>\n      <td>1</td>\n    </tr>\n  </tbody>\n</table>\n<p>45211 rows × 18 columns</p>\n</div>"
     },
     "metadata": {}
    }
   ],
   "execution_count": 37
  },
  {
   "cell_type": "markdown",
   "source": "#### feature engineer ",
   "metadata": {
    "cell_id": "b8511171dc7c45979ceba722c8f5be65",
    "tags": [],
    "owner_user_id": "b75644ab-37f7-453a-966f-cae3d30ff661",
    "deepnote_cell_type": "markdown",
    "deepnote_cell_height": 53.96875
   }
  },
  {
   "cell_type": "markdown",
   "source": "## Modeling\n\nThen move on to the modeling, and continue to use the markdown cells to walk a reader through your process. ",
   "metadata": {
    "id": "2iF3Kgj6I_ul",
    "cell_id": "00018-5db3c493-768b-412a-9283-1574a8c213f5",
    "deepnote_cell_type": "markdown",
    "deepnote_cell_height": 130.78125
   }
  },
  {
   "cell_type": "markdown",
   "source": "#### svm, neural nets, look at paper",
   "metadata": {
    "cell_id": "80905ae9d6824b439909083679027997",
    "tags": [],
    "deepnote_cell_type": "markdown",
    "deepnote_cell_height": 53.96875
   }
  },
  {
   "cell_type": "code",
   "source": "",
   "metadata": {
    "cell_id": "8b26a1d7dd4b4a85a5cc8ef4dccd98cf",
    "tags": [],
    "deepnote_to_be_reexecuted": false,
    "source_hash": "b623e53d",
    "execution_start": 1650253946562,
    "execution_millis": 0,
    "deepnote_cell_type": "code",
    "deepnote_cell_height": 80.96875
   },
   "outputs": [],
   "execution_count": 38
  },
  {
   "cell_type": "markdown",
   "source": "## Results\n\nFinally, display and analyze your results.",
   "metadata": {
    "id": "_-_Kr-MHI_ul",
    "cell_id": "00019-2cce4ab0-56fe-4e11-a607-9e796549ec02",
    "deepnote_cell_type": "markdown",
    "deepnote_cell_height": 108.375
   }
  },
  {
   "cell_type": "markdown",
   "source": "### Conclusion\n\nInclude a final conclusion - this may be an analysis of which model worked best, or which feature engineering worked best, or it may be any interesting insights you discovered about your data, or anything at all that you want to conclude from your work. ",
   "metadata": {
    "id": "0snqNyjpI_ul",
    "cell_id": "00020-c056e094-be9f-44a2-a50e-c59490620ba4",
    "deepnote_cell_type": "markdown",
    "deepnote_cell_height": 167.578125
   }
  },
  {
   "cell_type": "markdown",
   "source": "<a style='text-decoration:none;line-height:16px;display:flex;color:#5B5B62;padding:10px;justify-content:end;' href='https://deepnote.com?utm_source=created-in-deepnote-cell&projectId=825dc3e6-d277-4188-bb22-3ec9a91d5af7' target=\"_blank\">\n<img alt='Created in deepnote.com' style='display:inline;max-height:16px;margin:0px;margin-right:7.5px;' src='data:image/svg+xml;base64,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' > </img>\nCreated in <span style='font-weight:600;margin-left:4px;'>Deepnote</span></a>",
   "metadata": {
    "tags": [],
    "created_in_deepnote_cell": true,
    "deepnote_cell_type": "markdown"
   }
  }
 ],
 "nbformat": 4,
 "nbformat_minor": 0,
 "metadata": {
  "colab": {
   "name": "rpt.ipynb",
   "provenance": []
  },
  "interpreter": {
   "hash": "f602ad45f87f3f3b47aa6600b44585b7272b8f63c8c431471b0677e8a25fb840"
  },
  "kernelspec": {
   "display_name": "Python 3 (ipykernel)",
   "language": "python",
   "name": "python3"
  },
  "language_info": {
   "codemirror_mode": {
    "name": "ipython",
    "version": 3
   },
   "file_extension": ".py",
   "mimetype": "text/x-python",
   "name": "python",
   "nbconvert_exporter": "python",
   "pygments_lexer": "ipython3",
   "version": "3.9.7"
  },
  "deepnote_notebook_id": "42cc5831-019b-41da-95d0-a6881ce93dae",
  "deepnote": {},
  "deepnote_execution_queue": []
 }
}