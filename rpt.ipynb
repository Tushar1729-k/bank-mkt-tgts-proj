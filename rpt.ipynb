{
 "cells": [
  {
   "cell_type": "markdown",
   "source": "# Banking Marketing Targets\n\nhttps://www.kaggle.com/datasets/prakharrathi25/banking-dataset-marketing-targets\n\nTushar (tk22994)\n\nNandu (nrv379)\n\nMehdi (ma57795)\n\nSean (sha567)",
   "metadata": {
    "cell_id": "ecb5ab6e-0d11-4cb8-9104-5fe56f293a06",
    "id": "JMU8ml64I_ub",
    "deepnote_cell_type": "markdown",
    "deepnote_cell_height": 265.984375
   }
  },
  {
   "cell_type": "markdown",
   "source": "# Introduction\n\nGiven direct marketing campaign data from a Portuguese banking institution, can we predict if a client will subscribe to a term deposit?\n\nA term deposit is a fixed-term investment that includes the deposit of money into an account at a financial institution. These investments usually carry short-term maturities ranging from just a month, to a couple years. A client's money is invested for a certain rate of interest over the whole term.\n\nTerm deposits also happen to be a significant source of income for banks. One way that banks will advertise term deposits is through telephonic marketing, which is considered to be one of the more viable marketing methods. However, telephonic marketing campaigns generate large costs through the hiring of call centers. Therefore, it is financially prudent for banks to figure out which customers are the most likely to convert first, and then proceed with targeting them with telephonic marketing after.",
   "metadata": {
    "cell_id": "00001-df6d0838-3ab7-490d-8af4-56004c1c1c26",
    "id": "ZLHch2nrI_uc",
    "deepnote_cell_type": "markdown",
    "deepnote_cell_height": 327.578125
   }
  },
  {
   "cell_type": "markdown",
   "source": "## Feature Descriptions\n\n### General Client Data\n\n* age - numeric\n\n* job - categorical\n\n* marital - marital status; categorical\n\n* education - categorical\n\n* default - binary categorical\n\n* balance - average yearly balance; numeric\n\n* housing - has housing loan; binary categorical\n\n* loan - has personal loan; binary categorical\n\n### Data related to last contact of the current campaign\n\n* contact - contact communication type; categorical\n\n* day - last contact day of the month; numerical\n\n* month - last contact month of the year; categorical\n\n* duration - last contact duration, in seconds; numeric\n\n* campaign - number of contacts performed during this campaign and for this client; numeric\n\n* pdays - number of days that passed by after the client was last contacted from a previous campaign (-1 means client was not previously contacted); numeric\n\n* previous - number of contacts performed before this campaign and for this client; numeric\n\n* poutcome - outcome of the previous marketing campaign; categorical\n\n### Label\n\n* y - has the client subscribed a term deposit?; binary categorical",
   "metadata": {
    "cell_id": "00002-b43a69d2-745c-4337-a0aa-1d2df9befda7",
    "id": "WhPlfHNKpi0u",
    "deepnote_cell_type": "markdown",
    "deepnote_cell_height": 729.171875
   }
  },
  {
   "cell_type": "markdown",
   "source": "# Data Science\n\nFrom here, proceed with the data science. Perform data cleaning, data exploration, feature engineering, etc. Use the markdown cells to describe and clarify each part of the process, so that a reader can easily follow along with what you've done.",
   "metadata": {
    "cell_id": "00004-501596cb-9b11-49e3-99b1-0e9b21108648",
    "id": "4hh4mW_TI_ue",
    "deepnote_cell_type": "markdown",
    "deepnote_cell_height": 142.796875
   }
  },
  {
   "cell_type": "code",
   "metadata": {
    "cell_id": "00005-728eb86d-b893-4ae1-8af3-650cccaaaffb",
    "colab": {
     "base_uri": "https://localhost:8080/",
     "height": 35
    },
    "deepnote_to_be_reexecuted": false,
    "execution_millis": 3311,
    "execution_start": 1650828161569,
    "id": "1GB7djoSI_uf",
    "outputId": "b5f81f86-4d73-4009-f131-187a835f5dab",
    "source_hash": "8c96c483",
    "deepnote_cell_type": "code",
    "deepnote_cell_height": 543.640625,
    "deepnote_output_heights": [
     null,
     21.1875
    ]
   },
   "source": "# import libraries/ standard headers\nimport numpy as np\nimport pandas as pd\nimport matplotlib.pyplot as plt\nimport math\n%pip install imblearn\n\n# enable inline mode for matplotlib so that Jupyter displays graphs\n%matplotlib inline\n\n# pandas version we're using\npd.__version__ ",
   "execution_count": 13,
   "outputs": [
    {
     "name": "stdout",
     "text": "Requirement already satisfied: imblearn in /usr/local/lib/python3.7/site-packages (0.0)\nRequirement already satisfied: imbalanced-learn in /usr/local/lib/python3.7/site-packages (from imblearn) (0.9.0)\nRequirement already satisfied: scikit-learn>=1.0.1 in /shared-libs/python3.7/py/lib/python3.7/site-packages (from imbalanced-learn->imblearn) (1.0.2)\nRequirement already satisfied: numpy>=1.14.6 in /shared-libs/python3.7/py/lib/python3.7/site-packages (from imbalanced-learn->imblearn) (1.21.6)\nRequirement already satisfied: threadpoolctl>=2.0.0 in /shared-libs/python3.7/py/lib/python3.7/site-packages (from imbalanced-learn->imblearn) (3.1.0)\nRequirement already satisfied: scipy>=1.1.0 in /shared-libs/python3.7/py/lib/python3.7/site-packages (from imbalanced-learn->imblearn) (1.7.3)\nRequirement already satisfied: joblib>=0.11 in /shared-libs/python3.7/py/lib/python3.7/site-packages (from imbalanced-learn->imblearn) (1.1.0)\n\u001b[33mWARNING: You are using pip version 20.1.1; however, version 22.0.4 is available.\nYou should consider upgrading via the '/usr/local/bin/python -m pip install --upgrade pip' command.\u001b[0m\nNote: you may need to restart the kernel to use updated packages.\n",
     "output_type": "stream"
    },
    {
     "output_type": "execute_result",
     "execution_count": 13,
     "data": {
      "text/plain": "'1.2.5'"
     },
     "metadata": {}
    }
   ]
  },
  {
   "cell_type": "markdown",
   "source": "## Data Exploration and Cleaning\n\nAs always, let us start off with reading in our dataset. Along the way, we will visualize and interpret our data to figure how to best clean and take advantage of it.",
   "metadata": {
    "cell_id": "00006-bb96ac18-c78b-4773-baa6-db74d5e4194d",
    "id": "gGz35G6uI_ug",
    "deepnote_cell_type": "markdown",
    "deepnote_cell_height": 130.796875
   }
  },
  {
   "cell_type": "code",
   "metadata": {
    "cell_id": "00007-b9afb6a0-1f80-4d0f-bea1-322f004eed63",
    "colab": {
     "base_uri": "https://localhost:8080/",
     "height": 648
    },
    "deepnote_to_be_reexecuted": false,
    "execution_millis": 100,
    "execution_start": 1650828164924,
    "id": "HMQDU3AoI_ug",
    "outputId": "382984d9-2c2f-41f3-d20f-f59d65033965",
    "source_hash": "693c283c",
    "deepnote_cell_type": "code",
    "deepnote_cell_height": 965.6875
   },
   "source": "# read in the dataset\ndf = pd.read_csv(\"dataset/train.csv\", sep=\";\")\n\ndf.info()\ndf.head()",
   "execution_count": 14,
   "outputs": [
    {
     "name": "stdout",
     "text": "<class 'pandas.core.frame.DataFrame'>\nRangeIndex: 45211 entries, 0 to 45210\nData columns (total 17 columns):\n #   Column     Non-Null Count  Dtype \n---  ------     --------------  ----- \n 0   age        45211 non-null  int64 \n 1   job        45211 non-null  object\n 2   marital    45211 non-null  object\n 3   education  45211 non-null  object\n 4   default    45211 non-null  object\n 5   balance    45211 non-null  int64 \n 6   housing    45211 non-null  object\n 7   loan       45211 non-null  object\n 8   contact    45211 non-null  object\n 9   day        45211 non-null  int64 \n 10  month      45211 non-null  object\n 11  duration   45211 non-null  int64 \n 12  campaign   45211 non-null  int64 \n 13  pdays      45211 non-null  int64 \n 14  previous   45211 non-null  int64 \n 15  poutcome   45211 non-null  object\n 16  y          45211 non-null  object\ndtypes: int64(7), object(10)\nmemory usage: 5.9+ MB\n",
     "output_type": "stream"
    },
    {
     "output_type": "execute_result",
     "execution_count": 14,
     "data": {
      "application/vnd.deepnote.dataframe.v3+json": {
       "column_count": 17,
       "row_count": 5,
       "columns": [
        {
         "name": "age",
         "dtype": "int64",
         "stats": {
          "unique_count": 4,
          "nan_count": 0,
          "min": "33",
          "max": "58",
          "histogram": [
           {
            "bin_start": 33,
            "bin_end": 35.5,
            "count": 2
           },
           {
            "bin_start": 35.5,
            "bin_end": 38,
            "count": 0
           },
           {
            "bin_start": 38,
            "bin_end": 40.5,
            "count": 0
           },
           {
            "bin_start": 40.5,
            "bin_end": 43,
            "count": 0
           },
           {
            "bin_start": 43,
            "bin_end": 45.5,
            "count": 1
           },
           {
            "bin_start": 45.5,
            "bin_end": 48,
            "count": 1
           },
           {
            "bin_start": 48,
            "bin_end": 50.5,
            "count": 0
           },
           {
            "bin_start": 50.5,
            "bin_end": 53,
            "count": 0
           },
           {
            "bin_start": 53,
            "bin_end": 55.5,
            "count": 0
           },
           {
            "bin_start": 55.5,
            "bin_end": 58,
            "count": 1
           }
          ]
         }
        },
        {
         "name": "job",
         "dtype": "object",
         "stats": {
          "unique_count": 5,
          "nan_count": 0,
          "categories": [
           {
            "name": "management",
            "count": 1
           },
           {
            "name": "technician",
            "count": 1
           },
           {
            "name": "3 others",
            "count": 3
           }
          ]
         }
        },
        {
         "name": "marital",
         "dtype": "object",
         "stats": {
          "unique_count": 2,
          "nan_count": 0,
          "categories": [
           {
            "name": "married",
            "count": 3
           },
           {
            "name": "single",
            "count": 2
           }
          ]
         }
        },
        {
         "name": "education",
         "dtype": "object",
         "stats": {
          "unique_count": 3,
          "nan_count": 0,
          "categories": [
           {
            "name": "secondary",
            "count": 2
           },
           {
            "name": "unknown",
            "count": 2
           },
           {
            "name": "tertiary",
            "count": 1
           }
          ]
         }
        },
        {
         "name": "default",
         "dtype": "object",
         "stats": {
          "unique_count": 1,
          "nan_count": 0,
          "categories": [
           {
            "name": "no",
            "count": 5
           }
          ]
         }
        },
        {
         "name": "balance",
         "dtype": "int64",
         "stats": {
          "unique_count": 5,
          "nan_count": 0,
          "min": "1",
          "max": "2143",
          "histogram": [
           {
            "bin_start": 1,
            "bin_end": 215.2,
            "count": 3
           },
           {
            "bin_start": 215.2,
            "bin_end": 429.4,
            "count": 0
           },
           {
            "bin_start": 429.4,
            "bin_end": 643.5999999999999,
            "count": 0
           },
           {
            "bin_start": 643.5999999999999,
            "bin_end": 857.8,
            "count": 0
           },
           {
            "bin_start": 857.8,
            "bin_end": 1072,
            "count": 0
           },
           {
            "bin_start": 1072,
            "bin_end": 1286.1999999999998,
            "count": 0
           },
           {
            "bin_start": 1286.1999999999998,
            "bin_end": 1500.3999999999999,
            "count": 0
           },
           {
            "bin_start": 1500.3999999999999,
            "bin_end": 1714.6,
            "count": 1
           },
           {
            "bin_start": 1714.6,
            "bin_end": 1928.8,
            "count": 0
           },
           {
            "bin_start": 1928.8,
            "bin_end": 2143,
            "count": 1
           }
          ]
         }
        },
        {
         "name": "housing",
         "dtype": "object",
         "stats": {
          "unique_count": 2,
          "nan_count": 0,
          "categories": [
           {
            "name": "yes",
            "count": 4
           },
           {
            "name": "no",
            "count": 1
           }
          ]
         }
        },
        {
         "name": "loan",
         "dtype": "object",
         "stats": {
          "unique_count": 2,
          "nan_count": 0,
          "categories": [
           {
            "name": "no",
            "count": 4
           },
           {
            "name": "yes",
            "count": 1
           }
          ]
         }
        },
        {
         "name": "contact",
         "dtype": "object",
         "stats": {
          "unique_count": 1,
          "nan_count": 0,
          "categories": [
           {
            "name": "unknown",
            "count": 5
           }
          ]
         }
        },
        {
         "name": "day",
         "dtype": "int64",
         "stats": {
          "unique_count": 1,
          "nan_count": 0,
          "min": "5",
          "max": "5",
          "histogram": [
           {
            "bin_start": 4.5,
            "bin_end": 4.6,
            "count": 0
           },
           {
            "bin_start": 4.6,
            "bin_end": 4.7,
            "count": 0
           },
           {
            "bin_start": 4.7,
            "bin_end": 4.8,
            "count": 0
           },
           {
            "bin_start": 4.8,
            "bin_end": 4.9,
            "count": 0
           },
           {
            "bin_start": 4.9,
            "bin_end": 5,
            "count": 0
           },
           {
            "bin_start": 5,
            "bin_end": 5.1,
            "count": 5
           },
           {
            "bin_start": 5.1,
            "bin_end": 5.2,
            "count": 0
           },
           {
            "bin_start": 5.2,
            "bin_end": 5.3,
            "count": 0
           },
           {
            "bin_start": 5.3,
            "bin_end": 5.4,
            "count": 0
           },
           {
            "bin_start": 5.4,
            "bin_end": 5.5,
            "count": 0
           }
          ]
         }
        },
        {
         "name": "month",
         "dtype": "object",
         "stats": {
          "unique_count": 1,
          "nan_count": 0,
          "categories": [
           {
            "name": "may",
            "count": 5
           }
          ]
         }
        },
        {
         "name": "duration",
         "dtype": "int64",
         "stats": {
          "unique_count": 5,
          "nan_count": 0,
          "min": "76",
          "max": "261",
          "histogram": [
           {
            "bin_start": 76,
            "bin_end": 94.5,
            "count": 2
           },
           {
            "bin_start": 94.5,
            "bin_end": 113,
            "count": 0
           },
           {
            "bin_start": 113,
            "bin_end": 131.5,
            "count": 0
           },
           {
            "bin_start": 131.5,
            "bin_end": 150,
            "count": 0
           },
           {
            "bin_start": 150,
            "bin_end": 168.5,
            "count": 1
           },
           {
            "bin_start": 168.5,
            "bin_end": 187,
            "count": 0
           },
           {
            "bin_start": 187,
            "bin_end": 205.5,
            "count": 1
           },
           {
            "bin_start": 205.5,
            "bin_end": 224,
            "count": 0
           },
           {
            "bin_start": 224,
            "bin_end": 242.5,
            "count": 0
           },
           {
            "bin_start": 242.5,
            "bin_end": 261,
            "count": 1
           }
          ]
         }
        },
        {
         "name": "campaign",
         "dtype": "int64",
         "stats": {
          "unique_count": 1,
          "nan_count": 0,
          "min": "1",
          "max": "1",
          "histogram": [
           {
            "bin_start": 0.5,
            "bin_end": 0.6,
            "count": 0
           },
           {
            "bin_start": 0.6,
            "bin_end": 0.7,
            "count": 0
           },
           {
            "bin_start": 0.7,
            "bin_end": 0.8,
            "count": 0
           },
           {
            "bin_start": 0.8,
            "bin_end": 0.9,
            "count": 0
           },
           {
            "bin_start": 0.9,
            "bin_end": 1,
            "count": 0
           },
           {
            "bin_start": 1,
            "bin_end": 1.1,
            "count": 5
           },
           {
            "bin_start": 1.1,
            "bin_end": 1.2000000000000002,
            "count": 0
           },
           {
            "bin_start": 1.2000000000000002,
            "bin_end": 1.3,
            "count": 0
           },
           {
            "bin_start": 1.3,
            "bin_end": 1.4,
            "count": 0
           },
           {
            "bin_start": 1.4,
            "bin_end": 1.5,
            "count": 0
           }
          ]
         }
        },
        {
         "name": "pdays",
         "dtype": "int64",
         "stats": {
          "unique_count": 1,
          "nan_count": 0,
          "min": "-1",
          "max": "-1",
          "histogram": [
           {
            "bin_start": -1.5,
            "bin_end": -1.4,
            "count": 0
           },
           {
            "bin_start": -1.4,
            "bin_end": -1.3,
            "count": 0
           },
           {
            "bin_start": -1.3,
            "bin_end": -1.2,
            "count": 0
           },
           {
            "bin_start": -1.2,
            "bin_end": -1.1,
            "count": 0
           },
           {
            "bin_start": -1.1,
            "bin_end": -1,
            "count": 0
           },
           {
            "bin_start": -1,
            "bin_end": -0.8999999999999999,
            "count": 5
           },
           {
            "bin_start": -0.8999999999999999,
            "bin_end": -0.7999999999999999,
            "count": 0
           },
           {
            "bin_start": -0.7999999999999999,
            "bin_end": -0.7,
            "count": 0
           },
           {
            "bin_start": -0.7,
            "bin_end": -0.6,
            "count": 0
           },
           {
            "bin_start": -0.6,
            "bin_end": -0.5,
            "count": 0
           }
          ]
         }
        },
        {
         "name": "previous",
         "dtype": "int64",
         "stats": {
          "unique_count": 1,
          "nan_count": 0,
          "min": "0",
          "max": "0",
          "histogram": [
           {
            "bin_start": -0.5,
            "bin_end": -0.4,
            "count": 0
           },
           {
            "bin_start": -0.4,
            "bin_end": -0.3,
            "count": 0
           },
           {
            "bin_start": -0.3,
            "bin_end": -0.19999999999999996,
            "count": 0
           },
           {
            "bin_start": -0.19999999999999996,
            "bin_end": -0.09999999999999998,
            "count": 0
           },
           {
            "bin_start": -0.09999999999999998,
            "bin_end": 0,
            "count": 0
           },
           {
            "bin_start": 0,
            "bin_end": 0.10000000000000009,
            "count": 5
           },
           {
            "bin_start": 0.10000000000000009,
            "bin_end": 0.20000000000000007,
            "count": 0
           },
           {
            "bin_start": 0.20000000000000007,
            "bin_end": 0.30000000000000004,
            "count": 0
           },
           {
            "bin_start": 0.30000000000000004,
            "bin_end": 0.4,
            "count": 0
           },
           {
            "bin_start": 0.4,
            "bin_end": 0.5,
            "count": 0
           }
          ]
         }
        },
        {
         "name": "poutcome",
         "dtype": "object",
         "stats": {
          "unique_count": 1,
          "nan_count": 0,
          "categories": [
           {
            "name": "unknown",
            "count": 5
           }
          ]
         }
        },
        {
         "name": "y",
         "dtype": "object",
         "stats": {
          "unique_count": 1,
          "nan_count": 0,
          "categories": [
           {
            "name": "no",
            "count": 5
           }
          ]
         }
        },
        {
         "name": "_deepnote_index_column",
         "dtype": "int64"
        }
       ],
       "rows": [
        {
         "age": 58,
         "job": "management",
         "marital": "married",
         "education": "tertiary",
         "default": "no",
         "balance": 2143,
         "housing": "yes",
         "loan": "no",
         "contact": "unknown",
         "day": 5,
         "month": "may",
         "duration": 261,
         "campaign": 1,
         "pdays": -1,
         "previous": 0,
         "poutcome": "unknown",
         "y": "no",
         "_deepnote_index_column": 0
        },
        {
         "age": 44,
         "job": "technician",
         "marital": "single",
         "education": "secondary",
         "default": "no",
         "balance": 29,
         "housing": "yes",
         "loan": "no",
         "contact": "unknown",
         "day": 5,
         "month": "may",
         "duration": 151,
         "campaign": 1,
         "pdays": -1,
         "previous": 0,
         "poutcome": "unknown",
         "y": "no",
         "_deepnote_index_column": 1
        },
        {
         "age": 33,
         "job": "entrepreneur",
         "marital": "married",
         "education": "secondary",
         "default": "no",
         "balance": 2,
         "housing": "yes",
         "loan": "yes",
         "contact": "unknown",
         "day": 5,
         "month": "may",
         "duration": 76,
         "campaign": 1,
         "pdays": -1,
         "previous": 0,
         "poutcome": "unknown",
         "y": "no",
         "_deepnote_index_column": 2
        },
        {
         "age": 47,
         "job": "blue-collar",
         "marital": "married",
         "education": "unknown",
         "default": "no",
         "balance": 1506,
         "housing": "yes",
         "loan": "no",
         "contact": "unknown",
         "day": 5,
         "month": "may",
         "duration": 92,
         "campaign": 1,
         "pdays": -1,
         "previous": 0,
         "poutcome": "unknown",
         "y": "no",
         "_deepnote_index_column": 3
        },
        {
         "age": 33,
         "job": "unknown",
         "marital": "single",
         "education": "unknown",
         "default": "no",
         "balance": 1,
         "housing": "no",
         "loan": "no",
         "contact": "unknown",
         "day": 5,
         "month": "may",
         "duration": 198,
         "campaign": 1,
         "pdays": -1,
         "previous": 0,
         "poutcome": "unknown",
         "y": "no",
         "_deepnote_index_column": 4
        }
       ]
      },
      "text/plain": "   age           job  marital  education default  balance housing loan  \\\n0   58    management  married   tertiary      no     2143     yes   no   \n1   44    technician   single  secondary      no       29     yes   no   \n2   33  entrepreneur  married  secondary      no        2     yes  yes   \n3   47   blue-collar  married    unknown      no     1506     yes   no   \n4   33       unknown   single    unknown      no        1      no   no   \n\n   contact  day month  duration  campaign  pdays  previous poutcome   y  \n0  unknown    5   may       261         1     -1         0  unknown  no  \n1  unknown    5   may       151         1     -1         0  unknown  no  \n2  unknown    5   may        76         1     -1         0  unknown  no  \n3  unknown    5   may        92         1     -1         0  unknown  no  \n4  unknown    5   may       198         1     -1         0  unknown  no  ",
      "text/html": "<div>\n<style scoped>\n    .dataframe tbody tr th:only-of-type {\n        vertical-align: middle;\n    }\n\n    .dataframe tbody tr th {\n        vertical-align: top;\n    }\n\n    .dataframe thead th {\n        text-align: right;\n    }\n</style>\n<table border=\"1\" class=\"dataframe\">\n  <thead>\n    <tr style=\"text-align: right;\">\n      <th></th>\n      <th>age</th>\n      <th>job</th>\n      <th>marital</th>\n      <th>education</th>\n      <th>default</th>\n      <th>balance</th>\n      <th>housing</th>\n      <th>loan</th>\n      <th>contact</th>\n      <th>day</th>\n      <th>month</th>\n      <th>duration</th>\n      <th>campaign</th>\n      <th>pdays</th>\n      <th>previous</th>\n      <th>poutcome</th>\n      <th>y</th>\n    </tr>\n  </thead>\n  <tbody>\n    <tr>\n      <th>0</th>\n      <td>58</td>\n      <td>management</td>\n      <td>married</td>\n      <td>tertiary</td>\n      <td>no</td>\n      <td>2143</td>\n      <td>yes</td>\n      <td>no</td>\n      <td>unknown</td>\n      <td>5</td>\n      <td>may</td>\n      <td>261</td>\n      <td>1</td>\n      <td>-1</td>\n      <td>0</td>\n      <td>unknown</td>\n      <td>no</td>\n    </tr>\n    <tr>\n      <th>1</th>\n      <td>44</td>\n      <td>technician</td>\n      <td>single</td>\n      <td>secondary</td>\n      <td>no</td>\n      <td>29</td>\n      <td>yes</td>\n      <td>no</td>\n      <td>unknown</td>\n      <td>5</td>\n      <td>may</td>\n      <td>151</td>\n      <td>1</td>\n      <td>-1</td>\n      <td>0</td>\n      <td>unknown</td>\n      <td>no</td>\n    </tr>\n    <tr>\n      <th>2</th>\n      <td>33</td>\n      <td>entrepreneur</td>\n      <td>married</td>\n      <td>secondary</td>\n      <td>no</td>\n      <td>2</td>\n      <td>yes</td>\n      <td>yes</td>\n      <td>unknown</td>\n      <td>5</td>\n      <td>may</td>\n      <td>76</td>\n      <td>1</td>\n      <td>-1</td>\n      <td>0</td>\n      <td>unknown</td>\n      <td>no</td>\n    </tr>\n    <tr>\n      <th>3</th>\n      <td>47</td>\n      <td>blue-collar</td>\n      <td>married</td>\n      <td>unknown</td>\n      <td>no</td>\n      <td>1506</td>\n      <td>yes</td>\n      <td>no</td>\n      <td>unknown</td>\n      <td>5</td>\n      <td>may</td>\n      <td>92</td>\n      <td>1</td>\n      <td>-1</td>\n      <td>0</td>\n      <td>unknown</td>\n      <td>no</td>\n    </tr>\n    <tr>\n      <th>4</th>\n      <td>33</td>\n      <td>unknown</td>\n      <td>single</td>\n      <td>unknown</td>\n      <td>no</td>\n      <td>1</td>\n      <td>no</td>\n      <td>no</td>\n      <td>unknown</td>\n      <td>5</td>\n      <td>may</td>\n      <td>198</td>\n      <td>1</td>\n      <td>-1</td>\n      <td>0</td>\n      <td>unknown</td>\n      <td>no</td>\n    </tr>\n  </tbody>\n</table>\n</div>"
     },
     "metadata": {}
    }
   ]
  },
  {
   "cell_type": "markdown",
   "source": "### A Bivariate Introduction\n\nBefore manipulating the data, we want to intuitively see how the different features work together. Let's create a couple of bivariate graphs to understand how each row (client) might compare to each other.",
   "metadata": {
    "cell_id": "6622cd1120024890b9e55cc2b4d72d46",
    "tags": [],
    "deepnote_cell_type": "markdown",
    "deepnote_cell_height": 122.796875
   }
  },
  {
   "cell_type": "code",
   "metadata": {
    "cell_id": "00014-efe0003e-28d9-4b93-b8fc-f58c8234b4fc",
    "deepnote_to_be_reexecuted": false,
    "execution_millis": 1468,
    "execution_start": 1650828165025,
    "id": "VUpdHVjbI_uk",
    "outputId": "e916233d-a4bf-4fc8-f9be-fe4f2bf228eb",
    "source_hash": "8e1e51a0",
    "deepnote_cell_type": "code",
    "deepnote_cell_height": 541,
    "deepnote_output_heights": [
     21,
     320
    ]
   },
   "source": "# What is the age-range in each industry, and how often do they subscribe a term deposit?\n# Obviously students are the youngest, and retired are the oldest (although we have some retiring at sub-30)\n# It seems that the yes's are distributed relatively evenly across jobs and ages.\ncolors = {'no': 'red', 'yes': 'green'}\ndf.plot.scatter('job', 'age', c=df['y'].map(colors), rot=60)",
   "execution_count": 15,
   "outputs": [
    {
     "output_type": "execute_result",
     "execution_count": 15,
     "data": {
      "text/plain": "<AxesSubplot:xlabel='job', ylabel='age'>"
     },
     "metadata": {}
    },
    {
     "data": {
      "text/plain": "<Figure size 432x288 with 1 Axes>",
      "image/png": "[encoded data removed]"
     },
     "metadata": {
      "needs_background": "light",
      "image/png": {
       "width": 382,
       "height": 318
      }
     },
     "output_type": "display_data"
    }
   ]
  },
  {
   "cell_type": "code",
   "metadata": {
    "cell_id": "0af138c895654e3ea7ec2fc2e2e5db6a",
    "tags": [],
    "deepnote_to_be_reexecuted": false,
    "source_hash": "6a9c380b",
    "execution_start": 1650828166540,
    "execution_millis": 1395,
    "deepnote_cell_type": "code",
    "deepnote_cell_height": 577,
    "deepnote_output_heights": [
     21,
     320
    ]
   },
   "source": "# Next, let's see if we can find the jobs with the highest balance!\n# Obviously, management wins by far, followed by retired\n# Interestingly enough, people with ultra-high balances (60k+) generally don't seem to bother\n# with term deposits, although they are definitely outliers\n# While we can see that people up to 40k balance might by a term deposit, one\n# has to wonder how much these actually benefit the average person rather than just the bank\ndf.plot.scatter('job', 'balance', c=df['housing'].map(colors), rot=60)",
   "execution_count": 16,
   "outputs": [
    {
     "output_type": "execute_result",
     "execution_count": 16,
     "data": {
      "text/plain": "<AxesSubplot:xlabel='job', ylabel='balance'>"
     },
     "metadata": {}
    },
    {
     "data": {
      "text/plain": "<Figure size 432x288 with 1 Axes>",
      "image/png": "[encoded data removed]"
     },
     "metadata": {
      "needs_background": "light",
      "image/png": {
       "width": 407,
       "height": 318
      }
     },
     "output_type": "display_data"
    }
   ]
  },
  {
   "cell_type": "code",
   "metadata": {
    "cell_id": "0a0b1bced5ef4cfe8b72ce77919b5c65",
    "tags": [],
    "deepnote_to_be_reexecuted": false,
    "source_hash": "b9c5fb59",
    "execution_start": 1650828167946,
    "execution_millis": 2127,
    "deepnote_cell_type": "code",
    "deepnote_cell_height": 517,
    "deepnote_output_heights": [
     21,
     278
    ]
   },
   "source": "# Finally, let's put month against day!\n# The graph definitely resembles a calendar, and the green dots\n# are most easily seen in this graph.\n# One interesting thing to note is that there seems to be a dry spell in mid-late August\n# where not many people were subscribing term deposits.\ndf.plot.scatter('month', 'day', c=df['y'].map(colors), rot=60)",
   "execution_count": 17,
   "outputs": [
    {
     "output_type": "execute_result",
     "execution_count": 17,
     "data": {
      "text/plain": "<AxesSubplot:xlabel='month', ylabel='day'>"
     },
     "metadata": {}
    },
    {
     "data": {
      "text/plain": "<Figure size 432x288 with 1 Axes>",
      "image/png": "[encoded data removed]"
     },
     "metadata": {
      "needs_background": "light",
      "image/png": {
       "width": 382,
       "height": 276
      }
     },
     "output_type": "display_data"
    }
   ]
  },
  {
   "cell_type": "markdown",
   "source": "Now that we've gotten more familiar with the dataset, let's analyze the features more closely, and see if there is any cleaning or manipulation necessary to enhance our models.",
   "metadata": {
    "cell_id": "b8a6da47e5fc4af19b5e73a6a87f98d5",
    "tags": [],
    "deepnote_cell_type": "markdown",
    "deepnote_cell_height": 74.796875
   }
  },
  {
   "cell_type": "markdown",
   "source": "## Categorical Features\n\nWhile printing the .info() shows that we do not have any NULL values, further exploration shows that certain categorical columns have an \"unknown\" category.\n\nPresented below is the category frequencies for all the categorical features. This brings to light some interesting insights:\n\n1. Were the categories inputted correctly (consistency)?\n\nAnswer: They appear to be inputted consistently!\n\n2. How prevalent is the \"unknown\" category throughout the dataset?\n\nAnswer: Looking below, we can see that 0.6% of jobs were unknown, 4.1% of educations were unknown, 28.8% of contact methods were unknown, and 81.7% of poutcomes were unknown. We will handle this case-by-case.\n\n3. How might we want to engineer our categorical features?\nAnswer: We will perform one-hot encoding on non-binary features and map the binary features into 0 and 1 accordingly.",
   "metadata": {
    "cell_id": "00008-1c5efe48-e278-47af-90df-18d0f7a9abdb",
    "id": "HMObiPgWI_ui",
    "deepnote_cell_type": "markdown",
    "deepnote_cell_height": 407.984375
   }
  },
  {
   "cell_type": "code",
   "metadata": {
    "cell_id": "00009-ff6f2220-076f-452e-90a7-927458f1e7de",
    "colab": {
     "base_uri": "https://localhost:8080/"
    },
    "deepnote_to_be_reexecuted": false,
    "execution_millis": 306,
    "execution_start": 1650828169767,
    "id": "iy4NoRykeGOY",
    "outputId": "2045b6a4-aea6-4279-a188-a075f1e65469",
    "source_hash": "bda7d607",
    "deepnote_cell_type": "code",
    "deepnote_cell_height": 755
   },
   "source": "categorical_features = [\"job\", \"marital\", \"education\", \"default\", \"housing\", \"loan\", 'contact',\"poutcome\"]\nfor col in categorical_features:\n    print(df[col].value_counts(normalize=True).mul(100).round(1).astype(str) + '%')\n    print()",
   "execution_count": 18,
   "outputs": [
    {
     "name": "stdout",
     "text": "blue-collar      21.5%\nmanagement       20.9%\ntechnician       16.8%\nadmin.           11.4%\nservices          9.2%\nretired           5.0%\nself-employed     3.5%\nentrepreneur      3.3%\nunemployed        2.9%\nhousemaid         2.7%\nstudent           2.1%\nunknown           0.6%\nName: job, dtype: object\n\nmarried     60.2%\nsingle      28.3%\ndivorced    11.5%\nName: marital, dtype: object\n\nsecondary    51.3%\ntertiary     29.4%\nprimary      15.2%\nunknown       4.1%\nName: education, dtype: object\n\nno     98.2%\nyes     1.8%\nName: default, dtype: object\n\nyes    55.6%\nno     44.4%\nName: housing, dtype: object\n\nno     84.0%\nyes    16.0%\nName: loan, dtype: object\n\ncellular     64.8%\nunknown      28.8%\ntelephone     6.4%\nName: contact, dtype: object\n\nunknown    81.7%\nfailure    10.8%\nother       4.1%\nsuccess     3.3%\nName: poutcome, dtype: object\n\n",
     "output_type": "stream"
    }
   ]
  },
  {
   "cell_type": "markdown",
   "source": "### Filling in Job and Education\n\nLet's focus on two of the more interesting non-binary categorical features in our dataset: job and education.",
   "metadata": {
    "cell_id": "5f040eec3f7c40c698f467546795d453",
    "tags": [],
    "deepnote_cell_type": "markdown",
    "deepnote_cell_height": 100.390625
   }
  },
  {
   "cell_type": "code",
   "metadata": {
    "cell_id": "18fcb5e71c83479da497c0f45b7c7b86",
    "tags": [],
    "deepnote_to_be_reexecuted": false,
    "source_hash": "5069d5e",
    "execution_start": 1650828169768,
    "execution_millis": 307,
    "deepnote_cell_type": "code",
    "deepnote_cell_height": 476,
    "deepnote_output_heights": [
     21,
     327
    ]
   },
   "source": "df.job.value_counts().plot.bar(title='job')",
   "execution_count": 19,
   "outputs": [
    {
     "output_type": "execute_result",
     "execution_count": 19,
     "data": {
      "text/plain": "<AxesSubplot:title={'center':'job'}>"
     },
     "metadata": {}
    },
    {
     "data": {
      "text/plain": "<Figure size 432x288 with 1 Axes>",
      "image/png": "[encoded data removed]"
     },
     "metadata": {
      "needs_background": "light",
      "image/png": {
       "width": 387,
       "height": 325
      }
     },
     "output_type": "display_data"
    }
   ]
  },
  {
   "cell_type": "code",
   "metadata": {
    "cell_id": "4aba439ab31c4b4ea79364c7d1b045bc",
    "tags": [],
    "deepnote_to_be_reexecuted": false,
    "source_hash": "832b4673",
    "execution_start": 1650828169888,
    "execution_millis": 252,
    "deepnote_cell_type": "code",
    "deepnote_cell_height": 457.1875,
    "deepnote_output_heights": [
     21.1875,
     308
    ]
   },
   "source": "df.education.value_counts().plot.bar(title='education')",
   "execution_count": 20,
   "outputs": [
    {
     "output_type": "execute_result",
     "execution_count": 20,
     "data": {
      "text/plain": "<AxesSubplot:title={'center':'education'}>"
     },
     "metadata": {}
    },
    {
     "data": {
      "text/plain": "<Figure size 432x288 with 1 Axes>",
      "image/png": "[encoded data removed]"
     },
     "metadata": {
      "needs_background": "light",
      "image/png": {
       "width": 387,
       "height": 306
      }
     },
     "output_type": "display_data"
    }
   ]
  },
  {
   "cell_type": "markdown",
   "source": "Since we only have a few unknown jobs, and only a few more unknown educations, and one's education is arguably correlated with one's job, we are going to determine unknown educations through jobs and unknown jobs through educations. To achieve this, we will calculate the education distribution of each job.",
   "metadata": {
    "cell_id": "3e9742ceda304afe87ae369a0bf4fdbe",
    "tags": [],
    "deepnote_cell_type": "markdown",
    "deepnote_cell_height": 97.1875
   }
  },
  {
   "cell_type": "code",
   "metadata": {
    "cell_id": "35dc056d6fed4e238085469d79dd7001",
    "deepnote_to_be_reexecuted": false,
    "execution_millis": 1435,
    "execution_start": 1650828170175,
    "source_hash": "231e7bff",
    "tags": [],
    "deepnote_cell_type": "code",
    "deepnote_cell_height": 924,
    "deepnote_output_heights": [
     611
    ]
   },
   "source": "fig, axs = plt.subplots(4,3, figsize=(10,10))\nfig.suptitle('Education per Job')\nij = 0\ni = 0\nj = 0\nfor job in df[\"job\"].unique():\n    education_counts = df[df[\"job\"] == job][\"education\"].value_counts().sort_index()\n    patches, texts = axs[i,j].pie(education_counts)\n    axs[i,j].set_title(job)\n    plt.legend(patches, ['primary','secondary','tertiary','unknown'], loc=\"best\")\n    ij += 1\n    i = ij % 4\n    j = ij % 3",
   "execution_count": 21,
   "outputs": [
    {
     "data": {
      "text/plain": "<Figure size 720x720 with 12 Axes>",
      "image/png": "[encoded data removed]"
     },
     "metadata": {
      "image/png": {
       "width": 526,
       "height": 630
      }
     },
     "output_type": "display_data"
    }
   ]
  },
  {
   "cell_type": "markdown",
   "source": "When we replace the education values in our dataset, we're going to try to maintain the relative distribution we had before.\n\nThat is, say we had 10 unknowns and 10 knowns for a certain job category. If 2 had primary education, 3 had secondary education, and 5 had tertiary education, then we want to turn 2 of the unknowns into primary, 3 of the unknowns into secondary, and 5 of the unknowns into tertiary.\n\nWe believe this is justified because there are relatively few unknowns in either the job or education columns in the first place, and this will help us maintain the prior distribution while eliminating unknowns.",
   "metadata": {
    "cell_id": "c15ec872d3384e599ca88194dca73746",
    "tags": [],
    "deepnote_cell_type": "markdown",
    "deepnote_cell_height": 192.390625
   }
  },
  {
   "cell_type": "code",
   "metadata": {
    "cell_id": "e5367068e9764f4aa5ab7e60fcb83c3a",
    "deepnote_to_be_reexecuted": false,
    "execution_millis": 7879,
    "execution_start": 1650828171655,
    "source_hash": "1b19e032",
    "tags": [],
    "deepnote_cell_type": "code",
    "deepnote_cell_height": 585
   },
   "source": "# first we calculate the conditional distributions\n# which will exclude the unknowns\neducation_percentages = dict()\nfor job in df[\"job\"].unique():\n    education_counts = df[df[\"job\"] == job][\"education\"].value_counts()\n    total = education_counts[\"tertiary\"] + education_counts[\"secondary\"] + education_counts[\"primary\"]\n    education_percentages[job] = {}\n    tertiary_percentage = education_counts[\"tertiary\"] / total\n    secondary_percentage = education_counts[\"secondary\"] / total\n    primary_percentage = education_counts[\"primary\"] / total\n    total_unknown = education_counts[\"unknown\"]\n    education_percentages[job][\"tertiary\"] = math.ceil(tertiary_percentage * total_unknown)\n    education_percentages[job][\"secondary\"] = math.ceil(secondary_percentage * total_unknown)\n    education_percentages[job][\"primary\"] = math.ceil(primary_percentage * total_unknown)\n\n# then we are going to distribute the unknowns\n# based on our calculations\nfor index, row in df.iterrows():\n    if row[\"education\"] == \"unknown\":\n        if education_percentages[row[\"job\"]][\"tertiary\"] != 0:\n            df.loc[index, [\"education\"]] = \"tertiary\"\n            education_percentages[row[\"job\"]][\"tertiary\"] -= 1\n        elif education_percentages[row[\"job\"]][\"secondary\"] != 0:\n            df.loc[index, [\"education\"]] = \"secondary\"\n            education_percentages[row[\"job\"]][\"secondary\"] -=1\n        else:\n            df.loc[index, [\"education\"]] = \"primary\"\n    else:\n        continue",
   "execution_count": 22,
   "outputs": []
  },
  {
   "cell_type": "markdown",
   "source": "If we display the updated pie charts, we can visually confirm if our proportions match with what we had before, just without the unknowns.",
   "metadata": {
    "cell_id": "c0363064bdac4adf962118e4a7b70ddd",
    "tags": [],
    "deepnote_cell_type": "markdown",
    "deepnote_cell_height": 74.796875
   }
  },
  {
   "cell_type": "code",
   "metadata": {
    "cell_id": "528255cf33e44d50a4365ca18166262d",
    "deepnote_to_be_reexecuted": false,
    "execution_millis": 1177,
    "execution_start": 1650828179562,
    "source_hash": "122c2d69",
    "tags": [],
    "deepnote_cell_type": "code",
    "deepnote_cell_height": 942,
    "deepnote_output_heights": [
     611
    ]
   },
   "source": "# after replacement\nfig, axs = plt.subplots(4,3, figsize=(10,10))\nfig.suptitle('Education per job')\nij = 0\ni = 0\nj = 0\nfor job in df[\"job\"].unique():\n    education_counts = df[df[\"job\"] == job][\"education\"].value_counts().sort_index()\n    patches, texts = axs[i,j].pie(education_counts)\n    axs[i,j].set_title(job)\n    plt.legend(patches, ['primary','secondary','tertiary'], loc=\"best\")\n    ij += 1\n    i = ij % 4\n    j = ij % 3",
   "execution_count": 23,
   "outputs": [
    {
     "data": {
      "text/plain": "<Figure size 720x720 with 12 Axes>",
      "image/png": "[encoded data removed]"
     },
     "metadata": {
      "image/png": {
       "width": 526,
       "height": 630
      }
     },
     "output_type": "display_data"
    }
   ]
  },
  {
   "cell_type": "markdown",
   "source": "Since there are more job types than education types, we are just going to go ahead and replace the unknown jobs through mode instead. We can see that tertiary is usually management, secondary is usually blue-collar, and primary is usually blue-collar.",
   "metadata": {
    "cell_id": "9402e0ef2e9f4545bd8af0d33eead457",
    "tags": [],
    "deepnote_cell_type": "markdown",
    "deepnote_cell_height": 74.796875
   }
  },
  {
   "cell_type": "code",
   "metadata": {
    "cell_id": "c22cd0df5c374f88a5b7a2f0bb65a930",
    "tags": [],
    "deepnote_to_be_reexecuted": false,
    "source_hash": "692e56fd",
    "execution_start": 1650828180506,
    "execution_millis": 234,
    "deepnote_cell_type": "code",
    "deepnote_cell_height": 400.34375
   },
   "source": "for education in df[\"education\"].unique():\n    job_counts = df[df[\"education\"] == education][\"job\"].value_counts()\n    print(education)\n    print(job_counts.head(1))\n    print()",
   "execution_count": 24,
   "outputs": [
    {
     "name": "stdout",
     "text": "tertiary\nmanagement    8006\nName: job, dtype: int64\n\nsecondary\nblue-collar    5634\nName: job, dtype: int64\n\nprimary\nblue-collar    3941\nName: job, dtype: int64\n\n",
     "output_type": "stream"
    }
   ]
  },
  {
   "cell_type": "code",
   "metadata": {
    "cell_id": "560aef8830bf41c587b7e4e643eace1a",
    "deepnote_to_be_reexecuted": false,
    "execution_millis": 22,
    "execution_start": 1650828180548,
    "source_hash": "8a8e2027",
    "tags": [],
    "deepnote_cell_type": "code",
    "deepnote_cell_height": 135
   },
   "source": "# Replacement\ndf.loc[(df.job == \"unknown\") & (df.education == \"tertiary\"), \"job\"] = \"management\"\ndf.loc[(df.job == \"unknown\") & (df.education == \"secondary\"), \"job\"] = \"blue-collar\"\ndf.loc[(df.job == \"unknown\") & (df.education == \"primary\"), \"job\"] = \"blue-collar\"",
   "execution_count": 25,
   "outputs": []
  },
  {
   "cell_type": "markdown",
   "source": "### Unknown Contact Methods\n\nNow let us consider the contact column. Although there are even more unknowns compared to telephone, the dataset still manages to show a large majority of contacts were through cellular.",
   "metadata": {
    "cell_id": "cd3ade0d2499464abaa4e512865c5748",
    "tags": [],
    "deepnote_cell_type": "markdown",
    "deepnote_cell_height": 122.796875
   }
  },
  {
   "cell_type": "code",
   "metadata": {
    "cell_id": "2e927094f8a64a4eb58b20b6d3826d29",
    "tags": [],
    "deepnote_to_be_reexecuted": false,
    "source_hash": "9dcef861",
    "execution_start": 1650828180582,
    "execution_millis": 333,
    "deepnote_cell_type": "code",
    "deepnote_cell_height": 598,
    "deepnote_output_heights": [
     null,
     21.1875,
     306
    ]
   },
   "source": "contact_dist = df['contact'].value_counts(normalize=True)\nprint(contact_dist.mul(100).round(1).astype(str) + '%')\ncontact_dist.plot.bar(title='Contact')",
   "execution_count": 26,
   "outputs": [
    {
     "name": "stdout",
     "text": "cellular     64.8%\nunknown      28.8%\ntelephone     6.4%\nName: contact, dtype: object\n",
     "output_type": "stream"
    },
    {
     "output_type": "execute_result",
     "execution_count": 26,
     "data": {
      "text/plain": "<AxesSubplot:title={'center':'Contact'}>"
     },
     "metadata": {}
    },
    {
     "data": {
      "text/plain": "<Figure size 432x288 with 1 Axes>",
      "image/png": "[encoded data removed]"
     },
     "metadata": {
      "needs_background": "light",
      "image/png": {
       "width": 372,
       "height": 304
      }
     },
     "output_type": "display_data"
    }
   ]
  },
  {
   "cell_type": "markdown",
   "source": "Because of this, we are going to go ahead and fill in the unknowns with the mode value, which is cellular.",
   "metadata": {
    "cell_id": "d04b2cfad5124d03b3435c57675afd4b",
    "tags": [],
    "deepnote_cell_type": "markdown",
    "deepnote_cell_height": 52.390625
   }
  },
  {
   "cell_type": "code",
   "metadata": {
    "cell_id": "a8e81df29fa346ab943d3ebaf9932412",
    "deepnote_to_be_reexecuted": false,
    "execution_millis": 34,
    "execution_start": 1650828180913,
    "source_hash": "e42e53c3",
    "tags": [],
    "deepnote_table_state": {
     "pageSize": 100,
     "pageIndex": 0,
     "filters": [],
     "sortBy": []
    },
    "deepnote_table_loading": false,
    "deepnote_cell_type": "code",
    "deepnote_cell_height": 431
   },
   "source": "contact_mode = df[\"contact\"].mode()\ndf[\"contact\"].replace([\"unknown\"], contact_mode,inplace = True)\ndf.head()",
   "execution_count": 27,
   "outputs": [
    {
     "output_type": "execute_result",
     "execution_count": 27,
     "data": {
      "application/vnd.deepnote.dataframe.v3+json": {
       "column_count": 17,
       "row_count": 5,
       "columns": [
        {
         "name": "age",
         "dtype": "int64",
         "stats": {
          "unique_count": 4,
          "nan_count": 0,
          "min": "33",
          "max": "58",
          "histogram": [
           {
            "bin_start": 33,
            "bin_end": 35.5,
            "count": 2
           },
           {
            "bin_start": 35.5,
            "bin_end": 38,
            "count": 0
           },
           {
            "bin_start": 38,
            "bin_end": 40.5,
            "count": 0
           },
           {
            "bin_start": 40.5,
            "bin_end": 43,
            "count": 0
           },
           {
            "bin_start": 43,
            "bin_end": 45.5,
            "count": 1
           },
           {
            "bin_start": 45.5,
            "bin_end": 48,
            "count": 1
           },
           {
            "bin_start": 48,
            "bin_end": 50.5,
            "count": 0
           },
           {
            "bin_start": 50.5,
            "bin_end": 53,
            "count": 0
           },
           {
            "bin_start": 53,
            "bin_end": 55.5,
            "count": 0
           },
           {
            "bin_start": 55.5,
            "bin_end": 58,
            "count": 1
           }
          ]
         }
        },
        {
         "name": "job",
         "dtype": "object",
         "stats": {
          "unique_count": 4,
          "nan_count": 0,
          "categories": [
           {
            "name": "management",
            "count": 2
           },
           {
            "name": "technician",
            "count": 1
           },
           {
            "name": "2 others",
            "count": 2
           }
          ]
         }
        },
        {
         "name": "marital",
         "dtype": "object",
         "stats": {
          "unique_count": 2,
          "nan_count": 0,
          "categories": [
           {
            "name": "married",
            "count": 3
           },
           {
            "name": "single",
            "count": 2
           }
          ]
         }
        },
        {
         "name": "education",
         "dtype": "object",
         "stats": {
          "unique_count": 2,
          "nan_count": 0,
          "categories": [
           {
            "name": "tertiary",
            "count": 3
           },
           {
            "name": "secondary",
            "count": 2
           }
          ]
         }
        },
        {
         "name": "default",
         "dtype": "object",
         "stats": {
          "unique_count": 1,
          "nan_count": 0,
          "categories": [
           {
            "name": "no",
            "count": 5
           }
          ]
         }
        },
        {
         "name": "balance",
         "dtype": "int64",
         "stats": {
          "unique_count": 5,
          "nan_count": 0,
          "min": "1",
          "max": "2143",
          "histogram": [
           {
            "bin_start": 1,
            "bin_end": 215.2,
            "count": 3
           },
           {
            "bin_start": 215.2,
            "bin_end": 429.4,
            "count": 0
           },
           {
            "bin_start": 429.4,
            "bin_end": 643.5999999999999,
            "count": 0
           },
           {
            "bin_start": 643.5999999999999,
            "bin_end": 857.8,
            "count": 0
           },
           {
            "bin_start": 857.8,
            "bin_end": 1072,
            "count": 0
           },
           {
            "bin_start": 1072,
            "bin_end": 1286.1999999999998,
            "count": 0
           },
           {
            "bin_start": 1286.1999999999998,
            "bin_end": 1500.3999999999999,
            "count": 0
           },
           {
            "bin_start": 1500.3999999999999,
            "bin_end": 1714.6,
            "count": 1
           },
           {
            "bin_start": 1714.6,
            "bin_end": 1928.8,
            "count": 0
           },
           {
            "bin_start": 1928.8,
            "bin_end": 2143,
            "count": 1
           }
          ]
         }
        },
        {
         "name": "housing",
         "dtype": "object",
         "stats": {
          "unique_count": 2,
          "nan_count": 0,
          "categories": [
           {
            "name": "yes",
            "count": 4
           },
           {
            "name": "no",
            "count": 1
           }
          ]
         }
        },
        {
         "name": "loan",
         "dtype": "object",
         "stats": {
          "unique_count": 2,
          "nan_count": 0,
          "categories": [
           {
            "name": "no",
            "count": 4
           },
           {
            "name": "yes",
            "count": 1
           }
          ]
         }
        },
        {
         "name": "contact",
         "dtype": "object",
         "stats": {
          "unique_count": 1,
          "nan_count": 0,
          "categories": [
           {
            "name": "cellular",
            "count": 5
           }
          ]
         }
        },
        {
         "name": "day",
         "dtype": "int64",
         "stats": {
          "unique_count": 1,
          "nan_count": 0,
          "min": "5",
          "max": "5",
          "histogram": [
           {
            "bin_start": 4.5,
            "bin_end": 4.6,
            "count": 0
           },
           {
            "bin_start": 4.6,
            "bin_end": 4.7,
            "count": 0
           },
           {
            "bin_start": 4.7,
            "bin_end": 4.8,
            "count": 0
           },
           {
            "bin_start": 4.8,
            "bin_end": 4.9,
            "count": 0
           },
           {
            "bin_start": 4.9,
            "bin_end": 5,
            "count": 0
           },
           {
            "bin_start": 5,
            "bin_end": 5.1,
            "count": 5
           },
           {
            "bin_start": 5.1,
            "bin_end": 5.2,
            "count": 0
           },
           {
            "bin_start": 5.2,
            "bin_end": 5.3,
            "count": 0
           },
           {
            "bin_start": 5.3,
            "bin_end": 5.4,
            "count": 0
           },
           {
            "bin_start": 5.4,
            "bin_end": 5.5,
            "count": 0
           }
          ]
         }
        },
        {
         "name": "month",
         "dtype": "object",
         "stats": {
          "unique_count": 1,
          "nan_count": 0,
          "categories": [
           {
            "name": "may",
            "count": 5
           }
          ]
         }
        },
        {
         "name": "duration",
         "dtype": "int64",
         "stats": {
          "unique_count": 5,
          "nan_count": 0,
          "min": "76",
          "max": "261",
          "histogram": [
           {
            "bin_start": 76,
            "bin_end": 94.5,
            "count": 2
           },
           {
            "bin_start": 94.5,
            "bin_end": 113,
            "count": 0
           },
           {
            "bin_start": 113,
            "bin_end": 131.5,
            "count": 0
           },
           {
            "bin_start": 131.5,
            "bin_end": 150,
            "count": 0
           },
           {
            "bin_start": 150,
            "bin_end": 168.5,
            "count": 1
           },
           {
            "bin_start": 168.5,
            "bin_end": 187,
            "count": 0
           },
           {
            "bin_start": 187,
            "bin_end": 205.5,
            "count": 1
           },
           {
            "bin_start": 205.5,
            "bin_end": 224,
            "count": 0
           },
           {
            "bin_start": 224,
            "bin_end": 242.5,
            "count": 0
           },
           {
            "bin_start": 242.5,
            "bin_end": 261,
            "count": 1
           }
          ]
         }
        },
        {
         "name": "campaign",
         "dtype": "int64",
         "stats": {
          "unique_count": 1,
          "nan_count": 0,
          "min": "1",
          "max": "1",
          "histogram": [
           {
            "bin_start": 0.5,
            "bin_end": 0.6,
            "count": 0
           },
           {
            "bin_start": 0.6,
            "bin_end": 0.7,
            "count": 0
           },
           {
            "bin_start": 0.7,
            "bin_end": 0.8,
            "count": 0
           },
           {
            "bin_start": 0.8,
            "bin_end": 0.9,
            "count": 0
           },
           {
            "bin_start": 0.9,
            "bin_end": 1,
            "count": 0
           },
           {
            "bin_start": 1,
            "bin_end": 1.1,
            "count": 5
           },
           {
            "bin_start": 1.1,
            "bin_end": 1.2000000000000002,
            "count": 0
           },
           {
            "bin_start": 1.2000000000000002,
            "bin_end": 1.3,
            "count": 0
           },
           {
            "bin_start": 1.3,
            "bin_end": 1.4,
            "count": 0
           },
           {
            "bin_start": 1.4,
            "bin_end": 1.5,
            "count": 0
           }
          ]
         }
        },
        {
         "name": "pdays",
         "dtype": "int64",
         "stats": {
          "unique_count": 1,
          "nan_count": 0,
          "min": "-1",
          "max": "-1",
          "histogram": [
           {
            "bin_start": -1.5,
            "bin_end": -1.4,
            "count": 0
           },
           {
            "bin_start": -1.4,
            "bin_end": -1.3,
            "count": 0
           },
           {
            "bin_start": -1.3,
            "bin_end": -1.2,
            "count": 0
           },
           {
            "bin_start": -1.2,
            "bin_end": -1.1,
            "count": 0
           },
           {
            "bin_start": -1.1,
            "bin_end": -1,
            "count": 0
           },
           {
            "bin_start": -1,
            "bin_end": -0.8999999999999999,
            "count": 5
           },
           {
            "bin_start": -0.8999999999999999,
            "bin_end": -0.7999999999999999,
            "count": 0
           },
           {
            "bin_start": -0.7999999999999999,
            "bin_end": -0.7,
            "count": 0
           },
           {
            "bin_start": -0.7,
            "bin_end": -0.6,
            "count": 0
           },
           {
            "bin_start": -0.6,
            "bin_end": -0.5,
            "count": 0
           }
          ]
         }
        },
        {
         "name": "previous",
         "dtype": "int64",
         "stats": {
          "unique_count": 1,
          "nan_count": 0,
          "min": "0",
          "max": "0",
          "histogram": [
           {
            "bin_start": -0.5,
            "bin_end": -0.4,
            "count": 0
           },
           {
            "bin_start": -0.4,
            "bin_end": -0.3,
            "count": 0
           },
           {
            "bin_start": -0.3,
            "bin_end": -0.19999999999999996,
            "count": 0
           },
           {
            "bin_start": -0.19999999999999996,
            "bin_end": -0.09999999999999998,
            "count": 0
           },
           {
            "bin_start": -0.09999999999999998,
            "bin_end": 0,
            "count": 0
           },
           {
            "bin_start": 0,
            "bin_end": 0.10000000000000009,
            "count": 5
           },
           {
            "bin_start": 0.10000000000000009,
            "bin_end": 0.20000000000000007,
            "count": 0
           },
           {
            "bin_start": 0.20000000000000007,
            "bin_end": 0.30000000000000004,
            "count": 0
           },
           {
            "bin_start": 0.30000000000000004,
            "bin_end": 0.4,
            "count": 0
           },
           {
            "bin_start": 0.4,
            "bin_end": 0.5,
            "count": 0
           }
          ]
         }
        },
        {
         "name": "poutcome",
         "dtype": "object",
         "stats": {
          "unique_count": 1,
          "nan_count": 0,
          "categories": [
           {
            "name": "unknown",
            "count": 5
           }
          ]
         }
        },
        {
         "name": "y",
         "dtype": "object",
         "stats": {
          "unique_count": 1,
          "nan_count": 0,
          "categories": [
           {
            "name": "no",
            "count": 5
           }
          ]
         }
        },
        {
         "name": "_deepnote_index_column",
         "dtype": "int64"
        }
       ],
       "rows": [
        {
         "age": 58,
         "job": "management",
         "marital": "married",
         "education": "tertiary",
         "default": "no",
         "balance": 2143,
         "housing": "yes",
         "loan": "no",
         "contact": "cellular",
         "day": 5,
         "month": "may",
         "duration": 261,
         "campaign": 1,
         "pdays": -1,
         "previous": 0,
         "poutcome": "unknown",
         "y": "no",
         "_deepnote_index_column": 0
        },
        {
         "age": 44,
         "job": "technician",
         "marital": "single",
         "education": "secondary",
         "default": "no",
         "balance": 29,
         "housing": "yes",
         "loan": "no",
         "contact": "cellular",
         "day": 5,
         "month": "may",
         "duration": 151,
         "campaign": 1,
         "pdays": -1,
         "previous": 0,
         "poutcome": "unknown",
         "y": "no",
         "_deepnote_index_column": 1
        },
        {
         "age": 33,
         "job": "entrepreneur",
         "marital": "married",
         "education": "secondary",
         "default": "no",
         "balance": 2,
         "housing": "yes",
         "loan": "yes",
         "contact": "cellular",
         "day": 5,
         "month": "may",
         "duration": 76,
         "campaign": 1,
         "pdays": -1,
         "previous": 0,
         "poutcome": "unknown",
         "y": "no",
         "_deepnote_index_column": 2
        },
        {
         "age": 47,
         "job": "blue-collar",
         "marital": "married",
         "education": "tertiary",
         "default": "no",
         "balance": 1506,
         "housing": "yes",
         "loan": "no",
         "contact": "cellular",
         "day": 5,
         "month": "may",
         "duration": 92,
         "campaign": 1,
         "pdays": -1,
         "previous": 0,
         "poutcome": "unknown",
         "y": "no",
         "_deepnote_index_column": 3
        },
        {
         "age": 33,
         "job": "management",
         "marital": "single",
         "education": "tertiary",
         "default": "no",
         "balance": 1,
         "housing": "no",
         "loan": "no",
         "contact": "cellular",
         "day": 5,
         "month": "may",
         "duration": 198,
         "campaign": 1,
         "pdays": -1,
         "previous": 0,
         "poutcome": "unknown",
         "y": "no",
         "_deepnote_index_column": 4
        }
       ]
      },
      "text/plain": "   age           job  marital  education default  balance housing loan  \\\n0   58    management  married   tertiary      no     2143     yes   no   \n1   44    technician   single  secondary      no       29     yes   no   \n2   33  entrepreneur  married  secondary      no        2     yes  yes   \n3   47   blue-collar  married   tertiary      no     1506     yes   no   \n4   33    management   single   tertiary      no        1      no   no   \n\n    contact  day month  duration  campaign  pdays  previous poutcome   y  \n0  cellular    5   may       261         1     -1         0  unknown  no  \n1  cellular    5   may       151         1     -1         0  unknown  no  \n2  cellular    5   may        76         1     -1         0  unknown  no  \n3  cellular    5   may        92         1     -1         0  unknown  no  \n4  cellular    5   may       198         1     -1         0  unknown  no  ",
      "text/html": "<div>\n<style scoped>\n    .dataframe tbody tr th:only-of-type {\n        vertical-align: middle;\n    }\n\n    .dataframe tbody tr th {\n        vertical-align: top;\n    }\n\n    .dataframe thead th {\n        text-align: right;\n    }\n</style>\n<table border=\"1\" class=\"dataframe\">\n  <thead>\n    <tr style=\"text-align: right;\">\n      <th></th>\n      <th>age</th>\n      <th>job</th>\n      <th>marital</th>\n      <th>education</th>\n      <th>default</th>\n      <th>balance</th>\n      <th>housing</th>\n      <th>loan</th>\n      <th>contact</th>\n      <th>day</th>\n      <th>month</th>\n      <th>duration</th>\n      <th>campaign</th>\n      <th>pdays</th>\n      <th>previous</th>\n      <th>poutcome</th>\n      <th>y</th>\n    </tr>\n  </thead>\n  <tbody>\n    <tr>\n      <th>0</th>\n      <td>58</td>\n      <td>management</td>\n      <td>married</td>\n      <td>tertiary</td>\n      <td>no</td>\n      <td>2143</td>\n      <td>yes</td>\n      <td>no</td>\n      <td>cellular</td>\n      <td>5</td>\n      <td>may</td>\n      <td>261</td>\n      <td>1</td>\n      <td>-1</td>\n      <td>0</td>\n      <td>unknown</td>\n      <td>no</td>\n    </tr>\n    <tr>\n      <th>1</th>\n      <td>44</td>\n      <td>technician</td>\n      <td>single</td>\n      <td>secondary</td>\n      <td>no</td>\n      <td>29</td>\n      <td>yes</td>\n      <td>no</td>\n      <td>cellular</td>\n      <td>5</td>\n      <td>may</td>\n      <td>151</td>\n      <td>1</td>\n      <td>-1</td>\n      <td>0</td>\n      <td>unknown</td>\n      <td>no</td>\n    </tr>\n    <tr>\n      <th>2</th>\n      <td>33</td>\n      <td>entrepreneur</td>\n      <td>married</td>\n      <td>secondary</td>\n      <td>no</td>\n      <td>2</td>\n      <td>yes</td>\n      <td>yes</td>\n      <td>cellular</td>\n      <td>5</td>\n      <td>may</td>\n      <td>76</td>\n      <td>1</td>\n      <td>-1</td>\n      <td>0</td>\n      <td>unknown</td>\n      <td>no</td>\n    </tr>\n    <tr>\n      <th>3</th>\n      <td>47</td>\n      <td>blue-collar</td>\n      <td>married</td>\n      <td>tertiary</td>\n      <td>no</td>\n      <td>1506</td>\n      <td>yes</td>\n      <td>no</td>\n      <td>cellular</td>\n      <td>5</td>\n      <td>may</td>\n      <td>92</td>\n      <td>1</td>\n      <td>-1</td>\n      <td>0</td>\n      <td>unknown</td>\n      <td>no</td>\n    </tr>\n    <tr>\n      <th>4</th>\n      <td>33</td>\n      <td>management</td>\n      <td>single</td>\n      <td>tertiary</td>\n      <td>no</td>\n      <td>1</td>\n      <td>no</td>\n      <td>no</td>\n      <td>cellular</td>\n      <td>5</td>\n      <td>may</td>\n      <td>198</td>\n      <td>1</td>\n      <td>-1</td>\n      <td>0</td>\n      <td>unknown</td>\n      <td>no</td>\n    </tr>\n  </tbody>\n</table>\n</div>"
     },
     "metadata": {}
    }
   ]
  },
  {
   "cell_type": "markdown",
   "source": "### Dropping poutcome\n\nUnfortunately, 81.7% of poutcome's values are unknown. While there is definitely an argument to just replace these unknowns with failures, it comes to question why they weren't marked as a failure in the first place. This suggests to us that we should just go ahead and drop this column.",
   "metadata": {
    "cell_id": "a55d07342dc24e558655f5614f691b7e",
    "tags": [],
    "deepnote_cell_type": "markdown",
    "deepnote_cell_height": 145.1875
   }
  },
  {
   "cell_type": "code",
   "metadata": {
    "cell_id": "856e56099f95433b97a30798b294afec",
    "deepnote_to_be_reexecuted": false,
    "execution_millis": 13,
    "execution_start": 1650828180940,
    "source_hash": "3173ab23",
    "tags": [],
    "deepnote_cell_type": "code",
    "deepnote_cell_height": 129.6875
   },
   "source": "df.drop(columns=['poutcome'], inplace=True)\nprint(\"poutcome in columns: \",('poutcome' in df.columns))",
   "execution_count": 28,
   "outputs": [
    {
     "name": "stdout",
     "text": "poutcome in columns:  False\n",
     "output_type": "stream"
    }
   ]
  },
  {
   "cell_type": "markdown",
   "source": "## Numerical Features\n\nAs for our numerical features, we want to ask ourselves the following questions:\n\n1. Are there any extreme outliers?\n\n2. Are our distributions relatively normal (for Naive Bayes), or do we have to perform binning?",
   "metadata": {
    "cell_id": "daab20d644b34d869c80a126ba38dda5",
    "tags": [],
    "deepnote_cell_type": "markdown",
    "deepnote_cell_height": 184.1875
   }
  },
  {
   "cell_type": "code",
   "metadata": {
    "cell_id": "66ea6f3df3da4b35b4dfbfbdc326f9a9",
    "tags": [],
    "deepnote_to_be_reexecuted": false,
    "source_hash": "16957b34",
    "execution_start": 1650828180948,
    "execution_millis": 850,
    "deepnote_cell_type": "code",
    "deepnote_cell_height": 415,
    "deepnote_output_heights": [
     282
    ]
   },
   "source": "numeric = ['age','balance','day','duration','campaign','previous']\ndf.hist(column=numeric)\nplt.tight_layout()",
   "execution_count": 29,
   "outputs": [
    {
     "data": {
      "text/plain": "<Figure size 432x288 with 6 Axes>",
      "image/png": "[encoded data removed]"
     },
     "metadata": {
      "needs_background": "light",
      "image/png": {
       "width": 424,
       "height": 280
      }
     },
     "output_type": "display_data"
    }
   ]
  },
  {
   "cell_type": "markdown",
   "source": "Looks like we have a couple of outliers here, making many of our distributions right-skewed, although they appear to be inputted correctly. Now let us take a closer look at each of the numerical features, and handle these appropriately.",
   "metadata": {
    "cell_id": "a28d3ec182bd48cfb328a19ec642f125",
    "tags": [],
    "deepnote_cell_type": "markdown",
    "deepnote_cell_height": 74.796875
   }
  },
  {
   "cell_type": "markdown",
   "source": "### Previous",
   "metadata": {
    "cell_id": "ae02bb34db694b67bdd39fe7a144cc53",
    "tags": [],
    "deepnote_cell_type": "markdown",
    "deepnote_cell_height": 62
   }
  },
  {
   "cell_type": "code",
   "metadata": {
    "cell_id": "a30531b93c6940b2acc5968c1775f968",
    "tags": [],
    "deepnote_to_be_reexecuted": false,
    "source_hash": "27e50e97",
    "execution_start": 1650828181805,
    "execution_millis": 205,
    "deepnote_cell_type": "code",
    "deepnote_cell_height": 399,
    "deepnote_output_heights": [
     21.1875,
     250
    ]
   },
   "source": "df.boxplot(column=['previous'])",
   "execution_count": 30,
   "outputs": [
    {
     "output_type": "execute_result",
     "execution_count": 30,
     "data": {
      "text/plain": "<AxesSubplot:>"
     },
     "metadata": {}
    },
    {
     "data": {
      "text/plain": "<Figure size 432x288 with 1 Axes>",
      "image/png": "[encoded data removed]"
     },
     "metadata": {
      "needs_background": "light",
      "image/png": {
       "width": 375,
       "height": 248
      }
     },
     "output_type": "display_data"
    }
   ]
  },
  {
   "cell_type": "markdown",
   "source": "It appears that there is only one outlier for the previous column. We will simply substitute it with the second highest value.",
   "metadata": {
    "cell_id": "b74eb14fccdd42dfb97b83bf03cd281b",
    "tags": [],
    "deepnote_cell_type": "markdown",
    "deepnote_cell_height": 52.390625
   }
  },
  {
   "cell_type": "code",
   "metadata": {
    "cell_id": "157ce883e0a943009c94d6ad8b876331",
    "tags": [],
    "deepnote_to_be_reexecuted": false,
    "source_hash": "abefa6d6",
    "execution_start": 1650828182015,
    "execution_millis": 319,
    "deepnote_cell_type": "code",
    "deepnote_cell_height": 762.25,
    "deepnote_output_heights": [
     null,
     282
    ]
   },
   "source": "print('before:')\ntwo_largest_previous_original = df.previous.nlargest(2)\nprint(two_largest_previous_original)\n\ndf.loc[two_largest_previous_original.idxmax(), 'previous'] = two_largest_previous_original.min()\n\nprint('\\nafter:')\nprint(df.previous.nlargest(2))\n\ndf.boxplot(column=['previous'])\nplt.tight_layout()",
   "execution_count": 31,
   "outputs": [
    {
     "name": "stdout",
     "text": "before:\n29182    275\n38326     58\nName: previous, dtype: int64\n\nafter:\n29182    58\n38326    58\nName: previous, dtype: int64\n",
     "output_type": "stream"
    },
    {
     "data": {
      "text/plain": "<Figure size 432x288 with 1 Axes>",
      "image/png": "[encoded data removed]"
     },
     "metadata": {
      "needs_background": "light",
      "image/png": {
       "width": 424,
       "height": 280
      }
     },
     "output_type": "display_data"
    }
   ]
  },
  {
   "cell_type": "markdown",
   "source": "### Balance\n\n",
   "metadata": {
    "cell_id": "3b0951999f4e4b6b8447c82d7d577c34",
    "tags": [],
    "deepnote_cell_type": "markdown",
    "deepnote_cell_height": 62
   }
  },
  {
   "cell_type": "code",
   "metadata": {
    "cell_id": "e337447ca5ca4f159e0c29cdeb8bf328",
    "tags": [],
    "deepnote_to_be_reexecuted": false,
    "source_hash": "ff993a10",
    "execution_start": 1650828182326,
    "execution_millis": 246,
    "deepnote_cell_type": "code",
    "deepnote_cell_height": 843,
    "deepnote_output_heights": [
     null,
     250
    ]
   },
   "source": "df.boxplot(column=['balance'])\n\nQ1 = df.balance.quantile(0.25)\nQ3 = df.balance.quantile(0.75)\nIQR = Q3 - Q1\nlower = Q1 - (1.5 * IQR)\nupper = Q3 + (1.5 * IQR)\n\nprint('Summary Descriptives:')\nprint('min: ', df.balance.min())\nprint('lower: ',lower)\nprint('Q1: ',Q1)\nprint('median: ', df.balance.median())\nprint('mean: ', df.balance.mean())\nprint('Q3: ',Q3)\nprint('upper: ',upper)\nprint('max: ', df.balance.max())",
   "execution_count": 32,
   "outputs": [
    {
     "name": "stdout",
     "text": "Summary Descriptives:\nmin:  -8019\nlower:  -1962.0\nQ1:  72.0\nmedian:  448.0\nmean:  1362.2720576850766\nQ3:  1428.0\nupper:  3462.0\nmax:  102127\n",
     "output_type": "stream"
    },
    {
     "data": {
      "text/plain": "<Figure size 432x288 with 1 Axes>",
      "image/png": "[encoded data removed]"
     },
     "metadata": {
      "needs_background": "light",
      "image/png": {
       "width": 393,
       "height": 248
      }
     },
     "output_type": "display_data"
    }
   ]
  },
  {
   "cell_type": "markdown",
   "source": "Now this one is more interesting! True to the idea of wealth inequality, it seems that while the median balance is a measly 448, the top balances have far more. Additionally, we even have negative balances! Let's make a few more graphs to see what's going on here.",
   "metadata": {
    "cell_id": "12bdf7db1dc44fba948832d6ab3b18ba",
    "tags": [],
    "deepnote_cell_type": "markdown",
    "deepnote_cell_height": 97.1875
   }
  },
  {
   "cell_type": "code",
   "metadata": {
    "cell_id": "d71327370b62408890c7df895bf18f89",
    "tags": [],
    "deepnote_to_be_reexecuted": false,
    "source_hash": "1cfb8c0c",
    "execution_start": 1650828182575,
    "execution_millis": 769,
    "deepnote_cell_type": "code",
    "deepnote_cell_height": 516.6875,
    "deepnote_output_heights": [
     null,
     21,
     250
    ]
   },
   "source": "negative_balance_df = df[df.balance < 0]\n\nprint('negative balances: ', negative_balance_df.balance.size)\n\nnegative_balance_df.boxplot(column='balance')",
   "execution_count": 33,
   "outputs": [
    {
     "name": "stdout",
     "text": "negative balances:  3766\n",
     "output_type": "stream"
    },
    {
     "output_type": "execute_result",
     "execution_count": 33,
     "data": {
      "text/plain": "<AxesSubplot:>"
     },
     "metadata": {}
    },
    {
     "data": {
      "text/plain": "<Figure size 432x288 with 1 Axes>",
      "image/png": "[encoded data removed]"
     },
     "metadata": {
      "needs_background": "light",
      "image/png": {
       "width": 389,
       "height": 248
      }
     },
     "output_type": "display_data"
    }
   ]
  },
  {
   "cell_type": "code",
   "metadata": {
    "cell_id": "869d6a6307804e13835ce7b5622d467e",
    "tags": [],
    "deepnote_to_be_reexecuted": false,
    "source_hash": "6751c694",
    "execution_start": 1650828182799,
    "execution_millis": 582,
    "deepnote_cell_type": "code",
    "deepnote_cell_height": 516.6875,
    "deepnote_output_heights": [
     null,
     21.1875,
     250
    ]
   },
   "source": "high_balance_df = df[df.balance > upper]\n\nprint('high balances: ', high_balance_df.balance.size)\n\nhigh_balance_df.boxplot(column='balance')",
   "execution_count": 34,
   "outputs": [
    {
     "name": "stdout",
     "text": "high balances:  4712\n",
     "output_type": "stream"
    },
    {
     "output_type": "execute_result",
     "execution_count": 34,
     "data": {
      "text/plain": "<AxesSubplot:>"
     },
     "metadata": {}
    },
    {
     "data": {
      "text/plain": "<Figure size 432x288 with 1 Axes>",
      "image/png": "[encoded data removed]"
     },
     "metadata": {
      "needs_background": "light",
      "image/png": {
       "width": 393,
       "height": 248
      }
     },
     "output_type": "display_data"
    }
   ]
  },
  {
   "cell_type": "markdown",
   "source": "For the purpose of this analysis, we will bin this feature into 4 categories based off of our summary statistics. This should create relatively even-filled bins.",
   "metadata": {
    "cell_id": "1a4dbd7c368f4a719277c8870cec12e1",
    "tags": [],
    "deepnote_cell_type": "markdown",
    "deepnote_cell_height": 74.796875
   }
  },
  {
   "cell_type": "code",
   "metadata": {
    "cell_id": "882e29115bc24d328758b9a307ac5950",
    "tags": [],
    "deepnote_to_be_reexecuted": false,
    "source_hash": "62b6ced1",
    "execution_start": 1650828183057,
    "execution_millis": 41496,
    "deepnote_cell_type": "code",
    "deepnote_cell_height": 499
   },
   "source": "def balance_binning(x):\n    if x.balance < Q1: # short\n        return 0\n    elif x.balance <= df.balance.median(): # medium\n        return 1\n    elif x.balance <= Q3: # long\n        return 2\n    else: # very long\n        return 3\n\nbalance_binned = df.apply(\n    lambda row : balance_binning(row),\n    axis = 1\n)\n\nprint(balance_binned.value_counts())\n\ndf['balance'] = balance_binned",
   "execution_count": 35,
   "outputs": [
    {
     "name": "stdout",
     "text": "1    11330\n2    11306\n3    11297\n0    11278\ndtype: int64\n",
     "output_type": "stream"
    }
   ]
  },
  {
   "cell_type": "markdown",
   "source": "### Age\n\n",
   "metadata": {
    "cell_id": "568d1140eb0f4a5ca61e2dccd109cb9d",
    "tags": [],
    "deepnote_cell_type": "markdown",
    "deepnote_cell_height": 62
   }
  },
  {
   "cell_type": "code",
   "metadata": {
    "cell_id": "d5cd200d19c049c798aa8ed91ea201db",
    "tags": [],
    "deepnote_to_be_reexecuted": false,
    "source_hash": "d9b465e",
    "execution_start": 1650828224559,
    "execution_millis": 254,
    "deepnote_cell_type": "code",
    "deepnote_cell_height": 435,
    "deepnote_output_heights": [
     21,
     250
    ]
   },
   "source": "df.age.hist()\n\ndf.age.max()",
   "execution_count": 36,
   "outputs": [
    {
     "output_type": "execute_result",
     "execution_count": 36,
     "data": {
      "text/plain": "95"
     },
     "metadata": {}
    },
    {
     "data": {
      "text/plain": "<Figure size 432x288 with 1 Axes>",
      "image/png": "[encoded data removed]"
     },
     "metadata": {
      "needs_background": "light",
      "image/png": {
       "width": 387,
       "height": 248
      }
     },
     "output_type": "display_data"
    }
   ]
  },
  {
   "cell_type": "markdown",
   "source": "While age is a right-skewed dataset, and that there are definitely outliers, the max age is only 95. Because of this, we are willing to not make any changes to this feature.",
   "metadata": {
    "cell_id": "7d761f796aa94b6ea0bc9560d9622929",
    "tags": [],
    "deepnote_cell_type": "markdown",
    "deepnote_cell_height": 74.796875
   }
  },
  {
   "cell_type": "markdown",
   "source": "### Duration",
   "metadata": {
    "cell_id": "5ec1bff0aa7b4ec080f01d4b7dc442f9",
    "tags": [],
    "deepnote_cell_type": "markdown",
    "deepnote_cell_height": 62
   }
  },
  {
   "cell_type": "code",
   "metadata": {
    "cell_id": "69c8d0d255824727a9d9ac26842cae18",
    "tags": [],
    "deepnote_to_be_reexecuted": false,
    "source_hash": "8d59d9fb",
    "execution_start": 1650828224816,
    "execution_millis": 212,
    "deepnote_cell_type": "code",
    "deepnote_cell_height": 399,
    "deepnote_output_heights": [
     21.1875,
     250
    ]
   },
   "source": "df.boxplot(column=['duration'])",
   "execution_count": 37,
   "outputs": [
    {
     "output_type": "execute_result",
     "execution_count": 37,
     "data": {
      "text/plain": "<AxesSubplot:>"
     },
     "metadata": {}
    },
    {
     "data": {
      "text/plain": "<Figure size 432x288 with 1 Axes>",
      "image/png": "[encoded data removed]"
     },
     "metadata": {
      "needs_background": "light",
      "image/png": {
       "width": 381,
       "height": 248
      }
     },
     "output_type": "display_data"
    }
   ]
  },
  {
   "cell_type": "markdown",
   "source": "Similar to balance, we have more than one outlier. Let's once again look at the summary statistics.",
   "metadata": {
    "cell_id": "a8f85b483f414208b8fb6d6171d7f32a",
    "tags": [],
    "deepnote_cell_type": "markdown",
    "deepnote_cell_height": 52.390625
   }
  },
  {
   "cell_type": "code",
   "metadata": {
    "cell_id": "50e6095e1bbe4992a8527329a4b86a82",
    "tags": [],
    "deepnote_to_be_reexecuted": false,
    "source_hash": "47edc7e6",
    "execution_start": 1650828225055,
    "execution_millis": 14,
    "deepnote_cell_type": "code",
    "deepnote_cell_height": 521.25
   },
   "source": "Q1 = df.duration.quantile(0.25)\nQ3 = df.duration.quantile(0.75)\nIQR = Q3 - Q1\nlower = Q1 - (1.5 * IQR)\nupper = Q3 + (1.5 * IQR)\n\nprint('Summary Descriptives:')\nprint('min: ', df.duration.min())\nprint('lower: ',lower)\nprint('Q1: ',Q1)\nprint('median: ', df.duration.median())\nprint('mean: ', df.duration.mean())\nprint('Q3: ',Q3)\nprint('upper: ',upper)\nprint('max: ', df.duration.max())",
   "execution_count": 38,
   "outputs": [
    {
     "name": "stdout",
     "text": "Summary Descriptives:\nmin:  0\nlower:  -221.0\nQ1:  103.0\nmedian:  180.0\nmean:  258.1630797814691\nQ3:  319.0\nupper:  643.0\nmax:  4918\n",
     "output_type": "stream"
    }
   ]
  },
  {
   "cell_type": "markdown",
   "source": "Using these summary statistics, let's bin duration into 4 bins.",
   "metadata": {
    "cell_id": "9f348e5235c94d3f84ab83165abdcff3",
    "tags": [],
    "deepnote_cell_type": "markdown",
    "deepnote_cell_height": 52.390625
   }
  },
  {
   "cell_type": "code",
   "metadata": {
    "cell_id": "99eca13323264b839463f260144d407e",
    "tags": [],
    "deepnote_to_be_reexecuted": false,
    "source_hash": "326d745f",
    "execution_start": 1650828225075,
    "execution_millis": 31924,
    "deepnote_cell_type": "code",
    "deepnote_cell_height": 496.46875
   },
   "source": "def duration_binning(x):\n    if x.duration < Q1: # short\n        return 0\n    elif x.duration <= df.duration.median(): # medium\n        return 1\n    elif x.duration <= Q3: # long\n        return 2\n    else: # very long\n        return 3\n\nduration_binned = df.apply(\n    lambda row : duration_binning(row),\n    axis = 1\n)\n\nprint(duration_binned.value_counts())\n\ndf['duration'] = duration_binned",
   "execution_count": 39,
   "outputs": [
    {
     "name": "stdout",
     "text": "1    11454\n2    11290\n3    11261\n0    11206\ndtype: int64\n",
     "output_type": "stream"
    }
   ]
  },
  {
   "cell_type": "markdown",
   "source": "### Campaign",
   "metadata": {
    "cell_id": "b0841a9c8db94aa59e6227103ef758cb",
    "tags": [],
    "deepnote_cell_type": "markdown",
    "deepnote_cell_height": 62
   }
  },
  {
   "cell_type": "code",
   "metadata": {
    "cell_id": "7276bb248cec4621906b230c3ff4fea3",
    "tags": [],
    "deepnote_to_be_reexecuted": false,
    "source_hash": "afe71659",
    "execution_start": 1650828256998,
    "execution_millis": 206,
    "deepnote_cell_type": "code",
    "deepnote_cell_height": 399.1875,
    "deepnote_output_heights": [
     21.1875,
     250
    ]
   },
   "source": "df.boxplot(column=['campaign'])",
   "execution_count": 40,
   "outputs": [
    {
     "output_type": "execute_result",
     "execution_count": 40,
     "data": {
      "text/plain": "<AxesSubplot:>"
     },
     "metadata": {}
    },
    {
     "data": {
      "text/plain": "<Figure size 432x288 with 1 Axes>",
      "image/png": "[encoded data removed]"
     },
     "metadata": {
      "needs_background": "light",
      "image/png": {
       "width": 368,
       "height": 248
      }
     },
     "output_type": "display_data"
    }
   ]
  },
  {
   "cell_type": "markdown",
   "source": "For campaign, we see yet another similar story to duration and balance, so we will once again use summary statistics to bin our data.",
   "metadata": {
    "cell_id": "6c2f6f089e4b4914b3e3ea73bd8ca368",
    "tags": [],
    "deepnote_cell_type": "markdown",
    "deepnote_cell_height": 74.796875
   }
  },
  {
   "cell_type": "code",
   "metadata": {
    "cell_id": "7591d33cd2ee426891049d4bd6e74a89",
    "tags": [],
    "deepnote_to_be_reexecuted": false,
    "source_hash": "7bd95390",
    "execution_start": 1650828257197,
    "execution_millis": 13,
    "deepnote_cell_type": "code",
    "deepnote_cell_height": 521.25
   },
   "source": "Q1 = df.campaign.quantile(0.25)\nQ3 = df.campaign.quantile(0.75)\nIQR = Q3 - Q1\nlower = Q1 - (1.5 * IQR)\nupper = Q3 + (1.5 * IQR)\n\nprint('Summary Descriptives:')\nprint('min: ', df.campaign.min())\nprint('lower: ',lower)\nprint('Q1: ',Q1)\nprint('median: ', df.campaign.median())\nprint('mean: ', df.campaign.mean())\nprint('Q3: ',Q3)\nprint('upper: ',upper)\nprint('max: ', df.campaign.max())",
   "execution_count": 41,
   "outputs": [
    {
     "name": "stdout",
     "text": "Summary Descriptives:\nmin:  1\nlower:  -2.0\nQ1:  1.0\nmedian:  2.0\nmean:  2.763840658246887\nQ3:  3.0\nupper:  6.0\nmax:  63\n",
     "output_type": "stream"
    }
   ]
  },
  {
   "cell_type": "code",
   "metadata": {
    "cell_id": "b0d2c0f1706749f89bbb7346eb59a43e",
    "tags": [],
    "deepnote_to_be_reexecuted": false,
    "source_hash": "e1787d3a",
    "execution_start": 1650828257227,
    "execution_millis": 39606,
    "deepnote_cell_type": "code",
    "deepnote_cell_height": 476.78125
   },
   "source": "def campaign_binning(x):\n    if x.campaign < Q1: # short\n        return 0\n    elif x.campaign <= df.campaign.median(): # medium\n        return 1\n    elif x.campaign <= Q3: # long\n        return 2\n    else: # very long\n        return 3\n\ncampaign_binned = df.apply(\n    lambda row : campaign_binning(row),\n    axis = 1\n)\n\nprint(campaign_binned.value_counts())\n\ndf['campaign'] = campaign_binned",
   "execution_count": 42,
   "outputs": [
    {
     "name": "stdout",
     "text": "1    30049\n3     9641\n2     5521\ndtype: int64\n",
     "output_type": "stream"
    }
   ]
  },
  {
   "cell_type": "markdown",
   "source": "## Label Distribution\n\nLet us consider the distribution of our label, y. If there is a class imbalance in our training set, then we potentially want to mitigate that.",
   "metadata": {
    "cell_id": "00010-f01b9b93-6537-47ef-b4a2-bfc536939885",
    "id": "a2Lw_kaPlNyz",
    "deepnote_cell_type": "markdown",
    "deepnote_cell_height": 130.796875
   }
  },
  {
   "cell_type": "code",
   "metadata": {
    "cell_id": "00011-effc5517-4ee1-4585-a040-8d7cd8881c54",
    "colab": {
     "base_uri": "https://localhost:8080/"
    },
    "deepnote_to_be_reexecuted": false,
    "execution_millis": 141,
    "execution_start": 1650828296851,
    "id": "iZFShk3Fftyj",
    "outputId": "4a9e7a1f-42dd-41b2-999d-83a15baefd9c",
    "source_hash": "1836bfc3",
    "deepnote_cell_type": "code",
    "deepnote_cell_height": 528.078125,
    "deepnote_output_heights": [
     null,
     21.1875,
     258
    ]
   },
   "source": "label_dist = df['y'].value_counts(normalize=True)\nprint(label_dist.mul(100).round(1).astype(str) + '%')\nlabel_dist.plot.bar()",
   "execution_count": 43,
   "outputs": [
    {
     "name": "stdout",
     "text": "no     88.3%\nyes    11.7%\nName: y, dtype: object\n",
     "output_type": "stream"
    },
    {
     "output_type": "execute_result",
     "execution_count": 43,
     "data": {
      "text/plain": "<AxesSubplot:>"
     },
     "metadata": {}
    },
    {
     "data": {
      "text/plain": "<Figure size 432x288 with 1 Axes>",
      "image/png": "[encoded data removed]"
     },
     "metadata": {
      "needs_background": "light",
      "image/png": {
       "width": 372,
       "height": 256
      }
     },
     "output_type": "display_data"
    }
   ]
  },
  {
   "cell_type": "markdown",
   "source": "Obviously, it turns out that most people will not subscribe a term deposit! To mitigate this, we are going to use SMOTE (Synthetic Minority Over-Sampling Technique). Recall that this means creating more artificial minority class instances randomly.",
   "metadata": {
    "cell_id": "664aca4648ea462a810bc43f46da4209",
    "tags": [],
    "deepnote_cell_type": "markdown",
    "deepnote_cell_height": 74.796875
   }
  },
  {
   "cell_type": "markdown",
   "source": "## Feature Engineering",
   "metadata": {
    "cell_id": "00016-e260ded3-a042-4dea-a446-5fd396fa3685",
    "id": "IYthIDgZI_ul",
    "deepnote_cell_type": "markdown",
    "deepnote_cell_height": 70
   }
  },
  {
   "cell_type": "markdown",
   "source": "### Reinterpreting pdays\n\nLooking at the pdays column, we notice that the majority of rows actually have -1 for pdays. This means that a minority of rows have an actual ordinal numerical value for pdays.",
   "metadata": {
    "cell_id": "13d6e38fabb141be8ff56566aae8a335",
    "tags": [],
    "deepnote_cell_type": "markdown",
    "deepnote_cell_height": 122.796875
   }
  },
  {
   "cell_type": "code",
   "metadata": {
    "cell_id": "f32d8135cbe943f2b0420dd9869cbb67",
    "tags": [],
    "deepnote_to_be_reexecuted": false,
    "source_hash": "3e9d936d",
    "execution_start": 1650828296997,
    "execution_millis": 6,
    "deepnote_cell_type": "code",
    "deepnote_cell_height": 149.390625
   },
   "source": "print(\"Never contacted (-1): \",df[df['pdays'] == -1]['pdays'].count())\nprint(\"Contacted (!=-1): \",df[df['pdays'] != -1]['pdays'].count())",
   "execution_count": 44,
   "outputs": [
    {
     "name": "stdout",
     "text": "Never contacted (-1):  36954\nContacted (!=-1):  8257\n",
     "output_type": "stream"
    }
   ]
  },
  {
   "cell_type": "markdown",
   "source": "Therefore, let us convert this into a binary categorical variable that shows if the client was even contacted at all (yes/no).",
   "metadata": {
    "cell_id": "b3cedb21c5d7452cae8568121bdf3a99",
    "tags": [],
    "deepnote_cell_type": "markdown",
    "deepnote_cell_height": 52.390625
   }
  },
  {
   "cell_type": "code",
   "metadata": {
    "cell_id": "a51b7d4756bf4f8b867a06e319203629",
    "tags": [],
    "deepnote_to_be_reexecuted": false,
    "source_hash": "413c4a72",
    "execution_start": 1650828297010,
    "execution_millis": 45,
    "deepnote_cell_type": "code",
    "deepnote_cell_height": 192.5625,
    "deepnote_output_heights": [
     59.5625
    ]
   },
   "source": "df.pdays = df.pdays.map(lambda x: 0 if x == -1 else 1)\ndf.rename(columns={'pdays':'previouslycontacted'}, inplace=True)\ndf.previouslycontacted.value_counts()",
   "execution_count": 45,
   "outputs": [
    {
     "output_type": "execute_result",
     "execution_count": 45,
     "data": {
      "text/plain": "0    36954\n1     8257\nName: previouslycontacted, dtype: int64"
     },
     "metadata": {}
    }
   ]
  },
  {
   "cell_type": "markdown",
   "source": "### Year and Day of the Week\n\nSince the dataset is sorted, and we know that it starts from 2008, we can calculate the year and day of the week for each data point.",
   "metadata": {
    "cell_id": "180052165298493cb3bc28aa2c2b3bea",
    "tags": [],
    "deepnote_cell_type": "markdown",
    "deepnote_cell_height": 122.796875
   }
  },
  {
   "cell_type": "code",
   "metadata": {
    "cell_id": "00017-a2907c39-d650-4445-a7cd-9a65c3a73e23",
    "colab": {
     "base_uri": "https://localhost:8080/"
    },
    "deepnote_table_invalid": false,
    "deepnote_table_loading": false,
    "deepnote_table_state": {
     "pageSize": 10,
     "pageIndex": 0,
     "filters": [
      {
       "id": "month",
       "value": "",
       "type": "contains"
      }
     ],
     "sortBy": []
    },
    "deepnote_to_be_reexecuted": false,
    "execution_millis": 5168,
    "execution_start": 1650828297098,
    "id": "QCYqCYGfCjB8",
    "outputId": "5d149ae0-e910-434a-f74b-bc0fd34d0c1d",
    "source_hash": "11ea81e5",
    "deepnote_cell_type": "code",
    "deepnote_cell_height": 931
   },
   "source": "# create year column\ncurYear = 2008\njanStretch = False\nyearList = []\nfor ind in df.index:\n    if df['month'][ind] == 'jan' and not janStretch:\n        janStretch = True\n        curYear += 1  \n    elif df['month'][ind] != 'jan':\n        janStretch = False\n    yearList.append(curYear) \ndf['year'] = yearList\n\n# create day of week column\n# create a list then add to dataframe df\ntemp = pd.Timestamp('2022-4-5')\nmonthToNum = {'jan':1,'feb':2,'mar':3,'apr':4,'may':5,'jun':6,\n                'jul':7,'aug':8,'sep':9,'oct':10,'nov':11,'dec':12}\n\ndayOfWkList = []\nfor ind in df.index:\n    year = df['year'][ind]\n    month = df['month'][ind]\n    day = df['day'][ind]\n    timestampStr = str(year) + '-' + str(month) + '-' + str(day)\n    dayOfWk = pd.Timestamp(timestampStr)\n    dayOfWkList.append(dayOfWk.day_of_week)\ndf['dayOfWk'] = dayOfWkList\ndf[['year','month','day','dayOfWk']].head()",
   "execution_count": 46,
   "outputs": [
    {
     "output_type": "execute_result",
     "execution_count": 46,
     "data": {
      "application/vnd.deepnote.dataframe.v3+json": {
       "column_count": 4,
       "row_count": 5,
       "columns": [
        {
         "name": "year",
         "dtype": "int64",
         "stats": {
          "unique_count": 1,
          "nan_count": 0,
          "min": "2008",
          "max": "2008",
          "histogram": [
           {
            "bin_start": 2007.5,
            "bin_end": 2007.6,
            "count": 0
           },
           {
            "bin_start": 2007.6,
            "bin_end": 2007.7,
            "count": 0
           },
           {
            "bin_start": 2007.7,
            "bin_end": 2007.8,
            "count": 0
           },
           {
            "bin_start": 2007.8,
            "bin_end": 2007.9,
            "count": 0
           },
           {
            "bin_start": 2007.9,
            "bin_end": 2008,
            "count": 0
           },
           {
            "bin_start": 2008,
            "bin_end": 2008.1,
            "count": 5
           },
           {
            "bin_start": 2008.1,
            "bin_end": 2008.2,
            "count": 0
           },
           {
            "bin_start": 2008.2,
            "bin_end": 2008.3,
            "count": 0
           },
           {
            "bin_start": 2008.3,
            "bin_end": 2008.4,
            "count": 0
           },
           {
            "bin_start": 2008.4,
            "bin_end": 2008.5,
            "count": 0
           }
          ]
         }
        },
        {
         "name": "month",
         "dtype": "object",
         "stats": {
          "unique_count": 1,
          "nan_count": 0,
          "categories": [
           {
            "name": "may",
            "count": 5
           }
          ]
         }
        },
        {
         "name": "day",
         "dtype": "int64",
         "stats": {
          "unique_count": 1,
          "nan_count": 0,
          "min": "5",
          "max": "5",
          "histogram": [
           {
            "bin_start": 4.5,
            "bin_end": 4.6,
            "count": 0
           },
           {
            "bin_start": 4.6,
            "bin_end": 4.7,
            "count": 0
           },
           {
            "bin_start": 4.7,
            "bin_end": 4.8,
            "count": 0
           },
           {
            "bin_start": 4.8,
            "bin_end": 4.9,
            "count": 0
           },
           {
            "bin_start": 4.9,
            "bin_end": 5,
            "count": 0
           },
           {
            "bin_start": 5,
            "bin_end": 5.1,
            "count": 5
           },
           {
            "bin_start": 5.1,
            "bin_end": 5.2,
            "count": 0
           },
           {
            "bin_start": 5.2,
            "bin_end": 5.3,
            "count": 0
           },
           {
            "bin_start": 5.3,
            "bin_end": 5.4,
            "count": 0
           },
           {
            "bin_start": 5.4,
            "bin_end": 5.5,
            "count": 0
           }
          ]
         }
        },
        {
         "name": "dayOfWk",
         "dtype": "int64",
         "stats": {
          "unique_count": 1,
          "nan_count": 0,
          "min": "0",
          "max": "0",
          "histogram": [
           {
            "bin_start": -0.5,
            "bin_end": -0.4,
            "count": 0
           },
           {
            "bin_start": -0.4,
            "bin_end": -0.3,
            "count": 0
           },
           {
            "bin_start": -0.3,
            "bin_end": -0.19999999999999996,
            "count": 0
           },
           {
            "bin_start": -0.19999999999999996,
            "bin_end": -0.09999999999999998,
            "count": 0
           },
           {
            "bin_start": -0.09999999999999998,
            "bin_end": 0,
            "count": 0
           },
           {
            "bin_start": 0,
            "bin_end": 0.10000000000000009,
            "count": 5
           },
           {
            "bin_start": 0.10000000000000009,
            "bin_end": 0.20000000000000007,
            "count": 0
           },
           {
            "bin_start": 0.20000000000000007,
            "bin_end": 0.30000000000000004,
            "count": 0
           },
           {
            "bin_start": 0.30000000000000004,
            "bin_end": 0.4,
            "count": 0
           },
           {
            "bin_start": 0.4,
            "bin_end": 0.5,
            "count": 0
           }
          ]
         }
        },
        {
         "name": "_deepnote_index_column",
         "dtype": "int64"
        }
       ],
       "rows": [
        {
         "year": 2008,
         "month": "may",
         "day": 5,
         "dayOfWk": 0,
         "_deepnote_index_column": 0
        },
        {
         "year": 2008,
         "month": "may",
         "day": 5,
         "dayOfWk": 0,
         "_deepnote_index_column": 1
        },
        {
         "year": 2008,
         "month": "may",
         "day": 5,
         "dayOfWk": 0,
         "_deepnote_index_column": 2
        },
        {
         "year": 2008,
         "month": "may",
         "day": 5,
         "dayOfWk": 0,
         "_deepnote_index_column": 3
        },
        {
         "year": 2008,
         "month": "may",
         "day": 5,
         "dayOfWk": 0,
         "_deepnote_index_column": 4
        }
       ]
      },
      "text/plain": "   year month  day  dayOfWk\n0  2008   may    5        0\n1  2008   may    5        0\n2  2008   may    5        0\n3  2008   may    5        0\n4  2008   may    5        0",
      "text/html": "<div>\n<style scoped>\n    .dataframe tbody tr th:only-of-type {\n        vertical-align: middle;\n    }\n\n    .dataframe tbody tr th {\n        vertical-align: top;\n    }\n\n    .dataframe thead th {\n        text-align: right;\n    }\n</style>\n<table border=\"1\" class=\"dataframe\">\n  <thead>\n    <tr style=\"text-align: right;\">\n      <th></th>\n      <th>year</th>\n      <th>month</th>\n      <th>day</th>\n      <th>dayOfWk</th>\n    </tr>\n  </thead>\n  <tbody>\n    <tr>\n      <th>0</th>\n      <td>2008</td>\n      <td>may</td>\n      <td>5</td>\n      <td>0</td>\n    </tr>\n    <tr>\n      <th>1</th>\n      <td>2008</td>\n      <td>may</td>\n      <td>5</td>\n      <td>0</td>\n    </tr>\n    <tr>\n      <th>2</th>\n      <td>2008</td>\n      <td>may</td>\n      <td>5</td>\n      <td>0</td>\n    </tr>\n    <tr>\n      <th>3</th>\n      <td>2008</td>\n      <td>may</td>\n      <td>5</td>\n      <td>0</td>\n    </tr>\n    <tr>\n      <th>4</th>\n      <td>2008</td>\n      <td>may</td>\n      <td>5</td>\n      <td>0</td>\n    </tr>\n  </tbody>\n</table>\n</div>"
     },
     "metadata": {}
    }
   ]
  },
  {
   "cell_type": "markdown",
   "source": "### One-Hot Encoding\n\nTo run our data through the classifiers, we need to transform our nominal categorical data into many binary categorical variables.",
   "metadata": {
    "cell_id": "b8511171dc7c45979ceba722c8f5be65",
    "tags": [],
    "deepnote_cell_type": "markdown",
    "deepnote_cell_height": 100.390625
   }
  },
  {
   "cell_type": "code",
   "metadata": {
    "cell_id": "1c7237a7fe8948f185e334a8cbfc78ac",
    "deepnote_to_be_reexecuted": false,
    "execution_millis": 133,
    "execution_start": 1650828302275,
    "source_hash": "5b4d0a44",
    "tags": [],
    "deepnote_cell_type": "code",
    "deepnote_cell_height": 611
   },
   "source": "# one hot encoding for all categorical columns\nfrom sklearn.preprocessing import OneHotEncoder\ncategorical_list = [\"job\", \"marital\"]\nfor col in categorical_list:\n    encoder = OneHotEncoder()\n    # makes a dataset. each column is a value in the column from the original dataset. the new cloumns are sorted based on the values!\n    col_encoder = pd.DataFrame(encoder.fit_transform(df[[col]]).toarray())\n    # get the list of values in the current column and sort them so you can change the names\n    list_of_vals = col + \"_\" + df[col].unique()\n    list_of_vals.sort()\n    col_encoder.columns = list_of_vals\n    df = df.join(col_encoder)\ndf.head()",
   "execution_count": 47,
   "outputs": [
    {
     "output_type": "execute_result",
     "execution_count": 47,
     "data": {
      "application/vnd.deepnote.dataframe.v3+json": {
       "column_count": 32,
       "row_count": 5,
       "columns": [
        {
         "name": "age",
         "dtype": "int64",
         "stats": {
          "unique_count": 4,
          "nan_count": 0,
          "min": "33",
          "max": "58",
          "histogram": [
           {
            "bin_start": 33,
            "bin_end": 35.5,
            "count": 2
           },
           {
            "bin_start": 35.5,
            "bin_end": 38,
            "count": 0
           },
           {
            "bin_start": 38,
            "bin_end": 40.5,
            "count": 0
           },
           {
            "bin_start": 40.5,
            "bin_end": 43,
            "count": 0
           },
           {
            "bin_start": 43,
            "bin_end": 45.5,
            "count": 1
           },
           {
            "bin_start": 45.5,
            "bin_end": 48,
            "count": 1
           },
           {
            "bin_start": 48,
            "bin_end": 50.5,
            "count": 0
           },
           {
            "bin_start": 50.5,
            "bin_end": 53,
            "count": 0
           },
           {
            "bin_start": 53,
            "bin_end": 55.5,
            "count": 0
           },
           {
            "bin_start": 55.5,
            "bin_end": 58,
            "count": 1
           }
          ]
         }
        },
        {
         "name": "job",
         "dtype": "object",
         "stats": {
          "unique_count": 4,
          "nan_count": 0,
          "categories": [
           {
            "name": "management",
            "count": 2
           },
           {
            "name": "technician",
            "count": 1
           },
           {
            "name": "2 others",
            "count": 2
           }
          ]
         }
        },
        {
         "name": "marital",
         "dtype": "object",
         "stats": {
          "unique_count": 2,
          "nan_count": 0,
          "categories": [
           {
            "name": "married",
            "count": 3
           },
           {
            "name": "single",
            "count": 2
           }
          ]
         }
        },
        {
         "name": "education",
         "dtype": "object",
         "stats": {
          "unique_count": 2,
          "nan_count": 0,
          "categories": [
           {
            "name": "tertiary",
            "count": 3
           },
           {
            "name": "secondary",
            "count": 2
           }
          ]
         }
        },
        {
         "name": "default",
         "dtype": "object",
         "stats": {
          "unique_count": 1,
          "nan_count": 0,
          "categories": [
           {
            "name": "no",
            "count": 5
           }
          ]
         }
        },
        {
         "name": "balance",
         "dtype": "int64",
         "stats": {
          "unique_count": 2,
          "nan_count": 0,
          "min": "0",
          "max": "3",
          "histogram": [
           {
            "bin_start": 0,
            "bin_end": 0.3,
            "count": 3
           },
           {
            "bin_start": 0.3,
            "bin_end": 0.6,
            "count": 0
           },
           {
            "bin_start": 0.6,
            "bin_end": 0.8999999999999999,
            "count": 0
           },
           {
            "bin_start": 0.8999999999999999,
            "bin_end": 1.2,
            "count": 0
           },
           {
            "bin_start": 1.2,
            "bin_end": 1.5,
            "count": 0
           },
           {
            "bin_start": 1.5,
            "bin_end": 1.7999999999999998,
            "count": 0
           },
           {
            "bin_start": 1.7999999999999998,
            "bin_end": 2.1,
            "count": 0
           },
           {
            "bin_start": 2.1,
            "bin_end": 2.4,
            "count": 0
           },
           {
            "bin_start": 2.4,
            "bin_end": 2.6999999999999997,
            "count": 0
           },
           {
            "bin_start": 2.6999999999999997,
            "bin_end": 3,
            "count": 2
           }
          ]
         }
        },
        {
         "name": "housing",
         "dtype": "object",
         "stats": {
          "unique_count": 2,
          "nan_count": 0,
          "categories": [
           {
            "name": "yes",
            "count": 4
           },
           {
            "name": "no",
            "count": 1
           }
          ]
         }
        },
        {
         "name": "loan",
         "dtype": "object",
         "stats": {
          "unique_count": 2,
          "nan_count": 0,
          "categories": [
           {
            "name": "no",
            "count": 4
           },
           {
            "name": "yes",
            "count": 1
           }
          ]
         }
        },
        {
         "name": "contact",
         "dtype": "object",
         "stats": {
          "unique_count": 1,
          "nan_count": 0,
          "categories": [
           {
            "name": "cellular",
            "count": 5
           }
          ]
         }
        },
        {
         "name": "day",
         "dtype": "int64",
         "stats": {
          "unique_count": 1,
          "nan_count": 0,
          "min": "5",
          "max": "5",
          "histogram": [
           {
            "bin_start": 4.5,
            "bin_end": 4.6,
            "count": 0
           },
           {
            "bin_start": 4.6,
            "bin_end": 4.7,
            "count": 0
           },
           {
            "bin_start": 4.7,
            "bin_end": 4.8,
            "count": 0
           },
           {
            "bin_start": 4.8,
            "bin_end": 4.9,
            "count": 0
           },
           {
            "bin_start": 4.9,
            "bin_end": 5,
            "count": 0
           },
           {
            "bin_start": 5,
            "bin_end": 5.1,
            "count": 5
           },
           {
            "bin_start": 5.1,
            "bin_end": 5.2,
            "count": 0
           },
           {
            "bin_start": 5.2,
            "bin_end": 5.3,
            "count": 0
           },
           {
            "bin_start": 5.3,
            "bin_end": 5.4,
            "count": 0
           },
           {
            "bin_start": 5.4,
            "bin_end": 5.5,
            "count": 0
           }
          ]
         }
        },
        {
         "name": "month",
         "dtype": "object",
         "stats": {
          "unique_count": 1,
          "nan_count": 0,
          "categories": [
           {
            "name": "may",
            "count": 5
           }
          ]
         }
        },
        {
         "name": "duration",
         "dtype": "int64",
         "stats": {
          "unique_count": 3,
          "nan_count": 0,
          "min": "0",
          "max": "2",
          "histogram": [
           {
            "bin_start": 0,
            "bin_end": 0.2,
            "count": 2
           },
           {
            "bin_start": 0.2,
            "bin_end": 0.4,
            "count": 0
           },
           {
            "bin_start": 0.4,
            "bin_end": 0.6000000000000001,
            "count": 0
           },
           {
            "bin_start": 0.6000000000000001,
            "bin_end": 0.8,
            "count": 0
           },
           {
            "bin_start": 0.8,
            "bin_end": 1,
            "count": 0
           },
           {
            "bin_start": 1,
            "bin_end": 1.2000000000000002,
            "count": 1
           },
           {
            "bin_start": 1.2000000000000002,
            "bin_end": 1.4000000000000001,
            "count": 0
           },
           {
            "bin_start": 1.4000000000000001,
            "bin_end": 1.6,
            "count": 0
           },
           {
            "bin_start": 1.6,
            "bin_end": 1.8,
            "count": 0
           },
           {
            "bin_start": 1.8,
            "bin_end": 2,
            "count": 2
           }
          ]
         }
        },
        {
         "name": "campaign",
         "dtype": "int64",
         "stats": {
          "unique_count": 1,
          "nan_count": 0,
          "min": "1",
          "max": "1",
          "histogram": [
           {
            "bin_start": 0.5,
            "bin_end": 0.6,
            "count": 0
           },
           {
            "bin_start": 0.6,
            "bin_end": 0.7,
            "count": 0
           },
           {
            "bin_start": 0.7,
            "bin_end": 0.8,
            "count": 0
           },
           {
            "bin_start": 0.8,
            "bin_end": 0.9,
            "count": 0
           },
           {
            "bin_start": 0.9,
            "bin_end": 1,
            "count": 0
           },
           {
            "bin_start": 1,
            "bin_end": 1.1,
            "count": 5
           },
           {
            "bin_start": 1.1,
            "bin_end": 1.2000000000000002,
            "count": 0
           },
           {
            "bin_start": 1.2000000000000002,
            "bin_end": 1.3,
            "count": 0
           },
           {
            "bin_start": 1.3,
            "bin_end": 1.4,
            "count": 0
           },
           {
            "bin_start": 1.4,
            "bin_end": 1.5,
            "count": 0
           }
          ]
         }
        },
        {
         "name": "previouslycontacted",
         "dtype": "int64",
         "stats": {
          "unique_count": 1,
          "nan_count": 0,
          "min": "0",
          "max": "0",
          "histogram": [
           {
            "bin_start": -0.5,
            "bin_end": -0.4,
            "count": 0
           },
           {
            "bin_start": -0.4,
            "bin_end": -0.3,
            "count": 0
           },
           {
            "bin_start": -0.3,
            "bin_end": -0.19999999999999996,
            "count": 0
           },
           {
            "bin_start": -0.19999999999999996,
            "bin_end": -0.09999999999999998,
            "count": 0
           },
           {
            "bin_start": -0.09999999999999998,
            "bin_end": 0,
            "count": 0
           },
           {
            "bin_start": 0,
            "bin_end": 0.10000000000000009,
            "count": 5
           },
           {
            "bin_start": 0.10000000000000009,
            "bin_end": 0.20000000000000007,
            "count": 0
           },
           {
            "bin_start": 0.20000000000000007,
            "bin_end": 0.30000000000000004,
            "count": 0
           },
           {
            "bin_start": 0.30000000000000004,
            "bin_end": 0.4,
            "count": 0
           },
           {
            "bin_start": 0.4,
            "bin_end": 0.5,
            "count": 0
           }
          ]
         }
        },
        {
         "name": "previous",
         "dtype": "int64",
         "stats": {
          "unique_count": 1,
          "nan_count": 0,
          "min": "0",
          "max": "0",
          "histogram": [
           {
            "bin_start": -0.5,
            "bin_end": -0.4,
            "count": 0
           },
           {
            "bin_start": -0.4,
            "bin_end": -0.3,
            "count": 0
           },
           {
            "bin_start": -0.3,
            "bin_end": -0.19999999999999996,
            "count": 0
           },
           {
            "bin_start": -0.19999999999999996,
            "bin_end": -0.09999999999999998,
            "count": 0
           },
           {
            "bin_start": -0.09999999999999998,
            "bin_end": 0,
            "count": 0
           },
           {
            "bin_start": 0,
            "bin_end": 0.10000000000000009,
            "count": 5
           },
           {
            "bin_start": 0.10000000000000009,
            "bin_end": 0.20000000000000007,
            "count": 0
           },
           {
            "bin_start": 0.20000000000000007,
            "bin_end": 0.30000000000000004,
            "count": 0
           },
           {
            "bin_start": 0.30000000000000004,
            "bin_end": 0.4,
            "count": 0
           },
           {
            "bin_start": 0.4,
            "bin_end": 0.5,
            "count": 0
           }
          ]
         }
        },
        {
         "name": "y",
         "dtype": "object",
         "stats": {
          "unique_count": 1,
          "nan_count": 0,
          "categories": [
           {
            "name": "no",
            "count": 5
           }
          ]
         }
        },
        {
         "name": "year",
         "dtype": "int64",
         "stats": {
          "unique_count": 1,
          "nan_count": 0,
          "min": "2008",
          "max": "2008",
          "histogram": [
           {
            "bin_start": 2007.5,
            "bin_end": 2007.6,
            "count": 0
           },
           {
            "bin_start": 2007.6,
            "bin_end": 2007.7,
            "count": 0
           },
           {
            "bin_start": 2007.7,
            "bin_end": 2007.8,
            "count": 0
           },
           {
            "bin_start": 2007.8,
            "bin_end": 2007.9,
            "count": 0
           },
           {
            "bin_start": 2007.9,
            "bin_end": 2008,
            "count": 0
           },
           {
            "bin_start": 2008,
            "bin_end": 2008.1,
            "count": 5
           },
           {
            "bin_start": 2008.1,
            "bin_end": 2008.2,
            "count": 0
           },
           {
            "bin_start": 2008.2,
            "bin_end": 2008.3,
            "count": 0
           },
           {
            "bin_start": 2008.3,
            "bin_end": 2008.4,
            "count": 0
           },
           {
            "bin_start": 2008.4,
            "bin_end": 2008.5,
            "count": 0
           }
          ]
         }
        },
        {
         "name": "dayOfWk",
         "dtype": "int64",
         "stats": {
          "unique_count": 1,
          "nan_count": 0,
          "min": "0",
          "max": "0",
          "histogram": [
           {
            "bin_start": -0.5,
            "bin_end": -0.4,
            "count": 0
           },
           {
            "bin_start": -0.4,
            "bin_end": -0.3,
            "count": 0
           },
           {
            "bin_start": -0.3,
            "bin_end": -0.19999999999999996,
            "count": 0
           },
           {
            "bin_start": -0.19999999999999996,
            "bin_end": -0.09999999999999998,
            "count": 0
           },
           {
            "bin_start": -0.09999999999999998,
            "bin_end": 0,
            "count": 0
           },
           {
            "bin_start": 0,
            "bin_end": 0.10000000000000009,
            "count": 5
           },
           {
            "bin_start": 0.10000000000000009,
            "bin_end": 0.20000000000000007,
            "count": 0
           },
           {
            "bin_start": 0.20000000000000007,
            "bin_end": 0.30000000000000004,
            "count": 0
           },
           {
            "bin_start": 0.30000000000000004,
            "bin_end": 0.4,
            "count": 0
           },
           {
            "bin_start": 0.4,
            "bin_end": 0.5,
            "count": 0
           }
          ]
         }
        },
        {
         "name": "job_admin.",
         "dtype": "float64",
         "stats": {
          "unique_count": 1,
          "nan_count": 0,
          "min": "0.0",
          "max": "0.0",
          "histogram": [
           {
            "bin_start": -0.5,
            "bin_end": -0.4,
            "count": 0
           },
           {
            "bin_start": -0.4,
            "bin_end": -0.3,
            "count": 0
           },
           {
            "bin_start": -0.3,
            "bin_end": -0.19999999999999996,
            "count": 0
           },
           {
            "bin_start": -0.19999999999999996,
            "bin_end": -0.09999999999999998,
            "count": 0
           },
           {
            "bin_start": -0.09999999999999998,
            "bin_end": 0,
            "count": 0
           },
           {
            "bin_start": 0,
            "bin_end": 0.10000000000000009,
            "count": 5
           },
           {
            "bin_start": 0.10000000000000009,
            "bin_end": 0.20000000000000007,
            "count": 0
           },
           {
            "bin_start": 0.20000000000000007,
            "bin_end": 0.30000000000000004,
            "count": 0
           },
           {
            "bin_start": 0.30000000000000004,
            "bin_end": 0.4,
            "count": 0
           },
           {
            "bin_start": 0.4,
            "bin_end": 0.5,
            "count": 0
           }
          ]
         }
        },
        {
         "name": "job_blue-collar",
         "dtype": "float64",
         "stats": {
          "unique_count": 2,
          "nan_count": 0,
          "min": "0.0",
          "max": "1.0",
          "histogram": [
           {
            "bin_start": 0,
            "bin_end": 0.1,
            "count": 4
           },
           {
            "bin_start": 0.1,
            "bin_end": 0.2,
            "count": 0
           },
           {
            "bin_start": 0.2,
            "bin_end": 0.30000000000000004,
            "count": 0
           },
           {
            "bin_start": 0.30000000000000004,
            "bin_end": 0.4,
            "count": 0
           },
           {
            "bin_start": 0.4,
            "bin_end": 0.5,
            "count": 0
           },
           {
            "bin_start": 0.5,
            "bin_end": 0.6000000000000001,
            "count": 0
           },
           {
            "bin_start": 0.6000000000000001,
            "bin_end": 0.7000000000000001,
            "count": 0
           },
           {
            "bin_start": 0.7000000000000001,
            "bin_end": 0.8,
            "count": 0
           },
           {
            "bin_start": 0.8,
            "bin_end": 0.9,
            "count": 0
           },
           {
            "bin_start": 0.9,
            "bin_end": 1,
            "count": 1
           }
          ]
         }
        },
        {
         "name": "job_entrepreneur",
         "dtype": "float64",
         "stats": {
          "unique_count": 2,
          "nan_count": 0,
          "min": "0.0",
          "max": "1.0",
          "histogram": [
           {
            "bin_start": 0,
            "bin_end": 0.1,
            "count": 4
           },
           {
            "bin_start": 0.1,
            "bin_end": 0.2,
            "count": 0
           },
           {
            "bin_start": 0.2,
            "bin_end": 0.30000000000000004,
            "count": 0
           },
           {
            "bin_start": 0.30000000000000004,
            "bin_end": 0.4,
            "count": 0
           },
           {
            "bin_start": 0.4,
            "bin_end": 0.5,
            "count": 0
           },
           {
            "bin_start": 0.5,
            "bin_end": 0.6000000000000001,
            "count": 0
           },
           {
            "bin_start": 0.6000000000000001,
            "bin_end": 0.7000000000000001,
            "count": 0
           },
           {
            "bin_start": 0.7000000000000001,
            "bin_end": 0.8,
            "count": 0
           },
           {
            "bin_start": 0.8,
            "bin_end": 0.9,
            "count": 0
           },
           {
            "bin_start": 0.9,
            "bin_end": 1,
            "count": 1
           }
          ]
         }
        },
        {
         "name": "job_housemaid",
         "dtype": "float64",
         "stats": {
          "unique_count": 1,
          "nan_count": 0,
          "min": "0.0",
          "max": "0.0",
          "histogram": [
           {
            "bin_start": -0.5,
            "bin_end": -0.4,
            "count": 0
           },
           {
            "bin_start": -0.4,
            "bin_end": -0.3,
            "count": 0
           },
           {
            "bin_start": -0.3,
            "bin_end": -0.19999999999999996,
            "count": 0
           },
           {
            "bin_start": -0.19999999999999996,
            "bin_end": -0.09999999999999998,
            "count": 0
           },
           {
            "bin_start": -0.09999999999999998,
            "bin_end": 0,
            "count": 0
           },
           {
            "bin_start": 0,
            "bin_end": 0.10000000000000009,
            "count": 5
           },
           {
            "bin_start": 0.10000000000000009,
            "bin_end": 0.20000000000000007,
            "count": 0
           },
           {
            "bin_start": 0.20000000000000007,
            "bin_end": 0.30000000000000004,
            "count": 0
           },
           {
            "bin_start": 0.30000000000000004,
            "bin_end": 0.4,
            "count": 0
           },
           {
            "bin_start": 0.4,
            "bin_end": 0.5,
            "count": 0
           }
          ]
         }
        },
        {
         "name": "job_management",
         "dtype": "float64",
         "stats": {
          "unique_count": 2,
          "nan_count": 0,
          "min": "0.0",
          "max": "1.0",
          "histogram": [
           {
            "bin_start": 0,
            "bin_end": 0.1,
            "count": 3
           },
           {
            "bin_start": 0.1,
            "bin_end": 0.2,
            "count": 0
           },
           {
            "bin_start": 0.2,
            "bin_end": 0.30000000000000004,
            "count": 0
           },
           {
            "bin_start": 0.30000000000000004,
            "bin_end": 0.4,
            "count": 0
           },
           {
            "bin_start": 0.4,
            "bin_end": 0.5,
            "count": 0
           },
           {
            "bin_start": 0.5,
            "bin_end": 0.6000000000000001,
            "count": 0
           },
           {
            "bin_start": 0.6000000000000001,
            "bin_end": 0.7000000000000001,
            "count": 0
           },
           {
            "bin_start": 0.7000000000000001,
            "bin_end": 0.8,
            "count": 0
           },
           {
            "bin_start": 0.8,
            "bin_end": 0.9,
            "count": 0
           },
           {
            "bin_start": 0.9,
            "bin_end": 1,
            "count": 2
           }
          ]
         }
        },
        {
         "name": "job_retired",
         "dtype": "float64",
         "stats": {
          "unique_count": 1,
          "nan_count": 0,
          "min": "0.0",
          "max": "0.0",
          "histogram": [
           {
            "bin_start": -0.5,
            "bin_end": -0.4,
            "count": 0
           },
           {
            "bin_start": -0.4,
            "bin_end": -0.3,
            "count": 0
           },
           {
            "bin_start": -0.3,
            "bin_end": -0.19999999999999996,
            "count": 0
           },
           {
            "bin_start": -0.19999999999999996,
            "bin_end": -0.09999999999999998,
            "count": 0
           },
           {
            "bin_start": -0.09999999999999998,
            "bin_end": 0,
            "count": 0
           },
           {
            "bin_start": 0,
            "bin_end": 0.10000000000000009,
            "count": 5
           },
           {
            "bin_start": 0.10000000000000009,
            "bin_end": 0.20000000000000007,
            "count": 0
           },
           {
            "bin_start": 0.20000000000000007,
            "bin_end": 0.30000000000000004,
            "count": 0
           },
           {
            "bin_start": 0.30000000000000004,
            "bin_end": 0.4,
            "count": 0
           },
           {
            "bin_start": 0.4,
            "bin_end": 0.5,
            "count": 0
           }
          ]
         }
        },
        {
         "name": "job_self-employed",
         "dtype": "float64",
         "stats": {
          "unique_count": 1,
          "nan_count": 0,
          "min": "0.0",
          "max": "0.0",
          "histogram": [
           {
            "bin_start": -0.5,
            "bin_end": -0.4,
            "count": 0
           },
           {
            "bin_start": -0.4,
            "bin_end": -0.3,
            "count": 0
           },
           {
            "bin_start": -0.3,
            "bin_end": -0.19999999999999996,
            "count": 0
           },
           {
            "bin_start": -0.19999999999999996,
            "bin_end": -0.09999999999999998,
            "count": 0
           },
           {
            "bin_start": -0.09999999999999998,
            "bin_end": 0,
            "count": 0
           },
           {
            "bin_start": 0,
            "bin_end": 0.10000000000000009,
            "count": 5
           },
           {
            "bin_start": 0.10000000000000009,
            "bin_end": 0.20000000000000007,
            "count": 0
           },
           {
            "bin_start": 0.20000000000000007,
            "bin_end": 0.30000000000000004,
            "count": 0
           },
           {
            "bin_start": 0.30000000000000004,
            "bin_end": 0.4,
            "count": 0
           },
           {
            "bin_start": 0.4,
            "bin_end": 0.5,
            "count": 0
           }
          ]
         }
        },
        {
         "name": "job_services",
         "dtype": "float64",
         "stats": {
          "unique_count": 1,
          "nan_count": 0,
          "min": "0.0",
          "max": "0.0",
          "histogram": [
           {
            "bin_start": -0.5,
            "bin_end": -0.4,
            "count": 0
           },
           {
            "bin_start": -0.4,
            "bin_end": -0.3,
            "count": 0
           },
           {
            "bin_start": -0.3,
            "bin_end": -0.19999999999999996,
            "count": 0
           },
           {
            "bin_start": -0.19999999999999996,
            "bin_end": -0.09999999999999998,
            "count": 0
           },
           {
            "bin_start": -0.09999999999999998,
            "bin_end": 0,
            "count": 0
           },
           {
            "bin_start": 0,
            "bin_end": 0.10000000000000009,
            "count": 5
           },
           {
            "bin_start": 0.10000000000000009,
            "bin_end": 0.20000000000000007,
            "count": 0
           },
           {
            "bin_start": 0.20000000000000007,
            "bin_end": 0.30000000000000004,
            "count": 0
           },
           {
            "bin_start": 0.30000000000000004,
            "bin_end": 0.4,
            "count": 0
           },
           {
            "bin_start": 0.4,
            "bin_end": 0.5,
            "count": 0
           }
          ]
         }
        },
        {
         "name": "job_student",
         "dtype": "float64",
         "stats": {
          "unique_count": 1,
          "nan_count": 0,
          "min": "0.0",
          "max": "0.0",
          "histogram": [
           {
            "bin_start": -0.5,
            "bin_end": -0.4,
            "count": 0
           },
           {
            "bin_start": -0.4,
            "bin_end": -0.3,
            "count": 0
           },
           {
            "bin_start": -0.3,
            "bin_end": -0.19999999999999996,
            "count": 0
           },
           {
            "bin_start": -0.19999999999999996,
            "bin_end": -0.09999999999999998,
            "count": 0
           },
           {
            "bin_start": -0.09999999999999998,
            "bin_end": 0,
            "count": 0
           },
           {
            "bin_start": 0,
            "bin_end": 0.10000000000000009,
            "count": 5
           },
           {
            "bin_start": 0.10000000000000009,
            "bin_end": 0.20000000000000007,
            "count": 0
           },
           {
            "bin_start": 0.20000000000000007,
            "bin_end": 0.30000000000000004,
            "count": 0
           },
           {
            "bin_start": 0.30000000000000004,
            "bin_end": 0.4,
            "count": 0
           },
           {
            "bin_start": 0.4,
            "bin_end": 0.5,
            "count": 0
           }
          ]
         }
        },
        {
         "name": "job_technician",
         "dtype": "float64",
         "stats": {
          "unique_count": 2,
          "nan_count": 0,
          "min": "0.0",
          "max": "1.0",
          "histogram": [
           {
            "bin_start": 0,
            "bin_end": 0.1,
            "count": 4
           },
           {
            "bin_start": 0.1,
            "bin_end": 0.2,
            "count": 0
           },
           {
            "bin_start": 0.2,
            "bin_end": 0.30000000000000004,
            "count": 0
           },
           {
            "bin_start": 0.30000000000000004,
            "bin_end": 0.4,
            "count": 0
           },
           {
            "bin_start": 0.4,
            "bin_end": 0.5,
            "count": 0
           },
           {
            "bin_start": 0.5,
            "bin_end": 0.6000000000000001,
            "count": 0
           },
           {
            "bin_start": 0.6000000000000001,
            "bin_end": 0.7000000000000001,
            "count": 0
           },
           {
            "bin_start": 0.7000000000000001,
            "bin_end": 0.8,
            "count": 0
           },
           {
            "bin_start": 0.8,
            "bin_end": 0.9,
            "count": 0
           },
           {
            "bin_start": 0.9,
            "bin_end": 1,
            "count": 1
           }
          ]
         }
        },
        {
         "name": "job_unemployed",
         "dtype": "float64",
         "stats": {
          "unique_count": 1,
          "nan_count": 0,
          "min": "0.0",
          "max": "0.0",
          "histogram": [
           {
            "bin_start": -0.5,
            "bin_end": -0.4,
            "count": 0
           },
           {
            "bin_start": -0.4,
            "bin_end": -0.3,
            "count": 0
           },
           {
            "bin_start": -0.3,
            "bin_end": -0.19999999999999996,
            "count": 0
           },
           {
            "bin_start": -0.19999999999999996,
            "bin_end": -0.09999999999999998,
            "count": 0
           },
           {
            "bin_start": -0.09999999999999998,
            "bin_end": 0,
            "count": 0
           },
           {
            "bin_start": 0,
            "bin_end": 0.10000000000000009,
            "count": 5
           },
           {
            "bin_start": 0.10000000000000009,
            "bin_end": 0.20000000000000007,
            "count": 0
           },
           {
            "bin_start": 0.20000000000000007,
            "bin_end": 0.30000000000000004,
            "count": 0
           },
           {
            "bin_start": 0.30000000000000004,
            "bin_end": 0.4,
            "count": 0
           },
           {
            "bin_start": 0.4,
            "bin_end": 0.5,
            "count": 0
           }
          ]
         }
        },
        {
         "name": "marital_divorced",
         "dtype": "float64",
         "stats": {
          "unique_count": 1,
          "nan_count": 0,
          "min": "0.0",
          "max": "0.0",
          "histogram": [
           {
            "bin_start": -0.5,
            "bin_end": -0.4,
            "count": 0
           },
           {
            "bin_start": -0.4,
            "bin_end": -0.3,
            "count": 0
           },
           {
            "bin_start": -0.3,
            "bin_end": -0.19999999999999996,
            "count": 0
           },
           {
            "bin_start": -0.19999999999999996,
            "bin_end": -0.09999999999999998,
            "count": 0
           },
           {
            "bin_start": -0.09999999999999998,
            "bin_end": 0,
            "count": 0
           },
           {
            "bin_start": 0,
            "bin_end": 0.10000000000000009,
            "count": 5
           },
           {
            "bin_start": 0.10000000000000009,
            "bin_end": 0.20000000000000007,
            "count": 0
           },
           {
            "bin_start": 0.20000000000000007,
            "bin_end": 0.30000000000000004,
            "count": 0
           },
           {
            "bin_start": 0.30000000000000004,
            "bin_end": 0.4,
            "count": 0
           },
           {
            "bin_start": 0.4,
            "bin_end": 0.5,
            "count": 0
           }
          ]
         }
        },
        {
         "name": "marital_married",
         "dtype": "float64",
         "stats": {
          "unique_count": 2,
          "nan_count": 0,
          "min": "0.0",
          "max": "1.0",
          "histogram": [
           {
            "bin_start": 0,
            "bin_end": 0.1,
            "count": 2
           },
           {
            "bin_start": 0.1,
            "bin_end": 0.2,
            "count": 0
           },
           {
            "bin_start": 0.2,
            "bin_end": 0.30000000000000004,
            "count": 0
           },
           {
            "bin_start": 0.30000000000000004,
            "bin_end": 0.4,
            "count": 0
           },
           {
            "bin_start": 0.4,
            "bin_end": 0.5,
            "count": 0
           },
           {
            "bin_start": 0.5,
            "bin_end": 0.6000000000000001,
            "count": 0
           },
           {
            "bin_start": 0.6000000000000001,
            "bin_end": 0.7000000000000001,
            "count": 0
           },
           {
            "bin_start": 0.7000000000000001,
            "bin_end": 0.8,
            "count": 0
           },
           {
            "bin_start": 0.8,
            "bin_end": 0.9,
            "count": 0
           },
           {
            "bin_start": 0.9,
            "bin_end": 1,
            "count": 3
           }
          ]
         }
        },
        {
         "name": "marital_single",
         "dtype": "float64",
         "stats": {
          "unique_count": 2,
          "nan_count": 0,
          "min": "0.0",
          "max": "1.0",
          "histogram": [
           {
            "bin_start": 0,
            "bin_end": 0.1,
            "count": 3
           },
           {
            "bin_start": 0.1,
            "bin_end": 0.2,
            "count": 0
           },
           {
            "bin_start": 0.2,
            "bin_end": 0.30000000000000004,
            "count": 0
           },
           {
            "bin_start": 0.30000000000000004,
            "bin_end": 0.4,
            "count": 0
           },
           {
            "bin_start": 0.4,
            "bin_end": 0.5,
            "count": 0
           },
           {
            "bin_start": 0.5,
            "bin_end": 0.6000000000000001,
            "count": 0
           },
           {
            "bin_start": 0.6000000000000001,
            "bin_end": 0.7000000000000001,
            "count": 0
           },
           {
            "bin_start": 0.7000000000000001,
            "bin_end": 0.8,
            "count": 0
           },
           {
            "bin_start": 0.8,
            "bin_end": 0.9,
            "count": 0
           },
           {
            "bin_start": 0.9,
            "bin_end": 1,
            "count": 2
           }
          ]
         }
        },
        {
         "name": "_deepnote_index_column",
         "dtype": "int64"
        }
       ],
       "rows": [
        {
         "age": 58,
         "job": "management",
         "marital": "married",
         "education": "tertiary",
         "default": "no",
         "balance": 3,
         "housing": "yes",
         "loan": "no",
         "contact": "cellular",
         "day": 5,
         "month": "may",
         "duration": 2,
         "campaign": 1,
         "previouslycontacted": 0,
         "previous": 0,
         "y": "no",
         "year": 2008,
         "dayOfWk": 0,
         "job_admin.": 0,
         "job_blue-collar": 0,
         "job_entrepreneur": 0,
         "job_housemaid": 0,
         "job_management": 1,
         "job_retired": 0,
         "job_self-employed": 0,
         "job_services": 0,
         "job_student": 0,
         "job_technician": 0,
         "job_unemployed": 0,
         "marital_divorced": 0,
         "marital_married": 1,
         "marital_single": 0,
         "_deepnote_index_column": 0
        },
        {
         "age": 44,
         "job": "technician",
         "marital": "single",
         "education": "secondary",
         "default": "no",
         "balance": 0,
         "housing": "yes",
         "loan": "no",
         "contact": "cellular",
         "day": 5,
         "month": "may",
         "duration": 1,
         "campaign": 1,
         "previouslycontacted": 0,
         "previous": 0,
         "y": "no",
         "year": 2008,
         "dayOfWk": 0,
         "job_admin.": 0,
         "job_blue-collar": 0,
         "job_entrepreneur": 0,
         "job_housemaid": 0,
         "job_management": 0,
         "job_retired": 0,
         "job_self-employed": 0,
         "job_services": 0,
         "job_student": 0,
         "job_technician": 1,
         "job_unemployed": 0,
         "marital_divorced": 0,
         "marital_married": 0,
         "marital_single": 1,
         "_deepnote_index_column": 1
        },
        {
         "age": 33,
         "job": "entrepreneur",
         "marital": "married",
         "education": "secondary",
         "default": "no",
         "balance": 0,
         "housing": "yes",
         "loan": "yes",
         "contact": "cellular",
         "day": 5,
         "month": "may",
         "duration": 0,
         "campaign": 1,
         "previouslycontacted": 0,
         "previous": 0,
         "y": "no",
         "year": 2008,
         "dayOfWk": 0,
         "job_admin.": 0,
         "job_blue-collar": 0,
         "job_entrepreneur": 1,
         "job_housemaid": 0,
         "job_management": 0,
         "job_retired": 0,
         "job_self-employed": 0,
         "job_services": 0,
         "job_student": 0,
         "job_technician": 0,
         "job_unemployed": 0,
         "marital_divorced": 0,
         "marital_married": 1,
         "marital_single": 0,
         "_deepnote_index_column": 2
        },
        {
         "age": 47,
         "job": "blue-collar",
         "marital": "married",
         "education": "tertiary",
         "default": "no",
         "balance": 3,
         "housing": "yes",
         "loan": "no",
         "contact": "cellular",
         "day": 5,
         "month": "may",
         "duration": 0,
         "campaign": 1,
         "previouslycontacted": 0,
         "previous": 0,
         "y": "no",
         "year": 2008,
         "dayOfWk": 0,
         "job_admin.": 0,
         "job_blue-collar": 1,
         "job_entrepreneur": 0,
         "job_housemaid": 0,
         "job_management": 0,
         "job_retired": 0,
         "job_self-employed": 0,
         "job_services": 0,
         "job_student": 0,
         "job_technician": 0,
         "job_unemployed": 0,
         "marital_divorced": 0,
         "marital_married": 1,
         "marital_single": 0,
         "_deepnote_index_column": 3
        },
        {
         "age": 33,
         "job": "management",
         "marital": "single",
         "education": "tertiary",
         "default": "no",
         "balance": 0,
         "housing": "no",
         "loan": "no",
         "contact": "cellular",
         "day": 5,
         "month": "may",
         "duration": 2,
         "campaign": 1,
         "previouslycontacted": 0,
         "previous": 0,
         "y": "no",
         "year": 2008,
         "dayOfWk": 0,
         "job_admin.": 0,
         "job_blue-collar": 0,
         "job_entrepreneur": 0,
         "job_housemaid": 0,
         "job_management": 1,
         "job_retired": 0,
         "job_self-employed": 0,
         "job_services": 0,
         "job_student": 0,
         "job_technician": 0,
         "job_unemployed": 0,
         "marital_divorced": 0,
         "marital_married": 0,
         "marital_single": 1,
         "_deepnote_index_column": 4
        }
       ]
      },
      "text/plain": "   age           job  marital  education default  balance housing loan  \\\n0   58    management  married   tertiary      no        3     yes   no   \n1   44    technician   single  secondary      no        0     yes   no   \n2   33  entrepreneur  married  secondary      no        0     yes  yes   \n3   47   blue-collar  married   tertiary      no        3     yes   no   \n4   33    management   single   tertiary      no        0      no   no   \n\n    contact  day  ... job_management  job_retired  job_self-employed  \\\n0  cellular    5  ...            1.0          0.0                0.0   \n1  cellular    5  ...            0.0          0.0                0.0   \n2  cellular    5  ...            0.0          0.0                0.0   \n3  cellular    5  ...            0.0          0.0                0.0   \n4  cellular    5  ...            1.0          0.0                0.0   \n\n   job_services  job_student job_technician  job_unemployed  marital_divorced  \\\n0           0.0          0.0            0.0             0.0               0.0   \n1           0.0          0.0            1.0             0.0               0.0   \n2           0.0          0.0            0.0             0.0               0.0   \n3           0.0          0.0            0.0             0.0               0.0   \n4           0.0          0.0            0.0             0.0               0.0   \n\n   marital_married  marital_single  \n0              1.0             0.0  \n1              0.0             1.0  \n2              1.0             0.0  \n3              1.0             0.0  \n4              0.0             1.0  \n\n[5 rows x 32 columns]",
      "text/html": "<div>\n<style scoped>\n    .dataframe tbody tr th:only-of-type {\n        vertical-align: middle;\n    }\n\n    .dataframe tbody tr th {\n        vertical-align: top;\n    }\n\n    .dataframe thead th {\n        text-align: right;\n    }\n</style>\n<table border=\"1\" class=\"dataframe\">\n  <thead>\n    <tr style=\"text-align: right;\">\n      <th></th>\n      <th>age</th>\n      <th>job</th>\n      <th>marital</th>\n      <th>education</th>\n      <th>default</th>\n      <th>balance</th>\n      <th>housing</th>\n      <th>loan</th>\n      <th>contact</th>\n      <th>day</th>\n      <th>...</th>\n      <th>job_management</th>\n      <th>job_retired</th>\n      <th>job_self-employed</th>\n      <th>job_services</th>\n      <th>job_student</th>\n      <th>job_technician</th>\n      <th>job_unemployed</th>\n      <th>marital_divorced</th>\n      <th>marital_married</th>\n      <th>marital_single</th>\n    </tr>\n  </thead>\n  <tbody>\n    <tr>\n      <th>0</th>\n      <td>58</td>\n      <td>management</td>\n      <td>married</td>\n      <td>tertiary</td>\n      <td>no</td>\n      <td>3</td>\n      <td>yes</td>\n      <td>no</td>\n      <td>cellular</td>\n      <td>5</td>\n      <td>...</td>\n      <td>1.0</td>\n      <td>0.0</td>\n      <td>0.0</td>\n      <td>0.0</td>\n      <td>0.0</td>\n      <td>0.0</td>\n      <td>0.0</td>\n      <td>0.0</td>\n      <td>1.0</td>\n      <td>0.0</td>\n    </tr>\n    <tr>\n      <th>1</th>\n      <td>44</td>\n      <td>technician</td>\n      <td>single</td>\n      <td>secondary</td>\n      <td>no</td>\n      <td>0</td>\n      <td>yes</td>\n      <td>no</td>\n      <td>cellular</td>\n      <td>5</td>\n      <td>...</td>\n      <td>0.0</td>\n      <td>0.0</td>\n      <td>0.0</td>\n      <td>0.0</td>\n      <td>0.0</td>\n      <td>1.0</td>\n      <td>0.0</td>\n      <td>0.0</td>\n      <td>0.0</td>\n      <td>1.0</td>\n    </tr>\n    <tr>\n      <th>2</th>\n      <td>33</td>\n      <td>entrepreneur</td>\n      <td>married</td>\n      <td>secondary</td>\n      <td>no</td>\n      <td>0</td>\n      <td>yes</td>\n      <td>yes</td>\n      <td>cellular</td>\n      <td>5</td>\n      <td>...</td>\n      <td>0.0</td>\n      <td>0.0</td>\n      <td>0.0</td>\n      <td>0.0</td>\n      <td>0.0</td>\n      <td>0.0</td>\n      <td>0.0</td>\n      <td>0.0</td>\n      <td>1.0</td>\n      <td>0.0</td>\n    </tr>\n    <tr>\n      <th>3</th>\n      <td>47</td>\n      <td>blue-collar</td>\n      <td>married</td>\n      <td>tertiary</td>\n      <td>no</td>\n      <td>3</td>\n      <td>yes</td>\n      <td>no</td>\n      <td>cellular</td>\n      <td>5</td>\n      <td>...</td>\n      <td>0.0</td>\n      <td>0.0</td>\n      <td>0.0</td>\n      <td>0.0</td>\n      <td>0.0</td>\n      <td>0.0</td>\n      <td>0.0</td>\n      <td>0.0</td>\n      <td>1.0</td>\n      <td>0.0</td>\n    </tr>\n    <tr>\n      <th>4</th>\n      <td>33</td>\n      <td>management</td>\n      <td>single</td>\n      <td>tertiary</td>\n      <td>no</td>\n      <td>0</td>\n      <td>no</td>\n      <td>no</td>\n      <td>cellular</td>\n      <td>5</td>\n      <td>...</td>\n      <td>1.0</td>\n      <td>0.0</td>\n      <td>0.0</td>\n      <td>0.0</td>\n      <td>0.0</td>\n      <td>0.0</td>\n      <td>0.0</td>\n      <td>0.0</td>\n      <td>0.0</td>\n      <td>1.0</td>\n    </tr>\n  </tbody>\n</table>\n<p>5 rows × 32 columns</p>\n</div>"
     },
     "metadata": {}
    }
   ]
  },
  {
   "cell_type": "code",
   "metadata": {
    "cell_id": "69931958113640c7839c945d06d5dc5b",
    "tags": [],
    "deepnote_to_be_reexecuted": false,
    "source_hash": "bf50933e",
    "execution_start": 1650828302411,
    "execution_millis": 8,
    "deepnote_cell_type": "code",
    "deepnote_cell_height": 454.34375
   },
   "source": "from calendar import month_abbr\n# Converting Ordinal Columns\n# monthMap = [m.lower() for m in month_abbr]\ndf['month'] = df['month'].map(monthToNum)\n\neducationToNum = {\"primary\": 1, \"secondary\": 2, \"tertiary\": 3}\ndf['education'] = df['education'].map(educationToNum)\nprint(df['education'])",
   "execution_count": 48,
   "outputs": [
    {
     "name": "stdout",
     "text": "0        3\n1        2\n2        2\n3        3\n4        3\n        ..\n45206    3\n45207    1\n45208    2\n45209    2\n45210    2\nName: education, Length: 45211, dtype: int64\n",
     "output_type": "stream"
    }
   ]
  },
  {
   "cell_type": "markdown",
   "source": "#### Binary Categorical Variables\n\nLet us map all binary categorical variables (including y) so that \"yes\" = 1, and \"no\" = 0.\n\nAdditionally, let contact be mapped so that \"cellular\" = 1 and \"telephone\" = 0",
   "metadata": {
    "cell_id": "d09d5780b2cd44cdbcf71f7ca2ad7d4a",
    "tags": [],
    "deepnote_cell_type": "markdown",
    "deepnote_cell_height": 124.796875
   }
  },
  {
   "cell_type": "code",
   "metadata": {
    "cell_id": "b142bc32fcf84385abde014cb583b401",
    "tags": [],
    "deepnote_to_be_reexecuted": false,
    "source_hash": "95cf7659",
    "execution_start": 1650828302424,
    "execution_millis": 154,
    "deepnote_cell_type": "code",
    "deepnote_cell_height": 557
   },
   "source": "# includes label\nbinary_categorical = ['default','housing','loan','y']\n\nfor col in binary_categorical:\n    df[col] = df[col].map({'yes': 1, 'no': 0})\n\n# includes contact because we removed the \"other\" value\ndf['contact'] = df['contact'].map({'cellular': 1, 'telephone': 0})\n\ndf[binary_categorical + ['contact']].head()",
   "execution_count": 49,
   "outputs": [
    {
     "output_type": "execute_result",
     "execution_count": 49,
     "data": {
      "application/vnd.deepnote.dataframe.v3+json": {
       "column_count": 5,
       "row_count": 5,
       "columns": [
        {
         "name": "default",
         "dtype": "int64",
         "stats": {
          "unique_count": 1,
          "nan_count": 0,
          "min": "0",
          "max": "0",
          "histogram": [
           {
            "bin_start": -0.5,
            "bin_end": -0.4,
            "count": 0
           },
           {
            "bin_start": -0.4,
            "bin_end": -0.3,
            "count": 0
           },
           {
            "bin_start": -0.3,
            "bin_end": -0.19999999999999996,
            "count": 0
           },
           {
            "bin_start": -0.19999999999999996,
            "bin_end": -0.09999999999999998,
            "count": 0
           },
           {
            "bin_start": -0.09999999999999998,
            "bin_end": 0,
            "count": 0
           },
           {
            "bin_start": 0,
            "bin_end": 0.10000000000000009,
            "count": 5
           },
           {
            "bin_start": 0.10000000000000009,
            "bin_end": 0.20000000000000007,
            "count": 0
           },
           {
            "bin_start": 0.20000000000000007,
            "bin_end": 0.30000000000000004,
            "count": 0
           },
           {
            "bin_start": 0.30000000000000004,
            "bin_end": 0.4,
            "count": 0
           },
           {
            "bin_start": 0.4,
            "bin_end": 0.5,
            "count": 0
           }
          ]
         }
        },
        {
         "name": "housing",
         "dtype": "int64",
         "stats": {
          "unique_count": 2,
          "nan_count": 0,
          "min": "0",
          "max": "1",
          "histogram": [
           {
            "bin_start": 0,
            "bin_end": 0.1,
            "count": 1
           },
           {
            "bin_start": 0.1,
            "bin_end": 0.2,
            "count": 0
           },
           {
            "bin_start": 0.2,
            "bin_end": 0.30000000000000004,
            "count": 0
           },
           {
            "bin_start": 0.30000000000000004,
            "bin_end": 0.4,
            "count": 0
           },
           {
            "bin_start": 0.4,
            "bin_end": 0.5,
            "count": 0
           },
           {
            "bin_start": 0.5,
            "bin_end": 0.6000000000000001,
            "count": 0
           },
           {
            "bin_start": 0.6000000000000001,
            "bin_end": 0.7000000000000001,
            "count": 0
           },
           {
            "bin_start": 0.7000000000000001,
            "bin_end": 0.8,
            "count": 0
           },
           {
            "bin_start": 0.8,
            "bin_end": 0.9,
            "count": 0
           },
           {
            "bin_start": 0.9,
            "bin_end": 1,
            "count": 4
           }
          ]
         }
        },
        {
         "name": "loan",
         "dtype": "int64",
         "stats": {
          "unique_count": 2,
          "nan_count": 0,
          "min": "0",
          "max": "1",
          "histogram": [
           {
            "bin_start": 0,
            "bin_end": 0.1,
            "count": 4
           },
           {
            "bin_start": 0.1,
            "bin_end": 0.2,
            "count": 0
           },
           {
            "bin_start": 0.2,
            "bin_end": 0.30000000000000004,
            "count": 0
           },
           {
            "bin_start": 0.30000000000000004,
            "bin_end": 0.4,
            "count": 0
           },
           {
            "bin_start": 0.4,
            "bin_end": 0.5,
            "count": 0
           },
           {
            "bin_start": 0.5,
            "bin_end": 0.6000000000000001,
            "count": 0
           },
           {
            "bin_start": 0.6000000000000001,
            "bin_end": 0.7000000000000001,
            "count": 0
           },
           {
            "bin_start": 0.7000000000000001,
            "bin_end": 0.8,
            "count": 0
           },
           {
            "bin_start": 0.8,
            "bin_end": 0.9,
            "count": 0
           },
           {
            "bin_start": 0.9,
            "bin_end": 1,
            "count": 1
           }
          ]
         }
        },
        {
         "name": "y",
         "dtype": "int64",
         "stats": {
          "unique_count": 1,
          "nan_count": 0,
          "min": "0",
          "max": "0",
          "histogram": [
           {
            "bin_start": -0.5,
            "bin_end": -0.4,
            "count": 0
           },
           {
            "bin_start": -0.4,
            "bin_end": -0.3,
            "count": 0
           },
           {
            "bin_start": -0.3,
            "bin_end": -0.19999999999999996,
            "count": 0
           },
           {
            "bin_start": -0.19999999999999996,
            "bin_end": -0.09999999999999998,
            "count": 0
           },
           {
            "bin_start": -0.09999999999999998,
            "bin_end": 0,
            "count": 0
           },
           {
            "bin_start": 0,
            "bin_end": 0.10000000000000009,
            "count": 5
           },
           {
            "bin_start": 0.10000000000000009,
            "bin_end": 0.20000000000000007,
            "count": 0
           },
           {
            "bin_start": 0.20000000000000007,
            "bin_end": 0.30000000000000004,
            "count": 0
           },
           {
            "bin_start": 0.30000000000000004,
            "bin_end": 0.4,
            "count": 0
           },
           {
            "bin_start": 0.4,
            "bin_end": 0.5,
            "count": 0
           }
          ]
         }
        },
        {
         "name": "contact",
         "dtype": "int64",
         "stats": {
          "unique_count": 1,
          "nan_count": 0,
          "min": "1",
          "max": "1",
          "histogram": [
           {
            "bin_start": 0.5,
            "bin_end": 0.6,
            "count": 0
           },
           {
            "bin_start": 0.6,
            "bin_end": 0.7,
            "count": 0
           },
           {
            "bin_start": 0.7,
            "bin_end": 0.8,
            "count": 0
           },
           {
            "bin_start": 0.8,
            "bin_end": 0.9,
            "count": 0
           },
           {
            "bin_start": 0.9,
            "bin_end": 1,
            "count": 0
           },
           {
            "bin_start": 1,
            "bin_end": 1.1,
            "count": 5
           },
           {
            "bin_start": 1.1,
            "bin_end": 1.2000000000000002,
            "count": 0
           },
           {
            "bin_start": 1.2000000000000002,
            "bin_end": 1.3,
            "count": 0
           },
           {
            "bin_start": 1.3,
            "bin_end": 1.4,
            "count": 0
           },
           {
            "bin_start": 1.4,
            "bin_end": 1.5,
            "count": 0
           }
          ]
         }
        },
        {
         "name": "_deepnote_index_column",
         "dtype": "int64"
        }
       ],
       "rows": [
        {
         "default": 0,
         "housing": 1,
         "loan": 0,
         "y": 0,
         "contact": 1,
         "_deepnote_index_column": 0
        },
        {
         "default": 0,
         "housing": 1,
         "loan": 0,
         "y": 0,
         "contact": 1,
         "_deepnote_index_column": 1
        },
        {
         "default": 0,
         "housing": 1,
         "loan": 1,
         "y": 0,
         "contact": 1,
         "_deepnote_index_column": 2
        },
        {
         "default": 0,
         "housing": 1,
         "loan": 0,
         "y": 0,
         "contact": 1,
         "_deepnote_index_column": 3
        },
        {
         "default": 0,
         "housing": 0,
         "loan": 0,
         "y": 0,
         "contact": 1,
         "_deepnote_index_column": 4
        }
       ]
      },
      "text/plain": "   default  housing  loan  y  contact\n0        0        1     0  0        1\n1        0        1     0  0        1\n2        0        1     1  0        1\n3        0        1     0  0        1\n4        0        0     0  0        1",
      "text/html": "<div>\n<style scoped>\n    .dataframe tbody tr th:only-of-type {\n        vertical-align: middle;\n    }\n\n    .dataframe tbody tr th {\n        vertical-align: top;\n    }\n\n    .dataframe thead th {\n        text-align: right;\n    }\n</style>\n<table border=\"1\" class=\"dataframe\">\n  <thead>\n    <tr style=\"text-align: right;\">\n      <th></th>\n      <th>default</th>\n      <th>housing</th>\n      <th>loan</th>\n      <th>y</th>\n      <th>contact</th>\n    </tr>\n  </thead>\n  <tbody>\n    <tr>\n      <th>0</th>\n      <td>0</td>\n      <td>1</td>\n      <td>0</td>\n      <td>0</td>\n      <td>1</td>\n    </tr>\n    <tr>\n      <th>1</th>\n      <td>0</td>\n      <td>1</td>\n      <td>0</td>\n      <td>0</td>\n      <td>1</td>\n    </tr>\n    <tr>\n      <th>2</th>\n      <td>0</td>\n      <td>1</td>\n      <td>1</td>\n      <td>0</td>\n      <td>1</td>\n    </tr>\n    <tr>\n      <th>3</th>\n      <td>0</td>\n      <td>1</td>\n      <td>0</td>\n      <td>0</td>\n      <td>1</td>\n    </tr>\n    <tr>\n      <th>4</th>\n      <td>0</td>\n      <td>0</td>\n      <td>0</td>\n      <td>0</td>\n      <td>1</td>\n    </tr>\n  </tbody>\n</table>\n</div>"
     },
     "metadata": {}
    }
   ]
  },
  {
   "cell_type": "markdown",
   "source": "## SMOTE\n\nAs mentioned before, we should run SMOTE on our dataset since there is a class imbalance between the distribution of yes and no.",
   "metadata": {
    "cell_id": "9c9420f04c694785ad197fb6662121cb",
    "tags": [],
    "deepnote_cell_type": "markdown",
    "deepnote_cell_height": 130.796875
   }
  },
  {
   "cell_type": "code",
   "metadata": {
    "cell_id": "38fe8210deb04d8cb80f75004a5e9e9a",
    "tags": [],
    "deepnote_to_be_reexecuted": false,
    "source_hash": "d168acc4",
    "execution_start": 1650828302547,
    "execution_millis": 1,
    "deepnote_cell_type": "code",
    "deepnote_cell_height": 135
   },
   "source": "from imblearn.over_sampling import SMOTE\nfrom imblearn.pipeline import make_pipeline\nfrom sklearn.metrics import classification_report\nfrom sklearn.model_selection import train_test_split",
   "execution_count": 50,
   "outputs": []
  },
  {
   "cell_type": "code",
   "metadata": {
    "cell_id": "180d4663c7d74c03aeeb055e4a8ddb8f",
    "tags": [],
    "deepnote_to_be_reexecuted": false,
    "source_hash": "248ae71c",
    "execution_start": 1650828302549,
    "execution_millis": 733,
    "deepnote_cell_type": "code",
    "deepnote_cell_height": 388.46875
   },
   "source": "# SMOTE-IFIED DATA\nfeatures = df.drop(columns=['job', 'marital', 'y'])\nlabels = df['y']\n\nX_train, X_test, y_train, y_test = train_test_split(features, labels, test_size=0.20)\n\nsm = SMOTE()\nX_sm, y_sm = sm.fit_resample(features, labels)\nprint(type(X_sm))\n\nprint(y_sm.value_counts())\nprint(len(X_sm))",
   "execution_count": 51,
   "outputs": [
    {
     "name": "stdout",
     "text": "<class 'pandas.core.frame.DataFrame'>\n0    39922\n1    39922\nName: y, dtype: int64\n79844\n",
     "output_type": "stream"
    }
   ]
  },
  {
   "cell_type": "markdown",
   "source": "## Modeling and Results\n\nFinally, we can start to perform modeling on our data. Below shows the fruit of our labor. We will display the results as we go.",
   "metadata": {
    "cell_id": "00018-5db3c493-768b-412a-9283-1574a8c213f5",
    "id": "2iF3Kgj6I_ul",
    "deepnote_cell_type": "markdown",
    "deepnote_cell_height": 108.390625
   }
  },
  {
   "cell_type": "code",
   "metadata": {
    "cell_id": "e0bffadcd8364741b0d0670bb5215881",
    "tags": [],
    "deepnote_to_be_reexecuted": false,
    "source_hash": "8f83df7e",
    "execution_start": 1650828303299,
    "execution_millis": 0,
    "deepnote_cell_type": "code",
    "deepnote_cell_height": 459
   },
   "source": "# IMPORTS\nfrom sklearn.model_selection import train_test_split\nfrom sklearn.tree import DecisionTreeClassifier\nfrom sklearn.model_selection import GridSearchCV\nfrom sklearn.model_selection import cross_val_score\nfrom sklearn.naive_bayes import GaussianNB\nfrom sklearn.model_selection import cross_val_predict\nfrom sklearn.metrics import classification_report\nfrom sklearn.decomposition import PCA\nfrom sklearn.neighbors import KNeighborsClassifier\nfrom sklearn.pipeline import Pipeline\nfrom sklearn.preprocessing import StandardScaler\nfrom sklearn.neural_network import MLPClassifier\nfrom warnings import simplefilter\nfrom sklearn.exceptions import ConvergenceWarning\nfrom sklearn.model_selection import RandomizedSearchCV\nfrom sklearn.datasets import load_iris\nfrom sklearn.linear_model import LogisticRegression\nfrom scipy.stats import uniform\nfrom sklearn.pipeline import Pipeline\nfrom sklearn.svm import SVC\n",
   "execution_count": 52,
   "outputs": []
  },
  {
   "cell_type": "code",
   "metadata": {
    "cell_id": "a2f04c36b041411cbe353e872047f752",
    "tags": [],
    "deepnote_to_be_reexecuted": false,
    "source_hash": "700a985e",
    "execution_start": 1650828303300,
    "execution_millis": 649,
    "deepnote_cell_type": "code",
    "deepnote_cell_height": 755
   },
   "source": "print(features.head())\nprint(labels)\nprint(features.dtypes)\nprint(len(features.columns))",
   "execution_count": 53,
   "outputs": [
    {
     "name": "stdout",
     "text": "   age  education  default  balance  housing  loan  contact  day  month  \\\n0   58          3        0        3        1     0        1    5      5   \n1   44          2        0        0        1     0        1    5      5   \n2   33          2        0        0        1     1        1    5      5   \n3   47          3        0        3        1     0        1    5      5   \n4   33          3        0        0        0     0        1    5      5   \n\n   duration  ...  job_management  job_retired  job_self-employed  \\\n0         2  ...             1.0          0.0                0.0   \n1         1  ...             0.0          0.0                0.0   \n2         0  ...             0.0          0.0                0.0   \n3         0  ...             0.0          0.0                0.0   \n4         2  ...             1.0          0.0                0.0   \n\n   job_services  job_student  job_technician  job_unemployed  \\\n0           0.0          0.0             0.0             0.0   \n1           0.0          0.0             1.0             0.0   \n2           0.0          0.0             0.0             0.0   \n3           0.0          0.0             0.0             0.0   \n4           0.0          0.0             0.0             0.0   \n\n   marital_divorced  marital_married  marital_single  \n0               0.0              1.0             0.0  \n1               0.0              0.0             1.0  \n2               0.0              1.0             0.0  \n3               0.0              1.0             0.0  \n4               0.0              0.0             1.0  \n\n[5 rows x 29 columns]\n0        0\n1        0\n2        0\n3        0\n4        0\n        ..\n45206    1\n45207    1\n45208    1\n45209    0\n45210    0\nName: y, Length: 45211, dtype: int64\nage                      int64\neducation                int64\ndefault                  int64\nbalance                  int64\nhousing                  int64\nloan                     int64\ncontact                  int64\nday                      int64\nmonth                    int64\nduration                 int64\ncampaign                 int64\npreviouslycontacted      int64\nprevious                 int64\nyear                     int64\ndayOfWk                  int64\njob_admin.             float64\njob_blue-collar        float64\njob_entrepreneur       float64\njob_housemaid          float64\njob_management         float64\njob_retired            float64\njob_self-employed      float64\njob_services           float64\njob_student            float64\njob_technician         float64\njob_unemployed         float64\nmarital_divorced       float64\nmarital_married        float64\nmarital_single         float64\ndtype: object\n29\n",
     "output_type": "stream"
    }
   ]
  },
  {
   "cell_type": "markdown",
   "source": "### Decision Tree\n\nStarting off with the decision tree classifier, we perform a full grid search CV to find the best parameters for the decision tree. We then perform the cross validation loop and check our metrics.",
   "metadata": {
    "cell_id": "ca566f9312404dafa7a8bcaa2dffdbac",
    "tags": [],
    "deepnote_cell_type": "markdown",
    "deepnote_cell_height": 122.796875
   }
  },
  {
   "cell_type": "code",
   "metadata": {
    "cell_id": "8b26a1d7dd4b4a85a5cc8ef4dccd98cf",
    "deepnote_to_be_reexecuted": false,
    "execution_millis": 95957,
    "execution_start": 1650828303317,
    "source_hash": "bfe0e094",
    "tags": [],
    "deepnote_cell_type": "code",
    "deepnote_cell_height": 405
   },
   "source": "clf = DecisionTreeClassifier()\n\nparameters = {\n    \"max_depth\" : [1,2,3,4],\n    \"min_samples_leaf\": [1,2,3,4],\n    \"max_features\": [20, 25, 29]\n    }\n\ngrid_search = GridSearchCV(clf, parameters, cv=3, scoring='accuracy')\ngrid_search.fit(X_sm, y_sm)\n\nprint(grid_search.best_params_)\nprint(\"Accuracy:\", grid_search.best_score_*100)\nnested_score = cross_val_score(grid_search, X_sm, y_sm, cv=10)\nprint(\"Accuracy:\", nested_score.mean()*100)",
   "execution_count": 54,
   "outputs": [
    {
     "name": "stdout",
     "text": "{'max_depth': 3, 'max_features': 25, 'min_samples_leaf': 4}\nAccuracy: 67.63285367616635\nAccuracy: 65.11382172610719\n",
     "output_type": "stream"
    }
   ]
  },
  {
   "cell_type": "markdown",
   "source": "### Naive Bayes\n\nNext with Naive Bayes, we use a 10-fold cross validation to determine its effectiveness and print out accuracy and a classification report.",
   "metadata": {
    "cell_id": "0b4f128f5f7a446d953371a2485001ff",
    "tags": [],
    "deepnote_cell_type": "markdown",
    "deepnote_cell_height": 122.796875
   }
  },
  {
   "cell_type": "code",
   "metadata": {
    "cell_id": "6df5120fb7ef45f2bd2bc5c40b357810",
    "tags": [],
    "deepnote_to_be_reexecuted": false,
    "source_hash": "43a8d32",
    "execution_start": 1650828399273,
    "execution_millis": 1277,
    "deepnote_cell_type": "code",
    "deepnote_cell_height": 440
   },
   "source": "# Naive Bayes\nclf = GaussianNB()\nscores = cross_val_score(clf, X_sm, y_sm, cv=10)\nprint(\"Accuracy:\", scores.mean()*100)\n\n#Gives precision, recall, accuracy, etc\npredictions = cross_val_predict(clf, X_sm, y_sm, cv=10)\nprint(\"--Classification--\\n\", classification_report(y_sm, predictions))",
   "execution_count": 55,
   "outputs": [
    {
     "name": "stdout",
     "text": "Accuracy: 72.14913091681171\n--Classification--\n               precision    recall  f1-score   support\n\n           0       0.78      0.61      0.69     39922\n           1       0.68      0.83      0.75     39922\n\n    accuracy                           0.72     79844\n   macro avg       0.73      0.72      0.72     79844\nweighted avg       0.73      0.72      0.72     79844\n\n",
     "output_type": "stream"
    }
   ]
  },
  {
   "cell_type": "markdown",
   "source": "### KNN\n\nNow let's use a KNN classifier and see how it fares on our data. We must first scale our data to ensure the units of one column don't dominate another in distance calculations. We use a pipeline with PCA and perform cross validation with our KNN model to print out our accuracy.",
   "metadata": {
    "cell_id": "ae6cf8270cd842feb2b73df3052be427",
    "tags": [],
    "deepnote_cell_type": "markdown",
    "deepnote_cell_height": 145.1875
   }
  },
  {
   "cell_type": "code",
   "metadata": {
    "cell_id": "065979a0b91b4f9796d2a5dfe1f8edbc",
    "tags": [],
    "deepnote_to_be_reexecuted": false,
    "source_hash": "6e385ae0",
    "execution_start": 1650828400318,
    "execution_millis": 223616,
    "deepnote_cell_type": "code",
    "deepnote_cell_height": 458
   },
   "source": "# Knn and Pipelines\nscaler = StandardScaler()\nknn = KNeighborsClassifier()\npca = PCA()\npipe = Pipeline([('scaler', scaler), ('pca', pca), ('knn', knn)])\nscores = cross_val_score(pipe, X_sm, y_sm, cv=5)\nprint(\"Accuracy:\", scores.mean()*100)\npredictions = cross_val_predict(pipe, X_sm, y_sm, cv=10)\nprint(\"Classification report:\\n\", classification_report(y_sm, predictions))",
   "execution_count": 56,
   "outputs": [
    {
     "name": "stdout",
     "text": "Accuracy: 80.64339893701863\nClassification report:\n               precision    recall  f1-score   support\n\n           0       0.90      0.73      0.81     39922\n           1       0.78      0.92      0.84     39922\n\n    accuracy                           0.83     79844\n   macro avg       0.84      0.83      0.82     79844\nweighted avg       0.84      0.83      0.82     79844\n\n",
     "output_type": "stream"
    }
   ]
  },
  {
   "cell_type": "markdown",
   "source": "### Resampling\n\nThe following classifiers have a high time complexity. For example, nonlinear SVM training takes O(n_samples^2 * n_features) time. Unfortunately, we have about 80,000 records (augmented by SMOTE). Therefore, we are going to reduce the amount of samples we are working with for the rest of our modeling.",
   "metadata": {
    "cell_id": "d29c7f2917474fe589d76a05296ae446",
    "tags": [],
    "deepnote_cell_type": "markdown",
    "deepnote_cell_height": 145.1875
   }
  },
  {
   "cell_type": "code",
   "metadata": {
    "cell_id": "48d29d0dd77b487bbd6c1c6d0fee0632",
    "tags": [],
    "deepnote_to_be_reexecuted": false,
    "source_hash": "744bb233",
    "execution_start": 1650828623908,
    "execution_millis": 26,
    "deepnote_cell_type": "code",
    "deepnote_cell_height": 336.5625,
    "deepnote_output_heights": [
     59.5625,
     59.5625
    ]
   },
   "source": "# sampled = df.sample(n=5000, random_state=0)\n# features_sample = sampled\nsample_df = X_sm.sample(n=5000, random_state=0)\n# sample_labels = y_sm.\n# print(sample_df.head())\n# vectorize getting labels corresponding to each sampled feat\nsample_labels_df = y_sm.loc[sample_df.index]\n# print(sample_labels_df.head())\nsample_labels_df.value_counts()\n# for row in sample.index:\n#     sample_labels_df.y_sm.loc[row] ",
   "execution_count": 57,
   "outputs": [
    {
     "output_type": "execute_result",
     "execution_count": 57,
     "data": {
      "text/plain": "1    2599\n0    2401\nName: y, dtype: int64"
     },
     "metadata": {}
    }
   ]
  },
  {
   "cell_type": "markdown",
   "source": "### Neural Networks\n\nWe create a neural net model, with different hidden layer sizes and activation functions, determining which would perform that best with our data. We search parameters using a randomized search cv because that's faster than a full grid search cv. Finally we perform cross validation to determine the score of our model and print out our accuracy.",
   "metadata": {
    "cell_id": "f76f7f5651364269b6115b1e12d04f2b",
    "tags": [],
    "deepnote_cell_type": "markdown",
    "deepnote_cell_height": 145.1875
   }
  },
  {
   "cell_type": "code",
   "metadata": {
    "cell_id": "d8462388154f499ebb41178b18979069",
    "tags": [],
    "deepnote_to_be_reexecuted": false,
    "source_hash": "816eaecd",
    "execution_start": 1650828623909,
    "execution_millis": 617925,
    "deepnote_cell_type": "code",
    "deepnote_cell_height": 666.953125
   },
   "source": "# neural nets\n\nsimplefilter(\"ignore\", category=ConvergenceWarning)\nsimplefilter(\"ignore\", category=UserWarning)\n\nscaler = StandardScaler()\nmlp = MLPClassifier()\n\nparam_dist = {\n    'mlp__hidden_layer_sizes': [10,20],\n    'mlp__activation': ['logistic','tanh','relu']\n}\n\npipe = Pipeline([('scaler', scaler), ('mlp',mlp)])\nrandom_search = RandomizedSearchCV(pipe, param_dist, random_state=0, cv=5, scoring='accuracy')\n# clf = RandomizedSearchCV(pipe, param_dist, random_state=0)\n# grid_search = GridSearchCV(pipe, param_grid, cv=5, scoring='accuracy')\n\n# scores = cross_val_score(random_search, sample_df, sample_labels_df, cv=5)\n# print(\"Accuracy:\", scores.mean()*100)\npredicts = cross_val_predict(random_search, sample_df, sample_labels_df, cv=10)\nprint(\"Classification report\\n\", classification_report(sample_labels_df, predicts))",
   "execution_count": 58,
   "outputs": [
    {
     "name": "stdout",
     "text": "Classification report\n               precision    recall  f1-score   support\n\n           0       0.85      0.81      0.83      2401\n           1       0.84      0.87      0.85      2599\n\n    accuracy                           0.84      5000\n   macro avg       0.84      0.84      0.84      5000\nweighted avg       0.84      0.84      0.84      5000\n\n",
     "output_type": "stream"
    }
   ]
  },
  {
   "cell_type": "markdown",
   "source": "### SVM\n\nSimilarly, let's run the data through a SVM.",
   "metadata": {
    "cell_id": "3cb276a1706840b38b8adb55b8d8db80",
    "tags": [],
    "deepnote_cell_type": "markdown",
    "deepnote_cell_height": 100.390625
   }
  },
  {
   "cell_type": "code",
   "metadata": {
    "cell_id": "226c6a41146242afaa12460b4267fed4",
    "tags": [],
    "deepnote_to_be_reexecuted": false,
    "source_hash": "31e0a2b4",
    "execution_start": 1650826123160,
    "execution_millis": 432010,
    "owner_user_id": "b75644ab-37f7-453a-966f-cae3d30ff661",
    "deepnote_cell_type": "code",
    "deepnote_cell_height": 732
   },
   "source": "# svms\n\nsimplefilter(\"ignore\", category=UserWarning)\n\nsvc = SVC(probability=False,gamma='auto') # optimization parameters\n\nparam_dist = {\n    'pca__n_components': list(range(3, 6)),\n    'svc__kernel': ['linear','rbf','poly']\n}\n\npipe = Pipeline([('scaler', scaler), ('pca', pca), ('svc', svc)])\n\n# grid_search = GridSearchCV(pipe, param_grid, cv=5, scoring='accuracy')\nrandom_search = RandomizedSearchCV(pipe, param_dist, scoring='accuracy', random_state=0)\n\nscores = cross_val_score(random_search, sample_df, sample_labels_df, cv=5)\nprint(\"Accuracy: \", scores.mean()*100)\nprint()\n\npredict = cross_val_predict(random_search, sample_df, sample_labels_df, cv=10)\nprint(\"--Classification--\\n\", classification_report(sample_labels_df, predict))",
   "outputs": [
    {
     "name": "stdout",
     "text": "\nAccuracy:  76.14\n\n--Classification--\n               precision    recall  f1-score   support\n\n           0       0.77      0.73      0.75      2401\n           1       0.76      0.80      0.78      2599\n\n    accuracy                           0.76      5000\n   macro avg       0.76      0.76      0.76      5000\nweighted avg       0.76      0.76      0.76      5000\n\n",
     "output_type": "stream"
    }
   ],
   "execution_count": null
  },
  {
   "cell_type": "markdown",
   "source": "### Ensemble Classifiers\n\nFinally, we are going to use Random Forest and AdaBoost ensemble classifiers to end off our modeling.",
   "metadata": {
    "cell_id": "8f6c28ff471d4ce5a18f75049e483cfb",
    "tags": [],
    "deepnote_cell_type": "markdown",
    "deepnote_cell_height": 100.390625
   }
  },
  {
   "cell_type": "code",
   "metadata": {
    "cell_id": "cdd9dede5d9a45f09d2eec69927b65bc",
    "tags": [],
    "deepnote_to_be_reexecuted": false,
    "source_hash": "5006f894",
    "execution_start": 1650824252410,
    "execution_millis": 912180,
    "deepnote_cell_type": "code",
    "deepnote_cell_height": 364
   },
   "source": "from sklearn.ensemble import RandomForestClassifier\n\nrfc = RandomForestClassifier()\n\nsimplefilter(\"ignore\", category=UserWarning)\n\nparams_grid = {\n    'max_depth': list(range(35, 46)),\n    'min_samples_leaf': [8, 10, 12],\n    'max_features': ['sqrt', 'log2']\n}\n\nrandom_search = RandomizedSearchCV(rfc, params_grid, cv=5, scoring='accuracy')\nscores = cross_val_score(random_search, X_sm, y_sm, cv=5)\nprint('Accuracy:', scores.mean()*100)",
   "outputs": [
    {
     "name": "stdout",
     "text": "Accuracy: 71.56434393302857\n",
     "output_type": "stream"
    }
   ],
   "execution_count": null
  },
  {
   "cell_type": "code",
   "metadata": {
    "cell_id": "d8a469a8609d46c2875c819c694bcdf4",
    "tags": [],
    "deepnote_to_be_reexecuted": false,
    "source_hash": "e55ae5ca",
    "execution_start": 1650825164589,
    "execution_millis": 37248,
    "deepnote_cell_type": "code",
    "deepnote_cell_height": 166
   },
   "source": "from sklearn.ensemble import AdaBoostClassifier\nabc = AdaBoostClassifier(n_estimators=150)\nscores = cross_val_score(abc, X_sm, y_sm, cv=5)\nprint('Accuracy:', scores.mean()*100)",
   "outputs": [
    {
     "name": "stdout",
     "text": "Accuracy: 77.71137475025196\n",
     "output_type": "stream"
    }
   ],
   "execution_count": null
  },
  {
   "cell_type": "markdown",
   "source": "# Conclusion\n\nOverall, it seems that our neural network performed the best, with a positive class f-score of 0.85 and an overall accuracy of 84%. However, that is not to discredit our other classifiers, since they all performed at a >65% accuracy rate. Additionally, recall that our neural network only samples 5000 of the 80,000 SMOTE dataset.\n\nWhen it came to exploring and engineering our dataset, we were most proud of our Year and Day of the Week columns, since it relied on a very special characteristic from out dataset (being in date order). When it came to our numerical features, we found that most of their distributions were right-skewed, which tells an interesting story about the wealth gap among bank clients. Among our categorical features, we found the different challenges and nuances with unknown values to be very interesting, especially where we were able to estimate unknown jobs using education distributions and unknown educations using known jobs.\n\nWhat we learned from this experience was that choosing our classifiers was only a small part of the data science process. The more impactful questions that one must ask themselves are:\n\n- What are the distributions present in our dataset? If we do not have a normal distribution, how can we mitigate that?\n- What is the nature of each feature? Do we have any background knowledge to help us interpret it?\n- Where did the dataset come from? Is there any information about the dataset that isn't necessarily present in the .csv file?\n- How should we handle a class imbalance?\n\nFinally, when running our models we epxerienced the hard way that scikit learn does not handle large data sets well for models such as neural nets and svm, and takes an extremely long time to execute. Of course you would expect that larger data sets would take longer, espcially on neural nets and svm which use cross validation. All of those iterations can take a lot of time, but after exploring online it seems that scilit learn is not the best library to use for large data sets. We were able to make a few optimizations such as using RandomizedSearchCV instead of GridSearchCV and randomly sampling 5000 out of 80000 of our SMOTE data to make things run faster. Of course, we realize that the model can be overfitted for that particular sample of the data set, but since the whole data set might take a few hours, it was a decision we had to make. A potential future workaround to use when working with large data sets in sci kit learn, is to split up the data set and run our models in parallel on a cloud cluster machine. \n",
   "metadata": {
    "cell_id": "00019-2cce4ab0-56fe-4e11-a607-9e796549ec02",
    "id": "_-_Kr-MHI_ul",
    "owner_user_id": "788872ac-c70f-426b-9507-9e351744f417",
    "deepnote_cell_type": "markdown",
    "deepnote_cell_height": 1301.765625
   }
  },
  {
   "cell_type": "markdown",
   "source": "<a style='text-decoration:none;line-height:16px;display:flex;color:#5B5B62;padding:10px;justify-content:end;' href='https://deepnote.com?utm_source=created-in-deepnote-cell&projectId=825dc3e6-d277-4188-bb22-3ec9a91d5af7' target=\"_blank\">\n<img alt='Created in deepnote.com' style='display:inline;max-height:16px;margin:0px;margin-right:7.5px;' src='data:image/svg+xml;base64,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' > </img>\nCreated in <span style='font-weight:600;margin-left:4px;'>Deepnote</span></a>",
   "metadata": {
    "tags": [],
    "created_in_deepnote_cell": true,
    "deepnote_cell_type": "markdown"
   }
  }
 ],
 "nbformat": 4,
 "nbformat_minor": 0,
 "metadata": {
  "colab": {
   "name": "rpt.ipynb",
   "provenance": []
  },
  "deepnote": {},
  "deepnote_execution_queue": [],
  "deepnote_notebook_id": "42cc5831-019b-41da-95d0-a6881ce93dae",
  "interpreter": {
   "hash": "f602ad45f87f3f3b47aa6600b44585b7272b8f63c8c431471b0677e8a25fb840"
  },
  "kernelspec": {
   "display_name": "Python 3 (ipykernel)",
   "language": "python",
   "name": "python3"
  },
  "language_info": {
   "codemirror_mode": {
    "name": "ipython",
    "version": 3
   },
   "file_extension": ".py",
   "mimetype": "text/x-python",
   "name": "python",
   "nbconvert_exporter": "python",
   "pygments_lexer": "ipython3",
   "version": "3.9.7"
  }
 }
}