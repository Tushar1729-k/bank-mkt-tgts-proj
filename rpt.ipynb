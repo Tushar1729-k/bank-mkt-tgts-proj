{
 "cells": [
  {
   "cell_type": "markdown",
   "source": "# Banking Marketing Targets\n\nhttps://www.kaggle.com/datasets/prakharrathi25/banking-dataset-marketing-targets\n\nTushar (tk22994)\n\nNandu (nrv379)\n\nMehdi (ma57795)\n\nSean (sha567)",
   "metadata": {
    "cell_id": "ecb5ab6e-0d11-4cb8-9104-5fe56f293a06",
    "id": "JMU8ml64I_ub",
    "deepnote_cell_type": "markdown",
    "deepnote_cell_height": 288.34375
   }
  },
  {
   "cell_type": "markdown",
   "source": "## Introduction\n\nGiven direct marketing campaign data from a Portuguese banking institution, can we predict if a client will subscribe to a term deposit?\n\nA term deposit is a fixed-term investment that includes the deposit of money into an account at a financial institution. These investments usually carry short-term maturities ranging from just a month, to a couple years. A client's money is invested for a certain rate of interest over the whole term.\n\nTerm deposits also happen to be a significant source of income for banks. One way that banks will advertise term deposits is through telephonic marketing, which is considered to be one of the more viable marketing methods. However, telephonic marketing campaigns generate large costs through the hiring of call centers. Therefore, it is financially prudent for banks to figure out which customers are the most likely to convert first, and then proceed with targeting them with telephonic marketing after.",
   "metadata": {
    "cell_id": "00001-df6d0838-3ab7-490d-8af4-56004c1c1c26",
    "id": "ZLHch2nrI_uc",
    "deepnote_cell_type": "markdown",
    "deepnote_cell_height": 405.078125
   }
  },
  {
   "cell_type": "markdown",
   "source": "## Feature Descriptions\n\n### General Client Data\n\n* age - numeric\n\n* job - categorical\n\n* marital - marital status; categorical\n\n* education - categorical\n\n* default - binary categorical\n\n* balance - average yearly balance; numeric\n\n* housing - has housing loan; binary categorical\n\n* loan - has personal loan; binary categorical\n\n### Data related to last contact of the current campaign\n\n* contact - contact communication type; categorical\n\n* day - last contact day of the month; numerical\n\n* month - last contact month of the year; categorical\n\n* duration - last contact duration, in seconds; numeric\n\n* campaign - number of contacts performed during this campaign and for this client; numeric\n\n* pdays - number of days that passed by after the client was last contacted from a previous campaign (-1 means client was not previously contacted); numeric\n\n* previous - number of contacts performed before this campaign and for this client; numeric\n\n* poutcome - outcome of the previous marketing campaign; categorical\n\n### Label\n\n* y - has the client subscribed a term deposit?; binary categorical",
   "metadata": {
    "cell_id": "00002-b43a69d2-745c-4337-a0aa-1d2df9befda7",
    "id": "WhPlfHNKpi0u",
    "deepnote_cell_type": "markdown",
    "deepnote_cell_height": 828.203125
   }
  },
  {
   "cell_type": "markdown",
   "source": "Ideas:\n\nClass imbalance (SMOTE)\n\nCategorical: one-hot encoding or make numerical (ordinal)?\n\nLook at numerical features",
   "metadata": {
    "cell_id": "00003-e1b9c386-3b92-4c66-8eb2-c16090351e0b",
    "id": "qxCEhDAJeGOY",
    "deepnote_cell_type": "markdown",
    "deepnote_cell_height": 161.5625
   }
  },
  {
   "cell_type": "markdown",
   "source": "## Data Science\n\nFrom here, proceed with the data science. Perform data cleaning, data exploration, feature engineering, etc. Use the markdown cells to describe and clarify each part of the process, so that a reader can easily follow along with what you've done.",
   "metadata": {
    "cell_id": "00004-501596cb-9b11-49e3-99b1-0e9b21108648",
    "id": "4hh4mW_TI_ue",
    "deepnote_cell_type": "markdown",
    "deepnote_cell_height": 175.5625
   }
  },
  {
   "cell_type": "code",
   "metadata": {
    "cell_id": "00005-728eb86d-b893-4ae1-8af3-650cccaaaffb",
    "colab": {
     "base_uri": "https://localhost:8080/",
     "height": 35
    },
    "deepnote_to_be_reexecuted": false,
    "execution_millis": 2112,
    "execution_start": 1650414530906,
    "id": "1GB7djoSI_uf",
    "outputId": "b5f81f86-4d73-4009-f131-187a835f5dab",
    "source_hash": "8c6363bf",
    "deepnote_cell_type": "code",
    "deepnote_cell_height": 298.1875,
    "deepnote_output_heights": [
     21.1875
    ]
   },
   "source": "# import libraries/ standard headers\nimport numpy as np\nimport pandas as pd\nimport matplotlib.pyplot as plt\nimport math\n\n# enable inline mode for matplotlib so that Jupyter displays graphs\n%matplotlib inline\n\n# pandas version we're using\npd.__version__ ",
   "execution_count": 1,
   "outputs": [
    {
     "output_type": "execute_result",
     "execution_count": 1,
     "data": {
      "text/plain": "'1.2.5'"
     },
     "metadata": {}
    }
   ]
  },
  {
   "cell_type": "markdown",
   "source": "### Data Cleaning\n\nPerform data cleaning. Data cleaning is the process of trying to detect and correct data quality issues\n\nData quality issues\n\n* missing values\n* errors/inconsistent values\n* duplicate values\n* noise and outliers",
   "metadata": {
    "cell_id": "00006-bb96ac18-c78b-4773-baa6-db74d5e4194d",
    "id": "gGz35G6uI_ug",
    "deepnote_cell_type": "markdown",
    "deepnote_cell_height": 285.734375
   }
  },
  {
   "cell_type": "code",
   "metadata": {
    "cell_id": "00007-b9afb6a0-1f80-4d0f-bea1-322f004eed63",
    "colab": {
     "base_uri": "https://localhost:8080/",
     "height": 648
    },
    "deepnote_to_be_reexecuted": false,
    "execution_millis": 336,
    "execution_start": 1650414533026,
    "id": "HMQDU3AoI_ug",
    "outputId": "382984d9-2c2f-41f3-d20f-f59d65033965",
    "source_hash": "83bb9cd3",
    "deepnote_cell_type": "code",
    "deepnote_cell_height": 1016.5
   },
   "source": "# read in the dataset\ntrain_df = pd.read_csv(\"dataset/train.csv\", sep=\";\")\ntest_df = pd.read_csv(\"dataset/test.csv\", sep=\";\")\n\ntrain_df.info()\ntrain_df.head()",
   "execution_count": 2,
   "outputs": [
    {
     "name": "stdout",
     "text": "<class 'pandas.core.frame.DataFrame'>\nRangeIndex: 45211 entries, 0 to 45210\nData columns (total 17 columns):\n #   Column     Non-Null Count  Dtype \n---  ------     --------------  ----- \n 0   age        45211 non-null  int64 \n 1   job        45211 non-null  object\n 2   marital    45211 non-null  object\n 3   education  45211 non-null  object\n 4   default    45211 non-null  object\n 5   balance    45211 non-null  int64 \n 6   housing    45211 non-null  object\n 7   loan       45211 non-null  object\n 8   contact    45211 non-null  object\n 9   day        45211 non-null  int64 \n 10  month      45211 non-null  object\n 11  duration   45211 non-null  int64 \n 12  campaign   45211 non-null  int64 \n 13  pdays      45211 non-null  int64 \n 14  previous   45211 non-null  int64 \n 15  poutcome   45211 non-null  object\n 16  y          45211 non-null  object\ndtypes: int64(7), object(10)\nmemory usage: 5.9+ MB\n",
     "output_type": "stream"
    },
    {
     "output_type": "execute_result",
     "execution_count": 2,
     "data": {
      "application/vnd.deepnote.dataframe.v3+json": {
       "column_count": 17,
       "row_count": 5,
       "columns": [
        {
         "name": "age",
         "dtype": "int64",
         "stats": {
          "unique_count": 4,
          "nan_count": 0,
          "min": "33",
          "max": "58",
          "histogram": [
           {
            "bin_start": 33,
            "bin_end": 35.5,
            "count": 2
           },
           {
            "bin_start": 35.5,
            "bin_end": 38,
            "count": 0
           },
           {
            "bin_start": 38,
            "bin_end": 40.5,
            "count": 0
           },
           {
            "bin_start": 40.5,
            "bin_end": 43,
            "count": 0
           },
           {
            "bin_start": 43,
            "bin_end": 45.5,
            "count": 1
           },
           {
            "bin_start": 45.5,
            "bin_end": 48,
            "count": 1
           },
           {
            "bin_start": 48,
            "bin_end": 50.5,
            "count": 0
           },
           {
            "bin_start": 50.5,
            "bin_end": 53,
            "count": 0
           },
           {
            "bin_start": 53,
            "bin_end": 55.5,
            "count": 0
           },
           {
            "bin_start": 55.5,
            "bin_end": 58,
            "count": 1
           }
          ]
         }
        },
        {
         "name": "job",
         "dtype": "object",
         "stats": {
          "unique_count": 5,
          "nan_count": 0,
          "categories": [
           {
            "name": "management",
            "count": 1
           },
           {
            "name": "technician",
            "count": 1
           },
           {
            "name": "3 others",
            "count": 3
           }
          ]
         }
        },
        {
         "name": "marital",
         "dtype": "object",
         "stats": {
          "unique_count": 2,
          "nan_count": 0,
          "categories": [
           {
            "name": "married",
            "count": 3
           },
           {
            "name": "single",
            "count": 2
           }
          ]
         }
        },
        {
         "name": "education",
         "dtype": "object",
         "stats": {
          "unique_count": 3,
          "nan_count": 0,
          "categories": [
           {
            "name": "secondary",
            "count": 2
           },
           {
            "name": "unknown",
            "count": 2
           },
           {
            "name": "tertiary",
            "count": 1
           }
          ]
         }
        },
        {
         "name": "default",
         "dtype": "object",
         "stats": {
          "unique_count": 1,
          "nan_count": 0,
          "categories": [
           {
            "name": "no",
            "count": 5
           }
          ]
         }
        },
        {
         "name": "balance",
         "dtype": "int64",
         "stats": {
          "unique_count": 5,
          "nan_count": 0,
          "min": "1",
          "max": "2143",
          "histogram": [
           {
            "bin_start": 1,
            "bin_end": 215.2,
            "count": 3
           },
           {
            "bin_start": 215.2,
            "bin_end": 429.4,
            "count": 0
           },
           {
            "bin_start": 429.4,
            "bin_end": 643.5999999999999,
            "count": 0
           },
           {
            "bin_start": 643.5999999999999,
            "bin_end": 857.8,
            "count": 0
           },
           {
            "bin_start": 857.8,
            "bin_end": 1072,
            "count": 0
           },
           {
            "bin_start": 1072,
            "bin_end": 1286.1999999999998,
            "count": 0
           },
           {
            "bin_start": 1286.1999999999998,
            "bin_end": 1500.3999999999999,
            "count": 0
           },
           {
            "bin_start": 1500.3999999999999,
            "bin_end": 1714.6,
            "count": 1
           },
           {
            "bin_start": 1714.6,
            "bin_end": 1928.8,
            "count": 0
           },
           {
            "bin_start": 1928.8,
            "bin_end": 2143,
            "count": 1
           }
          ]
         }
        },
        {
         "name": "housing",
         "dtype": "object",
         "stats": {
          "unique_count": 2,
          "nan_count": 0,
          "categories": [
           {
            "name": "yes",
            "count": 4
           },
           {
            "name": "no",
            "count": 1
           }
          ]
         }
        },
        {
         "name": "loan",
         "dtype": "object",
         "stats": {
          "unique_count": 2,
          "nan_count": 0,
          "categories": [
           {
            "name": "no",
            "count": 4
           },
           {
            "name": "yes",
            "count": 1
           }
          ]
         }
        },
        {
         "name": "contact",
         "dtype": "object",
         "stats": {
          "unique_count": 1,
          "nan_count": 0,
          "categories": [
           {
            "name": "unknown",
            "count": 5
           }
          ]
         }
        },
        {
         "name": "day",
         "dtype": "int64",
         "stats": {
          "unique_count": 1,
          "nan_count": 0,
          "min": "5",
          "max": "5",
          "histogram": [
           {
            "bin_start": 4.5,
            "bin_end": 4.6,
            "count": 0
           },
           {
            "bin_start": 4.6,
            "bin_end": 4.7,
            "count": 0
           },
           {
            "bin_start": 4.7,
            "bin_end": 4.8,
            "count": 0
           },
           {
            "bin_start": 4.8,
            "bin_end": 4.9,
            "count": 0
           },
           {
            "bin_start": 4.9,
            "bin_end": 5,
            "count": 0
           },
           {
            "bin_start": 5,
            "bin_end": 5.1,
            "count": 5
           },
           {
            "bin_start": 5.1,
            "bin_end": 5.2,
            "count": 0
           },
           {
            "bin_start": 5.2,
            "bin_end": 5.3,
            "count": 0
           },
           {
            "bin_start": 5.3,
            "bin_end": 5.4,
            "count": 0
           },
           {
            "bin_start": 5.4,
            "bin_end": 5.5,
            "count": 0
           }
          ]
         }
        },
        {
         "name": "month",
         "dtype": "object",
         "stats": {
          "unique_count": 1,
          "nan_count": 0,
          "categories": [
           {
            "name": "may",
            "count": 5
           }
          ]
         }
        },
        {
         "name": "duration",
         "dtype": "int64",
         "stats": {
          "unique_count": 5,
          "nan_count": 0,
          "min": "76",
          "max": "261",
          "histogram": [
           {
            "bin_start": 76,
            "bin_end": 94.5,
            "count": 2
           },
           {
            "bin_start": 94.5,
            "bin_end": 113,
            "count": 0
           },
           {
            "bin_start": 113,
            "bin_end": 131.5,
            "count": 0
           },
           {
            "bin_start": 131.5,
            "bin_end": 150,
            "count": 0
           },
           {
            "bin_start": 150,
            "bin_end": 168.5,
            "count": 1
           },
           {
            "bin_start": 168.5,
            "bin_end": 187,
            "count": 0
           },
           {
            "bin_start": 187,
            "bin_end": 205.5,
            "count": 1
           },
           {
            "bin_start": 205.5,
            "bin_end": 224,
            "count": 0
           },
           {
            "bin_start": 224,
            "bin_end": 242.5,
            "count": 0
           },
           {
            "bin_start": 242.5,
            "bin_end": 261,
            "count": 1
           }
          ]
         }
        },
        {
         "name": "campaign",
         "dtype": "int64",
         "stats": {
          "unique_count": 1,
          "nan_count": 0,
          "min": "1",
          "max": "1",
          "histogram": [
           {
            "bin_start": 0.5,
            "bin_end": 0.6,
            "count": 0
           },
           {
            "bin_start": 0.6,
            "bin_end": 0.7,
            "count": 0
           },
           {
            "bin_start": 0.7,
            "bin_end": 0.8,
            "count": 0
           },
           {
            "bin_start": 0.8,
            "bin_end": 0.9,
            "count": 0
           },
           {
            "bin_start": 0.9,
            "bin_end": 1,
            "count": 0
           },
           {
            "bin_start": 1,
            "bin_end": 1.1,
            "count": 5
           },
           {
            "bin_start": 1.1,
            "bin_end": 1.2000000000000002,
            "count": 0
           },
           {
            "bin_start": 1.2000000000000002,
            "bin_end": 1.3,
            "count": 0
           },
           {
            "bin_start": 1.3,
            "bin_end": 1.4,
            "count": 0
           },
           {
            "bin_start": 1.4,
            "bin_end": 1.5,
            "count": 0
           }
          ]
         }
        },
        {
         "name": "pdays",
         "dtype": "int64",
         "stats": {
          "unique_count": 1,
          "nan_count": 0,
          "min": "-1",
          "max": "-1",
          "histogram": [
           {
            "bin_start": -1.5,
            "bin_end": -1.4,
            "count": 0
           },
           {
            "bin_start": -1.4,
            "bin_end": -1.3,
            "count": 0
           },
           {
            "bin_start": -1.3,
            "bin_end": -1.2,
            "count": 0
           },
           {
            "bin_start": -1.2,
            "bin_end": -1.1,
            "count": 0
           },
           {
            "bin_start": -1.1,
            "bin_end": -1,
            "count": 0
           },
           {
            "bin_start": -1,
            "bin_end": -0.8999999999999999,
            "count": 5
           },
           {
            "bin_start": -0.8999999999999999,
            "bin_end": -0.7999999999999999,
            "count": 0
           },
           {
            "bin_start": -0.7999999999999999,
            "bin_end": -0.7,
            "count": 0
           },
           {
            "bin_start": -0.7,
            "bin_end": -0.6,
            "count": 0
           },
           {
            "bin_start": -0.6,
            "bin_end": -0.5,
            "count": 0
           }
          ]
         }
        },
        {
         "name": "previous",
         "dtype": "int64",
         "stats": {
          "unique_count": 1,
          "nan_count": 0,
          "min": "0",
          "max": "0",
          "histogram": [
           {
            "bin_start": -0.5,
            "bin_end": -0.4,
            "count": 0
           },
           {
            "bin_start": -0.4,
            "bin_end": -0.3,
            "count": 0
           },
           {
            "bin_start": -0.3,
            "bin_end": -0.19999999999999996,
            "count": 0
           },
           {
            "bin_start": -0.19999999999999996,
            "bin_end": -0.09999999999999998,
            "count": 0
           },
           {
            "bin_start": -0.09999999999999998,
            "bin_end": 0,
            "count": 0
           },
           {
            "bin_start": 0,
            "bin_end": 0.10000000000000009,
            "count": 5
           },
           {
            "bin_start": 0.10000000000000009,
            "bin_end": 0.20000000000000007,
            "count": 0
           },
           {
            "bin_start": 0.20000000000000007,
            "bin_end": 0.30000000000000004,
            "count": 0
           },
           {
            "bin_start": 0.30000000000000004,
            "bin_end": 0.4,
            "count": 0
           },
           {
            "bin_start": 0.4,
            "bin_end": 0.5,
            "count": 0
           }
          ]
         }
        },
        {
         "name": "poutcome",
         "dtype": "object",
         "stats": {
          "unique_count": 1,
          "nan_count": 0,
          "categories": [
           {
            "name": "unknown",
            "count": 5
           }
          ]
         }
        },
        {
         "name": "y",
         "dtype": "object",
         "stats": {
          "unique_count": 1,
          "nan_count": 0,
          "categories": [
           {
            "name": "no",
            "count": 5
           }
          ]
         }
        },
        {
         "name": "_deepnote_index_column",
         "dtype": "int64"
        }
       ],
       "rows": [
        {
         "age": 58,
         "job": "management",
         "marital": "married",
         "education": "tertiary",
         "default": "no",
         "balance": 2143,
         "housing": "yes",
         "loan": "no",
         "contact": "unknown",
         "day": 5,
         "month": "may",
         "duration": 261,
         "campaign": 1,
         "pdays": -1,
         "previous": 0,
         "poutcome": "unknown",
         "y": "no",
         "_deepnote_index_column": 0
        },
        {
         "age": 44,
         "job": "technician",
         "marital": "single",
         "education": "secondary",
         "default": "no",
         "balance": 29,
         "housing": "yes",
         "loan": "no",
         "contact": "unknown",
         "day": 5,
         "month": "may",
         "duration": 151,
         "campaign": 1,
         "pdays": -1,
         "previous": 0,
         "poutcome": "unknown",
         "y": "no",
         "_deepnote_index_column": 1
        },
        {
         "age": 33,
         "job": "entrepreneur",
         "marital": "married",
         "education": "secondary",
         "default": "no",
         "balance": 2,
         "housing": "yes",
         "loan": "yes",
         "contact": "unknown",
         "day": 5,
         "month": "may",
         "duration": 76,
         "campaign": 1,
         "pdays": -1,
         "previous": 0,
         "poutcome": "unknown",
         "y": "no",
         "_deepnote_index_column": 2
        },
        {
         "age": 47,
         "job": "blue-collar",
         "marital": "married",
         "education": "unknown",
         "default": "no",
         "balance": 1506,
         "housing": "yes",
         "loan": "no",
         "contact": "unknown",
         "day": 5,
         "month": "may",
         "duration": 92,
         "campaign": 1,
         "pdays": -1,
         "previous": 0,
         "poutcome": "unknown",
         "y": "no",
         "_deepnote_index_column": 3
        },
        {
         "age": 33,
         "job": "unknown",
         "marital": "single",
         "education": "unknown",
         "default": "no",
         "balance": 1,
         "housing": "no",
         "loan": "no",
         "contact": "unknown",
         "day": 5,
         "month": "may",
         "duration": 198,
         "campaign": 1,
         "pdays": -1,
         "previous": 0,
         "poutcome": "unknown",
         "y": "no",
         "_deepnote_index_column": 4
        }
       ]
      },
      "text/plain": "   age           job  marital  education default  balance housing loan  \\\n0   58    management  married   tertiary      no     2143     yes   no   \n1   44    technician   single  secondary      no       29     yes   no   \n2   33  entrepreneur  married  secondary      no        2     yes  yes   \n3   47   blue-collar  married    unknown      no     1506     yes   no   \n4   33       unknown   single    unknown      no        1      no   no   \n\n   contact  day month  duration  campaign  pdays  previous poutcome   y  \n0  unknown    5   may       261         1     -1         0  unknown  no  \n1  unknown    5   may       151         1     -1         0  unknown  no  \n2  unknown    5   may        76         1     -1         0  unknown  no  \n3  unknown    5   may        92         1     -1         0  unknown  no  \n4  unknown    5   may       198         1     -1         0  unknown  no  ",
      "text/html": "<div>\n<style scoped>\n    .dataframe tbody tr th:only-of-type {\n        vertical-align: middle;\n    }\n\n    .dataframe tbody tr th {\n        vertical-align: top;\n    }\n\n    .dataframe thead th {\n        text-align: right;\n    }\n</style>\n<table border=\"1\" class=\"dataframe\">\n  <thead>\n    <tr style=\"text-align: right;\">\n      <th></th>\n      <th>age</th>\n      <th>job</th>\n      <th>marital</th>\n      <th>education</th>\n      <th>default</th>\n      <th>balance</th>\n      <th>housing</th>\n      <th>loan</th>\n      <th>contact</th>\n      <th>day</th>\n      <th>month</th>\n      <th>duration</th>\n      <th>campaign</th>\n      <th>pdays</th>\n      <th>previous</th>\n      <th>poutcome</th>\n      <th>y</th>\n    </tr>\n  </thead>\n  <tbody>\n    <tr>\n      <th>0</th>\n      <td>58</td>\n      <td>management</td>\n      <td>married</td>\n      <td>tertiary</td>\n      <td>no</td>\n      <td>2143</td>\n      <td>yes</td>\n      <td>no</td>\n      <td>unknown</td>\n      <td>5</td>\n      <td>may</td>\n      <td>261</td>\n      <td>1</td>\n      <td>-1</td>\n      <td>0</td>\n      <td>unknown</td>\n      <td>no</td>\n    </tr>\n    <tr>\n      <th>1</th>\n      <td>44</td>\n      <td>technician</td>\n      <td>single</td>\n      <td>secondary</td>\n      <td>no</td>\n      <td>29</td>\n      <td>yes</td>\n      <td>no</td>\n      <td>unknown</td>\n      <td>5</td>\n      <td>may</td>\n      <td>151</td>\n      <td>1</td>\n      <td>-1</td>\n      <td>0</td>\n      <td>unknown</td>\n      <td>no</td>\n    </tr>\n    <tr>\n      <th>2</th>\n      <td>33</td>\n      <td>entrepreneur</td>\n      <td>married</td>\n      <td>secondary</td>\n      <td>no</td>\n      <td>2</td>\n      <td>yes</td>\n      <td>yes</td>\n      <td>unknown</td>\n      <td>5</td>\n      <td>may</td>\n      <td>76</td>\n      <td>1</td>\n      <td>-1</td>\n      <td>0</td>\n      <td>unknown</td>\n      <td>no</td>\n    </tr>\n    <tr>\n      <th>3</th>\n      <td>47</td>\n      <td>blue-collar</td>\n      <td>married</td>\n      <td>unknown</td>\n      <td>no</td>\n      <td>1506</td>\n      <td>yes</td>\n      <td>no</td>\n      <td>unknown</td>\n      <td>5</td>\n      <td>may</td>\n      <td>92</td>\n      <td>1</td>\n      <td>-1</td>\n      <td>0</td>\n      <td>unknown</td>\n      <td>no</td>\n    </tr>\n    <tr>\n      <th>4</th>\n      <td>33</td>\n      <td>unknown</td>\n      <td>single</td>\n      <td>unknown</td>\n      <td>no</td>\n      <td>1</td>\n      <td>no</td>\n      <td>no</td>\n      <td>unknown</td>\n      <td>5</td>\n      <td>may</td>\n      <td>198</td>\n      <td>1</td>\n      <td>-1</td>\n      <td>0</td>\n      <td>unknown</td>\n      <td>no</td>\n    </tr>\n  </tbody>\n</table>\n</div>"
     },
     "metadata": {}
    }
   ]
  },
  {
   "cell_type": "markdown",
   "source": "While printing the .info() shows that we do not have any NULL values, further exploration shows that certain categorical columns have an \"unknown\" category.\n\nPresented below is the category frequencies for all the categorical features. This brings to light some interesting insights:\n\n1. Were the categories inputted correctly (consistency)?\n\nAnswer: They appear to be inputted consistently!\n\n2. How prevalent is the \"unknown\" category throughout the dataset?\n\nAnswer: Looking below, we can see that 0.6% of jobs were unknown, 4.1% of educations were unknown, 28.8% of contact methods were unknown, and 81.7% of poutcomes were unknown. We will handle this case-by-case.\n\n3. How might we want to engineer our categorical features?\nAnswer: We will perform one-hot encoding on non-binary features and map the binary features into 0 and 1 accordingly.",
   "metadata": {
    "cell_id": "00008-1c5efe48-e278-47af-90df-18d0f7a9abdb",
    "id": "HMObiPgWI_ui",
    "deepnote_cell_type": "markdown",
    "deepnote_cell_height": 441.46875
   }
  },
  {
   "cell_type": "code",
   "metadata": {
    "cell_id": "00009-ff6f2220-076f-452e-90a7-927458f1e7de",
    "colab": {
     "base_uri": "https://localhost:8080/"
    },
    "deepnote_to_be_reexecuted": false,
    "execution_millis": 169,
    "execution_start": 1650407839202,
    "id": "iy4NoRykeGOY",
    "outputId": "2045b6a4-aea6-4279-a188-a075f1e65469",
    "source_hash": "690f2b12",
    "deepnote_cell_type": "code",
    "deepnote_cell_height": 755
   },
   "source": "categorical_features = [\"job\", \"marital\", \"education\", \"default\", \"housing\", \"loan\", 'contact',\"poutcome\"]\nfor col in categorical_features:\n    print(train_df[col].value_counts(normalize=True).mul(100).round(1).astype(str) + '%')\n    print()",
   "outputs": [
    {
     "name": "stdout",
     "text": "blue-collar      21.5%\nmanagement       20.9%\ntechnician       16.8%\nadmin.           11.4%\nservices          9.2%\nretired           5.0%\nself-employed     3.5%\nentrepreneur      3.3%\nunemployed        2.9%\nhousemaid         2.7%\nstudent           2.1%\nunknown           0.6%\nName: job, dtype: object\n\nmarried     60.2%\nsingle      28.3%\ndivorced    11.5%\nName: marital, dtype: object\n\nsecondary    51.3%\ntertiary     29.4%\nprimary      15.2%\nunknown       4.1%\nName: education, dtype: object\n\nno     98.2%\nyes     1.8%\nName: default, dtype: object\n\nyes    55.6%\nno     44.4%\nName: housing, dtype: object\n\nno     84.0%\nyes    16.0%\nName: loan, dtype: object\n\ncellular     64.8%\nunknown      28.8%\ntelephone     6.4%\nName: contact, dtype: object\n\nunknown    81.7%\nfailure    10.8%\nother       4.1%\nsuccess     3.3%\nName: poutcome, dtype: object\n\n",
     "output_type": "stream"
    }
   ],
   "execution_count": null
  },
  {
   "cell_type": "markdown",
   "source": "Let's focus on two of the more interesting non-binary categorical features in our dataset: job and education.",
   "metadata": {
    "cell_id": "5f040eec3f7c40c698f467546795d453",
    "tags": [],
    "deepnote_cell_type": "markdown",
    "deepnote_cell_height": 74.78125
   }
  },
  {
   "cell_type": "code",
   "source": "train_df.job.value_counts().plot.bar()",
   "metadata": {
    "cell_id": "18fcb5e71c83479da497c0f45b7c7b86",
    "tags": [],
    "deepnote_to_be_reexecuted": false,
    "source_hash": "d0bb7dc0",
    "execution_start": 1650408419406,
    "execution_millis": 290,
    "deepnote_cell_type": "code",
    "deepnote_cell_height": 460.1875,
    "deepnote_output_heights": [
     21.1875,
     311
    ]
   },
   "outputs": [
    {
     "output_type": "execute_result",
     "execution_count": 15,
     "data": {
      "text/plain": "<AxesSubplot:>"
     },
     "metadata": {}
    },
    {
     "data": {
      "text/plain": "<Figure size 432x288 with 1 Axes>",
      "image/png": "[encoded data removed]"
     },
     "metadata": {
      "needs_background": "light",
      "image/png": {
       "width": 387,
       "height": 309
      }
     },
     "output_type": "display_data"
    }
   ],
   "execution_count": null
  },
  {
   "cell_type": "code",
   "source": "train_df.education.value_counts().plot.bar()",
   "metadata": {
    "cell_id": "4aba439ab31c4b4ea79364c7d1b045bc",
    "tags": [],
    "deepnote_to_be_reexecuted": false,
    "source_hash": "dba45e49",
    "execution_start": 1650408428294,
    "execution_millis": 238,
    "deepnote_cell_type": "code",
    "deepnote_cell_height": 441.1875,
    "deepnote_output_heights": [
     21.1875,
     292
    ]
   },
   "outputs": [
    {
     "output_type": "execute_result",
     "execution_count": 16,
     "data": {
      "text/plain": "<AxesSubplot:>"
     },
     "metadata": {}
    },
    {
     "data": {
      "text/plain": "<Figure size 432x288 with 1 Axes>",
      "image/png": "[encoded data removed]"
     },
     "metadata": {
      "needs_background": "light",
      "image/png": {
       "width": 387,
       "height": 290
      }
     },
     "output_type": "display_data"
    }
   ],
   "execution_count": null
  },
  {
   "cell_type": "markdown",
   "source": "Since we only have a few unknown jobs, and only a few more unknown educations, and one's education is arguably correlated with one's job, we are going to determine unknown educations through jobs and unknown jobs through educations. To achieve this, we will calculate the education distribution of each job.",
   "metadata": {
    "cell_id": "3e9742ceda304afe87ae369a0bf4fdbe",
    "tags": [],
    "deepnote_cell_type": "markdown",
    "deepnote_cell_height": 141.953125
   }
  },
  {
   "cell_type": "code",
   "metadata": {
    "cell_id": "53a54140464e40cfaef60915d6567e10",
    "deepnote_to_be_reexecuted": false,
    "execution_millis": 46,
    "execution_start": 1650339717946,
    "source_hash": "65662aba",
    "tags": [],
    "deepnote_cell_type": "code",
    "deepnote_cell_height": 791
   },
   "source": "# education distribution per job\nfor job in train_df[\"job\"].unique():\n    education_counts = train_df[train_df[\"job\"] == job][\"education\"].value_counts().sort_index()\n    print(job)\n    print(education_counts)\n    print()",
   "execution_count": null,
   "outputs": [
    {
     "name": "stdout",
     "text": "management\nprimary       294\nsecondary    1121\ntertiary     7801\nunknown       242\nName: education, dtype: int64\n\ntechnician\nprimary       158\nsecondary    5229\ntertiary     1968\nunknown       242\nName: education, dtype: int64\n\nentrepreneur\nprimary      183\nsecondary    542\ntertiary     686\nunknown       76\nName: education, dtype: int64\n\nblue-collar\nprimary      3758\nsecondary    5371\ntertiary      149\nunknown       454\nName: education, dtype: int64\n\nunknown\nprimary       51\nsecondary     71\ntertiary      39\nunknown      127\nName: education, dtype: int64\n\nretired\nprimary      795\nsecondary    984\ntertiary     366\nunknown      119\nName: education, dtype: int64\n\nadmin.\nprimary       209\nsecondary    4219\ntertiary      572\nunknown       171\nName: education, dtype: int64\n\nservices\nprimary       345\nsecondary    3457\ntertiary      202\nunknown       150\nName: education, dtype: int64\n\nself-employed\nprimary      130\nsecondary    577\ntertiary     833\nunknown       39\nName: education, dtype: int64\n\nunemployed\nprimary      257\nsecondary    728\ntertiary     289\nunknown       29\nName: education, dtype: int64\n\nhousemaid\nprimary      627\nsecondary    395\ntertiary     173\nunknown       45\nName: education, dtype: int64\n\nstudent\nprimary       44\nsecondary    508\ntertiary     223\nunknown      163\nName: education, dtype: int64\n\n",
     "output_type": "stream"
    }
   ]
  },
  {
   "cell_type": "code",
   "metadata": {
    "cell_id": "35dc056d6fed4e238085469d79dd7001",
    "deepnote_to_be_reexecuted": false,
    "execution_millis": 1282,
    "execution_start": 1650339718034,
    "source_hash": "7ad4f844",
    "tags": [],
    "deepnote_cell_type": "code",
    "deepnote_cell_height": 869.90625,
    "deepnote_output_heights": [
     574.90625
    ]
   },
   "source": "fig, axs = plt.subplots(4,3, figsize=(10,10))\nij = 0\ni = 0\nj = 0\nfor job in train_df[\"job\"].unique():\n    education_counts = train_df[train_df[\"job\"] == job][\"education\"].value_counts().sort_index()\n    patches, texts = axs[i,j].pie(education_counts)\n    axs[i,j].set_title(job)\n    plt.legend(patches, ['primary','secondary','tertiary','unknown'], loc=\"best\")\n    ij += 1\n    i = ij % 4\n    j = ij % 3",
   "execution_count": null,
   "outputs": [
    {
     "data": {
      "text/plain": "<Figure size 720x720 with 12 Axes>",
      "image/png": "[encoded data removed]"
     },
     "metadata": {
      "image/png": {
       "width": 526,
       "height": 574
      }
     },
     "output_type": "display_data"
    }
   ]
  },
  {
   "cell_type": "markdown",
   "source": "When we replace the education values in our dataset, we're going to try to maintain the relative distribution we had before.\n\nThat is, say we had 10 unknowns and 10 knowns for a certain job category. If 2 had primary education, 3 had secondary education, and 5 had tertiary education, then we want to turn 2 of the unknowns into primary, 3 of the unknowns into secondary, and 5 of the unknowns into tertiary.\n\nWe believe this is justified because there are relatively few unknowns in either the job or education columns in the first place, and this will help us maintain the prior distribution while eliminating unknowns.",
   "metadata": {
    "cell_id": "c15ec872d3384e599ca88194dca73746",
    "tags": [],
    "deepnote_cell_type": "markdown",
    "deepnote_cell_height": 259.515625
   }
  },
  {
   "cell_type": "code",
   "metadata": {
    "cell_id": "e5367068e9764f4aa5ab7e60fcb83c3a",
    "deepnote_to_be_reexecuted": false,
    "execution_millis": 5973,
    "execution_start": 1650339719131,
    "source_hash": "16955430",
    "tags": [],
    "deepnote_cell_type": "code",
    "deepnote_cell_height": 603
   },
   "source": "# first we calculate the conditional distributions\n# which will exclude the unknowns\neducation_percentages = dict()\nfor job in train_df[\"job\"].unique():\n    education_counts = train_df[train_df[\"job\"] == job][\"education\"].value_counts()\n    total = education_counts[\"tertiary\"] + education_counts[\"secondary\"] + education_counts[\"primary\"]\n    education_percentages[job] = {}\n    tertiary_percentage = education_counts[\"tertiary\"] / total\n    secondary_percentage = education_counts[\"secondary\"] / total\n    primary_percentage = education_counts[\"primary\"] / total\n    total_unknown = education_counts[\"unknown\"]\n    education_percentages[job][\"tertiary\"] = math.ceil(tertiary_percentage * total_unknown)\n    education_percentages[job][\"secondary\"] = math.ceil(secondary_percentage * total_unknown)\n    education_percentages[job][\"primary\"] = math.ceil(primary_percentage * total_unknown)\n\n# then we are going to distribute the unknowns\n# based on our calculations\nfor index, row in train_df.iterrows():\n    if row[\"education\"] == \"unknown\":\n        if education_percentages[row[\"job\"]][\"tertiary\"] != 0:\n            train_df.loc[index, [\"education\"]] = \"tertiary\"\n            education_percentages[row[\"job\"]][\"tertiary\"] -= 1\n        elif education_percentages[row[\"job\"]][\"secondary\"] != 0:\n            train_df.loc[index, [\"education\"]] = \"secondary\"\n            education_percentages[row[\"job\"]][\"secondary\"] -=1\n        else:\n            train_df.loc[index, [\"education\"]] = \"primary\"\n    else:\n        continue\n",
   "execution_count": null,
   "outputs": []
  },
  {
   "cell_type": "markdown",
   "source": "If we display the updated pie charts, we can visually confirm if our proportions match with what we had before, just without the unknowns.",
   "metadata": {
    "cell_id": "c0363064bdac4adf962118e4a7b70ddd",
    "tags": [],
    "deepnote_cell_type": "markdown",
    "deepnote_cell_height": 74.78125
   }
  },
  {
   "cell_type": "code",
   "metadata": {
    "cell_id": "528255cf33e44d50a4365ca18166262d",
    "deepnote_to_be_reexecuted": false,
    "execution_millis": 991,
    "execution_start": 1650339725138,
    "source_hash": "ba322836",
    "tags": [],
    "deepnote_cell_type": "code",
    "deepnote_cell_height": 887.90625,
    "deepnote_output_heights": [
     574.90625
    ]
   },
   "source": "# after replacement\nfig, axs = plt.subplots(4,3, figsize=(10,10))\nij = 0\ni = 0\nj = 0\nfor job in train_df[\"job\"].unique():\n    education_counts = train_df[train_df[\"job\"] == job][\"education\"].value_counts().sort_index()\n    patches, texts = axs[i,j].pie(education_counts)\n    axs[i,j].set_title(job)\n    plt.legend(patches, ['primary','secondary','tertiary'], loc=\"best\")\n    ij += 1\n    i = ij % 4\n    j = ij % 3",
   "execution_count": null,
   "outputs": [
    {
     "data": {
      "text/plain": "<Figure size 720x720 with 12 Axes>",
      "image/png": "[encoded data removed]"
     },
     "metadata": {
      "image/png": {
       "width": 526,
       "height": 574
      }
     },
     "output_type": "display_data"
    }
   ]
  },
  {
   "cell_type": "markdown",
   "source": "Since there are more job types than education types, we are just going to go ahead and replace the unknown jobs through mode instead. We can see that tertiary is usually management, secondary is usually blue-collar, and primary is usually blue-collar.",
   "metadata": {
    "cell_id": "9402e0ef2e9f4545bd8af0d33eead457",
    "tags": [],
    "deepnote_cell_type": "markdown",
    "deepnote_cell_height": 119.5625
   }
  },
  {
   "cell_type": "code",
   "source": "for education in train_df[\"education\"].unique():\n    job_counts = train_df[train_df[\"education\"] == education][\"job\"].value_counts()\n    print(education)\n    print(job_counts)\n    print()",
   "metadata": {
    "cell_id": "c22cd0df5c374f88a5b7a2f0bb65a930",
    "tags": [],
    "deepnote_to_be_reexecuted": false,
    "source_hash": "a0fe93a9",
    "execution_start": 1650409922751,
    "execution_millis": 68,
    "deepnote_cell_type": "code",
    "deepnote_cell_height": 773
   },
   "outputs": [
    {
     "name": "stdout",
     "text": "tertiary\nmanagement       7801\ntechnician       1968\nself-employed     833\nentrepreneur      686\nadmin.            572\nretired           366\nunemployed        289\nstudent           223\nservices          202\nhousemaid         173\nblue-collar       149\nunknown            39\nName: job, dtype: int64\n\nsecondary\nblue-collar      5371\ntechnician       5229\nadmin.           4219\nservices         3457\nmanagement       1121\nretired           984\nunemployed        728\nself-employed     577\nentrepreneur      542\nstudent           508\nhousemaid         395\nunknown            71\nName: job, dtype: int64\n\nunknown\nblue-collar      454\ntechnician       242\nmanagement       242\nadmin.           171\nstudent          163\nservices         150\nunknown          127\nretired          119\nentrepreneur      76\nhousemaid         45\nself-employed     39\nunemployed        29\nName: job, dtype: int64\n\nprimary\nblue-collar      3758\nretired           795\nhousemaid         627\nservices          345\nmanagement        294\nunemployed        257\nadmin.            209\nentrepreneur      183\ntechnician        158\nself-employed     130\nunknown            51\nstudent            44\nName: job, dtype: int64\n\n",
     "output_type": "stream"
    }
   ],
   "execution_count": null
  },
  {
   "cell_type": "code",
   "metadata": {
    "cell_id": "560aef8830bf41c587b7e4e643eace1a",
    "deepnote_to_be_reexecuted": false,
    "execution_millis": 0,
    "execution_start": 1650410110779,
    "source_hash": "59acac03",
    "tags": [],
    "deepnote_cell_type": "code",
    "deepnote_cell_height": 117
   },
   "source": "train_df.loc[(train_df.job == \"unknown\") & (train_df.education == \"tertiary\"), \"job\"] = \"management\"\ntrain_df.loc[(train_df.job == \"unknown\") & (train_df.education == \"secondary\"), \"job\"] = \"blue-collar\"\ntrain_df.loc[(train_df.job == \"unknown\") & (train_df.education == \"primary\"), \"job\"] = \"blue-collar\"",
   "outputs": [],
   "execution_count": null
  },
  {
   "cell_type": "markdown",
   "source": "Looking at the pdays column, we notice that the majority of rows actually have -1 for pdays. This means that a minority of rows have an actual ordinal numerical value for pdays. Therefore, let us convert this into a binary categorical variable that shows if the client was even contacted at all (yes/no).",
   "metadata": {
    "cell_id": "ef71f36b036d4775823dace104d3614a",
    "tags": [],
    "deepnote_cell_type": "markdown",
    "deepnote_cell_height": 119.5625
   }
  },
  {
   "cell_type": "code",
   "metadata": {
    "cell_id": "27936a6d54dd4f7eb30501862ab7fa7c",
    "deepnote_to_be_reexecuted": false,
    "execution_millis": 42,
    "execution_start": 1650414559280,
    "source_hash": "f5e72151",
    "tags": [],
    "deepnote_cell_type": "code",
    "deepnote_cell_height": 150.375
   },
   "source": "print(train_df[train_df['pdays'] == -1]['pdays'].count())\nprint(train_df[train_df['pdays'] != -1]['pdays'].count())",
   "execution_count": 3,
   "outputs": [
    {
     "name": "stdout",
     "text": "36954\n8257\n",
     "output_type": "stream"
    }
   ]
  },
  {
   "cell_type": "code",
   "source": "train_df.pdays = train_df.pdays.map(lambda x: 0 if x == -1 else 1)",
   "metadata": {
    "cell_id": "777f53f0c2b64bafbcdfe708b1e97835",
    "tags": [],
    "deepnote_to_be_reexecuted": false,
    "source_hash": "c760ff64",
    "execution_start": 1650414561267,
    "execution_millis": 55,
    "deepnote_cell_type": "code",
    "deepnote_cell_height": 81
   },
   "outputs": [],
   "execution_count": 4
  },
  {
   "cell_type": "code",
   "source": "train_df.pdays.value_counts()",
   "metadata": {
    "cell_id": "89f702b115a94353963871f7d12a06ea",
    "tags": [],
    "deepnote_to_be_reexecuted": false,
    "source_hash": "43c4ca8",
    "execution_start": 1650414563164,
    "execution_millis": 28,
    "deepnote_cell_type": "code",
    "deepnote_cell_height": 156.5625,
    "deepnote_output_heights": [
     59.5625
    ]
   },
   "outputs": [
    {
     "output_type": "execute_result",
     "execution_count": 5,
     "data": {
      "text/plain": "0    36954\n1     8257\nName: pdays, dtype: int64"
     },
     "metadata": {}
    }
   ],
   "execution_count": 5
  },
  {
   "cell_type": "markdown",
   "source": "What about our label?\n\n**Write about how we will use SMOTE because of class imbalances (Slides #6)**",
   "metadata": {
    "cell_id": "00010-f01b9b93-6537-47ef-b4a2-bfc536939885",
    "id": "a2Lw_kaPlNyz",
    "deepnote_cell_type": "markdown",
    "deepnote_cell_height": 88.78125
   }
  },
  {
   "cell_type": "code",
   "metadata": {
    "cell_id": "00011-effc5517-4ee1-4585-a040-8d7cd8881c54",
    "colab": {
     "base_uri": "https://localhost:8080/"
    },
    "deepnote_to_be_reexecuted": false,
    "execution_millis": 0,
    "execution_start": 1650339726237,
    "id": "iZFShk3Fftyj",
    "outputId": "4a9e7a1f-42dd-41b2-999d-83a15baefd9c",
    "source_hash": "8e9c93be",
    "deepnote_cell_type": "code",
    "deepnote_cell_height": 156.5625,
    "deepnote_output_heights": [
     59.5625
    ]
   },
   "source": "train_df['y'].value_counts(normalize=True).mul(100).round(1).astype(str) + '%'",
   "execution_count": null,
   "outputs": [
    {
     "output_type": "execute_result",
     "execution_count": 10,
     "data": {
      "text/plain": "no     88.3%\nyes    11.7%\nName: y, dtype: object"
     },
     "metadata": {}
    }
   ]
  },
  {
   "cell_type": "code",
   "metadata": {
    "cell_id": "a8e81df29fa346ab943d3ebaf9932412",
    "deepnote_to_be_reexecuted": false,
    "execution_millis": 65,
    "execution_start": 1650339726237,
    "source_hash": "cb083358",
    "tags": [],
    "deepnote_cell_type": "code",
    "deepnote_cell_height": 452
   },
   "source": "contact_mode = train_df[\"contact\"].mode()\ntrain_df[\"contact\"].replace([\"unknown\"], contact_mode,inplace = True)\ntrain_df.head()",
   "execution_count": null,
   "outputs": [
    {
     "output_type": "execute_result",
     "execution_count": 11,
     "data": {
      "application/vnd.deepnote.dataframe.v3+json": {
       "column_count": 17,
       "row_count": 5,
       "columns": [
        {
         "name": "age",
         "dtype": "int64",
         "stats": {
          "unique_count": 4,
          "nan_count": 0,
          "min": "33",
          "max": "58",
          "histogram": [
           {
            "bin_start": 33,
            "bin_end": 35.5,
            "count": 2
           },
           {
            "bin_start": 35.5,
            "bin_end": 38,
            "count": 0
           },
           {
            "bin_start": 38,
            "bin_end": 40.5,
            "count": 0
           },
           {
            "bin_start": 40.5,
            "bin_end": 43,
            "count": 0
           },
           {
            "bin_start": 43,
            "bin_end": 45.5,
            "count": 1
           },
           {
            "bin_start": 45.5,
            "bin_end": 48,
            "count": 1
           },
           {
            "bin_start": 48,
            "bin_end": 50.5,
            "count": 0
           },
           {
            "bin_start": 50.5,
            "bin_end": 53,
            "count": 0
           },
           {
            "bin_start": 53,
            "bin_end": 55.5,
            "count": 0
           },
           {
            "bin_start": 55.5,
            "bin_end": 58,
            "count": 1
           }
          ]
         }
        },
        {
         "name": "job",
         "dtype": "object",
         "stats": {
          "unique_count": 4,
          "nan_count": 0,
          "categories": [
           {
            "name": "management",
            "count": 2
           },
           {
            "name": "technician",
            "count": 1
           },
           {
            "name": "2 others",
            "count": 2
           }
          ]
         }
        },
        {
         "name": "marital",
         "dtype": "object",
         "stats": {
          "unique_count": 2,
          "nan_count": 0,
          "categories": [
           {
            "name": "married",
            "count": 3
           },
           {
            "name": "single",
            "count": 2
           }
          ]
         }
        },
        {
         "name": "education",
         "dtype": "object",
         "stats": {
          "unique_count": 2,
          "nan_count": 0,
          "categories": [
           {
            "name": "tertiary",
            "count": 3
           },
           {
            "name": "secondary",
            "count": 2
           }
          ]
         }
        },
        {
         "name": "default",
         "dtype": "object",
         "stats": {
          "unique_count": 1,
          "nan_count": 0,
          "categories": [
           {
            "name": "no",
            "count": 5
           }
          ]
         }
        },
        {
         "name": "balance",
         "dtype": "int64",
         "stats": {
          "unique_count": 5,
          "nan_count": 0,
          "min": "1",
          "max": "2143",
          "histogram": [
           {
            "bin_start": 1,
            "bin_end": 215.2,
            "count": 3
           },
           {
            "bin_start": 215.2,
            "bin_end": 429.4,
            "count": 0
           },
           {
            "bin_start": 429.4,
            "bin_end": 643.5999999999999,
            "count": 0
           },
           {
            "bin_start": 643.5999999999999,
            "bin_end": 857.8,
            "count": 0
           },
           {
            "bin_start": 857.8,
            "bin_end": 1072,
            "count": 0
           },
           {
            "bin_start": 1072,
            "bin_end": 1286.1999999999998,
            "count": 0
           },
           {
            "bin_start": 1286.1999999999998,
            "bin_end": 1500.3999999999999,
            "count": 0
           },
           {
            "bin_start": 1500.3999999999999,
            "bin_end": 1714.6,
            "count": 1
           },
           {
            "bin_start": 1714.6,
            "bin_end": 1928.8,
            "count": 0
           },
           {
            "bin_start": 1928.8,
            "bin_end": 2143,
            "count": 1
           }
          ]
         }
        },
        {
         "name": "housing",
         "dtype": "object",
         "stats": {
          "unique_count": 2,
          "nan_count": 0,
          "categories": [
           {
            "name": "yes",
            "count": 4
           },
           {
            "name": "no",
            "count": 1
           }
          ]
         }
        },
        {
         "name": "loan",
         "dtype": "object",
         "stats": {
          "unique_count": 2,
          "nan_count": 0,
          "categories": [
           {
            "name": "no",
            "count": 4
           },
           {
            "name": "yes",
            "count": 1
           }
          ]
         }
        },
        {
         "name": "contact",
         "dtype": "object",
         "stats": {
          "unique_count": 1,
          "nan_count": 0,
          "categories": [
           {
            "name": "cellular",
            "count": 5
           }
          ]
         }
        },
        {
         "name": "day",
         "dtype": "int64",
         "stats": {
          "unique_count": 1,
          "nan_count": 0,
          "min": "5",
          "max": "5",
          "histogram": [
           {
            "bin_start": 4.5,
            "bin_end": 4.6,
            "count": 0
           },
           {
            "bin_start": 4.6,
            "bin_end": 4.7,
            "count": 0
           },
           {
            "bin_start": 4.7,
            "bin_end": 4.8,
            "count": 0
           },
           {
            "bin_start": 4.8,
            "bin_end": 4.9,
            "count": 0
           },
           {
            "bin_start": 4.9,
            "bin_end": 5,
            "count": 0
           },
           {
            "bin_start": 5,
            "bin_end": 5.1,
            "count": 5
           },
           {
            "bin_start": 5.1,
            "bin_end": 5.2,
            "count": 0
           },
           {
            "bin_start": 5.2,
            "bin_end": 5.3,
            "count": 0
           },
           {
            "bin_start": 5.3,
            "bin_end": 5.4,
            "count": 0
           },
           {
            "bin_start": 5.4,
            "bin_end": 5.5,
            "count": 0
           }
          ]
         }
        },
        {
         "name": "month",
         "dtype": "object",
         "stats": {
          "unique_count": 1,
          "nan_count": 0,
          "categories": [
           {
            "name": "may",
            "count": 5
           }
          ]
         }
        },
        {
         "name": "duration",
         "dtype": "int64",
         "stats": {
          "unique_count": 5,
          "nan_count": 0,
          "min": "76",
          "max": "261",
          "histogram": [
           {
            "bin_start": 76,
            "bin_end": 94.5,
            "count": 2
           },
           {
            "bin_start": 94.5,
            "bin_end": 113,
            "count": 0
           },
           {
            "bin_start": 113,
            "bin_end": 131.5,
            "count": 0
           },
           {
            "bin_start": 131.5,
            "bin_end": 150,
            "count": 0
           },
           {
            "bin_start": 150,
            "bin_end": 168.5,
            "count": 1
           },
           {
            "bin_start": 168.5,
            "bin_end": 187,
            "count": 0
           },
           {
            "bin_start": 187,
            "bin_end": 205.5,
            "count": 1
           },
           {
            "bin_start": 205.5,
            "bin_end": 224,
            "count": 0
           },
           {
            "bin_start": 224,
            "bin_end": 242.5,
            "count": 0
           },
           {
            "bin_start": 242.5,
            "bin_end": 261,
            "count": 1
           }
          ]
         }
        },
        {
         "name": "campaign",
         "dtype": "int64",
         "stats": {
          "unique_count": 1,
          "nan_count": 0,
          "min": "1",
          "max": "1",
          "histogram": [
           {
            "bin_start": 0.5,
            "bin_end": 0.6,
            "count": 0
           },
           {
            "bin_start": 0.6,
            "bin_end": 0.7,
            "count": 0
           },
           {
            "bin_start": 0.7,
            "bin_end": 0.8,
            "count": 0
           },
           {
            "bin_start": 0.8,
            "bin_end": 0.9,
            "count": 0
           },
           {
            "bin_start": 0.9,
            "bin_end": 1,
            "count": 0
           },
           {
            "bin_start": 1,
            "bin_end": 1.1,
            "count": 5
           },
           {
            "bin_start": 1.1,
            "bin_end": 1.2000000000000002,
            "count": 0
           },
           {
            "bin_start": 1.2000000000000002,
            "bin_end": 1.3,
            "count": 0
           },
           {
            "bin_start": 1.3,
            "bin_end": 1.4,
            "count": 0
           },
           {
            "bin_start": 1.4,
            "bin_end": 1.5,
            "count": 0
           }
          ]
         }
        },
        {
         "name": "pdays",
         "dtype": "int64",
         "stats": {
          "unique_count": 1,
          "nan_count": 0,
          "min": "-1",
          "max": "-1",
          "histogram": [
           {
            "bin_start": -1.5,
            "bin_end": -1.4,
            "count": 0
           },
           {
            "bin_start": -1.4,
            "bin_end": -1.3,
            "count": 0
           },
           {
            "bin_start": -1.3,
            "bin_end": -1.2,
            "count": 0
           },
           {
            "bin_start": -1.2,
            "bin_end": -1.1,
            "count": 0
           },
           {
            "bin_start": -1.1,
            "bin_end": -1,
            "count": 0
           },
           {
            "bin_start": -1,
            "bin_end": -0.8999999999999999,
            "count": 5
           },
           {
            "bin_start": -0.8999999999999999,
            "bin_end": -0.7999999999999999,
            "count": 0
           },
           {
            "bin_start": -0.7999999999999999,
            "bin_end": -0.7,
            "count": 0
           },
           {
            "bin_start": -0.7,
            "bin_end": -0.6,
            "count": 0
           },
           {
            "bin_start": -0.6,
            "bin_end": -0.5,
            "count": 0
           }
          ]
         }
        },
        {
         "name": "previous",
         "dtype": "int64",
         "stats": {
          "unique_count": 1,
          "nan_count": 0,
          "min": "0",
          "max": "0",
          "histogram": [
           {
            "bin_start": -0.5,
            "bin_end": -0.4,
            "count": 0
           },
           {
            "bin_start": -0.4,
            "bin_end": -0.3,
            "count": 0
           },
           {
            "bin_start": -0.3,
            "bin_end": -0.19999999999999996,
            "count": 0
           },
           {
            "bin_start": -0.19999999999999996,
            "bin_end": -0.09999999999999998,
            "count": 0
           },
           {
            "bin_start": -0.09999999999999998,
            "bin_end": 0,
            "count": 0
           },
           {
            "bin_start": 0,
            "bin_end": 0.10000000000000009,
            "count": 5
           },
           {
            "bin_start": 0.10000000000000009,
            "bin_end": 0.20000000000000007,
            "count": 0
           },
           {
            "bin_start": 0.20000000000000007,
            "bin_end": 0.30000000000000004,
            "count": 0
           },
           {
            "bin_start": 0.30000000000000004,
            "bin_end": 0.4,
            "count": 0
           },
           {
            "bin_start": 0.4,
            "bin_end": 0.5,
            "count": 0
           }
          ]
         }
        },
        {
         "name": "poutcome",
         "dtype": "object",
         "stats": {
          "unique_count": 1,
          "nan_count": 0,
          "categories": [
           {
            "name": "unknown",
            "count": 5
           }
          ]
         }
        },
        {
         "name": "y",
         "dtype": "object",
         "stats": {
          "unique_count": 1,
          "nan_count": 0,
          "categories": [
           {
            "name": "no",
            "count": 5
           }
          ]
         }
        },
        {
         "name": "_deepnote_index_column",
         "dtype": "int64"
        }
       ],
       "rows": [
        {
         "age": 58,
         "job": "management",
         "marital": "married",
         "education": "tertiary",
         "default": "no",
         "balance": 2143,
         "housing": "yes",
         "loan": "no",
         "contact": "cellular",
         "day": 5,
         "month": "may",
         "duration": 261,
         "campaign": 1,
         "pdays": -1,
         "previous": 0,
         "poutcome": "unknown",
         "y": "no",
         "_deepnote_index_column": 0
        },
        {
         "age": 44,
         "job": "technician",
         "marital": "single",
         "education": "secondary",
         "default": "no",
         "balance": 29,
         "housing": "yes",
         "loan": "no",
         "contact": "cellular",
         "day": 5,
         "month": "may",
         "duration": 151,
         "campaign": 1,
         "pdays": -1,
         "previous": 0,
         "poutcome": "unknown",
         "y": "no",
         "_deepnote_index_column": 1
        },
        {
         "age": 33,
         "job": "entrepreneur",
         "marital": "married",
         "education": "secondary",
         "default": "no",
         "balance": 2,
         "housing": "yes",
         "loan": "yes",
         "contact": "cellular",
         "day": 5,
         "month": "may",
         "duration": 76,
         "campaign": 1,
         "pdays": -1,
         "previous": 0,
         "poutcome": "unknown",
         "y": "no",
         "_deepnote_index_column": 2
        },
        {
         "age": 47,
         "job": "blue-collar",
         "marital": "married",
         "education": "tertiary",
         "default": "no",
         "balance": 1506,
         "housing": "yes",
         "loan": "no",
         "contact": "cellular",
         "day": 5,
         "month": "may",
         "duration": 92,
         "campaign": 1,
         "pdays": -1,
         "previous": 0,
         "poutcome": "unknown",
         "y": "no",
         "_deepnote_index_column": 3
        },
        {
         "age": 33,
         "job": "management",
         "marital": "single",
         "education": "tertiary",
         "default": "no",
         "balance": 1,
         "housing": "no",
         "loan": "no",
         "contact": "cellular",
         "day": 5,
         "month": "may",
         "duration": 198,
         "campaign": 1,
         "pdays": -1,
         "previous": 0,
         "poutcome": "unknown",
         "y": "no",
         "_deepnote_index_column": 4
        }
       ]
      },
      "text/plain": "   age           job  marital  education default  balance housing loan  \\\n0   58    management  married   tertiary      no     2143     yes   no   \n1   44    technician   single  secondary      no       29     yes   no   \n2   33  entrepreneur  married  secondary      no        2     yes  yes   \n3   47   blue-collar  married   tertiary      no     1506     yes   no   \n4   33    management   single   tertiary      no        1      no   no   \n\n    contact  day month  duration  campaign  pdays  previous poutcome   y  \n0  cellular    5   may       261         1     -1         0  unknown  no  \n1  cellular    5   may       151         1     -1         0  unknown  no  \n2  cellular    5   may        76         1     -1         0  unknown  no  \n3  cellular    5   may        92         1     -1         0  unknown  no  \n4  cellular    5   may       198         1     -1         0  unknown  no  ",
      "text/html": "<div>\n<style scoped>\n    .dataframe tbody tr th:only-of-type {\n        vertical-align: middle;\n    }\n\n    .dataframe tbody tr th {\n        vertical-align: top;\n    }\n\n    .dataframe thead th {\n        text-align: right;\n    }\n</style>\n<table border=\"1\" class=\"dataframe\">\n  <thead>\n    <tr style=\"text-align: right;\">\n      <th></th>\n      <th>age</th>\n      <th>job</th>\n      <th>marital</th>\n      <th>education</th>\n      <th>default</th>\n      <th>balance</th>\n      <th>housing</th>\n      <th>loan</th>\n      <th>contact</th>\n      <th>day</th>\n      <th>month</th>\n      <th>duration</th>\n      <th>campaign</th>\n      <th>pdays</th>\n      <th>previous</th>\n      <th>poutcome</th>\n      <th>y</th>\n    </tr>\n  </thead>\n  <tbody>\n    <tr>\n      <th>0</th>\n      <td>58</td>\n      <td>management</td>\n      <td>married</td>\n      <td>tertiary</td>\n      <td>no</td>\n      <td>2143</td>\n      <td>yes</td>\n      <td>no</td>\n      <td>cellular</td>\n      <td>5</td>\n      <td>may</td>\n      <td>261</td>\n      <td>1</td>\n      <td>-1</td>\n      <td>0</td>\n      <td>unknown</td>\n      <td>no</td>\n    </tr>\n    <tr>\n      <th>1</th>\n      <td>44</td>\n      <td>technician</td>\n      <td>single</td>\n      <td>secondary</td>\n      <td>no</td>\n      <td>29</td>\n      <td>yes</td>\n      <td>no</td>\n      <td>cellular</td>\n      <td>5</td>\n      <td>may</td>\n      <td>151</td>\n      <td>1</td>\n      <td>-1</td>\n      <td>0</td>\n      <td>unknown</td>\n      <td>no</td>\n    </tr>\n    <tr>\n      <th>2</th>\n      <td>33</td>\n      <td>entrepreneur</td>\n      <td>married</td>\n      <td>secondary</td>\n      <td>no</td>\n      <td>2</td>\n      <td>yes</td>\n      <td>yes</td>\n      <td>cellular</td>\n      <td>5</td>\n      <td>may</td>\n      <td>76</td>\n      <td>1</td>\n      <td>-1</td>\n      <td>0</td>\n      <td>unknown</td>\n      <td>no</td>\n    </tr>\n    <tr>\n      <th>3</th>\n      <td>47</td>\n      <td>blue-collar</td>\n      <td>married</td>\n      <td>tertiary</td>\n      <td>no</td>\n      <td>1506</td>\n      <td>yes</td>\n      <td>no</td>\n      <td>cellular</td>\n      <td>5</td>\n      <td>may</td>\n      <td>92</td>\n      <td>1</td>\n      <td>-1</td>\n      <td>0</td>\n      <td>unknown</td>\n      <td>no</td>\n    </tr>\n    <tr>\n      <th>4</th>\n      <td>33</td>\n      <td>management</td>\n      <td>single</td>\n      <td>tertiary</td>\n      <td>no</td>\n      <td>1</td>\n      <td>no</td>\n      <td>no</td>\n      <td>cellular</td>\n      <td>5</td>\n      <td>may</td>\n      <td>198</td>\n      <td>1</td>\n      <td>-1</td>\n      <td>0</td>\n      <td>unknown</td>\n      <td>no</td>\n    </tr>\n  </tbody>\n</table>\n</div>"
     },
     "metadata": {}
    }
   ]
  },
  {
   "cell_type": "code",
   "metadata": {
    "cell_id": "856e56099f95433b97a30798b294afec",
    "deepnote_to_be_reexecuted": false,
    "execution_millis": 71,
    "execution_start": 1650339726301,
    "source_hash": "286a4c9a",
    "tags": [],
    "deepnote_cell_type": "code",
    "deepnote_cell_height": 452
   },
   "source": "# maybe we should just drop this column???\ntrain_df[\"poutcome\"].replace([\"unknown\"], \"other\",inplace = True)\ntrain_df.head()",
   "execution_count": null,
   "outputs": [
    {
     "output_type": "execute_result",
     "execution_count": 12,
     "data": {
      "application/vnd.deepnote.dataframe.v3+json": {
       "column_count": 17,
       "row_count": 5,
       "columns": [
        {
         "name": "age",
         "dtype": "int64",
         "stats": {
          "unique_count": 4,
          "nan_count": 0,
          "min": "33",
          "max": "58",
          "histogram": [
           {
            "bin_start": 33,
            "bin_end": 35.5,
            "count": 2
           },
           {
            "bin_start": 35.5,
            "bin_end": 38,
            "count": 0
           },
           {
            "bin_start": 38,
            "bin_end": 40.5,
            "count": 0
           },
           {
            "bin_start": 40.5,
            "bin_end": 43,
            "count": 0
           },
           {
            "bin_start": 43,
            "bin_end": 45.5,
            "count": 1
           },
           {
            "bin_start": 45.5,
            "bin_end": 48,
            "count": 1
           },
           {
            "bin_start": 48,
            "bin_end": 50.5,
            "count": 0
           },
           {
            "bin_start": 50.5,
            "bin_end": 53,
            "count": 0
           },
           {
            "bin_start": 53,
            "bin_end": 55.5,
            "count": 0
           },
           {
            "bin_start": 55.5,
            "bin_end": 58,
            "count": 1
           }
          ]
         }
        },
        {
         "name": "job",
         "dtype": "object",
         "stats": {
          "unique_count": 4,
          "nan_count": 0,
          "categories": [
           {
            "name": "management",
            "count": 2
           },
           {
            "name": "technician",
            "count": 1
           },
           {
            "name": "2 others",
            "count": 2
           }
          ]
         }
        },
        {
         "name": "marital",
         "dtype": "object",
         "stats": {
          "unique_count": 2,
          "nan_count": 0,
          "categories": [
           {
            "name": "married",
            "count": 3
           },
           {
            "name": "single",
            "count": 2
           }
          ]
         }
        },
        {
         "name": "education",
         "dtype": "object",
         "stats": {
          "unique_count": 2,
          "nan_count": 0,
          "categories": [
           {
            "name": "tertiary",
            "count": 3
           },
           {
            "name": "secondary",
            "count": 2
           }
          ]
         }
        },
        {
         "name": "default",
         "dtype": "object",
         "stats": {
          "unique_count": 1,
          "nan_count": 0,
          "categories": [
           {
            "name": "no",
            "count": 5
           }
          ]
         }
        },
        {
         "name": "balance",
         "dtype": "int64",
         "stats": {
          "unique_count": 5,
          "nan_count": 0,
          "min": "1",
          "max": "2143",
          "histogram": [
           {
            "bin_start": 1,
            "bin_end": 215.2,
            "count": 3
           },
           {
            "bin_start": 215.2,
            "bin_end": 429.4,
            "count": 0
           },
           {
            "bin_start": 429.4,
            "bin_end": 643.5999999999999,
            "count": 0
           },
           {
            "bin_start": 643.5999999999999,
            "bin_end": 857.8,
            "count": 0
           },
           {
            "bin_start": 857.8,
            "bin_end": 1072,
            "count": 0
           },
           {
            "bin_start": 1072,
            "bin_end": 1286.1999999999998,
            "count": 0
           },
           {
            "bin_start": 1286.1999999999998,
            "bin_end": 1500.3999999999999,
            "count": 0
           },
           {
            "bin_start": 1500.3999999999999,
            "bin_end": 1714.6,
            "count": 1
           },
           {
            "bin_start": 1714.6,
            "bin_end": 1928.8,
            "count": 0
           },
           {
            "bin_start": 1928.8,
            "bin_end": 2143,
            "count": 1
           }
          ]
         }
        },
        {
         "name": "housing",
         "dtype": "object",
         "stats": {
          "unique_count": 2,
          "nan_count": 0,
          "categories": [
           {
            "name": "yes",
            "count": 4
           },
           {
            "name": "no",
            "count": 1
           }
          ]
         }
        },
        {
         "name": "loan",
         "dtype": "object",
         "stats": {
          "unique_count": 2,
          "nan_count": 0,
          "categories": [
           {
            "name": "no",
            "count": 4
           },
           {
            "name": "yes",
            "count": 1
           }
          ]
         }
        },
        {
         "name": "contact",
         "dtype": "object",
         "stats": {
          "unique_count": 1,
          "nan_count": 0,
          "categories": [
           {
            "name": "cellular",
            "count": 5
           }
          ]
         }
        },
        {
         "name": "day",
         "dtype": "int64",
         "stats": {
          "unique_count": 1,
          "nan_count": 0,
          "min": "5",
          "max": "5",
          "histogram": [
           {
            "bin_start": 4.5,
            "bin_end": 4.6,
            "count": 0
           },
           {
            "bin_start": 4.6,
            "bin_end": 4.7,
            "count": 0
           },
           {
            "bin_start": 4.7,
            "bin_end": 4.8,
            "count": 0
           },
           {
            "bin_start": 4.8,
            "bin_end": 4.9,
            "count": 0
           },
           {
            "bin_start": 4.9,
            "bin_end": 5,
            "count": 0
           },
           {
            "bin_start": 5,
            "bin_end": 5.1,
            "count": 5
           },
           {
            "bin_start": 5.1,
            "bin_end": 5.2,
            "count": 0
           },
           {
            "bin_start": 5.2,
            "bin_end": 5.3,
            "count": 0
           },
           {
            "bin_start": 5.3,
            "bin_end": 5.4,
            "count": 0
           },
           {
            "bin_start": 5.4,
            "bin_end": 5.5,
            "count": 0
           }
          ]
         }
        },
        {
         "name": "month",
         "dtype": "object",
         "stats": {
          "unique_count": 1,
          "nan_count": 0,
          "categories": [
           {
            "name": "may",
            "count": 5
           }
          ]
         }
        },
        {
         "name": "duration",
         "dtype": "int64",
         "stats": {
          "unique_count": 5,
          "nan_count": 0,
          "min": "76",
          "max": "261",
          "histogram": [
           {
            "bin_start": 76,
            "bin_end": 94.5,
            "count": 2
           },
           {
            "bin_start": 94.5,
            "bin_end": 113,
            "count": 0
           },
           {
            "bin_start": 113,
            "bin_end": 131.5,
            "count": 0
           },
           {
            "bin_start": 131.5,
            "bin_end": 150,
            "count": 0
           },
           {
            "bin_start": 150,
            "bin_end": 168.5,
            "count": 1
           },
           {
            "bin_start": 168.5,
            "bin_end": 187,
            "count": 0
           },
           {
            "bin_start": 187,
            "bin_end": 205.5,
            "count": 1
           },
           {
            "bin_start": 205.5,
            "bin_end": 224,
            "count": 0
           },
           {
            "bin_start": 224,
            "bin_end": 242.5,
            "count": 0
           },
           {
            "bin_start": 242.5,
            "bin_end": 261,
            "count": 1
           }
          ]
         }
        },
        {
         "name": "campaign",
         "dtype": "int64",
         "stats": {
          "unique_count": 1,
          "nan_count": 0,
          "min": "1",
          "max": "1",
          "histogram": [
           {
            "bin_start": 0.5,
            "bin_end": 0.6,
            "count": 0
           },
           {
            "bin_start": 0.6,
            "bin_end": 0.7,
            "count": 0
           },
           {
            "bin_start": 0.7,
            "bin_end": 0.8,
            "count": 0
           },
           {
            "bin_start": 0.8,
            "bin_end": 0.9,
            "count": 0
           },
           {
            "bin_start": 0.9,
            "bin_end": 1,
            "count": 0
           },
           {
            "bin_start": 1,
            "bin_end": 1.1,
            "count": 5
           },
           {
            "bin_start": 1.1,
            "bin_end": 1.2000000000000002,
            "count": 0
           },
           {
            "bin_start": 1.2000000000000002,
            "bin_end": 1.3,
            "count": 0
           },
           {
            "bin_start": 1.3,
            "bin_end": 1.4,
            "count": 0
           },
           {
            "bin_start": 1.4,
            "bin_end": 1.5,
            "count": 0
           }
          ]
         }
        },
        {
         "name": "pdays",
         "dtype": "int64",
         "stats": {
          "unique_count": 1,
          "nan_count": 0,
          "min": "-1",
          "max": "-1",
          "histogram": [
           {
            "bin_start": -1.5,
            "bin_end": -1.4,
            "count": 0
           },
           {
            "bin_start": -1.4,
            "bin_end": -1.3,
            "count": 0
           },
           {
            "bin_start": -1.3,
            "bin_end": -1.2,
            "count": 0
           },
           {
            "bin_start": -1.2,
            "bin_end": -1.1,
            "count": 0
           },
           {
            "bin_start": -1.1,
            "bin_end": -1,
            "count": 0
           },
           {
            "bin_start": -1,
            "bin_end": -0.8999999999999999,
            "count": 5
           },
           {
            "bin_start": -0.8999999999999999,
            "bin_end": -0.7999999999999999,
            "count": 0
           },
           {
            "bin_start": -0.7999999999999999,
            "bin_end": -0.7,
            "count": 0
           },
           {
            "bin_start": -0.7,
            "bin_end": -0.6,
            "count": 0
           },
           {
            "bin_start": -0.6,
            "bin_end": -0.5,
            "count": 0
           }
          ]
         }
        },
        {
         "name": "previous",
         "dtype": "int64",
         "stats": {
          "unique_count": 1,
          "nan_count": 0,
          "min": "0",
          "max": "0",
          "histogram": [
           {
            "bin_start": -0.5,
            "bin_end": -0.4,
            "count": 0
           },
           {
            "bin_start": -0.4,
            "bin_end": -0.3,
            "count": 0
           },
           {
            "bin_start": -0.3,
            "bin_end": -0.19999999999999996,
            "count": 0
           },
           {
            "bin_start": -0.19999999999999996,
            "bin_end": -0.09999999999999998,
            "count": 0
           },
           {
            "bin_start": -0.09999999999999998,
            "bin_end": 0,
            "count": 0
           },
           {
            "bin_start": 0,
            "bin_end": 0.10000000000000009,
            "count": 5
           },
           {
            "bin_start": 0.10000000000000009,
            "bin_end": 0.20000000000000007,
            "count": 0
           },
           {
            "bin_start": 0.20000000000000007,
            "bin_end": 0.30000000000000004,
            "count": 0
           },
           {
            "bin_start": 0.30000000000000004,
            "bin_end": 0.4,
            "count": 0
           },
           {
            "bin_start": 0.4,
            "bin_end": 0.5,
            "count": 0
           }
          ]
         }
        },
        {
         "name": "poutcome",
         "dtype": "object",
         "stats": {
          "unique_count": 1,
          "nan_count": 0,
          "categories": [
           {
            "name": "other",
            "count": 5
           }
          ]
         }
        },
        {
         "name": "y",
         "dtype": "object",
         "stats": {
          "unique_count": 1,
          "nan_count": 0,
          "categories": [
           {
            "name": "no",
            "count": 5
           }
          ]
         }
        },
        {
         "name": "_deepnote_index_column",
         "dtype": "int64"
        }
       ],
       "rows": [
        {
         "age": 58,
         "job": "management",
         "marital": "married",
         "education": "tertiary",
         "default": "no",
         "balance": 2143,
         "housing": "yes",
         "loan": "no",
         "contact": "cellular",
         "day": 5,
         "month": "may",
         "duration": 261,
         "campaign": 1,
         "pdays": -1,
         "previous": 0,
         "poutcome": "other",
         "y": "no",
         "_deepnote_index_column": 0
        },
        {
         "age": 44,
         "job": "technician",
         "marital": "single",
         "education": "secondary",
         "default": "no",
         "balance": 29,
         "housing": "yes",
         "loan": "no",
         "contact": "cellular",
         "day": 5,
         "month": "may",
         "duration": 151,
         "campaign": 1,
         "pdays": -1,
         "previous": 0,
         "poutcome": "other",
         "y": "no",
         "_deepnote_index_column": 1
        },
        {
         "age": 33,
         "job": "entrepreneur",
         "marital": "married",
         "education": "secondary",
         "default": "no",
         "balance": 2,
         "housing": "yes",
         "loan": "yes",
         "contact": "cellular",
         "day": 5,
         "month": "may",
         "duration": 76,
         "campaign": 1,
         "pdays": -1,
         "previous": 0,
         "poutcome": "other",
         "y": "no",
         "_deepnote_index_column": 2
        },
        {
         "age": 47,
         "job": "blue-collar",
         "marital": "married",
         "education": "tertiary",
         "default": "no",
         "balance": 1506,
         "housing": "yes",
         "loan": "no",
         "contact": "cellular",
         "day": 5,
         "month": "may",
         "duration": 92,
         "campaign": 1,
         "pdays": -1,
         "previous": 0,
         "poutcome": "other",
         "y": "no",
         "_deepnote_index_column": 3
        },
        {
         "age": 33,
         "job": "management",
         "marital": "single",
         "education": "tertiary",
         "default": "no",
         "balance": 1,
         "housing": "no",
         "loan": "no",
         "contact": "cellular",
         "day": 5,
         "month": "may",
         "duration": 198,
         "campaign": 1,
         "pdays": -1,
         "previous": 0,
         "poutcome": "other",
         "y": "no",
         "_deepnote_index_column": 4
        }
       ]
      },
      "text/plain": "   age           job  marital  education default  balance housing loan  \\\n0   58    management  married   tertiary      no     2143     yes   no   \n1   44    technician   single  secondary      no       29     yes   no   \n2   33  entrepreneur  married  secondary      no        2     yes  yes   \n3   47   blue-collar  married   tertiary      no     1506     yes   no   \n4   33    management   single   tertiary      no        1      no   no   \n\n    contact  day month  duration  campaign  pdays  previous poutcome   y  \n0  cellular    5   may       261         1     -1         0    other  no  \n1  cellular    5   may       151         1     -1         0    other  no  \n2  cellular    5   may        76         1     -1         0    other  no  \n3  cellular    5   may        92         1     -1         0    other  no  \n4  cellular    5   may       198         1     -1         0    other  no  ",
      "text/html": "<div>\n<style scoped>\n    .dataframe tbody tr th:only-of-type {\n        vertical-align: middle;\n    }\n\n    .dataframe tbody tr th {\n        vertical-align: top;\n    }\n\n    .dataframe thead th {\n        text-align: right;\n    }\n</style>\n<table border=\"1\" class=\"dataframe\">\n  <thead>\n    <tr style=\"text-align: right;\">\n      <th></th>\n      <th>age</th>\n      <th>job</th>\n      <th>marital</th>\n      <th>education</th>\n      <th>default</th>\n      <th>balance</th>\n      <th>housing</th>\n      <th>loan</th>\n      <th>contact</th>\n      <th>day</th>\n      <th>month</th>\n      <th>duration</th>\n      <th>campaign</th>\n      <th>pdays</th>\n      <th>previous</th>\n      <th>poutcome</th>\n      <th>y</th>\n    </tr>\n  </thead>\n  <tbody>\n    <tr>\n      <th>0</th>\n      <td>58</td>\n      <td>management</td>\n      <td>married</td>\n      <td>tertiary</td>\n      <td>no</td>\n      <td>2143</td>\n      <td>yes</td>\n      <td>no</td>\n      <td>cellular</td>\n      <td>5</td>\n      <td>may</td>\n      <td>261</td>\n      <td>1</td>\n      <td>-1</td>\n      <td>0</td>\n      <td>other</td>\n      <td>no</td>\n    </tr>\n    <tr>\n      <th>1</th>\n      <td>44</td>\n      <td>technician</td>\n      <td>single</td>\n      <td>secondary</td>\n      <td>no</td>\n      <td>29</td>\n      <td>yes</td>\n      <td>no</td>\n      <td>cellular</td>\n      <td>5</td>\n      <td>may</td>\n      <td>151</td>\n      <td>1</td>\n      <td>-1</td>\n      <td>0</td>\n      <td>other</td>\n      <td>no</td>\n    </tr>\n    <tr>\n      <th>2</th>\n      <td>33</td>\n      <td>entrepreneur</td>\n      <td>married</td>\n      <td>secondary</td>\n      <td>no</td>\n      <td>2</td>\n      <td>yes</td>\n      <td>yes</td>\n      <td>cellular</td>\n      <td>5</td>\n      <td>may</td>\n      <td>76</td>\n      <td>1</td>\n      <td>-1</td>\n      <td>0</td>\n      <td>other</td>\n      <td>no</td>\n    </tr>\n    <tr>\n      <th>3</th>\n      <td>47</td>\n      <td>blue-collar</td>\n      <td>married</td>\n      <td>tertiary</td>\n      <td>no</td>\n      <td>1506</td>\n      <td>yes</td>\n      <td>no</td>\n      <td>cellular</td>\n      <td>5</td>\n      <td>may</td>\n      <td>92</td>\n      <td>1</td>\n      <td>-1</td>\n      <td>0</td>\n      <td>other</td>\n      <td>no</td>\n    </tr>\n    <tr>\n      <th>4</th>\n      <td>33</td>\n      <td>management</td>\n      <td>single</td>\n      <td>tertiary</td>\n      <td>no</td>\n      <td>1</td>\n      <td>no</td>\n      <td>no</td>\n      <td>cellular</td>\n      <td>5</td>\n      <td>may</td>\n      <td>198</td>\n      <td>1</td>\n      <td>-1</td>\n      <td>0</td>\n      <td>other</td>\n      <td>no</td>\n    </tr>\n  </tbody>\n</table>\n</div>"
     },
     "metadata": {}
    }
   ]
  },
  {
   "cell_type": "markdown",
   "source": "replace pdays -1 with max (of pdays)?\n\nFor now we have decided not to",
   "metadata": {
    "cell_id": "8cf52a32bcf44222a9a3bf63b645c068",
    "deepnote_to_be_reexecuted": false,
    "execution_millis": 380,
    "execution_start": 1650252084809,
    "source_hash": "9b170853",
    "tags": [],
    "deepnote_cell_type": "markdown",
    "deepnote_cell_height": 88.78125
   }
  },
  {
   "cell_type": "code",
   "metadata": {
    "cell_id": "41439c6689b946afbbf8ee14d288f6c6",
    "deepnote_to_be_reexecuted": false,
    "execution_millis": 0,
    "execution_start": 1650339726369,
    "source_hash": "17fdffea",
    "tags": [],
    "deepnote_cell_type": "code",
    "deepnote_cell_height": 117
   },
   "source": "# max_pdays = train_df['pdays'].max()\n# train_df['pdays'].replace([-1], max_pdays, inplace = True)\n# train_df",
   "execution_count": null,
   "outputs": []
  },
  {
   "cell_type": "markdown",
   "source": "### Exploratory Data Analysis (EDA)\n\n#### Noise vs Outliers\n\n* outliers - anomalous objects with characteristics that are different from, or unusual with respect to, the rest of the data\n* noise - random errors in the data",
   "metadata": {
    "cell_id": "00012-7c0cbf7e-49f5-4a44-972a-d1e7c6f675f4",
    "id": "MGa4GppVI_uj",
    "deepnote_cell_type": "markdown",
    "deepnote_cell_height": 198.171875
   }
  },
  {
   "cell_type": "code",
   "metadata": {
    "cell_id": "00014-efe0003e-28d9-4b93-b8fc-f58c8234b4fc",
    "deepnote_to_be_reexecuted": false,
    "execution_millis": 1464,
    "execution_start": 1650339726376,
    "id": "VUpdHVjbI_uk",
    "outputId": "e916233d-a4bf-4fc8-f9be-fe4f2bf228eb",
    "source_hash": "a7220e3c",
    "deepnote_cell_type": "code",
    "deepnote_cell_height": 487.1875,
    "deepnote_output_heights": [
     21.1875,
     320
    ]
   },
   "source": "colors = {'no': 'red', 'yes': 'green'}\ntrain_df.plot.scatter('job', 'age', c=train_df['y'].map(colors), rot=60)",
   "execution_count": null,
   "outputs": [
    {
     "output_type": "execute_result",
     "execution_count": 14,
     "data": {
      "text/plain": "<AxesSubplot:xlabel='job', ylabel='age'>"
     },
     "metadata": {}
    },
    {
     "data": {
      "text/plain": "<Figure size 432x288 with 1 Axes>",
      "image/png": "[encoded data removed]"
     },
     "metadata": {
      "needs_background": "light",
      "image/png": {
       "width": 382,
       "height": 318
      }
     },
     "output_type": "display_data"
    }
   ]
  },
  {
   "cell_type": "markdown",
   "source": "retired folks seem more likely to invest in low risk securities!",
   "metadata": {
    "cell_id": "00015-2a1ae5aa-0fd1-4fb2-9e06-5b85221dad04",
    "id": "m-7EuxeNI_uk",
    "deepnote_cell_type": "markdown",
    "deepnote_cell_height": 52.390625
   }
  },
  {
   "cell_type": "markdown",
   "source": "### Feature Engineering",
   "metadata": {
    "cell_id": "00016-e260ded3-a042-4dea-a446-5fd396fa3685",
    "id": "IYthIDgZI_ul",
    "deepnote_cell_type": "markdown",
    "deepnote_cell_height": 62
   }
  },
  {
   "cell_type": "markdown",
   "source": "feature transformation or feature creation",
   "metadata": {
    "cell_id": "d2567a8c9a0c4db4a9e72bd44a21603c",
    "tags": [],
    "deepnote_cell_type": "markdown",
    "deepnote_cell_height": 52.390625
   }
  },
  {
   "cell_type": "markdown",
   "source": "#### feature engineer day of week column",
   "metadata": {
    "cell_id": "180052165298493cb3bc28aa2c2b3bea",
    "tags": [],
    "deepnote_cell_type": "markdown",
    "deepnote_cell_height": 54
   }
  },
  {
   "cell_type": "code",
   "metadata": {
    "cell_id": "00017-a2907c39-d650-4445-a7cd-9a65c3a73e23",
    "colab": {
     "base_uri": "https://localhost:8080/"
    },
    "deepnote_table_invalid": false,
    "deepnote_table_loading": false,
    "deepnote_table_state": {
     "filters": [],
     "pageIndex": 0,
     "pageSize": 10,
     "sortBy": []
    },
    "deepnote_to_be_reexecuted": false,
    "execution_millis": 5209,
    "execution_start": 1650339727909,
    "id": "QCYqCYGfCjB8",
    "outputId": "5d149ae0-e910-434a-f74b-bc0fd34d0c1d",
    "source_hash": "2dd81a4b",
    "deepnote_cell_type": "code",
    "deepnote_cell_height": 920
   },
   "source": "# create year column\ncurYear = 2008\njanStretch = False\nyearList = []\nfor ind in train_df.index:\n    if train_df['month'][ind] == 'jan' and not janStretch:\n        janStretch = True\n        curYear += 1  \n    elif train_df['month'][ind] != 'jan':\n        janStretch = False\n    yearList.append(curYear) \ntrain_df['year'] = yearList\n\n# create day of week column\n# create a list then add to dataframe train_df\ntemp = pd.Timestamp('2022-4-5')\nmonthToNum = {'jan':1,'feb':2,'mar':3,'apr':4,'may':5,'jun':6,\n                'jul':7,'aug':8,'sep':9,'oct':10,'nov':11,'dec':12}\n\ndayOfWkList = []\nfor ind in train_df.index:\n    year = train_df['year'][ind]\n    month = train_df['month'][ind]\n    day = train_df['day'][ind]\n    timestampStr = str(year) + '-' + str(month) + '-' + str(day)\n    dayOfWk = pd.Timestamp(timestampStr)\n    dayOfWkList.append(dayOfWk.day_of_week)\ntrain_df['dayOfWk'] = dayOfWkList\ntrain_df[['year','month','day','dayOfWk']].head()",
   "execution_count": null,
   "outputs": [
    {
     "output_type": "execute_result",
     "execution_count": 15,
     "data": {
      "application/vnd.deepnote.dataframe.v3+json": {
       "column_count": 4,
       "row_count": 5,
       "columns": [
        {
         "name": "year",
         "dtype": "int64",
         "stats": {
          "unique_count": 1,
          "nan_count": 0,
          "min": "2008",
          "max": "2008",
          "histogram": [
           {
            "bin_start": 2007.5,
            "bin_end": 2007.6,
            "count": 0
           },
           {
            "bin_start": 2007.6,
            "bin_end": 2007.7,
            "count": 0
           },
           {
            "bin_start": 2007.7,
            "bin_end": 2007.8,
            "count": 0
           },
           {
            "bin_start": 2007.8,
            "bin_end": 2007.9,
            "count": 0
           },
           {
            "bin_start": 2007.9,
            "bin_end": 2008,
            "count": 0
           },
           {
            "bin_start": 2008,
            "bin_end": 2008.1,
            "count": 5
           },
           {
            "bin_start": 2008.1,
            "bin_end": 2008.2,
            "count": 0
           },
           {
            "bin_start": 2008.2,
            "bin_end": 2008.3,
            "count": 0
           },
           {
            "bin_start": 2008.3,
            "bin_end": 2008.4,
            "count": 0
           },
           {
            "bin_start": 2008.4,
            "bin_end": 2008.5,
            "count": 0
           }
          ]
         }
        },
        {
         "name": "month",
         "dtype": "object",
         "stats": {
          "unique_count": 1,
          "nan_count": 0,
          "categories": [
           {
            "name": "may",
            "count": 5
           }
          ]
         }
        },
        {
         "name": "day",
         "dtype": "int64",
         "stats": {
          "unique_count": 1,
          "nan_count": 0,
          "min": "5",
          "max": "5",
          "histogram": [
           {
            "bin_start": 4.5,
            "bin_end": 4.6,
            "count": 0
           },
           {
            "bin_start": 4.6,
            "bin_end": 4.7,
            "count": 0
           },
           {
            "bin_start": 4.7,
            "bin_end": 4.8,
            "count": 0
           },
           {
            "bin_start": 4.8,
            "bin_end": 4.9,
            "count": 0
           },
           {
            "bin_start": 4.9,
            "bin_end": 5,
            "count": 0
           },
           {
            "bin_start": 5,
            "bin_end": 5.1,
            "count": 5
           },
           {
            "bin_start": 5.1,
            "bin_end": 5.2,
            "count": 0
           },
           {
            "bin_start": 5.2,
            "bin_end": 5.3,
            "count": 0
           },
           {
            "bin_start": 5.3,
            "bin_end": 5.4,
            "count": 0
           },
           {
            "bin_start": 5.4,
            "bin_end": 5.5,
            "count": 0
           }
          ]
         }
        },
        {
         "name": "dayOfWk",
         "dtype": "int64",
         "stats": {
          "unique_count": 1,
          "nan_count": 0,
          "min": "0",
          "max": "0",
          "histogram": [
           {
            "bin_start": -0.5,
            "bin_end": -0.4,
            "count": 0
           },
           {
            "bin_start": -0.4,
            "bin_end": -0.3,
            "count": 0
           },
           {
            "bin_start": -0.3,
            "bin_end": -0.19999999999999996,
            "count": 0
           },
           {
            "bin_start": -0.19999999999999996,
            "bin_end": -0.09999999999999998,
            "count": 0
           },
           {
            "bin_start": -0.09999999999999998,
            "bin_end": 0,
            "count": 0
           },
           {
            "bin_start": 0,
            "bin_end": 0.10000000000000009,
            "count": 5
           },
           {
            "bin_start": 0.10000000000000009,
            "bin_end": 0.20000000000000007,
            "count": 0
           },
           {
            "bin_start": 0.20000000000000007,
            "bin_end": 0.30000000000000004,
            "count": 0
           },
           {
            "bin_start": 0.30000000000000004,
            "bin_end": 0.4,
            "count": 0
           },
           {
            "bin_start": 0.4,
            "bin_end": 0.5,
            "count": 0
           }
          ]
         }
        },
        {
         "name": "_deepnote_index_column",
         "dtype": "int64"
        }
       ],
       "rows": [
        {
         "year": 2008,
         "month": "may",
         "day": 5,
         "dayOfWk": 0,
         "_deepnote_index_column": 0
        },
        {
         "year": 2008,
         "month": "may",
         "day": 5,
         "dayOfWk": 0,
         "_deepnote_index_column": 1
        },
        {
         "year": 2008,
         "month": "may",
         "day": 5,
         "dayOfWk": 0,
         "_deepnote_index_column": 2
        },
        {
         "year": 2008,
         "month": "may",
         "day": 5,
         "dayOfWk": 0,
         "_deepnote_index_column": 3
        },
        {
         "year": 2008,
         "month": "may",
         "day": 5,
         "dayOfWk": 0,
         "_deepnote_index_column": 4
        }
       ]
      },
      "text/plain": "   year month  day  dayOfWk\n0  2008   may    5        0\n1  2008   may    5        0\n2  2008   may    5        0\n3  2008   may    5        0\n4  2008   may    5        0",
      "text/html": "<div>\n<style scoped>\n    .dataframe tbody tr th:only-of-type {\n        vertical-align: middle;\n    }\n\n    .dataframe tbody tr th {\n        vertical-align: top;\n    }\n\n    .dataframe thead th {\n        text-align: right;\n    }\n</style>\n<table border=\"1\" class=\"dataframe\">\n  <thead>\n    <tr style=\"text-align: right;\">\n      <th></th>\n      <th>year</th>\n      <th>month</th>\n      <th>day</th>\n      <th>dayOfWk</th>\n    </tr>\n  </thead>\n  <tbody>\n    <tr>\n      <th>0</th>\n      <td>2008</td>\n      <td>may</td>\n      <td>5</td>\n      <td>0</td>\n    </tr>\n    <tr>\n      <th>1</th>\n      <td>2008</td>\n      <td>may</td>\n      <td>5</td>\n      <td>0</td>\n    </tr>\n    <tr>\n      <th>2</th>\n      <td>2008</td>\n      <td>may</td>\n      <td>5</td>\n      <td>0</td>\n    </tr>\n    <tr>\n      <th>3</th>\n      <td>2008</td>\n      <td>may</td>\n      <td>5</td>\n      <td>0</td>\n    </tr>\n    <tr>\n      <th>4</th>\n      <td>2008</td>\n      <td>may</td>\n      <td>5</td>\n      <td>0</td>\n    </tr>\n  </tbody>\n</table>\n</div>"
     },
     "metadata": {}
    }
   ]
  },
  {
   "cell_type": "markdown",
   "source": "#### feature engineer \none-hot encoding: turn  categorical data to numerical data \nwhile not mathematically imply any ordinal relationship between the classes",
   "metadata": {
    "cell_id": "b8511171dc7c45979ceba722c8f5be65",
    "tags": [],
    "owner_user_id": "788872ac-c70f-426b-9507-9e351744f417",
    "deepnote_cell_type": "markdown",
    "deepnote_cell_height": 110.78125
   }
  },
  {
   "cell_type": "code",
   "metadata": {
    "cell_id": "1c7237a7fe8948f185e334a8cbfc78ac",
    "deepnote_to_be_reexecuted": false,
    "execution_millis": 1046,
    "execution_start": 1650339733155,
    "source_hash": "6e854c4",
    "tags": [],
    "deepnote_cell_type": "code",
    "deepnote_cell_height": 632
   },
   "source": "# one hot encoding for all categorical columns\nfrom sklearn.preprocessing import OneHotEncoder\ncategorical_list = [\"job\", \"marital\", \"poutcome\"]\nfor col in categorical_list:\n    encoder = OneHotEncoder()\n    # makes a dataset. each column is a value in the column from the original dataset. the new cloumns are sorted based on the values!\n    col_encoder = pd.DataFrame(encoder.fit_transform(train_df[[col]]).toarray())\n    # get the list of values in the current column and sort them so you can change the names\n    list_of_vals = train_df[col].unique()\n    list_of_vals.sort()\n    col_encoder.columns = list_of_vals\n    train_df = train_df.join(col_encoder)\ntrain_df.head()",
   "execution_count": null,
   "outputs": [
    {
     "output_type": "execute_result",
     "execution_count": 17,
     "data": {
      "application/vnd.deepnote.dataframe.v3+json": {
       "column_count": 37,
       "row_count": 5,
       "columns": [
        {
         "name": "age",
         "dtype": "int64",
         "stats": {
          "unique_count": 4,
          "nan_count": 0,
          "min": "33",
          "max": "58",
          "histogram": [
           {
            "bin_start": 33,
            "bin_end": 35.5,
            "count": 2
           },
           {
            "bin_start": 35.5,
            "bin_end": 38,
            "count": 0
           },
           {
            "bin_start": 38,
            "bin_end": 40.5,
            "count": 0
           },
           {
            "bin_start": 40.5,
            "bin_end": 43,
            "count": 0
           },
           {
            "bin_start": 43,
            "bin_end": 45.5,
            "count": 1
           },
           {
            "bin_start": 45.5,
            "bin_end": 48,
            "count": 1
           },
           {
            "bin_start": 48,
            "bin_end": 50.5,
            "count": 0
           },
           {
            "bin_start": 50.5,
            "bin_end": 53,
            "count": 0
           },
           {
            "bin_start": 53,
            "bin_end": 55.5,
            "count": 0
           },
           {
            "bin_start": 55.5,
            "bin_end": 58,
            "count": 1
           }
          ]
         }
        },
        {
         "name": "job",
         "dtype": "object",
         "stats": {
          "unique_count": 4,
          "nan_count": 0,
          "categories": [
           {
            "name": "management",
            "count": 2
           },
           {
            "name": "technician",
            "count": 1
           },
           {
            "name": "2 others",
            "count": 2
           }
          ]
         }
        },
        {
         "name": "marital",
         "dtype": "object",
         "stats": {
          "unique_count": 2,
          "nan_count": 0,
          "categories": [
           {
            "name": "married",
            "count": 3
           },
           {
            "name": "single",
            "count": 2
           }
          ]
         }
        },
        {
         "name": "education",
         "dtype": "object",
         "stats": {
          "unique_count": 2,
          "nan_count": 0,
          "categories": [
           {
            "name": "tertiary",
            "count": 3
           },
           {
            "name": "secondary",
            "count": 2
           }
          ]
         }
        },
        {
         "name": "default",
         "dtype": "object",
         "stats": {
          "unique_count": 1,
          "nan_count": 0,
          "categories": [
           {
            "name": "no",
            "count": 5
           }
          ]
         }
        },
        {
         "name": "balance",
         "dtype": "int64",
         "stats": {
          "unique_count": 5,
          "nan_count": 0,
          "min": "1",
          "max": "2143",
          "histogram": [
           {
            "bin_start": 1,
            "bin_end": 215.2,
            "count": 3
           },
           {
            "bin_start": 215.2,
            "bin_end": 429.4,
            "count": 0
           },
           {
            "bin_start": 429.4,
            "bin_end": 643.5999999999999,
            "count": 0
           },
           {
            "bin_start": 643.5999999999999,
            "bin_end": 857.8,
            "count": 0
           },
           {
            "bin_start": 857.8,
            "bin_end": 1072,
            "count": 0
           },
           {
            "bin_start": 1072,
            "bin_end": 1286.1999999999998,
            "count": 0
           },
           {
            "bin_start": 1286.1999999999998,
            "bin_end": 1500.3999999999999,
            "count": 0
           },
           {
            "bin_start": 1500.3999999999999,
            "bin_end": 1714.6,
            "count": 1
           },
           {
            "bin_start": 1714.6,
            "bin_end": 1928.8,
            "count": 0
           },
           {
            "bin_start": 1928.8,
            "bin_end": 2143,
            "count": 1
           }
          ]
         }
        },
        {
         "name": "housing",
         "dtype": "object",
         "stats": {
          "unique_count": 2,
          "nan_count": 0,
          "categories": [
           {
            "name": "yes",
            "count": 4
           },
           {
            "name": "no",
            "count": 1
           }
          ]
         }
        },
        {
         "name": "loan",
         "dtype": "object",
         "stats": {
          "unique_count": 2,
          "nan_count": 0,
          "categories": [
           {
            "name": "no",
            "count": 4
           },
           {
            "name": "yes",
            "count": 1
           }
          ]
         }
        },
        {
         "name": "contact",
         "dtype": "object",
         "stats": {
          "unique_count": 1,
          "nan_count": 0,
          "categories": [
           {
            "name": "cellular",
            "count": 5
           }
          ]
         }
        },
        {
         "name": "day",
         "dtype": "int64",
         "stats": {
          "unique_count": 1,
          "nan_count": 0,
          "min": "5",
          "max": "5",
          "histogram": [
           {
            "bin_start": 4.5,
            "bin_end": 4.6,
            "count": 0
           },
           {
            "bin_start": 4.6,
            "bin_end": 4.7,
            "count": 0
           },
           {
            "bin_start": 4.7,
            "bin_end": 4.8,
            "count": 0
           },
           {
            "bin_start": 4.8,
            "bin_end": 4.9,
            "count": 0
           },
           {
            "bin_start": 4.9,
            "bin_end": 5,
            "count": 0
           },
           {
            "bin_start": 5,
            "bin_end": 5.1,
            "count": 5
           },
           {
            "bin_start": 5.1,
            "bin_end": 5.2,
            "count": 0
           },
           {
            "bin_start": 5.2,
            "bin_end": 5.3,
            "count": 0
           },
           {
            "bin_start": 5.3,
            "bin_end": 5.4,
            "count": 0
           },
           {
            "bin_start": 5.4,
            "bin_end": 5.5,
            "count": 0
           }
          ]
         }
        },
        {
         "name": "month",
         "dtype": "object",
         "stats": {
          "unique_count": 1,
          "nan_count": 0,
          "categories": [
           {
            "name": "may",
            "count": 5
           }
          ]
         }
        },
        {
         "name": "duration",
         "dtype": "int64",
         "stats": {
          "unique_count": 5,
          "nan_count": 0,
          "min": "76",
          "max": "261",
          "histogram": [
           {
            "bin_start": 76,
            "bin_end": 94.5,
            "count": 2
           },
           {
            "bin_start": 94.5,
            "bin_end": 113,
            "count": 0
           },
           {
            "bin_start": 113,
            "bin_end": 131.5,
            "count": 0
           },
           {
            "bin_start": 131.5,
            "bin_end": 150,
            "count": 0
           },
           {
            "bin_start": 150,
            "bin_end": 168.5,
            "count": 1
           },
           {
            "bin_start": 168.5,
            "bin_end": 187,
            "count": 0
           },
           {
            "bin_start": 187,
            "bin_end": 205.5,
            "count": 1
           },
           {
            "bin_start": 205.5,
            "bin_end": 224,
            "count": 0
           },
           {
            "bin_start": 224,
            "bin_end": 242.5,
            "count": 0
           },
           {
            "bin_start": 242.5,
            "bin_end": 261,
            "count": 1
           }
          ]
         }
        },
        {
         "name": "campaign",
         "dtype": "int64",
         "stats": {
          "unique_count": 1,
          "nan_count": 0,
          "min": "1",
          "max": "1",
          "histogram": [
           {
            "bin_start": 0.5,
            "bin_end": 0.6,
            "count": 0
           },
           {
            "bin_start": 0.6,
            "bin_end": 0.7,
            "count": 0
           },
           {
            "bin_start": 0.7,
            "bin_end": 0.8,
            "count": 0
           },
           {
            "bin_start": 0.8,
            "bin_end": 0.9,
            "count": 0
           },
           {
            "bin_start": 0.9,
            "bin_end": 1,
            "count": 0
           },
           {
            "bin_start": 1,
            "bin_end": 1.1,
            "count": 5
           },
           {
            "bin_start": 1.1,
            "bin_end": 1.2000000000000002,
            "count": 0
           },
           {
            "bin_start": 1.2000000000000002,
            "bin_end": 1.3,
            "count": 0
           },
           {
            "bin_start": 1.3,
            "bin_end": 1.4,
            "count": 0
           },
           {
            "bin_start": 1.4,
            "bin_end": 1.5,
            "count": 0
           }
          ]
         }
        },
        {
         "name": "pdays",
         "dtype": "int64",
         "stats": {
          "unique_count": 1,
          "nan_count": 0,
          "min": "-1",
          "max": "-1",
          "histogram": [
           {
            "bin_start": -1.5,
            "bin_end": -1.4,
            "count": 0
           },
           {
            "bin_start": -1.4,
            "bin_end": -1.3,
            "count": 0
           },
           {
            "bin_start": -1.3,
            "bin_end": -1.2,
            "count": 0
           },
           {
            "bin_start": -1.2,
            "bin_end": -1.1,
            "count": 0
           },
           {
            "bin_start": -1.1,
            "bin_end": -1,
            "count": 0
           },
           {
            "bin_start": -1,
            "bin_end": -0.8999999999999999,
            "count": 5
           },
           {
            "bin_start": -0.8999999999999999,
            "bin_end": -0.7999999999999999,
            "count": 0
           },
           {
            "bin_start": -0.7999999999999999,
            "bin_end": -0.7,
            "count": 0
           },
           {
            "bin_start": -0.7,
            "bin_end": -0.6,
            "count": 0
           },
           {
            "bin_start": -0.6,
            "bin_end": -0.5,
            "count": 0
           }
          ]
         }
        },
        {
         "name": "previous",
         "dtype": "int64",
         "stats": {
          "unique_count": 1,
          "nan_count": 0,
          "min": "0",
          "max": "0",
          "histogram": [
           {
            "bin_start": -0.5,
            "bin_end": -0.4,
            "count": 0
           },
           {
            "bin_start": -0.4,
            "bin_end": -0.3,
            "count": 0
           },
           {
            "bin_start": -0.3,
            "bin_end": -0.19999999999999996,
            "count": 0
           },
           {
            "bin_start": -0.19999999999999996,
            "bin_end": -0.09999999999999998,
            "count": 0
           },
           {
            "bin_start": -0.09999999999999998,
            "bin_end": 0,
            "count": 0
           },
           {
            "bin_start": 0,
            "bin_end": 0.10000000000000009,
            "count": 5
           },
           {
            "bin_start": 0.10000000000000009,
            "bin_end": 0.20000000000000007,
            "count": 0
           },
           {
            "bin_start": 0.20000000000000007,
            "bin_end": 0.30000000000000004,
            "count": 0
           },
           {
            "bin_start": 0.30000000000000004,
            "bin_end": 0.4,
            "count": 0
           },
           {
            "bin_start": 0.4,
            "bin_end": 0.5,
            "count": 0
           }
          ]
         }
        },
        {
         "name": "poutcome",
         "dtype": "object",
         "stats": {
          "unique_count": 1,
          "nan_count": 0,
          "categories": [
           {
            "name": "other",
            "count": 5
           }
          ]
         }
        },
        {
         "name": "y",
         "dtype": "object",
         "stats": {
          "unique_count": 1,
          "nan_count": 0,
          "categories": [
           {
            "name": "no",
            "count": 5
           }
          ]
         }
        },
        {
         "name": "year",
         "dtype": "int64",
         "stats": {
          "unique_count": 1,
          "nan_count": 0,
          "min": "2008",
          "max": "2008",
          "histogram": [
           {
            "bin_start": 2007.5,
            "bin_end": 2007.6,
            "count": 0
           },
           {
            "bin_start": 2007.6,
            "bin_end": 2007.7,
            "count": 0
           },
           {
            "bin_start": 2007.7,
            "bin_end": 2007.8,
            "count": 0
           },
           {
            "bin_start": 2007.8,
            "bin_end": 2007.9,
            "count": 0
           },
           {
            "bin_start": 2007.9,
            "bin_end": 2008,
            "count": 0
           },
           {
            "bin_start": 2008,
            "bin_end": 2008.1,
            "count": 5
           },
           {
            "bin_start": 2008.1,
            "bin_end": 2008.2,
            "count": 0
           },
           {
            "bin_start": 2008.2,
            "bin_end": 2008.3,
            "count": 0
           },
           {
            "bin_start": 2008.3,
            "bin_end": 2008.4,
            "count": 0
           },
           {
            "bin_start": 2008.4,
            "bin_end": 2008.5,
            "count": 0
           }
          ]
         }
        },
        {
         "name": "dayOfWk",
         "dtype": "int64",
         "stats": {
          "unique_count": 1,
          "nan_count": 0,
          "min": "0",
          "max": "0",
          "histogram": [
           {
            "bin_start": -0.5,
            "bin_end": -0.4,
            "count": 0
           },
           {
            "bin_start": -0.4,
            "bin_end": -0.3,
            "count": 0
           },
           {
            "bin_start": -0.3,
            "bin_end": -0.19999999999999996,
            "count": 0
           },
           {
            "bin_start": -0.19999999999999996,
            "bin_end": -0.09999999999999998,
            "count": 0
           },
           {
            "bin_start": -0.09999999999999998,
            "bin_end": 0,
            "count": 0
           },
           {
            "bin_start": 0,
            "bin_end": 0.10000000000000009,
            "count": 5
           },
           {
            "bin_start": 0.10000000000000009,
            "bin_end": 0.20000000000000007,
            "count": 0
           },
           {
            "bin_start": 0.20000000000000007,
            "bin_end": 0.30000000000000004,
            "count": 0
           },
           {
            "bin_start": 0.30000000000000004,
            "bin_end": 0.4,
            "count": 0
           },
           {
            "bin_start": 0.4,
            "bin_end": 0.5,
            "count": 0
           }
          ]
         }
        },
        {
         "name": "pdays_cat",
         "dtype": "int64",
         "stats": {
          "unique_count": 1,
          "nan_count": 0,
          "min": "0",
          "max": "0",
          "histogram": [
           {
            "bin_start": -0.5,
            "bin_end": -0.4,
            "count": 0
           },
           {
            "bin_start": -0.4,
            "bin_end": -0.3,
            "count": 0
           },
           {
            "bin_start": -0.3,
            "bin_end": -0.19999999999999996,
            "count": 0
           },
           {
            "bin_start": -0.19999999999999996,
            "bin_end": -0.09999999999999998,
            "count": 0
           },
           {
            "bin_start": -0.09999999999999998,
            "bin_end": 0,
            "count": 0
           },
           {
            "bin_start": 0,
            "bin_end": 0.10000000000000009,
            "count": 5
           },
           {
            "bin_start": 0.10000000000000009,
            "bin_end": 0.20000000000000007,
            "count": 0
           },
           {
            "bin_start": 0.20000000000000007,
            "bin_end": 0.30000000000000004,
            "count": 0
           },
           {
            "bin_start": 0.30000000000000004,
            "bin_end": 0.4,
            "count": 0
           },
           {
            "bin_start": 0.4,
            "bin_end": 0.5,
            "count": 0
           }
          ]
         }
        },
        {
         "name": "admin.",
         "dtype": "float64",
         "stats": {
          "unique_count": 1,
          "nan_count": 0,
          "min": "0.0",
          "max": "0.0",
          "histogram": [
           {
            "bin_start": -0.5,
            "bin_end": -0.4,
            "count": 0
           },
           {
            "bin_start": -0.4,
            "bin_end": -0.3,
            "count": 0
           },
           {
            "bin_start": -0.3,
            "bin_end": -0.19999999999999996,
            "count": 0
           },
           {
            "bin_start": -0.19999999999999996,
            "bin_end": -0.09999999999999998,
            "count": 0
           },
           {
            "bin_start": -0.09999999999999998,
            "bin_end": 0,
            "count": 0
           },
           {
            "bin_start": 0,
            "bin_end": 0.10000000000000009,
            "count": 5
           },
           {
            "bin_start": 0.10000000000000009,
            "bin_end": 0.20000000000000007,
            "count": 0
           },
           {
            "bin_start": 0.20000000000000007,
            "bin_end": 0.30000000000000004,
            "count": 0
           },
           {
            "bin_start": 0.30000000000000004,
            "bin_end": 0.4,
            "count": 0
           },
           {
            "bin_start": 0.4,
            "bin_end": 0.5,
            "count": 0
           }
          ]
         }
        },
        {
         "name": "blue-collar",
         "dtype": "float64",
         "stats": {
          "unique_count": 2,
          "nan_count": 0,
          "min": "0.0",
          "max": "1.0",
          "histogram": [
           {
            "bin_start": 0,
            "bin_end": 0.1,
            "count": 4
           },
           {
            "bin_start": 0.1,
            "bin_end": 0.2,
            "count": 0
           },
           {
            "bin_start": 0.2,
            "bin_end": 0.30000000000000004,
            "count": 0
           },
           {
            "bin_start": 0.30000000000000004,
            "bin_end": 0.4,
            "count": 0
           },
           {
            "bin_start": 0.4,
            "bin_end": 0.5,
            "count": 0
           },
           {
            "bin_start": 0.5,
            "bin_end": 0.6000000000000001,
            "count": 0
           },
           {
            "bin_start": 0.6000000000000001,
            "bin_end": 0.7000000000000001,
            "count": 0
           },
           {
            "bin_start": 0.7000000000000001,
            "bin_end": 0.8,
            "count": 0
           },
           {
            "bin_start": 0.8,
            "bin_end": 0.9,
            "count": 0
           },
           {
            "bin_start": 0.9,
            "bin_end": 1,
            "count": 1
           }
          ]
         }
        },
        {
         "name": "entrepreneur",
         "dtype": "float64",
         "stats": {
          "unique_count": 2,
          "nan_count": 0,
          "min": "0.0",
          "max": "1.0",
          "histogram": [
           {
            "bin_start": 0,
            "bin_end": 0.1,
            "count": 4
           },
           {
            "bin_start": 0.1,
            "bin_end": 0.2,
            "count": 0
           },
           {
            "bin_start": 0.2,
            "bin_end": 0.30000000000000004,
            "count": 0
           },
           {
            "bin_start": 0.30000000000000004,
            "bin_end": 0.4,
            "count": 0
           },
           {
            "bin_start": 0.4,
            "bin_end": 0.5,
            "count": 0
           },
           {
            "bin_start": 0.5,
            "bin_end": 0.6000000000000001,
            "count": 0
           },
           {
            "bin_start": 0.6000000000000001,
            "bin_end": 0.7000000000000001,
            "count": 0
           },
           {
            "bin_start": 0.7000000000000001,
            "bin_end": 0.8,
            "count": 0
           },
           {
            "bin_start": 0.8,
            "bin_end": 0.9,
            "count": 0
           },
           {
            "bin_start": 0.9,
            "bin_end": 1,
            "count": 1
           }
          ]
         }
        },
        {
         "name": "housemaid",
         "dtype": "float64",
         "stats": {
          "unique_count": 1,
          "nan_count": 0,
          "min": "0.0",
          "max": "0.0",
          "histogram": [
           {
            "bin_start": -0.5,
            "bin_end": -0.4,
            "count": 0
           },
           {
            "bin_start": -0.4,
            "bin_end": -0.3,
            "count": 0
           },
           {
            "bin_start": -0.3,
            "bin_end": -0.19999999999999996,
            "count": 0
           },
           {
            "bin_start": -0.19999999999999996,
            "bin_end": -0.09999999999999998,
            "count": 0
           },
           {
            "bin_start": -0.09999999999999998,
            "bin_end": 0,
            "count": 0
           },
           {
            "bin_start": 0,
            "bin_end": 0.10000000000000009,
            "count": 5
           },
           {
            "bin_start": 0.10000000000000009,
            "bin_end": 0.20000000000000007,
            "count": 0
           },
           {
            "bin_start": 0.20000000000000007,
            "bin_end": 0.30000000000000004,
            "count": 0
           },
           {
            "bin_start": 0.30000000000000004,
            "bin_end": 0.4,
            "count": 0
           },
           {
            "bin_start": 0.4,
            "bin_end": 0.5,
            "count": 0
           }
          ]
         }
        },
        {
         "name": "management",
         "dtype": "float64",
         "stats": {
          "unique_count": 2,
          "nan_count": 0,
          "min": "0.0",
          "max": "1.0",
          "histogram": [
           {
            "bin_start": 0,
            "bin_end": 0.1,
            "count": 3
           },
           {
            "bin_start": 0.1,
            "bin_end": 0.2,
            "count": 0
           },
           {
            "bin_start": 0.2,
            "bin_end": 0.30000000000000004,
            "count": 0
           },
           {
            "bin_start": 0.30000000000000004,
            "bin_end": 0.4,
            "count": 0
           },
           {
            "bin_start": 0.4,
            "bin_end": 0.5,
            "count": 0
           },
           {
            "bin_start": 0.5,
            "bin_end": 0.6000000000000001,
            "count": 0
           },
           {
            "bin_start": 0.6000000000000001,
            "bin_end": 0.7000000000000001,
            "count": 0
           },
           {
            "bin_start": 0.7000000000000001,
            "bin_end": 0.8,
            "count": 0
           },
           {
            "bin_start": 0.8,
            "bin_end": 0.9,
            "count": 0
           },
           {
            "bin_start": 0.9,
            "bin_end": 1,
            "count": 2
           }
          ]
         }
        },
        {
         "name": "retired",
         "dtype": "float64",
         "stats": {
          "unique_count": 1,
          "nan_count": 0,
          "min": "0.0",
          "max": "0.0",
          "histogram": [
           {
            "bin_start": -0.5,
            "bin_end": -0.4,
            "count": 0
           },
           {
            "bin_start": -0.4,
            "bin_end": -0.3,
            "count": 0
           },
           {
            "bin_start": -0.3,
            "bin_end": -0.19999999999999996,
            "count": 0
           },
           {
            "bin_start": -0.19999999999999996,
            "bin_end": -0.09999999999999998,
            "count": 0
           },
           {
            "bin_start": -0.09999999999999998,
            "bin_end": 0,
            "count": 0
           },
           {
            "bin_start": 0,
            "bin_end": 0.10000000000000009,
            "count": 5
           },
           {
            "bin_start": 0.10000000000000009,
            "bin_end": 0.20000000000000007,
            "count": 0
           },
           {
            "bin_start": 0.20000000000000007,
            "bin_end": 0.30000000000000004,
            "count": 0
           },
           {
            "bin_start": 0.30000000000000004,
            "bin_end": 0.4,
            "count": 0
           },
           {
            "bin_start": 0.4,
            "bin_end": 0.5,
            "count": 0
           }
          ]
         }
        },
        {
         "name": "self-employed",
         "dtype": "float64",
         "stats": {
          "unique_count": 1,
          "nan_count": 0,
          "min": "0.0",
          "max": "0.0",
          "histogram": [
           {
            "bin_start": -0.5,
            "bin_end": -0.4,
            "count": 0
           },
           {
            "bin_start": -0.4,
            "bin_end": -0.3,
            "count": 0
           },
           {
            "bin_start": -0.3,
            "bin_end": -0.19999999999999996,
            "count": 0
           },
           {
            "bin_start": -0.19999999999999996,
            "bin_end": -0.09999999999999998,
            "count": 0
           },
           {
            "bin_start": -0.09999999999999998,
            "bin_end": 0,
            "count": 0
           },
           {
            "bin_start": 0,
            "bin_end": 0.10000000000000009,
            "count": 5
           },
           {
            "bin_start": 0.10000000000000009,
            "bin_end": 0.20000000000000007,
            "count": 0
           },
           {
            "bin_start": 0.20000000000000007,
            "bin_end": 0.30000000000000004,
            "count": 0
           },
           {
            "bin_start": 0.30000000000000004,
            "bin_end": 0.4,
            "count": 0
           },
           {
            "bin_start": 0.4,
            "bin_end": 0.5,
            "count": 0
           }
          ]
         }
        },
        {
         "name": "services",
         "dtype": "float64",
         "stats": {
          "unique_count": 1,
          "nan_count": 0,
          "min": "0.0",
          "max": "0.0",
          "histogram": [
           {
            "bin_start": -0.5,
            "bin_end": -0.4,
            "count": 0
           },
           {
            "bin_start": -0.4,
            "bin_end": -0.3,
            "count": 0
           },
           {
            "bin_start": -0.3,
            "bin_end": -0.19999999999999996,
            "count": 0
           },
           {
            "bin_start": -0.19999999999999996,
            "bin_end": -0.09999999999999998,
            "count": 0
           },
           {
            "bin_start": -0.09999999999999998,
            "bin_end": 0,
            "count": 0
           },
           {
            "bin_start": 0,
            "bin_end": 0.10000000000000009,
            "count": 5
           },
           {
            "bin_start": 0.10000000000000009,
            "bin_end": 0.20000000000000007,
            "count": 0
           },
           {
            "bin_start": 0.20000000000000007,
            "bin_end": 0.30000000000000004,
            "count": 0
           },
           {
            "bin_start": 0.30000000000000004,
            "bin_end": 0.4,
            "count": 0
           },
           {
            "bin_start": 0.4,
            "bin_end": 0.5,
            "count": 0
           }
          ]
         }
        },
        {
         "name": "student",
         "dtype": "float64",
         "stats": {
          "unique_count": 1,
          "nan_count": 0,
          "min": "0.0",
          "max": "0.0",
          "histogram": [
           {
            "bin_start": -0.5,
            "bin_end": -0.4,
            "count": 0
           },
           {
            "bin_start": -0.4,
            "bin_end": -0.3,
            "count": 0
           },
           {
            "bin_start": -0.3,
            "bin_end": -0.19999999999999996,
            "count": 0
           },
           {
            "bin_start": -0.19999999999999996,
            "bin_end": -0.09999999999999998,
            "count": 0
           },
           {
            "bin_start": -0.09999999999999998,
            "bin_end": 0,
            "count": 0
           },
           {
            "bin_start": 0,
            "bin_end": 0.10000000000000009,
            "count": 5
           },
           {
            "bin_start": 0.10000000000000009,
            "bin_end": 0.20000000000000007,
            "count": 0
           },
           {
            "bin_start": 0.20000000000000007,
            "bin_end": 0.30000000000000004,
            "count": 0
           },
           {
            "bin_start": 0.30000000000000004,
            "bin_end": 0.4,
            "count": 0
           },
           {
            "bin_start": 0.4,
            "bin_end": 0.5,
            "count": 0
           }
          ]
         }
        },
        {
         "name": "technician",
         "dtype": "float64",
         "stats": {
          "unique_count": 2,
          "nan_count": 0,
          "min": "0.0",
          "max": "1.0",
          "histogram": [
           {
            "bin_start": 0,
            "bin_end": 0.1,
            "count": 4
           },
           {
            "bin_start": 0.1,
            "bin_end": 0.2,
            "count": 0
           },
           {
            "bin_start": 0.2,
            "bin_end": 0.30000000000000004,
            "count": 0
           },
           {
            "bin_start": 0.30000000000000004,
            "bin_end": 0.4,
            "count": 0
           },
           {
            "bin_start": 0.4,
            "bin_end": 0.5,
            "count": 0
           },
           {
            "bin_start": 0.5,
            "bin_end": 0.6000000000000001,
            "count": 0
           },
           {
            "bin_start": 0.6000000000000001,
            "bin_end": 0.7000000000000001,
            "count": 0
           },
           {
            "bin_start": 0.7000000000000001,
            "bin_end": 0.8,
            "count": 0
           },
           {
            "bin_start": 0.8,
            "bin_end": 0.9,
            "count": 0
           },
           {
            "bin_start": 0.9,
            "bin_end": 1,
            "count": 1
           }
          ]
         }
        },
        {
         "name": "unemployed",
         "dtype": "float64",
         "stats": {
          "unique_count": 1,
          "nan_count": 0,
          "min": "0.0",
          "max": "0.0",
          "histogram": [
           {
            "bin_start": -0.5,
            "bin_end": -0.4,
            "count": 0
           },
           {
            "bin_start": -0.4,
            "bin_end": -0.3,
            "count": 0
           },
           {
            "bin_start": -0.3,
            "bin_end": -0.19999999999999996,
            "count": 0
           },
           {
            "bin_start": -0.19999999999999996,
            "bin_end": -0.09999999999999998,
            "count": 0
           },
           {
            "bin_start": -0.09999999999999998,
            "bin_end": 0,
            "count": 0
           },
           {
            "bin_start": 0,
            "bin_end": 0.10000000000000009,
            "count": 5
           },
           {
            "bin_start": 0.10000000000000009,
            "bin_end": 0.20000000000000007,
            "count": 0
           },
           {
            "bin_start": 0.20000000000000007,
            "bin_end": 0.30000000000000004,
            "count": 0
           },
           {
            "bin_start": 0.30000000000000004,
            "bin_end": 0.4,
            "count": 0
           },
           {
            "bin_start": 0.4,
            "bin_end": 0.5,
            "count": 0
           }
          ]
         }
        },
        {
         "name": "divorced",
         "dtype": "float64",
         "stats": {
          "unique_count": 1,
          "nan_count": 0,
          "min": "0.0",
          "max": "0.0",
          "histogram": [
           {
            "bin_start": -0.5,
            "bin_end": -0.4,
            "count": 0
           },
           {
            "bin_start": -0.4,
            "bin_end": -0.3,
            "count": 0
           },
           {
            "bin_start": -0.3,
            "bin_end": -0.19999999999999996,
            "count": 0
           },
           {
            "bin_start": -0.19999999999999996,
            "bin_end": -0.09999999999999998,
            "count": 0
           },
           {
            "bin_start": -0.09999999999999998,
            "bin_end": 0,
            "count": 0
           },
           {
            "bin_start": 0,
            "bin_end": 0.10000000000000009,
            "count": 5
           },
           {
            "bin_start": 0.10000000000000009,
            "bin_end": 0.20000000000000007,
            "count": 0
           },
           {
            "bin_start": 0.20000000000000007,
            "bin_end": 0.30000000000000004,
            "count": 0
           },
           {
            "bin_start": 0.30000000000000004,
            "bin_end": 0.4,
            "count": 0
           },
           {
            "bin_start": 0.4,
            "bin_end": 0.5,
            "count": 0
           }
          ]
         }
        },
        {
         "name": "married",
         "dtype": "float64",
         "stats": {
          "unique_count": 2,
          "nan_count": 0,
          "min": "0.0",
          "max": "1.0",
          "histogram": [
           {
            "bin_start": 0,
            "bin_end": 0.1,
            "count": 2
           },
           {
            "bin_start": 0.1,
            "bin_end": 0.2,
            "count": 0
           },
           {
            "bin_start": 0.2,
            "bin_end": 0.30000000000000004,
            "count": 0
           },
           {
            "bin_start": 0.30000000000000004,
            "bin_end": 0.4,
            "count": 0
           },
           {
            "bin_start": 0.4,
            "bin_end": 0.5,
            "count": 0
           },
           {
            "bin_start": 0.5,
            "bin_end": 0.6000000000000001,
            "count": 0
           },
           {
            "bin_start": 0.6000000000000001,
            "bin_end": 0.7000000000000001,
            "count": 0
           },
           {
            "bin_start": 0.7000000000000001,
            "bin_end": 0.8,
            "count": 0
           },
           {
            "bin_start": 0.8,
            "bin_end": 0.9,
            "count": 0
           },
           {
            "bin_start": 0.9,
            "bin_end": 1,
            "count": 3
           }
          ]
         }
        },
        {
         "name": "single",
         "dtype": "float64",
         "stats": {
          "unique_count": 2,
          "nan_count": 0,
          "min": "0.0",
          "max": "1.0",
          "histogram": [
           {
            "bin_start": 0,
            "bin_end": 0.1,
            "count": 3
           },
           {
            "bin_start": 0.1,
            "bin_end": 0.2,
            "count": 0
           },
           {
            "bin_start": 0.2,
            "bin_end": 0.30000000000000004,
            "count": 0
           },
           {
            "bin_start": 0.30000000000000004,
            "bin_end": 0.4,
            "count": 0
           },
           {
            "bin_start": 0.4,
            "bin_end": 0.5,
            "count": 0
           },
           {
            "bin_start": 0.5,
            "bin_end": 0.6000000000000001,
            "count": 0
           },
           {
            "bin_start": 0.6000000000000001,
            "bin_end": 0.7000000000000001,
            "count": 0
           },
           {
            "bin_start": 0.7000000000000001,
            "bin_end": 0.8,
            "count": 0
           },
           {
            "bin_start": 0.8,
            "bin_end": 0.9,
            "count": 0
           },
           {
            "bin_start": 0.9,
            "bin_end": 1,
            "count": 2
           }
          ]
         }
        },
        {
         "name": "failure",
         "dtype": "float64",
         "stats": {
          "unique_count": 1,
          "nan_count": 0,
          "min": "0.0",
          "max": "0.0",
          "histogram": [
           {
            "bin_start": -0.5,
            "bin_end": -0.4,
            "count": 0
           },
           {
            "bin_start": -0.4,
            "bin_end": -0.3,
            "count": 0
           },
           {
            "bin_start": -0.3,
            "bin_end": -0.19999999999999996,
            "count": 0
           },
           {
            "bin_start": -0.19999999999999996,
            "bin_end": -0.09999999999999998,
            "count": 0
           },
           {
            "bin_start": -0.09999999999999998,
            "bin_end": 0,
            "count": 0
           },
           {
            "bin_start": 0,
            "bin_end": 0.10000000000000009,
            "count": 5
           },
           {
            "bin_start": 0.10000000000000009,
            "bin_end": 0.20000000000000007,
            "count": 0
           },
           {
            "bin_start": 0.20000000000000007,
            "bin_end": 0.30000000000000004,
            "count": 0
           },
           {
            "bin_start": 0.30000000000000004,
            "bin_end": 0.4,
            "count": 0
           },
           {
            "bin_start": 0.4,
            "bin_end": 0.5,
            "count": 0
           }
          ]
         }
        },
        {
         "name": "other",
         "dtype": "float64",
         "stats": {
          "unique_count": 1,
          "nan_count": 0,
          "min": "1.0",
          "max": "1.0",
          "histogram": [
           {
            "bin_start": 0.5,
            "bin_end": 0.6,
            "count": 0
           },
           {
            "bin_start": 0.6,
            "bin_end": 0.7,
            "count": 0
           },
           {
            "bin_start": 0.7,
            "bin_end": 0.8,
            "count": 0
           },
           {
            "bin_start": 0.8,
            "bin_end": 0.9,
            "count": 0
           },
           {
            "bin_start": 0.9,
            "bin_end": 1,
            "count": 0
           },
           {
            "bin_start": 1,
            "bin_end": 1.1,
            "count": 5
           },
           {
            "bin_start": 1.1,
            "bin_end": 1.2000000000000002,
            "count": 0
           },
           {
            "bin_start": 1.2000000000000002,
            "bin_end": 1.3,
            "count": 0
           },
           {
            "bin_start": 1.3,
            "bin_end": 1.4,
            "count": 0
           },
           {
            "bin_start": 1.4,
            "bin_end": 1.5,
            "count": 0
           }
          ]
         }
        },
        {
         "name": "success",
         "dtype": "float64",
         "stats": {
          "unique_count": 1,
          "nan_count": 0,
          "min": "0.0",
          "max": "0.0",
          "histogram": [
           {
            "bin_start": -0.5,
            "bin_end": -0.4,
            "count": 0
           },
           {
            "bin_start": -0.4,
            "bin_end": -0.3,
            "count": 0
           },
           {
            "bin_start": -0.3,
            "bin_end": -0.19999999999999996,
            "count": 0
           },
           {
            "bin_start": -0.19999999999999996,
            "bin_end": -0.09999999999999998,
            "count": 0
           },
           {
            "bin_start": -0.09999999999999998,
            "bin_end": 0,
            "count": 0
           },
           {
            "bin_start": 0,
            "bin_end": 0.10000000000000009,
            "count": 5
           },
           {
            "bin_start": 0.10000000000000009,
            "bin_end": 0.20000000000000007,
            "count": 0
           },
           {
            "bin_start": 0.20000000000000007,
            "bin_end": 0.30000000000000004,
            "count": 0
           },
           {
            "bin_start": 0.30000000000000004,
            "bin_end": 0.4,
            "count": 0
           },
           {
            "bin_start": 0.4,
            "bin_end": 0.5,
            "count": 0
           }
          ]
         }
        },
        {
         "name": "_deepnote_index_column",
         "dtype": "int64"
        }
       ],
       "rows": [
        {
         "age": 58,
         "job": "management",
         "marital": "married",
         "education": "tertiary",
         "default": "no",
         "balance": 2143,
         "housing": "yes",
         "loan": "no",
         "contact": "cellular",
         "day": 5,
         "month": "may",
         "duration": 261,
         "campaign": 1,
         "pdays": -1,
         "previous": 0,
         "poutcome": "other",
         "y": "no",
         "year": 2008,
         "dayOfWk": 0,
         "pdays_cat": 0,
         "admin.": 0,
         "blue-collar": 0,
         "entrepreneur": 0,
         "housemaid": 0,
         "management": 1,
         "retired": 0,
         "self-employed": 0,
         "services": 0,
         "student": 0,
         "technician": 0,
         "unemployed": 0,
         "divorced": 0,
         "married": 1,
         "single": 0,
         "failure": 0,
         "other": 1,
         "success": 0,
         "_deepnote_index_column": 0
        },
        {
         "age": 44,
         "job": "technician",
         "marital": "single",
         "education": "secondary",
         "default": "no",
         "balance": 29,
         "housing": "yes",
         "loan": "no",
         "contact": "cellular",
         "day": 5,
         "month": "may",
         "duration": 151,
         "campaign": 1,
         "pdays": -1,
         "previous": 0,
         "poutcome": "other",
         "y": "no",
         "year": 2008,
         "dayOfWk": 0,
         "pdays_cat": 0,
         "admin.": 0,
         "blue-collar": 0,
         "entrepreneur": 0,
         "housemaid": 0,
         "management": 0,
         "retired": 0,
         "self-employed": 0,
         "services": 0,
         "student": 0,
         "technician": 1,
         "unemployed": 0,
         "divorced": 0,
         "married": 0,
         "single": 1,
         "failure": 0,
         "other": 1,
         "success": 0,
         "_deepnote_index_column": 1
        },
        {
         "age": 33,
         "job": "entrepreneur",
         "marital": "married",
         "education": "secondary",
         "default": "no",
         "balance": 2,
         "housing": "yes",
         "loan": "yes",
         "contact": "cellular",
         "day": 5,
         "month": "may",
         "duration": 76,
         "campaign": 1,
         "pdays": -1,
         "previous": 0,
         "poutcome": "other",
         "y": "no",
         "year": 2008,
         "dayOfWk": 0,
         "pdays_cat": 0,
         "admin.": 0,
         "blue-collar": 0,
         "entrepreneur": 1,
         "housemaid": 0,
         "management": 0,
         "retired": 0,
         "self-employed": 0,
         "services": 0,
         "student": 0,
         "technician": 0,
         "unemployed": 0,
         "divorced": 0,
         "married": 1,
         "single": 0,
         "failure": 0,
         "other": 1,
         "success": 0,
         "_deepnote_index_column": 2
        },
        {
         "age": 47,
         "job": "blue-collar",
         "marital": "married",
         "education": "tertiary",
         "default": "no",
         "balance": 1506,
         "housing": "yes",
         "loan": "no",
         "contact": "cellular",
         "day": 5,
         "month": "may",
         "duration": 92,
         "campaign": 1,
         "pdays": -1,
         "previous": 0,
         "poutcome": "other",
         "y": "no",
         "year": 2008,
         "dayOfWk": 0,
         "pdays_cat": 0,
         "admin.": 0,
         "blue-collar": 1,
         "entrepreneur": 0,
         "housemaid": 0,
         "management": 0,
         "retired": 0,
         "self-employed": 0,
         "services": 0,
         "student": 0,
         "technician": 0,
         "unemployed": 0,
         "divorced": 0,
         "married": 1,
         "single": 0,
         "failure": 0,
         "other": 1,
         "success": 0,
         "_deepnote_index_column": 3
        },
        {
         "age": 33,
         "job": "management",
         "marital": "single",
         "education": "tertiary",
         "default": "no",
         "balance": 1,
         "housing": "no",
         "loan": "no",
         "contact": "cellular",
         "day": 5,
         "month": "may",
         "duration": 198,
         "campaign": 1,
         "pdays": -1,
         "previous": 0,
         "poutcome": "other",
         "y": "no",
         "year": 2008,
         "dayOfWk": 0,
         "pdays_cat": 0,
         "admin.": 0,
         "blue-collar": 0,
         "entrepreneur": 0,
         "housemaid": 0,
         "management": 1,
         "retired": 0,
         "self-employed": 0,
         "services": 0,
         "student": 0,
         "technician": 0,
         "unemployed": 0,
         "divorced": 0,
         "married": 0,
         "single": 1,
         "failure": 0,
         "other": 1,
         "success": 0,
         "_deepnote_index_column": 4
        }
       ]
      },
      "text/plain": "   age           job  marital  education default  balance housing loan  \\\n0   58    management  married   tertiary      no     2143     yes   no   \n1   44    technician   single  secondary      no       29     yes   no   \n2   33  entrepreneur  married  secondary      no        2     yes  yes   \n3   47   blue-collar  married   tertiary      no     1506     yes   no   \n4   33    management   single   tertiary      no        1      no   no   \n\n    contact  day  ... services  student  technician  unemployed  divorced  \\\n0  cellular    5  ...      0.0      0.0         0.0         0.0       0.0   \n1  cellular    5  ...      0.0      0.0         1.0         0.0       0.0   \n2  cellular    5  ...      0.0      0.0         0.0         0.0       0.0   \n3  cellular    5  ...      0.0      0.0         0.0         0.0       0.0   \n4  cellular    5  ...      0.0      0.0         0.0         0.0       0.0   \n\n  married single  failure  other  success  \n0     1.0    0.0      0.0    1.0      0.0  \n1     0.0    1.0      0.0    1.0      0.0  \n2     1.0    0.0      0.0    1.0      0.0  \n3     1.0    0.0      0.0    1.0      0.0  \n4     0.0    1.0      0.0    1.0      0.0  \n\n[5 rows x 37 columns]",
      "text/html": "<div>\n<style scoped>\n    .dataframe tbody tr th:only-of-type {\n        vertical-align: middle;\n    }\n\n    .dataframe tbody tr th {\n        vertical-align: top;\n    }\n\n    .dataframe thead th {\n        text-align: right;\n    }\n</style>\n<table border=\"1\" class=\"dataframe\">\n  <thead>\n    <tr style=\"text-align: right;\">\n      <th></th>\n      <th>age</th>\n      <th>job</th>\n      <th>marital</th>\n      <th>education</th>\n      <th>default</th>\n      <th>balance</th>\n      <th>housing</th>\n      <th>loan</th>\n      <th>contact</th>\n      <th>day</th>\n      <th>...</th>\n      <th>services</th>\n      <th>student</th>\n      <th>technician</th>\n      <th>unemployed</th>\n      <th>divorced</th>\n      <th>married</th>\n      <th>single</th>\n      <th>failure</th>\n      <th>other</th>\n      <th>success</th>\n    </tr>\n  </thead>\n  <tbody>\n    <tr>\n      <th>0</th>\n      <td>58</td>\n      <td>management</td>\n      <td>married</td>\n      <td>tertiary</td>\n      <td>no</td>\n      <td>2143</td>\n      <td>yes</td>\n      <td>no</td>\n      <td>cellular</td>\n      <td>5</td>\n      <td>...</td>\n      <td>0.0</td>\n      <td>0.0</td>\n      <td>0.0</td>\n      <td>0.0</td>\n      <td>0.0</td>\n      <td>1.0</td>\n      <td>0.0</td>\n      <td>0.0</td>\n      <td>1.0</td>\n      <td>0.0</td>\n    </tr>\n    <tr>\n      <th>1</th>\n      <td>44</td>\n      <td>technician</td>\n      <td>single</td>\n      <td>secondary</td>\n      <td>no</td>\n      <td>29</td>\n      <td>yes</td>\n      <td>no</td>\n      <td>cellular</td>\n      <td>5</td>\n      <td>...</td>\n      <td>0.0</td>\n      <td>0.0</td>\n      <td>1.0</td>\n      <td>0.0</td>\n      <td>0.0</td>\n      <td>0.0</td>\n      <td>1.0</td>\n      <td>0.0</td>\n      <td>1.0</td>\n      <td>0.0</td>\n    </tr>\n    <tr>\n      <th>2</th>\n      <td>33</td>\n      <td>entrepreneur</td>\n      <td>married</td>\n      <td>secondary</td>\n      <td>no</td>\n      <td>2</td>\n      <td>yes</td>\n      <td>yes</td>\n      <td>cellular</td>\n      <td>5</td>\n      <td>...</td>\n      <td>0.0</td>\n      <td>0.0</td>\n      <td>0.0</td>\n      <td>0.0</td>\n      <td>0.0</td>\n      <td>1.0</td>\n      <td>0.0</td>\n      <td>0.0</td>\n      <td>1.0</td>\n      <td>0.0</td>\n    </tr>\n    <tr>\n      <th>3</th>\n      <td>47</td>\n      <td>blue-collar</td>\n      <td>married</td>\n      <td>tertiary</td>\n      <td>no</td>\n      <td>1506</td>\n      <td>yes</td>\n      <td>no</td>\n      <td>cellular</td>\n      <td>5</td>\n      <td>...</td>\n      <td>0.0</td>\n      <td>0.0</td>\n      <td>0.0</td>\n      <td>0.0</td>\n      <td>0.0</td>\n      <td>1.0</td>\n      <td>0.0</td>\n      <td>0.0</td>\n      <td>1.0</td>\n      <td>0.0</td>\n    </tr>\n    <tr>\n      <th>4</th>\n      <td>33</td>\n      <td>management</td>\n      <td>single</td>\n      <td>tertiary</td>\n      <td>no</td>\n      <td>1</td>\n      <td>no</td>\n      <td>no</td>\n      <td>cellular</td>\n      <td>5</td>\n      <td>...</td>\n      <td>0.0</td>\n      <td>0.0</td>\n      <td>0.0</td>\n      <td>0.0</td>\n      <td>0.0</td>\n      <td>0.0</td>\n      <td>1.0</td>\n      <td>0.0</td>\n      <td>1.0</td>\n      <td>0.0</td>\n    </tr>\n  </tbody>\n</table>\n<p>5 rows × 37 columns</p>\n</div>"
     },
     "metadata": {}
    }
   ]
  },
  {
   "cell_type": "markdown",
   "source": "#### Binary Categorical Variables\n\nLet us map all binary categorical variables (including y) so that \"yes\" = 1, and \"no\" = 0.\n\nAdditionally, let contact be mapped so that \"cellular\" = 1 and \"telephone\" = 0\n\nNOTE: should we do this for test set too?",
   "metadata": {
    "cell_id": "d09d5780b2cd44cdbcf71f7ca2ad7d4a",
    "tags": [],
    "deepnote_cell_type": "markdown",
    "deepnote_cell_height": 183.5625
   }
  },
  {
   "cell_type": "code",
   "metadata": {
    "cell_id": "b142bc32fcf84385abde014cb583b401",
    "tags": [],
    "deepnote_to_be_reexecuted": false,
    "source_hash": "a8f3d68a",
    "execution_start": 1650339734197,
    "execution_millis": 69,
    "owner_user_id": "e25c5f37-1303-4e0d-9370-7743a3c7f9a0",
    "deepnote_cell_type": "code",
    "deepnote_cell_height": 578
   },
   "source": "# includes label\nbinary_categorical = ['default','housing','loan','y']\n\nfor col in binary_categorical:\n    train_df[col] = train_df[col].map({'yes': 1, 'no': 0})\n\n# includes contact because we removed the \"other\" value\ntrain_df['contact'] = train_df['contact'].map({'cellular': 1, 'telephone': 0})\n\ntrain_df[binary_categorical + ['contact']].head()",
   "execution_count": null,
   "outputs": [
    {
     "output_type": "execute_result",
     "execution_count": 18,
     "data": {
      "application/vnd.deepnote.dataframe.v3+json": {
       "column_count": 5,
       "row_count": 5,
       "columns": [
        {
         "name": "default",
         "dtype": "int64",
         "stats": {
          "unique_count": 1,
          "nan_count": 0,
          "min": "0",
          "max": "0",
          "histogram": [
           {
            "bin_start": -0.5,
            "bin_end": -0.4,
            "count": 0
           },
           {
            "bin_start": -0.4,
            "bin_end": -0.3,
            "count": 0
           },
           {
            "bin_start": -0.3,
            "bin_end": -0.19999999999999996,
            "count": 0
           },
           {
            "bin_start": -0.19999999999999996,
            "bin_end": -0.09999999999999998,
            "count": 0
           },
           {
            "bin_start": -0.09999999999999998,
            "bin_end": 0,
            "count": 0
           },
           {
            "bin_start": 0,
            "bin_end": 0.10000000000000009,
            "count": 5
           },
           {
            "bin_start": 0.10000000000000009,
            "bin_end": 0.20000000000000007,
            "count": 0
           },
           {
            "bin_start": 0.20000000000000007,
            "bin_end": 0.30000000000000004,
            "count": 0
           },
           {
            "bin_start": 0.30000000000000004,
            "bin_end": 0.4,
            "count": 0
           },
           {
            "bin_start": 0.4,
            "bin_end": 0.5,
            "count": 0
           }
          ]
         }
        },
        {
         "name": "housing",
         "dtype": "int64",
         "stats": {
          "unique_count": 2,
          "nan_count": 0,
          "min": "0",
          "max": "1",
          "histogram": [
           {
            "bin_start": 0,
            "bin_end": 0.1,
            "count": 1
           },
           {
            "bin_start": 0.1,
            "bin_end": 0.2,
            "count": 0
           },
           {
            "bin_start": 0.2,
            "bin_end": 0.30000000000000004,
            "count": 0
           },
           {
            "bin_start": 0.30000000000000004,
            "bin_end": 0.4,
            "count": 0
           },
           {
            "bin_start": 0.4,
            "bin_end": 0.5,
            "count": 0
           },
           {
            "bin_start": 0.5,
            "bin_end": 0.6000000000000001,
            "count": 0
           },
           {
            "bin_start": 0.6000000000000001,
            "bin_end": 0.7000000000000001,
            "count": 0
           },
           {
            "bin_start": 0.7000000000000001,
            "bin_end": 0.8,
            "count": 0
           },
           {
            "bin_start": 0.8,
            "bin_end": 0.9,
            "count": 0
           },
           {
            "bin_start": 0.9,
            "bin_end": 1,
            "count": 4
           }
          ]
         }
        },
        {
         "name": "loan",
         "dtype": "int64",
         "stats": {
          "unique_count": 2,
          "nan_count": 0,
          "min": "0",
          "max": "1",
          "histogram": [
           {
            "bin_start": 0,
            "bin_end": 0.1,
            "count": 4
           },
           {
            "bin_start": 0.1,
            "bin_end": 0.2,
            "count": 0
           },
           {
            "bin_start": 0.2,
            "bin_end": 0.30000000000000004,
            "count": 0
           },
           {
            "bin_start": 0.30000000000000004,
            "bin_end": 0.4,
            "count": 0
           },
           {
            "bin_start": 0.4,
            "bin_end": 0.5,
            "count": 0
           },
           {
            "bin_start": 0.5,
            "bin_end": 0.6000000000000001,
            "count": 0
           },
           {
            "bin_start": 0.6000000000000001,
            "bin_end": 0.7000000000000001,
            "count": 0
           },
           {
            "bin_start": 0.7000000000000001,
            "bin_end": 0.8,
            "count": 0
           },
           {
            "bin_start": 0.8,
            "bin_end": 0.9,
            "count": 0
           },
           {
            "bin_start": 0.9,
            "bin_end": 1,
            "count": 1
           }
          ]
         }
        },
        {
         "name": "y",
         "dtype": "int64",
         "stats": {
          "unique_count": 1,
          "nan_count": 0,
          "min": "0",
          "max": "0",
          "histogram": [
           {
            "bin_start": -0.5,
            "bin_end": -0.4,
            "count": 0
           },
           {
            "bin_start": -0.4,
            "bin_end": -0.3,
            "count": 0
           },
           {
            "bin_start": -0.3,
            "bin_end": -0.19999999999999996,
            "count": 0
           },
           {
            "bin_start": -0.19999999999999996,
            "bin_end": -0.09999999999999998,
            "count": 0
           },
           {
            "bin_start": -0.09999999999999998,
            "bin_end": 0,
            "count": 0
           },
           {
            "bin_start": 0,
            "bin_end": 0.10000000000000009,
            "count": 5
           },
           {
            "bin_start": 0.10000000000000009,
            "bin_end": 0.20000000000000007,
            "count": 0
           },
           {
            "bin_start": 0.20000000000000007,
            "bin_end": 0.30000000000000004,
            "count": 0
           },
           {
            "bin_start": 0.30000000000000004,
            "bin_end": 0.4,
            "count": 0
           },
           {
            "bin_start": 0.4,
            "bin_end": 0.5,
            "count": 0
           }
          ]
         }
        },
        {
         "name": "contact",
         "dtype": "int64",
         "stats": {
          "unique_count": 1,
          "nan_count": 0,
          "min": "1",
          "max": "1",
          "histogram": [
           {
            "bin_start": 0.5,
            "bin_end": 0.6,
            "count": 0
           },
           {
            "bin_start": 0.6,
            "bin_end": 0.7,
            "count": 0
           },
           {
            "bin_start": 0.7,
            "bin_end": 0.8,
            "count": 0
           },
           {
            "bin_start": 0.8,
            "bin_end": 0.9,
            "count": 0
           },
           {
            "bin_start": 0.9,
            "bin_end": 1,
            "count": 0
           },
           {
            "bin_start": 1,
            "bin_end": 1.1,
            "count": 5
           },
           {
            "bin_start": 1.1,
            "bin_end": 1.2000000000000002,
            "count": 0
           },
           {
            "bin_start": 1.2000000000000002,
            "bin_end": 1.3,
            "count": 0
           },
           {
            "bin_start": 1.3,
            "bin_end": 1.4,
            "count": 0
           },
           {
            "bin_start": 1.4,
            "bin_end": 1.5,
            "count": 0
           }
          ]
         }
        },
        {
         "name": "_deepnote_index_column",
         "dtype": "int64"
        }
       ],
       "rows": [
        {
         "default": 0,
         "housing": 1,
         "loan": 0,
         "y": 0,
         "contact": 1,
         "_deepnote_index_column": 0
        },
        {
         "default": 0,
         "housing": 1,
         "loan": 0,
         "y": 0,
         "contact": 1,
         "_deepnote_index_column": 1
        },
        {
         "default": 0,
         "housing": 1,
         "loan": 1,
         "y": 0,
         "contact": 1,
         "_deepnote_index_column": 2
        },
        {
         "default": 0,
         "housing": 1,
         "loan": 0,
         "y": 0,
         "contact": 1,
         "_deepnote_index_column": 3
        },
        {
         "default": 0,
         "housing": 0,
         "loan": 0,
         "y": 0,
         "contact": 1,
         "_deepnote_index_column": 4
        }
       ]
      },
      "text/plain": "   default  housing  loan  y  contact\n0        0        1     0  0        1\n1        0        1     0  0        1\n2        0        1     1  0        1\n3        0        1     0  0        1\n4        0        0     0  0        1",
      "text/html": "<div>\n<style scoped>\n    .dataframe tbody tr th:only-of-type {\n        vertical-align: middle;\n    }\n\n    .dataframe tbody tr th {\n        vertical-align: top;\n    }\n\n    .dataframe thead th {\n        text-align: right;\n    }\n</style>\n<table border=\"1\" class=\"dataframe\">\n  <thead>\n    <tr style=\"text-align: right;\">\n      <th></th>\n      <th>default</th>\n      <th>housing</th>\n      <th>loan</th>\n      <th>y</th>\n      <th>contact</th>\n    </tr>\n  </thead>\n  <tbody>\n    <tr>\n      <th>0</th>\n      <td>0</td>\n      <td>1</td>\n      <td>0</td>\n      <td>0</td>\n      <td>1</td>\n    </tr>\n    <tr>\n      <th>1</th>\n      <td>0</td>\n      <td>1</td>\n      <td>0</td>\n      <td>0</td>\n      <td>1</td>\n    </tr>\n    <tr>\n      <th>2</th>\n      <td>0</td>\n      <td>1</td>\n      <td>1</td>\n      <td>0</td>\n      <td>1</td>\n    </tr>\n    <tr>\n      <th>3</th>\n      <td>0</td>\n      <td>1</td>\n      <td>0</td>\n      <td>0</td>\n      <td>1</td>\n    </tr>\n    <tr>\n      <th>4</th>\n      <td>0</td>\n      <td>0</td>\n      <td>0</td>\n      <td>0</td>\n      <td>1</td>\n    </tr>\n  </tbody>\n</table>\n</div>"
     },
     "metadata": {}
    }
   ]
  },
  {
   "cell_type": "markdown",
   "source": "## Modeling\n\nThen move on to the modeling, and continue to use the markdown cells to walk a reader through your process. ",
   "metadata": {
    "cell_id": "00018-5db3c493-768b-412a-9283-1574a8c213f5",
    "id": "2iF3Kgj6I_ul",
    "deepnote_cell_type": "markdown",
    "deepnote_cell_height": 130.78125
   }
  },
  {
   "cell_type": "markdown",
   "source": "#### svm, neural nets, look at paper",
   "metadata": {
    "cell_id": "80905ae9d6824b439909083679027997",
    "tags": [],
    "deepnote_cell_type": "markdown",
    "deepnote_cell_height": 54
   }
  },
  {
   "cell_type": "code",
   "metadata": {
    "cell_id": "8b26a1d7dd4b4a85a5cc8ef4dccd98cf",
    "deepnote_to_be_reexecuted": false,
    "execution_millis": 97624,
    "execution_start": 1650339734264,
    "source_hash": "b623e53d",
    "tags": [],
    "deepnote_cell_type": "code",
    "deepnote_cell_height": 81
   },
   "source": "",
   "execution_count": null,
   "outputs": []
  },
  {
   "cell_type": "markdown",
   "source": "## Results\n\nFinally, display and analyze your results.",
   "metadata": {
    "cell_id": "00019-2cce4ab0-56fe-4e11-a607-9e796549ec02",
    "id": "_-_Kr-MHI_ul",
    "deepnote_cell_type": "markdown",
    "deepnote_cell_height": 108.390625
   }
  },
  {
   "cell_type": "markdown",
   "source": "### Conclusion\n\nInclude a final conclusion - this may be an analysis of which model worked best, or which feature engineering worked best, or it may be any interesting insights you discovered about your data, or anything at all that you want to conclude from your work. ",
   "metadata": {
    "cell_id": "00020-c056e094-be9f-44a2-a50e-c59490620ba4",
    "id": "0snqNyjpI_ul",
    "deepnote_cell_type": "markdown",
    "deepnote_cell_height": 167.5625
   }
  },
  {
   "cell_type": "markdown",
   "source": "<a style='text-decoration:none;line-height:16px;display:flex;color:#5B5B62;padding:10px;justify-content:end;' href='https://deepnote.com?utm_source=created-in-deepnote-cell&projectId=825dc3e6-d277-4188-bb22-3ec9a91d5af7' target=\"_blank\">\n<img alt='Created in deepnote.com' style='display:inline;max-height:16px;margin:0px;margin-right:7.5px;' src='data:image/svg+xml;base64,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' > </img>\nCreated in <span style='font-weight:600;margin-left:4px;'>Deepnote</span></a>",
   "metadata": {
    "tags": [],
    "created_in_deepnote_cell": true,
    "deepnote_cell_type": "markdown"
   }
  }
 ],
 "nbformat": 4,
 "nbformat_minor": 0,
 "metadata": {
  "colab": {
   "name": "rpt.ipynb",
   "provenance": []
  },
  "deepnote": {},
  "deepnote_execution_queue": [],
  "deepnote_notebook_id": "42cc5831-019b-41da-95d0-a6881ce93dae",
  "interpreter": {
   "hash": "f602ad45f87f3f3b47aa6600b44585b7272b8f63c8c431471b0677e8a25fb840"
  },
  "kernelspec": {
   "display_name": "Python 3 (ipykernel)",
   "language": "python",
   "name": "python3"
  },
  "language_info": {
   "codemirror_mode": {
    "name": "ipython",
    "version": 3
   },
   "file_extension": ".py",
   "mimetype": "text/x-python",
   "name": "python",
   "nbconvert_exporter": "python",
   "pygments_lexer": "ipython3",
   "version": "3.9.7"
  }
 }
}